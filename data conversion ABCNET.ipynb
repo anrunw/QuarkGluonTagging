{
 "cells": [
  {
   "cell_type": "code",
   "execution_count": 1,
   "metadata": {},
   "outputs": [
    {
     "name": "stderr",
     "output_type": "stream",
     "text": [
      "/home/anrunw/anaconda3/envs/tfgpu/lib/python3.6/site-packages/tensorflow/python/framework/dtypes.py:516: FutureWarning: Passing (type, 1) or '1type' as a synonym of type is deprecated; in a future version of numpy, it will be understood as (type, (1,)) / '(1,)type'.\n",
      "  _np_qint8 = np.dtype([(\"qint8\", np.int8, 1)])\n",
      "/home/anrunw/anaconda3/envs/tfgpu/lib/python3.6/site-packages/tensorflow/python/framework/dtypes.py:517: FutureWarning: Passing (type, 1) or '1type' as a synonym of type is deprecated; in a future version of numpy, it will be understood as (type, (1,)) / '(1,)type'.\n",
      "  _np_quint8 = np.dtype([(\"quint8\", np.uint8, 1)])\n",
      "/home/anrunw/anaconda3/envs/tfgpu/lib/python3.6/site-packages/tensorflow/python/framework/dtypes.py:518: FutureWarning: Passing (type, 1) or '1type' as a synonym of type is deprecated; in a future version of numpy, it will be understood as (type, (1,)) / '(1,)type'.\n",
      "  _np_qint16 = np.dtype([(\"qint16\", np.int16, 1)])\n",
      "/home/anrunw/anaconda3/envs/tfgpu/lib/python3.6/site-packages/tensorflow/python/framework/dtypes.py:519: FutureWarning: Passing (type, 1) or '1type' as a synonym of type is deprecated; in a future version of numpy, it will be understood as (type, (1,)) / '(1,)type'.\n",
      "  _np_quint16 = np.dtype([(\"quint16\", np.uint16, 1)])\n",
      "/home/anrunw/anaconda3/envs/tfgpu/lib/python3.6/site-packages/tensorflow/python/framework/dtypes.py:520: FutureWarning: Passing (type, 1) or '1type' as a synonym of type is deprecated; in a future version of numpy, it will be understood as (type, (1,)) / '(1,)type'.\n",
      "  _np_qint32 = np.dtype([(\"qint32\", np.int32, 1)])\n",
      "/home/anrunw/anaconda3/envs/tfgpu/lib/python3.6/site-packages/tensorflow/python/framework/dtypes.py:525: FutureWarning: Passing (type, 1) or '1type' as a synonym of type is deprecated; in a future version of numpy, it will be understood as (type, (1,)) / '(1,)type'.\n",
      "  np_resource = np.dtype([(\"resource\", np.ubyte, 1)])\n",
      "/home/anrunw/anaconda3/envs/tfgpu/lib/python3.6/site-packages/tensorboard/compat/tensorflow_stub/dtypes.py:541: FutureWarning: Passing (type, 1) or '1type' as a synonym of type is deprecated; in a future version of numpy, it will be understood as (type, (1,)) / '(1,)type'.\n",
      "  _np_qint8 = np.dtype([(\"qint8\", np.int8, 1)])\n",
      "/home/anrunw/anaconda3/envs/tfgpu/lib/python3.6/site-packages/tensorboard/compat/tensorflow_stub/dtypes.py:542: FutureWarning: Passing (type, 1) or '1type' as a synonym of type is deprecated; in a future version of numpy, it will be understood as (type, (1,)) / '(1,)type'.\n",
      "  _np_quint8 = np.dtype([(\"quint8\", np.uint8, 1)])\n",
      "/home/anrunw/anaconda3/envs/tfgpu/lib/python3.6/site-packages/tensorboard/compat/tensorflow_stub/dtypes.py:543: FutureWarning: Passing (type, 1) or '1type' as a synonym of type is deprecated; in a future version of numpy, it will be understood as (type, (1,)) / '(1,)type'.\n",
      "  _np_qint16 = np.dtype([(\"qint16\", np.int16, 1)])\n",
      "/home/anrunw/anaconda3/envs/tfgpu/lib/python3.6/site-packages/tensorboard/compat/tensorflow_stub/dtypes.py:544: FutureWarning: Passing (type, 1) or '1type' as a synonym of type is deprecated; in a future version of numpy, it will be understood as (type, (1,)) / '(1,)type'.\n",
      "  _np_quint16 = np.dtype([(\"quint16\", np.uint16, 1)])\n",
      "/home/anrunw/anaconda3/envs/tfgpu/lib/python3.6/site-packages/tensorboard/compat/tensorflow_stub/dtypes.py:545: FutureWarning: Passing (type, 1) or '1type' as a synonym of type is deprecated; in a future version of numpy, it will be understood as (type, (1,)) / '(1,)type'.\n",
      "  _np_qint32 = np.dtype([(\"qint32\", np.int32, 1)])\n",
      "/home/anrunw/anaconda3/envs/tfgpu/lib/python3.6/site-packages/tensorboard/compat/tensorflow_stub/dtypes.py:550: FutureWarning: Passing (type, 1) or '1type' as a synonym of type is deprecated; in a future version of numpy, it will be understood as (type, (1,)) / '(1,)type'.\n",
      "  np_resource = np.dtype([(\"resource\", np.ubyte, 1)])\n"
     ]
    }
   ],
   "source": [
    "import h5py\n",
    "import pandas as pd\n",
    "import numpy as np\n",
    "import time\n",
    "\n",
    "from sklearn.model_selection import train_test_split\n",
    "import tensorflow as tf"
   ]
  },
  {
   "cell_type": "markdown",
   "metadata": {},
   "source": [
    "### Go Through File and Create Dataframes"
   ]
  },
  {
   "cell_type": "code",
   "execution_count": 68,
   "metadata": {},
   "outputs": [],
   "source": [
    "f = h5py.File('processed-pythia82-lhc13-all-pt1-50k-r1_h022_e0175_t220_nonu_withPars_truth_0.z','r')\n",
    "treeArray = f['t_allpar_new'][()]\n",
    "\n",
    "features = ['j1_etarel','j1_phirel','j1_pt','j1_e','j1_ptrel','j1_erel','j1_deltaR','j_index']\n",
    "featuresUsed = ['j1_ptrel', 'j1_etarot', 'j1_phirot', 'j1_erel', 'j1_deltaR', 'j1_pdgid','j_index']\n",
    "pdgid = ['j_index', 'j1_pdgid']\n",
    "glob = ['j_mass_mmdt', 'j_mass' ,'j_index']\n",
    "labels = ['j_g', 'j_q', 'j_w', 'j_z', 'j_t', 'j_index']\n",
    "\n",
    "features_df = pd.DataFrame(treeArray,columns=list(set(features)))\n"
   ]
  },
  {
   "cell_type": "code",
   "execution_count": 69,
   "metadata": {},
   "outputs": [
    {
     "data": {
      "text/html": [
       "<div>\n",
       "<style scoped>\n",
       "    .dataframe tbody tr th:only-of-type {\n",
       "        vertical-align: middle;\n",
       "    }\n",
       "\n",
       "    .dataframe tbody tr th {\n",
       "        vertical-align: top;\n",
       "    }\n",
       "\n",
       "    .dataframe thead th {\n",
       "        text-align: right;\n",
       "    }\n",
       "</style>\n",
       "<table border=\"1\" class=\"dataframe\">\n",
       "  <thead>\n",
       "    <tr style=\"text-align: right;\">\n",
       "      <th></th>\n",
       "      <th>j1_phirel</th>\n",
       "      <th>j1_erel</th>\n",
       "      <th>j1_pt</th>\n",
       "      <th>j1_deltaR</th>\n",
       "      <th>j1_etarel</th>\n",
       "      <th>j1_e</th>\n",
       "      <th>j1_ptrel</th>\n",
       "      <th>j_index</th>\n",
       "    </tr>\n",
       "  </thead>\n",
       "  <tbody>\n",
       "    <tr>\n",
       "      <th>0</th>\n",
       "      <td>0.005412</td>\n",
       "      <td>0.382772</td>\n",
       "      <td>324.363037</td>\n",
       "      <td>0.011056</td>\n",
       "      <td>-0.009641</td>\n",
       "      <td>670.573242</td>\n",
       "      <td>0.386118</td>\n",
       "      <td>101333</td>\n",
       "    </tr>\n",
       "    <tr>\n",
       "      <th>1</th>\n",
       "      <td>0.008571</td>\n",
       "      <td>0.105703</td>\n",
       "      <td>90.503120</td>\n",
       "      <td>0.023104</td>\n",
       "      <td>-0.021455</td>\n",
       "      <td>185.180466</td>\n",
       "      <td>0.107734</td>\n",
       "      <td>101333</td>\n",
       "    </tr>\n",
       "    <tr>\n",
       "      <th>2</th>\n",
       "      <td>0.004479</td>\n",
       "      <td>0.094339</td>\n",
       "      <td>79.580070</td>\n",
       "      <td>0.006306</td>\n",
       "      <td>-0.004439</td>\n",
       "      <td>165.272293</td>\n",
       "      <td>0.094731</td>\n",
       "      <td>101333</td>\n",
       "    </tr>\n",
       "    <tr>\n",
       "      <th>3</th>\n",
       "      <td>0.001903</td>\n",
       "      <td>0.042913</td>\n",
       "      <td>35.354923</td>\n",
       "      <td>0.022473</td>\n",
       "      <td>0.022392</td>\n",
       "      <td>75.178345</td>\n",
       "      <td>0.042086</td>\n",
       "      <td>101333</td>\n",
       "    </tr>\n",
       "    <tr>\n",
       "      <th>4</th>\n",
       "      <td>-0.004625</td>\n",
       "      <td>0.038547</td>\n",
       "      <td>33.108334</td>\n",
       "      <td>0.025492</td>\n",
       "      <td>-0.025069</td>\n",
       "      <td>67.530716</td>\n",
       "      <td>0.039412</td>\n",
       "      <td>101333</td>\n",
       "    </tr>\n",
       "    <tr>\n",
       "      <th>...</th>\n",
       "      <td>...</td>\n",
       "      <td>...</td>\n",
       "      <td>...</td>\n",
       "      <td>...</td>\n",
       "      <td>...</td>\n",
       "      <td>...</td>\n",
       "      <td>...</td>\n",
       "      <td>...</td>\n",
       "    </tr>\n",
       "    <tr>\n",
       "      <th>5131608</th>\n",
       "      <td>-0.368169</td>\n",
       "      <td>0.000344</td>\n",
       "      <td>0.419624</td>\n",
       "      <td>0.380018</td>\n",
       "      <td>-0.094157</td>\n",
       "      <td>0.419657</td>\n",
       "      <td>0.000350</td>\n",
       "      <td>300123134</td>\n",
       "    </tr>\n",
       "    <tr>\n",
       "      <th>5131609</th>\n",
       "      <td>0.202120</td>\n",
       "      <td>0.000256</td>\n",
       "      <td>0.309434</td>\n",
       "      <td>0.294476</td>\n",
       "      <td>-0.214157</td>\n",
       "      <td>0.312155</td>\n",
       "      <td>0.000258</td>\n",
       "      <td>300123134</td>\n",
       "    </tr>\n",
       "    <tr>\n",
       "      <th>5131610</th>\n",
       "      <td>0.217128</td>\n",
       "      <td>0.000215</td>\n",
       "      <td>0.262346</td>\n",
       "      <td>0.255231</td>\n",
       "      <td>-0.134157</td>\n",
       "      <td>0.262708</td>\n",
       "      <td>0.000219</td>\n",
       "      <td>300123134</td>\n",
       "    </tr>\n",
       "    <tr>\n",
       "      <th>5131611</th>\n",
       "      <td>-0.288128</td>\n",
       "      <td>0.000115</td>\n",
       "      <td>0.139532</td>\n",
       "      <td>0.319973</td>\n",
       "      <td>-0.139157</td>\n",
       "      <td>0.139763</td>\n",
       "      <td>0.000116</td>\n",
       "      <td>300123134</td>\n",
       "    </tr>\n",
       "    <tr>\n",
       "      <th>5131612</th>\n",
       "      <td>0.362201</td>\n",
       "      <td>0.000079</td>\n",
       "      <td>0.095584</td>\n",
       "      <td>0.395627</td>\n",
       "      <td>-0.159157</td>\n",
       "      <td>0.095872</td>\n",
       "      <td>0.000080</td>\n",
       "      <td>300123134</td>\n",
       "    </tr>\n",
       "  </tbody>\n",
       "</table>\n",
       "<p>5131613 rows × 8 columns</p>\n",
       "</div>"
      ],
      "text/plain": [
       "         j1_phirel   j1_erel       j1_pt  j1_deltaR  j1_etarel        j1_e  \\\n",
       "0         0.005412  0.382772  324.363037   0.011056  -0.009641  670.573242   \n",
       "1         0.008571  0.105703   90.503120   0.023104  -0.021455  185.180466   \n",
       "2         0.004479  0.094339   79.580070   0.006306  -0.004439  165.272293   \n",
       "3         0.001903  0.042913   35.354923   0.022473   0.022392   75.178345   \n",
       "4        -0.004625  0.038547   33.108334   0.025492  -0.025069   67.530716   \n",
       "...            ...       ...         ...        ...        ...         ...   \n",
       "5131608  -0.368169  0.000344    0.419624   0.380018  -0.094157    0.419657   \n",
       "5131609   0.202120  0.000256    0.309434   0.294476  -0.214157    0.312155   \n",
       "5131610   0.217128  0.000215    0.262346   0.255231  -0.134157    0.262708   \n",
       "5131611  -0.288128  0.000115    0.139532   0.319973  -0.139157    0.139763   \n",
       "5131612   0.362201  0.000079    0.095584   0.395627  -0.159157    0.095872   \n",
       "\n",
       "         j1_ptrel    j_index  \n",
       "0        0.386118     101333  \n",
       "1        0.107734     101333  \n",
       "2        0.094731     101333  \n",
       "3        0.042086     101333  \n",
       "4        0.039412     101333  \n",
       "...           ...        ...  \n",
       "5131608  0.000350  300123134  \n",
       "5131609  0.000258  300123134  \n",
       "5131610  0.000219  300123134  \n",
       "5131611  0.000116  300123134  \n",
       "5131612  0.000080  300123134  \n",
       "\n",
       "[5131613 rows x 8 columns]"
      ]
     },
     "execution_count": 69,
     "metadata": {},
     "output_type": "execute_result"
    }
   ],
   "source": [
    "features_df"
   ]
  },
  {
   "cell_type": "code",
   "execution_count": 70,
   "metadata": {},
   "outputs": [
    {
     "data": {
      "text/plain": [
       "0             101333\n",
       "51         100073064\n",
       "101        300177633\n",
       "142        100188310\n",
       "161        200044159\n",
       "             ...    \n",
       "5131388    300173707\n",
       "5131417    200033311\n",
       "5131447    400153985\n",
       "5131486    300037743\n",
       "5131530    300123134\n",
       "Name: j_index, Length: 98769, dtype: int32"
      ]
     },
     "execution_count": 70,
     "metadata": {},
     "output_type": "execute_result"
    }
   ],
   "source": [
    "features_df['j_index'].drop_duplicates()"
   ]
  },
  {
   "cell_type": "markdown",
   "metadata": {},
   "source": [
    "### Group Features in Dataframe by Jet Index"
   ]
  },
  {
   "cell_type": "code",
   "execution_count": 71,
   "metadata": {},
   "outputs": [],
   "source": [
    "index_df = features_df.groupby(['j_index'])"
   ]
  },
  {
   "cell_type": "code",
   "execution_count": 72,
   "metadata": {},
   "outputs": [
    {
     "data": {
      "text/html": [
       "<div>\n",
       "<style scoped>\n",
       "    .dataframe tbody tr th:only-of-type {\n",
       "        vertical-align: middle;\n",
       "    }\n",
       "\n",
       "    .dataframe tbody tr th {\n",
       "        vertical-align: top;\n",
       "    }\n",
       "\n",
       "    .dataframe thead th {\n",
       "        text-align: right;\n",
       "    }\n",
       "</style>\n",
       "<table border=\"1\" class=\"dataframe\">\n",
       "  <thead>\n",
       "    <tr style=\"text-align: right;\">\n",
       "      <th></th>\n",
       "      <th>j1_phirel</th>\n",
       "      <th>j1_erel</th>\n",
       "      <th>j1_pt</th>\n",
       "      <th>j1_deltaR</th>\n",
       "      <th>j1_etarel</th>\n",
       "      <th>j1_e</th>\n",
       "      <th>j1_ptrel</th>\n",
       "    </tr>\n",
       "    <tr>\n",
       "      <th>j_index</th>\n",
       "      <th></th>\n",
       "      <th></th>\n",
       "      <th></th>\n",
       "      <th></th>\n",
       "      <th></th>\n",
       "      <th></th>\n",
       "      <th></th>\n",
       "    </tr>\n",
       "  </thead>\n",
       "  <tbody>\n",
       "    <tr>\n",
       "      <th>1</th>\n",
       "      <td>-0.024659</td>\n",
       "      <td>0.525633</td>\n",
       "      <td>573.877441</td>\n",
       "      <td>0.024813</td>\n",
       "      <td>-0.002755</td>\n",
       "      <td>621.589478</td>\n",
       "      <td>0.526719</td>\n",
       "    </tr>\n",
       "    <tr>\n",
       "      <th>3</th>\n",
       "      <td>-0.033144</td>\n",
       "      <td>0.699932</td>\n",
       "      <td>912.233521</td>\n",
       "      <td>0.057165</td>\n",
       "      <td>-0.046575</td>\n",
       "      <td>1025.121826</td>\n",
       "      <td>0.689462</td>\n",
       "    </tr>\n",
       "    <tr>\n",
       "      <th>7</th>\n",
       "      <td>0.060146</td>\n",
       "      <td>0.388123</td>\n",
       "      <td>634.409241</td>\n",
       "      <td>0.079966</td>\n",
       "      <td>-0.052698</td>\n",
       "      <td>637.664490</td>\n",
       "      <td>0.390835</td>\n",
       "    </tr>\n",
       "    <tr>\n",
       "      <th>21</th>\n",
       "      <td>-0.019943</td>\n",
       "      <td>0.130639</td>\n",
       "      <td>177.829224</td>\n",
       "      <td>0.044376</td>\n",
       "      <td>-0.039642</td>\n",
       "      <td>210.623428</td>\n",
       "      <td>0.133965</td>\n",
       "    </tr>\n",
       "    <tr>\n",
       "      <th>23</th>\n",
       "      <td>0.061119</td>\n",
       "      <td>0.129065</td>\n",
       "      <td>151.889832</td>\n",
       "      <td>0.061479</td>\n",
       "      <td>0.006637</td>\n",
       "      <td>152.321976</td>\n",
       "      <td>0.130030</td>\n",
       "    </tr>\n",
       "    <tr>\n",
       "      <th>...</th>\n",
       "      <td>...</td>\n",
       "      <td>...</td>\n",
       "      <td>...</td>\n",
       "      <td>...</td>\n",
       "      <td>...</td>\n",
       "      <td>...</td>\n",
       "      <td>...</td>\n",
       "    </tr>\n",
       "    <tr>\n",
       "      <th>400199939</th>\n",
       "      <td>-0.075494</td>\n",
       "      <td>0.068866</td>\n",
       "      <td>94.362823</td>\n",
       "      <td>0.226768</td>\n",
       "      <td>-0.213833</td>\n",
       "      <td>116.092384</td>\n",
       "      <td>0.079498</td>\n",
       "    </tr>\n",
       "    <tr>\n",
       "      <th>400199945</th>\n",
       "      <td>0.059135</td>\n",
       "      <td>0.158689</td>\n",
       "      <td>169.539261</td>\n",
       "      <td>0.061562</td>\n",
       "      <td>0.017117</td>\n",
       "      <td>172.701096</td>\n",
       "      <td>0.162039</td>\n",
       "    </tr>\n",
       "    <tr>\n",
       "      <th>400199962</th>\n",
       "      <td>-0.250765</td>\n",
       "      <td>0.063112</td>\n",
       "      <td>66.630859</td>\n",
       "      <td>0.262295</td>\n",
       "      <td>-0.076911</td>\n",
       "      <td>99.012939</td>\n",
       "      <td>0.067352</td>\n",
       "    </tr>\n",
       "    <tr>\n",
       "      <th>400199967</th>\n",
       "      <td>-0.013241</td>\n",
       "      <td>0.141045</td>\n",
       "      <td>104.390343</td>\n",
       "      <td>0.013341</td>\n",
       "      <td>-0.001634</td>\n",
       "      <td>105.206955</td>\n",
       "      <td>0.143843</td>\n",
       "    </tr>\n",
       "    <tr>\n",
       "      <th>400199970</th>\n",
       "      <td>0.037863</td>\n",
       "      <td>0.121170</td>\n",
       "      <td>116.485466</td>\n",
       "      <td>0.056541</td>\n",
       "      <td>-0.041991</td>\n",
       "      <td>116.896523</td>\n",
       "      <td>0.122696</td>\n",
       "    </tr>\n",
       "  </tbody>\n",
       "</table>\n",
       "<p>98769 rows × 7 columns</p>\n",
       "</div>"
      ],
      "text/plain": [
       "           j1_phirel   j1_erel       j1_pt  j1_deltaR  j1_etarel         j1_e  \\\n",
       "j_index                                                                         \n",
       "1          -0.024659  0.525633  573.877441   0.024813  -0.002755   621.589478   \n",
       "3          -0.033144  0.699932  912.233521   0.057165  -0.046575  1025.121826   \n",
       "7           0.060146  0.388123  634.409241   0.079966  -0.052698   637.664490   \n",
       "21         -0.019943  0.130639  177.829224   0.044376  -0.039642   210.623428   \n",
       "23          0.061119  0.129065  151.889832   0.061479   0.006637   152.321976   \n",
       "...              ...       ...         ...        ...        ...          ...   \n",
       "400199939  -0.075494  0.068866   94.362823   0.226768  -0.213833   116.092384   \n",
       "400199945   0.059135  0.158689  169.539261   0.061562   0.017117   172.701096   \n",
       "400199962  -0.250765  0.063112   66.630859   0.262295  -0.076911    99.012939   \n",
       "400199967  -0.013241  0.141045  104.390343   0.013341  -0.001634   105.206955   \n",
       "400199970   0.037863  0.121170  116.485466   0.056541  -0.041991   116.896523   \n",
       "\n",
       "           j1_ptrel  \n",
       "j_index              \n",
       "1          0.526719  \n",
       "3          0.689462  \n",
       "7          0.390835  \n",
       "21         0.133965  \n",
       "23         0.130030  \n",
       "...             ...  \n",
       "400199939  0.079498  \n",
       "400199945  0.162039  \n",
       "400199962  0.067352  \n",
       "400199967  0.143843  \n",
       "400199970  0.122696  \n",
       "\n",
       "[98769 rows x 7 columns]"
      ]
     },
     "execution_count": 72,
     "metadata": {},
     "output_type": "execute_result"
    }
   ],
   "source": [
    "index_df.first()"
   ]
  },
  {
   "cell_type": "code",
   "execution_count": 36,
   "metadata": {},
   "outputs": [
    {
     "data": {
      "text/html": [
       "<div>\n",
       "<style scoped>\n",
       "    .dataframe tbody tr th:only-of-type {\n",
       "        vertical-align: middle;\n",
       "    }\n",
       "\n",
       "    .dataframe tbody tr th {\n",
       "        vertical-align: top;\n",
       "    }\n",
       "\n",
       "    .dataframe thead th {\n",
       "        text-align: right;\n",
       "    }\n",
       "</style>\n",
       "<table border=\"1\" class=\"dataframe\">\n",
       "  <thead>\n",
       "    <tr style=\"text-align: right;\">\n",
       "      <th></th>\n",
       "      <th>j1_phirel</th>\n",
       "      <th>j1_erel</th>\n",
       "      <th>j1_pt</th>\n",
       "      <th>j1_deltaR</th>\n",
       "      <th>j1_etarel</th>\n",
       "      <th>j1_e</th>\n",
       "      <th>j1_ptrel</th>\n",
       "    </tr>\n",
       "    <tr>\n",
       "      <th>j_index</th>\n",
       "      <th></th>\n",
       "      <th></th>\n",
       "      <th></th>\n",
       "      <th></th>\n",
       "      <th></th>\n",
       "      <th></th>\n",
       "      <th></th>\n",
       "    </tr>\n",
       "  </thead>\n",
       "  <tbody>\n",
       "    <tr>\n",
       "      <th>1</th>\n",
       "      <td>0.167938</td>\n",
       "      <td>4.914950e-15</td>\n",
       "      <td>5.371203e-12</td>\n",
       "      <td>0.167938</td>\n",
       "      <td>-0.000255</td>\n",
       "      <td>5.812193e-12</td>\n",
       "      <td>4.929822e-15</td>\n",
       "    </tr>\n",
       "    <tr>\n",
       "      <th>3</th>\n",
       "      <td>-0.215369</td>\n",
       "      <td>1.716514e-04</td>\n",
       "      <td>2.306876e-01</td>\n",
       "      <td>0.216846</td>\n",
       "      <td>0.025269</td>\n",
       "      <td>2.514011e-01</td>\n",
       "      <td>1.743528e-04</td>\n",
       "    </tr>\n",
       "    <tr>\n",
       "      <th>7</th>\n",
       "      <td>-0.294880</td>\n",
       "      <td>2.267890e-15</td>\n",
       "      <td>3.668080e-12</td>\n",
       "      <td>0.371562</td>\n",
       "      <td>0.226063</td>\n",
       "      <td>3.726016e-12</td>\n",
       "      <td>2.259763e-15</td>\n",
       "    </tr>\n",
       "    <tr>\n",
       "      <th>21</th>\n",
       "      <td>-0.047145</td>\n",
       "      <td>1.758091e-14</td>\n",
       "      <td>2.550655e-11</td>\n",
       "      <td>0.176887</td>\n",
       "      <td>-0.170488</td>\n",
       "      <td>2.834499e-11</td>\n",
       "      <td>1.921491e-14</td>\n",
       "    </tr>\n",
       "    <tr>\n",
       "      <th>23</th>\n",
       "      <td>0.072032</td>\n",
       "      <td>1.724079e-04</td>\n",
       "      <td>2.017970e-01</td>\n",
       "      <td>0.210257</td>\n",
       "      <td>-0.197533</td>\n",
       "      <td>2.034744e-01</td>\n",
       "      <td>1.727544e-04</td>\n",
       "    </tr>\n",
       "    <tr>\n",
       "      <th>...</th>\n",
       "      <td>...</td>\n",
       "      <td>...</td>\n",
       "      <td>...</td>\n",
       "      <td>...</td>\n",
       "      <td>...</td>\n",
       "      <td>...</td>\n",
       "      <td>...</td>\n",
       "    </tr>\n",
       "    <tr>\n",
       "      <th>400199939</th>\n",
       "      <td>0.237563</td>\n",
       "      <td>1.702099e-04</td>\n",
       "      <td>2.254791e-01</td>\n",
       "      <td>0.285076</td>\n",
       "      <td>-0.157582</td>\n",
       "      <td>2.869349e-01</td>\n",
       "      <td>1.899589e-04</td>\n",
       "    </tr>\n",
       "    <tr>\n",
       "      <th>400199945</th>\n",
       "      <td>0.183578</td>\n",
       "      <td>1.999639e-13</td>\n",
       "      <td>2.072527e-10</td>\n",
       "      <td>0.211512</td>\n",
       "      <td>-0.105054</td>\n",
       "      <td>2.176203e-10</td>\n",
       "      <td>1.980837e-13</td>\n",
       "    </tr>\n",
       "    <tr>\n",
       "      <th>400199962</th>\n",
       "      <td>0.303338</td>\n",
       "      <td>1.746291e-04</td>\n",
       "      <td>1.612507e-01</td>\n",
       "      <td>0.318107</td>\n",
       "      <td>0.095802</td>\n",
       "      <td>2.739642e-01</td>\n",
       "      <td>1.629955e-04</td>\n",
       "    </tr>\n",
       "    <tr>\n",
       "      <th>400199967</th>\n",
       "      <td>0.044289</td>\n",
       "      <td>3.704065e-15</td>\n",
       "      <td>2.752358e-12</td>\n",
       "      <td>0.218666</td>\n",
       "      <td>-0.214134</td>\n",
       "      <td>2.762902e-12</td>\n",
       "      <td>3.792574e-15</td>\n",
       "    </tr>\n",
       "    <tr>\n",
       "      <th>400199970</th>\n",
       "      <td>-0.270926</td>\n",
       "      <td>5.186064e-15</td>\n",
       "      <td>4.865311e-12</td>\n",
       "      <td>0.389175</td>\n",
       "      <td>0.279385</td>\n",
       "      <td>5.003175e-12</td>\n",
       "      <td>5.124709e-15</td>\n",
       "    </tr>\n",
       "  </tbody>\n",
       "</table>\n",
       "<p>98769 rows × 7 columns</p>\n",
       "</div>"
      ],
      "text/plain": [
       "           j1_phirel       j1_erel         j1_pt  j1_deltaR  j1_etarel  \\\n",
       "j_index                                                                  \n",
       "1           0.167938  4.914950e-15  5.371203e-12   0.167938  -0.000255   \n",
       "3          -0.215369  1.716514e-04  2.306876e-01   0.216846   0.025269   \n",
       "7          -0.294880  2.267890e-15  3.668080e-12   0.371562   0.226063   \n",
       "21         -0.047145  1.758091e-14  2.550655e-11   0.176887  -0.170488   \n",
       "23          0.072032  1.724079e-04  2.017970e-01   0.210257  -0.197533   \n",
       "...              ...           ...           ...        ...        ...   \n",
       "400199939   0.237563  1.702099e-04  2.254791e-01   0.285076  -0.157582   \n",
       "400199945   0.183578  1.999639e-13  2.072527e-10   0.211512  -0.105054   \n",
       "400199962   0.303338  1.746291e-04  1.612507e-01   0.318107   0.095802   \n",
       "400199967   0.044289  3.704065e-15  2.752358e-12   0.218666  -0.214134   \n",
       "400199970  -0.270926  5.186064e-15  4.865311e-12   0.389175   0.279385   \n",
       "\n",
       "                   j1_e      j1_ptrel  \n",
       "j_index                                \n",
       "1          5.812193e-12  4.929822e-15  \n",
       "3          2.514011e-01  1.743528e-04  \n",
       "7          3.726016e-12  2.259763e-15  \n",
       "21         2.834499e-11  1.921491e-14  \n",
       "23         2.034744e-01  1.727544e-04  \n",
       "...                 ...           ...  \n",
       "400199939  2.869349e-01  1.899589e-04  \n",
       "400199945  2.176203e-10  1.980837e-13  \n",
       "400199962  2.739642e-01  1.629955e-04  \n",
       "400199967  2.762902e-12  3.792574e-15  \n",
       "400199970  5.003175e-12  5.124709e-15  \n",
       "\n",
       "[98769 rows x 7 columns]"
      ]
     },
     "execution_count": 36,
     "metadata": {},
     "output_type": "execute_result"
    }
   ],
   "source": [
    "index_df.last()"
   ]
  },
  {
   "cell_type": "code",
   "execution_count": 37,
   "metadata": {},
   "outputs": [],
   "source": [
    "max_particles = 30"
   ]
  },
  {
   "cell_type": "code",
   "execution_count": 60,
   "metadata": {},
   "outputs": [],
   "source": [
    "num_features = 7"
   ]
  },
  {
   "cell_type": "markdown",
   "metadata": {},
   "source": [
    "### Iterate through dataframe to create a numpy array with desired dimensions\n"
   ]
  },
  {
   "cell_type": "code",
   "execution_count": 74,
   "metadata": {},
   "outputs": [],
   "source": [
    "data = np.zeros([98769,max_particles,num_features])\n",
    "p = 0\n",
    "for name, group in index_df:\n",
    "    x = group.to_numpy()\n",
    "    x = np.delete(x,num_features,1)\n",
    "    g = 0\n",
    "    for l in x:\n",
    "        if g == max_particles or g == len(x): \n",
    "            break\n",
    "        for n in range(num_features):\n",
    "            if n == 1 or n ==2 or n == 5 or n == 6:\n",
    "                l[n] = np.log(l[n])\n",
    "            data[p,g,n] = l[n]\n",
    "        g = g+1\n",
    "\n",
    "    p = p+1\n",
    "    "
   ]
  },
  {
   "cell_type": "code",
   "execution_count": 76,
   "metadata": {},
   "outputs": [
    {
     "data": {
      "text/plain": [
       "array([[-2.46594101e-02, -6.43151844e-01,  6.35241586e+00,\n",
       "         2.48127822e-02, -2.75455974e-03,  6.43227987e+00,\n",
       "        -6.41088355e-01],\n",
       "       [-2.93168835e-02, -2.50687327e+00,  4.48875989e+00,\n",
       "         2.94277072e-02, -2.55153188e-03,  4.56855837e+00,\n",
       "        -2.50474436e+00],\n",
       "       [-2.02614833e-02, -2.62737331e+00,  4.36823665e+00,\n",
       "         2.04328783e-02, -2.64100265e-03,  4.44805833e+00,\n",
       "        -2.62526762e+00],\n",
       "       [-3.46643962e-02, -2.75070819e+00,  4.24097486e+00,\n",
       "         3.69364135e-02, -1.27545502e-02,  4.32472353e+00,\n",
       "        -2.75252938e+00],\n",
       "       [-2.46068090e-02, -3.22349637e+00,  3.76440712e+00,\n",
       "         3.28626633e-02, -2.17821002e-02,  3.85193534e+00,\n",
       "        -3.22909721e+00],\n",
       "       [-2.50142440e-02, -3.28693409e+00,  3.71071245e+00,\n",
       "         2.51597520e-02,  2.70197680e-03,  3.78849762e+00,\n",
       "        -3.28279183e+00],\n",
       "       [-3.17640938e-02, -3.93783934e+00,  3.05365568e+00,\n",
       "         3.43921594e-02, -1.31857125e-02,  3.13759234e+00,\n",
       "        -3.93984867e+00],\n",
       "       [ 1.84924990e-01, -4.03423107e+00,  2.97445564e+00,\n",
       "         1.87949330e-01,  3.35811749e-02,  3.04120059e+00,\n",
       "        -4.01904860e+00],\n",
       "       [-3.59939113e-02, -4.05203104e+00,  2.93604646e+00,\n",
       "         4.20756824e-02, -2.17899438e-02,  3.02340066e+00,\n",
       "        -4.05745787e+00],\n",
       "       [ 2.25467443e-01, -4.20211734e+00,  2.80096350e+00,\n",
       "         2.26126015e-01,  1.72454845e-02,  2.87331433e+00,\n",
       "        -4.19254077e+00],\n",
       "       [ 1.98602200e-01, -4.23452794e+00,  2.77918269e+00,\n",
       "         2.04174653e-01,  4.73757014e-02,  2.84090375e+00,\n",
       "        -4.21432159e+00],\n",
       "       [ 2.27686733e-01, -4.69909629e+00,  2.31843534e+00,\n",
       "         2.35185832e-01,  5.89162856e-02,  2.37633542e+00,\n",
       "        -4.67506895e+00],\n",
       "       [ 2.91669946e-02, -4.72697663e+00,  2.26428530e+00,\n",
       "         3.21815610e-02, -1.35992430e-02,  2.34845502e+00,\n",
       "        -4.72921898e+00],\n",
       "       [ 2.27968693e-01, -4.78014934e+00,  2.24873097e+00,\n",
       "         2.46873289e-01,  9.47454423e-02,  2.29528234e+00,\n",
       "        -4.74477335e+00],\n",
       "       [ 2.73992479e-01, -4.89332488e+00,  2.14426819e+00,\n",
       "         3.01522911e-01,  1.25873670e-01,  2.18210683e+00,\n",
       "        -4.84923609e+00],\n",
       "       [-1.71555337e-02, -4.92060728e+00,  2.07399724e+00,\n",
       "         1.79421920e-02, -5.25452569e-03,  2.15482439e+00,\n",
       "        -4.91950704e+00],\n",
       "       [ 2.48017907e-01, -5.10489389e+00,  1.90880996e+00,\n",
       "         2.52585232e-01,  4.78164814e-02,  1.97053779e+00,\n",
       "        -5.08469433e+00],\n",
       "       [ 2.52981424e-01, -5.25161582e+00,  1.75950316e+00,\n",
       "         2.56084561e-01,  3.97454463e-02,  1.82381582e+00,\n",
       "        -5.23400118e+00],\n",
       "       [-1.21185638e-01, -5.27173398e+00,  1.72648453e+00,\n",
       "         1.21284731e-01,  4.90172952e-03,  1.80369770e+00,\n",
       "        -5.26701975e+00],\n",
       "       [ 2.19836056e-01, -5.54718951e+00,  1.45877929e+00,\n",
       "         2.21420020e-01,  2.64373031e-02,  1.52824216e+00,\n",
       "        -5.53472504e+00],\n",
       "       [ 1.32920489e-01, -5.69445311e+00,  1.32507483e+00,\n",
       "         1.47850707e-01,  6.47454560e-02,  1.38097854e+00,\n",
       "        -5.66842940e+00],\n",
       "       [ 2.52981424e-01, -5.69846683e+00,  1.29613770e+00,\n",
       "         2.53035992e-01, -5.25454339e-03,  1.37696487e+00,\n",
       "        -5.69736654e+00],\n",
       "       [-6.86546341e-02, -5.85147871e+00,  1.14131461e+00,\n",
       "         6.90914914e-02, -7.75731169e-03,  1.22395300e+00,\n",
       "        -5.85218968e+00],\n",
       "       [ 4.78774384e-02, -5.86038537e+00,  1.09608456e+00,\n",
       "         1.06609933e-01, -9.52545479e-02,  1.21504627e+00,\n",
       "        -5.89741974e+00],\n",
       "       [ 2.00185224e-01, -5.93987283e+00,  1.08347087e+00,\n",
       "         2.15547770e-01,  7.99169019e-02,  1.13555883e+00,\n",
       "        -5.91003339e+00],\n",
       "       [ 2.49550804e-01, -6.03032449e+00,  1.03100000e+00,\n",
       "         3.47290963e-01,  2.41527244e-01,  1.04510717e+00,\n",
       "        -5.96250430e+00],\n",
       "       [ 8.78976434e-02, -6.03378753e+00,  9.36128962e-01,\n",
       "         1.09472156e-01, -6.52545616e-02,  1.04164417e+00,\n",
       "        -6.05737527e+00],\n",
       "       [ 2.64377415e-01, -6.23931044e+00,  7.95660661e-01,\n",
       "         2.91389376e-01,  1.22524910e-01,  8.36121241e-01,\n",
       "        -6.19784365e+00],\n",
       "       [ 2.47978806e-01, -6.34308341e+00,  6.69761654e-01,\n",
       "         2.51983434e-01,  4.47454751e-02,  7.32348256e-01,\n",
       "        -6.32374262e+00],\n",
       "       [ 1.64294243e-01, -6.27331411e+00,  6.63640117e-01,\n",
       "         2.10939139e-01, -1.32297859e-01,  8.02117589e-01,\n",
       "        -6.32986416e+00]])"
      ]
     },
     "execution_count": 76,
     "metadata": {},
     "output_type": "execute_result"
    }
   ],
   "source": [
    "data[0]"
   ]
  },
  {
   "cell_type": "markdown",
   "metadata": {},
   "source": [
    "### Create and group labels dataframe by index"
   ]
  },
  {
   "cell_type": "code",
   "execution_count": 32,
   "metadata": {},
   "outputs": [],
   "source": [
    "labels_df = pd.DataFrame(treeArray,columns=list(set(labels)))\n"
   ]
  },
  {
   "cell_type": "code",
   "execution_count": 33,
   "metadata": {},
   "outputs": [
    {
     "data": {
      "text/html": [
       "<div>\n",
       "<style scoped>\n",
       "    .dataframe tbody tr th:only-of-type {\n",
       "        vertical-align: middle;\n",
       "    }\n",
       "\n",
       "    .dataframe tbody tr th {\n",
       "        vertical-align: top;\n",
       "    }\n",
       "\n",
       "    .dataframe thead th {\n",
       "        text-align: right;\n",
       "    }\n",
       "</style>\n",
       "<table border=\"1\" class=\"dataframe\">\n",
       "  <thead>\n",
       "    <tr style=\"text-align: right;\">\n",
       "      <th></th>\n",
       "      <th>j_g</th>\n",
       "      <th>j_q</th>\n",
       "      <th>j_w</th>\n",
       "      <th>j_index</th>\n",
       "      <th>j_t</th>\n",
       "      <th>j_z</th>\n",
       "    </tr>\n",
       "  </thead>\n",
       "  <tbody>\n",
       "    <tr>\n",
       "      <th>0</th>\n",
       "      <td>1</td>\n",
       "      <td>0</td>\n",
       "      <td>0</td>\n",
       "      <td>101333</td>\n",
       "      <td>0</td>\n",
       "      <td>0</td>\n",
       "    </tr>\n",
       "    <tr>\n",
       "      <th>1</th>\n",
       "      <td>1</td>\n",
       "      <td>0</td>\n",
       "      <td>0</td>\n",
       "      <td>101333</td>\n",
       "      <td>0</td>\n",
       "      <td>0</td>\n",
       "    </tr>\n",
       "    <tr>\n",
       "      <th>2</th>\n",
       "      <td>1</td>\n",
       "      <td>0</td>\n",
       "      <td>0</td>\n",
       "      <td>101333</td>\n",
       "      <td>0</td>\n",
       "      <td>0</td>\n",
       "    </tr>\n",
       "    <tr>\n",
       "      <th>3</th>\n",
       "      <td>1</td>\n",
       "      <td>0</td>\n",
       "      <td>0</td>\n",
       "      <td>101333</td>\n",
       "      <td>0</td>\n",
       "      <td>0</td>\n",
       "    </tr>\n",
       "    <tr>\n",
       "      <th>4</th>\n",
       "      <td>1</td>\n",
       "      <td>0</td>\n",
       "      <td>0</td>\n",
       "      <td>101333</td>\n",
       "      <td>0</td>\n",
       "      <td>0</td>\n",
       "    </tr>\n",
       "    <tr>\n",
       "      <th>...</th>\n",
       "      <td>...</td>\n",
       "      <td>...</td>\n",
       "      <td>...</td>\n",
       "      <td>...</td>\n",
       "      <td>...</td>\n",
       "      <td>...</td>\n",
       "    </tr>\n",
       "    <tr>\n",
       "      <th>5131608</th>\n",
       "      <td>0</td>\n",
       "      <td>0</td>\n",
       "      <td>0</td>\n",
       "      <td>300123134</td>\n",
       "      <td>0</td>\n",
       "      <td>1</td>\n",
       "    </tr>\n",
       "    <tr>\n",
       "      <th>5131609</th>\n",
       "      <td>0</td>\n",
       "      <td>0</td>\n",
       "      <td>0</td>\n",
       "      <td>300123134</td>\n",
       "      <td>0</td>\n",
       "      <td>1</td>\n",
       "    </tr>\n",
       "    <tr>\n",
       "      <th>5131610</th>\n",
       "      <td>0</td>\n",
       "      <td>0</td>\n",
       "      <td>0</td>\n",
       "      <td>300123134</td>\n",
       "      <td>0</td>\n",
       "      <td>1</td>\n",
       "    </tr>\n",
       "    <tr>\n",
       "      <th>5131611</th>\n",
       "      <td>0</td>\n",
       "      <td>0</td>\n",
       "      <td>0</td>\n",
       "      <td>300123134</td>\n",
       "      <td>0</td>\n",
       "      <td>1</td>\n",
       "    </tr>\n",
       "    <tr>\n",
       "      <th>5131612</th>\n",
       "      <td>0</td>\n",
       "      <td>0</td>\n",
       "      <td>0</td>\n",
       "      <td>300123134</td>\n",
       "      <td>0</td>\n",
       "      <td>1</td>\n",
       "    </tr>\n",
       "  </tbody>\n",
       "</table>\n",
       "<p>5131613 rows × 6 columns</p>\n",
       "</div>"
      ],
      "text/plain": [
       "         j_g  j_q  j_w    j_index  j_t  j_z\n",
       "0          1    0    0     101333    0    0\n",
       "1          1    0    0     101333    0    0\n",
       "2          1    0    0     101333    0    0\n",
       "3          1    0    0     101333    0    0\n",
       "4          1    0    0     101333    0    0\n",
       "...      ...  ...  ...        ...  ...  ...\n",
       "5131608    0    0    0  300123134    0    1\n",
       "5131609    0    0    0  300123134    0    1\n",
       "5131610    0    0    0  300123134    0    1\n",
       "5131611    0    0    0  300123134    0    1\n",
       "5131612    0    0    0  300123134    0    1\n",
       "\n",
       "[5131613 rows x 6 columns]"
      ]
     },
     "execution_count": 33,
     "metadata": {},
     "output_type": "execute_result"
    }
   ],
   "source": [
    "labels_df"
   ]
  },
  {
   "cell_type": "code",
   "execution_count": 34,
   "metadata": {},
   "outputs": [],
   "source": [
    "labels_df = labels_df.groupby('j_index')"
   ]
  },
  {
   "cell_type": "markdown",
   "metadata": {},
   "source": [
    "### Iterate through Labels Dataframe to return Numpy Array of labels"
   ]
  },
  {
   "cell_type": "code",
   "execution_count": 35,
   "metadata": {},
   "outputs": [
    {
     "data": {
      "text/html": [
       "<div>\n",
       "<style scoped>\n",
       "    .dataframe tbody tr th:only-of-type {\n",
       "        vertical-align: middle;\n",
       "    }\n",
       "\n",
       "    .dataframe tbody tr th {\n",
       "        vertical-align: top;\n",
       "    }\n",
       "\n",
       "    .dataframe thead th {\n",
       "        text-align: right;\n",
       "    }\n",
       "</style>\n",
       "<table border=\"1\" class=\"dataframe\">\n",
       "  <thead>\n",
       "    <tr style=\"text-align: right;\">\n",
       "      <th></th>\n",
       "      <th>j_g</th>\n",
       "      <th>j_q</th>\n",
       "      <th>j_w</th>\n",
       "      <th>j_t</th>\n",
       "      <th>j_z</th>\n",
       "    </tr>\n",
       "    <tr>\n",
       "      <th>j_index</th>\n",
       "      <th></th>\n",
       "      <th></th>\n",
       "      <th></th>\n",
       "      <th></th>\n",
       "      <th></th>\n",
       "    </tr>\n",
       "  </thead>\n",
       "  <tbody>\n",
       "    <tr>\n",
       "      <th>1</th>\n",
       "      <td>1</td>\n",
       "      <td>0</td>\n",
       "      <td>0</td>\n",
       "      <td>0</td>\n",
       "      <td>0</td>\n",
       "    </tr>\n",
       "    <tr>\n",
       "      <th>3</th>\n",
       "      <td>1</td>\n",
       "      <td>0</td>\n",
       "      <td>0</td>\n",
       "      <td>0</td>\n",
       "      <td>0</td>\n",
       "    </tr>\n",
       "    <tr>\n",
       "      <th>7</th>\n",
       "      <td>1</td>\n",
       "      <td>0</td>\n",
       "      <td>0</td>\n",
       "      <td>0</td>\n",
       "      <td>0</td>\n",
       "    </tr>\n",
       "    <tr>\n",
       "      <th>21</th>\n",
       "      <td>1</td>\n",
       "      <td>0</td>\n",
       "      <td>0</td>\n",
       "      <td>0</td>\n",
       "      <td>0</td>\n",
       "    </tr>\n",
       "    <tr>\n",
       "      <th>23</th>\n",
       "      <td>1</td>\n",
       "      <td>0</td>\n",
       "      <td>0</td>\n",
       "      <td>0</td>\n",
       "      <td>0</td>\n",
       "    </tr>\n",
       "    <tr>\n",
       "      <th>...</th>\n",
       "      <td>...</td>\n",
       "      <td>...</td>\n",
       "      <td>...</td>\n",
       "      <td>...</td>\n",
       "      <td>...</td>\n",
       "    </tr>\n",
       "    <tr>\n",
       "      <th>400199939</th>\n",
       "      <td>0</td>\n",
       "      <td>0</td>\n",
       "      <td>0</td>\n",
       "      <td>1</td>\n",
       "      <td>0</td>\n",
       "    </tr>\n",
       "    <tr>\n",
       "      <th>400199945</th>\n",
       "      <td>0</td>\n",
       "      <td>0</td>\n",
       "      <td>0</td>\n",
       "      <td>1</td>\n",
       "      <td>0</td>\n",
       "    </tr>\n",
       "    <tr>\n",
       "      <th>400199962</th>\n",
       "      <td>0</td>\n",
       "      <td>0</td>\n",
       "      <td>0</td>\n",
       "      <td>1</td>\n",
       "      <td>0</td>\n",
       "    </tr>\n",
       "    <tr>\n",
       "      <th>400199967</th>\n",
       "      <td>0</td>\n",
       "      <td>0</td>\n",
       "      <td>0</td>\n",
       "      <td>1</td>\n",
       "      <td>0</td>\n",
       "    </tr>\n",
       "    <tr>\n",
       "      <th>400199970</th>\n",
       "      <td>0</td>\n",
       "      <td>0</td>\n",
       "      <td>0</td>\n",
       "      <td>1</td>\n",
       "      <td>0</td>\n",
       "    </tr>\n",
       "  </tbody>\n",
       "</table>\n",
       "<p>98769 rows × 5 columns</p>\n",
       "</div>"
      ],
      "text/plain": [
       "           j_g  j_q  j_w  j_t  j_z\n",
       "j_index                           \n",
       "1            1    0    0    0    0\n",
       "3            1    0    0    0    0\n",
       "7            1    0    0    0    0\n",
       "21           1    0    0    0    0\n",
       "23           1    0    0    0    0\n",
       "...        ...  ...  ...  ...  ...\n",
       "400199939    0    0    0    1    0\n",
       "400199945    0    0    0    1    0\n",
       "400199962    0    0    0    1    0\n",
       "400199967    0    0    0    1    0\n",
       "400199970    0    0    0    1    0\n",
       "\n",
       "[98769 rows x 5 columns]"
      ]
     },
     "execution_count": 35,
     "metadata": {},
     "output_type": "execute_result"
    }
   ],
   "source": [
    "labels_df.first()"
   ]
  },
  {
   "cell_type": "code",
   "execution_count": 41,
   "metadata": {},
   "outputs": [],
   "source": [
    "labels = np.zeros([98769,5])\n",
    "o = 0\n",
    "for name,  group in labels_df:\n",
    "    x = group.to_numpy()\n",
    "    x = np.delete(x,3,1)\n",
    "    for z in range(5):\n",
    "        labels[o,z] = x[0][z]\n",
    "\n",
    "    o = o+1"
   ]
  },
  {
   "cell_type": "code",
   "execution_count": 50,
   "metadata": {},
   "outputs": [
    {
     "data": {
      "text/plain": [
       "1"
      ]
     },
     "execution_count": 50,
     "metadata": {},
     "output_type": "execute_result"
    }
   ],
   "source": [
    "np.amax(x)"
   ]
  },
  {
   "cell_type": "markdown",
   "metadata": {},
   "source": [
    "### Group global features by index and iterate to return a numpy array in desired shape"
   ]
  },
  {
   "cell_type": "code",
   "execution_count": 51,
   "metadata": {},
   "outputs": [],
   "source": [
    "globdf = pd.DataFrame(treeArray,columns = glob)"
   ]
  },
  {
   "cell_type": "code",
   "execution_count": 52,
   "metadata": {
    "scrolled": true
   },
   "outputs": [],
   "source": [
    "globdf = globdf.groupby('j_index')"
   ]
  },
  {
   "cell_type": "code",
   "execution_count": 53,
   "metadata": {},
   "outputs": [],
   "source": [
    "glob = np.zeros([98769, 2])\n",
    "o = 0\n",
    "for name, group in globdf:\n",
    "    x = group.to_numpy()\n",
    "    x = np.delete(x,2,1)\n",
    "    for m in range(2):\n",
    "        glob[o,m] = x[0,m]\n",
    "    o = o+1"
   ]
  },
  {
   "cell_type": "code",
   "execution_count": 54,
   "metadata": {},
   "outputs": [
    {
     "data": {
      "text/plain": [
       "array([[ 90.77446747,  93.24835968],\n",
       "       [148.98461914, 150.47558594],\n",
       "       [241.29042053, 241.29042053],\n",
       "       ...,\n",
       "       [182.7910614 , 182.7910614 ],\n",
       "       [145.66259766, 145.66259766],\n",
       "       [166.74099731, 166.74099731]])"
      ]
     },
     "execution_count": 54,
     "metadata": {},
     "output_type": "execute_result"
    }
   ],
   "source": [
    "glob\n"
   ]
  },
  {
   "cell_type": "code",
   "execution_count": 55,
   "metadata": {},
   "outputs": [
    {
     "data": {
      "text/plain": [
       "(98769, 5)"
      ]
     },
     "execution_count": 55,
     "metadata": {},
     "output_type": "execute_result"
    }
   ],
   "source": [
    "labels.shape"
   ]
  },
  {
   "cell_type": "markdown",
   "metadata": {},
   "source": [
    "### Split into train and validation/test sets"
   ]
  },
  {
   "cell_type": "code",
   "execution_count": 56,
   "metadata": {},
   "outputs": [],
   "source": [
    "data_train, data_test, labels_train, labels_test = train_test_split(data, labels, test_size=0.50, random_state=42)\n"
   ]
  },
  {
   "cell_type": "code",
   "execution_count": 57,
   "metadata": {},
   "outputs": [],
   "source": [
    "trash_train, trash_test, glob_train, glob_test = train_test_split(data, glob, test_size=0.50, random_state=42)"
   ]
  },
  {
   "cell_type": "code",
   "execution_count": 58,
   "metadata": {},
   "outputs": [
    {
     "data": {
      "text/plain": [
       "(49384, 5)"
      ]
     },
     "execution_count": 58,
     "metadata": {},
     "output_type": "execute_result"
    }
   ],
   "source": [
    "labels_train.shape"
   ]
  },
  {
   "cell_type": "code",
   "execution_count": 59,
   "metadata": {},
   "outputs": [
    {
     "data": {
      "text/plain": [
       "(49384, 20, 6)"
      ]
     },
     "execution_count": 59,
     "metadata": {},
     "output_type": "execute_result"
    }
   ],
   "source": [
    "data_train.shape"
   ]
  },
  {
   "cell_type": "code",
   "execution_count": 60,
   "metadata": {},
   "outputs": [
    {
     "data": {
      "text/plain": [
       "(49384, 2)"
      ]
     },
     "execution_count": 60,
     "metadata": {},
     "output_type": "execute_result"
    }
   ],
   "source": [
    "glob_train.shape"
   ]
  },
  {
   "cell_type": "code",
   "execution_count": 61,
   "metadata": {},
   "outputs": [
    {
     "data": {
      "text/plain": [
       "(49385, 20, 6)"
      ]
     },
     "execution_count": 61,
     "metadata": {},
     "output_type": "execute_result"
    }
   ],
   "source": [
    "data_test.shape"
   ]
  },
  {
   "cell_type": "markdown",
   "metadata": {},
   "source": [
    "### Create File"
   ]
  },
  {
   "cell_type": "code",
   "execution_count": 62,
   "metadata": {},
   "outputs": [],
   "source": [
    "f = h5py.File('trainABC6feat5tag.h5','w')"
   ]
  },
  {
   "cell_type": "code",
   "execution_count": 63,
   "metadata": {},
   "outputs": [
    {
     "data": {
      "text/plain": [
       "<HDF5 dataset \"data\": shape (49384, 20, 6), type \"<f8\">"
      ]
     },
     "execution_count": 63,
     "metadata": {},
     "output_type": "execute_result"
    }
   ],
   "source": [
    "f.create_dataset('data', data = data_train)"
   ]
  },
  {
   "cell_type": "code",
   "execution_count": 64,
   "metadata": {},
   "outputs": [
    {
     "data": {
      "text/plain": [
       "<HDF5 dataset \"pid\": shape (49384, 5), type \"<f8\">"
      ]
     },
     "execution_count": 64,
     "metadata": {},
     "output_type": "execute_result"
    }
   ],
   "source": [
    "f.create_dataset('pid', data = labels_train)"
   ]
  },
  {
   "cell_type": "code",
   "execution_count": 65,
   "metadata": {},
   "outputs": [
    {
     "data": {
      "text/plain": [
       "<HDF5 dataset \"global\": shape (49384, 2), type \"<f8\">"
      ]
     },
     "execution_count": 65,
     "metadata": {},
     "output_type": "execute_result"
    }
   ],
   "source": [
    "f.create_dataset('global', data = glob_train)"
   ]
  },
  {
   "cell_type": "code",
   "execution_count": 66,
   "metadata": {},
   "outputs": [
    {
     "data": {
      "text/plain": [
       "<KeysViewHDF5 ['data', 'global', 'pid']>"
      ]
     },
     "execution_count": 66,
     "metadata": {},
     "output_type": "execute_result"
    }
   ],
   "source": [
    "f.keys()\n"
   ]
  },
  {
   "cell_type": "code",
   "execution_count": 67,
   "metadata": {},
   "outputs": [],
   "source": [
    "f.close()"
   ]
  },
  {
   "cell_type": "markdown",
   "metadata": {},
   "source": [
    "### Split rest of data into the validation and test sets"
   ]
  },
  {
   "cell_type": "code",
   "execution_count": 68,
   "metadata": {},
   "outputs": [],
   "source": [
    "data_val, datatest, labels_val, labels_test = train_test_split(data_test, labels_test, test_size=0.50, random_state=42)\n"
   ]
  },
  {
   "cell_type": "code",
   "execution_count": 69,
   "metadata": {},
   "outputs": [],
   "source": [
    "trash_val, trash_test, glob_val, glob_test = train_test_split(data_test, glob_test, test_size = 0.50, random_state=42)"
   ]
  },
  {
   "cell_type": "markdown",
   "metadata": {},
   "source": [
    "### Create Files"
   ]
  },
  {
   "cell_type": "code",
   "execution_count": 70,
   "metadata": {},
   "outputs": [],
   "source": [
    "f = h5py.File('testABC6feat5tag.h5', 'w')"
   ]
  },
  {
   "cell_type": "code",
   "execution_count": 71,
   "metadata": {},
   "outputs": [
    {
     "data": {
      "text/plain": [
       "<HDF5 dataset \"data\": shape (24693, 20, 6), type \"<f8\">"
      ]
     },
     "execution_count": 71,
     "metadata": {},
     "output_type": "execute_result"
    }
   ],
   "source": [
    "f.create_dataset('data', data = datatest)\n"
   ]
  },
  {
   "cell_type": "code",
   "execution_count": 72,
   "metadata": {},
   "outputs": [
    {
     "data": {
      "text/plain": [
       "<HDF5 dataset \"pid\": shape (24693, 5), type \"<f8\">"
      ]
     },
     "execution_count": 72,
     "metadata": {},
     "output_type": "execute_result"
    }
   ],
   "source": [
    "f.create_dataset('pid', data = labels_test)\n"
   ]
  },
  {
   "cell_type": "code",
   "execution_count": 73,
   "metadata": {},
   "outputs": [
    {
     "data": {
      "text/plain": [
       "<HDF5 dataset \"global\": shape (24693, 2), type \"<f8\">"
      ]
     },
     "execution_count": 73,
     "metadata": {},
     "output_type": "execute_result"
    }
   ],
   "source": [
    "f.create_dataset('global', data = glob_test)"
   ]
  },
  {
   "cell_type": "code",
   "execution_count": 74,
   "metadata": {},
   "outputs": [],
   "source": [
    "f.close()"
   ]
  },
  {
   "cell_type": "code",
   "execution_count": 75,
   "metadata": {},
   "outputs": [],
   "source": [
    "f = h5py.File('valABC6feat5tag.h5', 'w')"
   ]
  },
  {
   "cell_type": "code",
   "execution_count": 76,
   "metadata": {},
   "outputs": [
    {
     "data": {
      "text/plain": [
       "<HDF5 dataset \"data\": shape (24692, 20, 6), type \"<f8\">"
      ]
     },
     "execution_count": 76,
     "metadata": {},
     "output_type": "execute_result"
    }
   ],
   "source": [
    "f.create_dataset('data', data = data_val)\n"
   ]
  },
  {
   "cell_type": "code",
   "execution_count": 77,
   "metadata": {},
   "outputs": [
    {
     "data": {
      "text/plain": [
       "<HDF5 dataset \"pid\": shape (24692, 5), type \"<f8\">"
      ]
     },
     "execution_count": 77,
     "metadata": {},
     "output_type": "execute_result"
    }
   ],
   "source": [
    "f.create_dataset('pid', data = labels_val)\n"
   ]
  },
  {
   "cell_type": "code",
   "execution_count": 78,
   "metadata": {},
   "outputs": [
    {
     "data": {
      "text/plain": [
       "<HDF5 dataset \"global\": shape (24692, 2), type \"<f8\">"
      ]
     },
     "execution_count": 78,
     "metadata": {},
     "output_type": "execute_result"
    }
   ],
   "source": [
    "f.create_dataset('global', data = glob_val)"
   ]
  },
  {
   "cell_type": "code",
   "execution_count": 79,
   "metadata": {},
   "outputs": [],
   "source": [
    "f.close()"
   ]
  },
  {
   "cell_type": "code",
   "execution_count": 80,
   "metadata": {},
   "outputs": [
    {
     "data": {
      "text/plain": [
       "array([[1., 0., 0., 0., 0.],\n",
       "       [1., 0., 0., 0., 0.],\n",
       "       [1., 0., 0., 0., 0.],\n",
       "       ...,\n",
       "       [0., 0., 0., 1., 0.],\n",
       "       [0., 0., 0., 1., 0.],\n",
       "       [0., 0., 0., 1., 0.]])"
      ]
     },
     "execution_count": 80,
     "metadata": {},
     "output_type": "execute_result"
    }
   ],
   "source": [
    "labels"
   ]
  },
  {
   "cell_type": "code",
   "execution_count": 111,
   "metadata": {},
   "outputs": [],
   "source": [
    "f = h5py.File('trainABC6feat5tag.h5','r')"
   ]
  },
  {
   "cell_type": "code",
   "execution_count": 113,
   "metadata": {},
   "outputs": [
    {
     "data": {
      "text/plain": [
       "(49384,)"
      ]
     },
     "execution_count": 113,
     "metadata": {},
     "output_type": "execute_result"
    }
   ],
   "source": [
    "f['pid'][:][:,0].shape"
   ]
  },
  {
   "cell_type": "code",
   "execution_count": null,
   "metadata": {},
   "outputs": [],
   "source": []
  }
 ],
 "metadata": {
  "kernelspec": {
   "display_name": "Python [conda env:tfgpu]",
   "language": "python",
   "name": "conda-env-tfgpu-py"
  },
  "language_info": {
   "codemirror_mode": {
    "name": "ipython",
    "version": 3
   },
   "file_extension": ".py",
   "mimetype": "text/x-python",
   "name": "python",
   "nbconvert_exporter": "python",
   "pygments_lexer": "ipython3",
   "version": "3.6.10"
  }
 },
 "nbformat": 4,
 "nbformat_minor": 4
}
