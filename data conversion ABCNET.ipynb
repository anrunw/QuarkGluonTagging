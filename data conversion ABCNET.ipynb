{
 "cells": [
  {
   "cell_type": "code",
   "execution_count": 2,
   "metadata": {},
   "outputs": [
    {
     "name": "stderr",
     "output_type": "stream",
     "text": [
      "/home/anrunw/anaconda3/envs/tfgpu/lib/python3.6/site-packages/tensorflow/python/framework/dtypes.py:516: FutureWarning: Passing (type, 1) or '1type' as a synonym of type is deprecated; in a future version of numpy, it will be understood as (type, (1,)) / '(1,)type'.\n",
      "  _np_qint8 = np.dtype([(\"qint8\", np.int8, 1)])\n",
      "/home/anrunw/anaconda3/envs/tfgpu/lib/python3.6/site-packages/tensorflow/python/framework/dtypes.py:517: FutureWarning: Passing (type, 1) or '1type' as a synonym of type is deprecated; in a future version of numpy, it will be understood as (type, (1,)) / '(1,)type'.\n",
      "  _np_quint8 = np.dtype([(\"quint8\", np.uint8, 1)])\n",
      "/home/anrunw/anaconda3/envs/tfgpu/lib/python3.6/site-packages/tensorflow/python/framework/dtypes.py:518: FutureWarning: Passing (type, 1) or '1type' as a synonym of type is deprecated; in a future version of numpy, it will be understood as (type, (1,)) / '(1,)type'.\n",
      "  _np_qint16 = np.dtype([(\"qint16\", np.int16, 1)])\n",
      "/home/anrunw/anaconda3/envs/tfgpu/lib/python3.6/site-packages/tensorflow/python/framework/dtypes.py:519: FutureWarning: Passing (type, 1) or '1type' as a synonym of type is deprecated; in a future version of numpy, it will be understood as (type, (1,)) / '(1,)type'.\n",
      "  _np_quint16 = np.dtype([(\"quint16\", np.uint16, 1)])\n",
      "/home/anrunw/anaconda3/envs/tfgpu/lib/python3.6/site-packages/tensorflow/python/framework/dtypes.py:520: FutureWarning: Passing (type, 1) or '1type' as a synonym of type is deprecated; in a future version of numpy, it will be understood as (type, (1,)) / '(1,)type'.\n",
      "  _np_qint32 = np.dtype([(\"qint32\", np.int32, 1)])\n",
      "/home/anrunw/anaconda3/envs/tfgpu/lib/python3.6/site-packages/tensorflow/python/framework/dtypes.py:525: FutureWarning: Passing (type, 1) or '1type' as a synonym of type is deprecated; in a future version of numpy, it will be understood as (type, (1,)) / '(1,)type'.\n",
      "  np_resource = np.dtype([(\"resource\", np.ubyte, 1)])\n",
      "/home/anrunw/anaconda3/envs/tfgpu/lib/python3.6/site-packages/tensorboard/compat/tensorflow_stub/dtypes.py:541: FutureWarning: Passing (type, 1) or '1type' as a synonym of type is deprecated; in a future version of numpy, it will be understood as (type, (1,)) / '(1,)type'.\n",
      "  _np_qint8 = np.dtype([(\"qint8\", np.int8, 1)])\n",
      "/home/anrunw/anaconda3/envs/tfgpu/lib/python3.6/site-packages/tensorboard/compat/tensorflow_stub/dtypes.py:542: FutureWarning: Passing (type, 1) or '1type' as a synonym of type is deprecated; in a future version of numpy, it will be understood as (type, (1,)) / '(1,)type'.\n",
      "  _np_quint8 = np.dtype([(\"quint8\", np.uint8, 1)])\n",
      "/home/anrunw/anaconda3/envs/tfgpu/lib/python3.6/site-packages/tensorboard/compat/tensorflow_stub/dtypes.py:543: FutureWarning: Passing (type, 1) or '1type' as a synonym of type is deprecated; in a future version of numpy, it will be understood as (type, (1,)) / '(1,)type'.\n",
      "  _np_qint16 = np.dtype([(\"qint16\", np.int16, 1)])\n",
      "/home/anrunw/anaconda3/envs/tfgpu/lib/python3.6/site-packages/tensorboard/compat/tensorflow_stub/dtypes.py:544: FutureWarning: Passing (type, 1) or '1type' as a synonym of type is deprecated; in a future version of numpy, it will be understood as (type, (1,)) / '(1,)type'.\n",
      "  _np_quint16 = np.dtype([(\"quint16\", np.uint16, 1)])\n",
      "/home/anrunw/anaconda3/envs/tfgpu/lib/python3.6/site-packages/tensorboard/compat/tensorflow_stub/dtypes.py:545: FutureWarning: Passing (type, 1) or '1type' as a synonym of type is deprecated; in a future version of numpy, it will be understood as (type, (1,)) / '(1,)type'.\n",
      "  _np_qint32 = np.dtype([(\"qint32\", np.int32, 1)])\n",
      "/home/anrunw/anaconda3/envs/tfgpu/lib/python3.6/site-packages/tensorboard/compat/tensorflow_stub/dtypes.py:550: FutureWarning: Passing (type, 1) or '1type' as a synonym of type is deprecated; in a future version of numpy, it will be understood as (type, (1,)) / '(1,)type'.\n",
      "  np_resource = np.dtype([(\"resource\", np.ubyte, 1)])\n"
     ]
    }
   ],
   "source": [
    "import h5py\n",
    "import pandas as pd\n",
    "import numpy as np\n",
    "import time\n",
    "\n",
    "from sklearn.model_selection import train_test_split\n",
    "import tensorflow as tf"
   ]
  },
  {
   "cell_type": "markdown",
   "metadata": {},
   "source": [
    "### Go Through File and Create Dataframes"
   ]
  },
  {
   "cell_type": "code",
   "execution_count": 15,
   "metadata": {},
   "outputs": [],
   "source": [
    "f = h5py.File('processed-pythia82-lhc13-all-pt1-50k-r1_h022_e0175_t220_nonu_withPars_truth_0.z','r')\n",
    "treeArray = f['t_allpar_new'][()]\n",
    "\n",
    "features = ['j1_ptrel','j1_etarot','j1_phirot','j_index']\n",
    "featuresUsed = ['j1_ptrel', 'j1_etarot', 'j1_phirot', 'j1_erel', 'j1_deltaR', 'j1_pdgid','j_index']\n",
    "pdgid = ['j_index', 'j1_pdgid']\n",
    "glob = ['j_mass_mmdt', 'j_mass' ,'j_index']\n",
    "labels = ['j_g', 'j_q', 'j_w', 'j_z', 'j_t', 'j_index']\n",
    "\n",
    "features_df = pd.DataFrame(treeArray,columns=list(set(featuresUsed)))\n"
   ]
  },
  {
   "cell_type": "code",
   "execution_count": 16,
   "metadata": {},
   "outputs": [
    {
     "data": {
      "text/html": [
       "<div>\n",
       "<style scoped>\n",
       "    .dataframe tbody tr th:only-of-type {\n",
       "        vertical-align: middle;\n",
       "    }\n",
       "\n",
       "    .dataframe tbody tr th {\n",
       "        vertical-align: top;\n",
       "    }\n",
       "\n",
       "    .dataframe thead th {\n",
       "        text-align: right;\n",
       "    }\n",
       "</style>\n",
       "<table border=\"1\" class=\"dataframe\">\n",
       "  <thead>\n",
       "    <tr style=\"text-align: right;\">\n",
       "      <th></th>\n",
       "      <th>j1_phirot</th>\n",
       "      <th>j1_ptrel</th>\n",
       "      <th>j1_pdgid</th>\n",
       "      <th>j1_erel</th>\n",
       "      <th>j_index</th>\n",
       "      <th>j1_etarot</th>\n",
       "      <th>j1_deltaR</th>\n",
       "    </tr>\n",
       "  </thead>\n",
       "  <tbody>\n",
       "    <tr>\n",
       "      <th>0</th>\n",
       "      <td>0.000000</td>\n",
       "      <td>0.386118</td>\n",
       "      <td>130.0</td>\n",
       "      <td>0.382772</td>\n",
       "      <td>101333</td>\n",
       "      <td>0.000000</td>\n",
       "      <td>0.011056</td>\n",
       "    </tr>\n",
       "    <tr>\n",
       "      <th>1</th>\n",
       "      <td>0.007236</td>\n",
       "      <td>0.107734</td>\n",
       "      <td>211.0</td>\n",
       "      <td>0.105703</td>\n",
       "      <td>101333</td>\n",
       "      <td>-0.009859</td>\n",
       "      <td>0.023104</td>\n",
       "    </tr>\n",
       "    <tr>\n",
       "      <th>2</th>\n",
       "      <td>-0.002759</td>\n",
       "      <td>0.094731</td>\n",
       "      <td>321.0</td>\n",
       "      <td>0.094339</td>\n",
       "      <td>101333</td>\n",
       "      <td>0.004508</td>\n",
       "      <td>0.006306</td>\n",
       "    </tr>\n",
       "    <tr>\n",
       "      <th>3</th>\n",
       "      <td>-0.014909</td>\n",
       "      <td>0.042086</td>\n",
       "      <td>211.0</td>\n",
       "      <td>0.042913</td>\n",
       "      <td>101333</td>\n",
       "      <td>0.028567</td>\n",
       "      <td>0.022473</td>\n",
       "    </tr>\n",
       "    <tr>\n",
       "      <th>4</th>\n",
       "      <td>-0.003745</td>\n",
       "      <td>0.039412</td>\n",
       "      <td>-211.0</td>\n",
       "      <td>0.038547</td>\n",
       "      <td>101333</td>\n",
       "      <td>-0.018020</td>\n",
       "      <td>0.025492</td>\n",
       "    </tr>\n",
       "    <tr>\n",
       "      <th>...</th>\n",
       "      <td>...</td>\n",
       "      <td>...</td>\n",
       "      <td>...</td>\n",
       "      <td>...</td>\n",
       "      <td>...</td>\n",
       "      <td>...</td>\n",
       "      <td>...</td>\n",
       "    </tr>\n",
       "    <tr>\n",
       "      <th>5131608</th>\n",
       "      <td>-0.315306</td>\n",
       "      <td>0.000350</td>\n",
       "      <td>111.0</td>\n",
       "      <td>0.000344</td>\n",
       "      <td>300123134</td>\n",
       "      <td>-0.300495</td>\n",
       "      <td>0.380018</td>\n",
       "    </tr>\n",
       "    <tr>\n",
       "      <th>5131609</th>\n",
       "      <td>-0.349366</td>\n",
       "      <td>0.000258</td>\n",
       "      <td>111.0</td>\n",
       "      <td>0.000256</td>\n",
       "      <td>300123134</td>\n",
       "      <td>0.258936</td>\n",
       "      <td>0.294476</td>\n",
       "    </tr>\n",
       "    <tr>\n",
       "      <th>5131610</th>\n",
       "      <td>-0.270430</td>\n",
       "      <td>0.000219</td>\n",
       "      <td>111.0</td>\n",
       "      <td>0.000215</td>\n",
       "      <td>300123134</td>\n",
       "      <td>0.269149</td>\n",
       "      <td>0.255231</td>\n",
       "    </tr>\n",
       "    <tr>\n",
       "      <th>5131611</th>\n",
       "      <td>-0.341398</td>\n",
       "      <td>0.000116</td>\n",
       "      <td>111.0</td>\n",
       "      <td>0.000115</td>\n",
       "      <td>300123134</td>\n",
       "      <td>-0.213081</td>\n",
       "      <td>0.319973</td>\n",
       "    </tr>\n",
       "    <tr>\n",
       "      <th>5131612</th>\n",
       "      <td>-0.289803</td>\n",
       "      <td>0.000080</td>\n",
       "      <td>111.0</td>\n",
       "      <td>0.000079</td>\n",
       "      <td>300123134</td>\n",
       "      <td>0.416615</td>\n",
       "      <td>0.395627</td>\n",
       "    </tr>\n",
       "  </tbody>\n",
       "</table>\n",
       "<p>5131613 rows × 7 columns</p>\n",
       "</div>"
      ],
      "text/plain": [
       "         j1_phirot  j1_ptrel  j1_pdgid   j1_erel    j_index  j1_etarot  \\\n",
       "0         0.000000  0.386118     130.0  0.382772     101333   0.000000   \n",
       "1         0.007236  0.107734     211.0  0.105703     101333  -0.009859   \n",
       "2        -0.002759  0.094731     321.0  0.094339     101333   0.004508   \n",
       "3        -0.014909  0.042086     211.0  0.042913     101333   0.028567   \n",
       "4        -0.003745  0.039412    -211.0  0.038547     101333  -0.018020   \n",
       "...            ...       ...       ...       ...        ...        ...   \n",
       "5131608  -0.315306  0.000350     111.0  0.000344  300123134  -0.300495   \n",
       "5131609  -0.349366  0.000258     111.0  0.000256  300123134   0.258936   \n",
       "5131610  -0.270430  0.000219     111.0  0.000215  300123134   0.269149   \n",
       "5131611  -0.341398  0.000116     111.0  0.000115  300123134  -0.213081   \n",
       "5131612  -0.289803  0.000080     111.0  0.000079  300123134   0.416615   \n",
       "\n",
       "         j1_deltaR  \n",
       "0         0.011056  \n",
       "1         0.023104  \n",
       "2         0.006306  \n",
       "3         0.022473  \n",
       "4         0.025492  \n",
       "...            ...  \n",
       "5131608   0.380018  \n",
       "5131609   0.294476  \n",
       "5131610   0.255231  \n",
       "5131611   0.319973  \n",
       "5131612   0.395627  \n",
       "\n",
       "[5131613 rows x 7 columns]"
      ]
     },
     "execution_count": 16,
     "metadata": {},
     "output_type": "execute_result"
    }
   ],
   "source": [
    "features_df"
   ]
  },
  {
   "cell_type": "code",
   "execution_count": 17,
   "metadata": {},
   "outputs": [
    {
     "data": {
      "text/plain": [
       "0             101333\n",
       "51         100073064\n",
       "101        300177633\n",
       "142        100188310\n",
       "161        200044159\n",
       "             ...    \n",
       "5131388    300173707\n",
       "5131417    200033311\n",
       "5131447    400153985\n",
       "5131486    300037743\n",
       "5131530    300123134\n",
       "Name: j_index, Length: 98769, dtype: int32"
      ]
     },
     "execution_count": 17,
     "metadata": {},
     "output_type": "execute_result"
    }
   ],
   "source": [
    "features_df['j_index'].drop_duplicates()"
   ]
  },
  {
   "cell_type": "markdown",
   "metadata": {},
   "source": [
    "### Group Features in Dataframe by Jet Index"
   ]
  },
  {
   "cell_type": "code",
   "execution_count": 18,
   "metadata": {},
   "outputs": [],
   "source": [
    "index_df = features_df.groupby(['j_index'])"
   ]
  },
  {
   "cell_type": "code",
   "execution_count": 19,
   "metadata": {},
   "outputs": [
    {
     "data": {
      "text/html": [
       "<div>\n",
       "<style scoped>\n",
       "    .dataframe tbody tr th:only-of-type {\n",
       "        vertical-align: middle;\n",
       "    }\n",
       "\n",
       "    .dataframe tbody tr th {\n",
       "        vertical-align: top;\n",
       "    }\n",
       "\n",
       "    .dataframe thead th {\n",
       "        text-align: right;\n",
       "    }\n",
       "</style>\n",
       "<table border=\"1\" class=\"dataframe\">\n",
       "  <thead>\n",
       "    <tr style=\"text-align: right;\">\n",
       "      <th></th>\n",
       "      <th>j1_phirot</th>\n",
       "      <th>j1_ptrel</th>\n",
       "      <th>j1_pdgid</th>\n",
       "      <th>j1_erel</th>\n",
       "      <th>j1_etarot</th>\n",
       "      <th>j1_deltaR</th>\n",
       "    </tr>\n",
       "    <tr>\n",
       "      <th>j_index</th>\n",
       "      <th></th>\n",
       "      <th></th>\n",
       "      <th></th>\n",
       "      <th></th>\n",
       "      <th></th>\n",
       "      <th></th>\n",
       "    </tr>\n",
       "  </thead>\n",
       "  <tbody>\n",
       "    <tr>\n",
       "      <th>1</th>\n",
       "      <td>0.0</td>\n",
       "      <td>0.526719</td>\n",
       "      <td>130.0</td>\n",
       "      <td>0.525633</td>\n",
       "      <td>0.0</td>\n",
       "      <td>0.024813</td>\n",
       "    </tr>\n",
       "    <tr>\n",
       "      <th>3</th>\n",
       "      <td>0.0</td>\n",
       "      <td>0.689462</td>\n",
       "      <td>111.0</td>\n",
       "      <td>0.699932</td>\n",
       "      <td>0.0</td>\n",
       "      <td>0.057165</td>\n",
       "    </tr>\n",
       "    <tr>\n",
       "      <th>7</th>\n",
       "      <td>0.0</td>\n",
       "      <td>0.390835</td>\n",
       "      <td>13.0</td>\n",
       "      <td>0.388123</td>\n",
       "      <td>0.0</td>\n",
       "      <td>0.079966</td>\n",
       "    </tr>\n",
       "    <tr>\n",
       "      <th>21</th>\n",
       "      <td>0.0</td>\n",
       "      <td>0.133965</td>\n",
       "      <td>-211.0</td>\n",
       "      <td>0.130639</td>\n",
       "      <td>0.0</td>\n",
       "      <td>0.044376</td>\n",
       "    </tr>\n",
       "    <tr>\n",
       "      <th>23</th>\n",
       "      <td>0.0</td>\n",
       "      <td>0.130030</td>\n",
       "      <td>321.0</td>\n",
       "      <td>0.129065</td>\n",
       "      <td>-0.0</td>\n",
       "      <td>0.061479</td>\n",
       "    </tr>\n",
       "    <tr>\n",
       "      <th>...</th>\n",
       "      <td>...</td>\n",
       "      <td>...</td>\n",
       "      <td>...</td>\n",
       "      <td>...</td>\n",
       "      <td>...</td>\n",
       "      <td>...</td>\n",
       "    </tr>\n",
       "    <tr>\n",
       "      <th>400199939</th>\n",
       "      <td>0.0</td>\n",
       "      <td>0.079498</td>\n",
       "      <td>-11.0</td>\n",
       "      <td>0.068866</td>\n",
       "      <td>0.0</td>\n",
       "      <td>0.226768</td>\n",
       "    </tr>\n",
       "    <tr>\n",
       "      <th>400199945</th>\n",
       "      <td>0.0</td>\n",
       "      <td>0.162039</td>\n",
       "      <td>-211.0</td>\n",
       "      <td>0.158689</td>\n",
       "      <td>0.0</td>\n",
       "      <td>0.061562</td>\n",
       "    </tr>\n",
       "    <tr>\n",
       "      <th>400199962</th>\n",
       "      <td>0.0</td>\n",
       "      <td>0.067352</td>\n",
       "      <td>-211.0</td>\n",
       "      <td>0.063112</td>\n",
       "      <td>0.0</td>\n",
       "      <td>0.262295</td>\n",
       "    </tr>\n",
       "    <tr>\n",
       "      <th>400199967</th>\n",
       "      <td>0.0</td>\n",
       "      <td>0.143843</td>\n",
       "      <td>130.0</td>\n",
       "      <td>0.141045</td>\n",
       "      <td>-0.0</td>\n",
       "      <td>0.013341</td>\n",
       "    </tr>\n",
       "    <tr>\n",
       "      <th>400199970</th>\n",
       "      <td>0.0</td>\n",
       "      <td>0.122696</td>\n",
       "      <td>-321.0</td>\n",
       "      <td>0.121170</td>\n",
       "      <td>0.0</td>\n",
       "      <td>0.056541</td>\n",
       "    </tr>\n",
       "  </tbody>\n",
       "</table>\n",
       "<p>98769 rows × 6 columns</p>\n",
       "</div>"
      ],
      "text/plain": [
       "           j1_phirot  j1_ptrel  j1_pdgid   j1_erel  j1_etarot  j1_deltaR\n",
       "j_index                                                                 \n",
       "1                0.0  0.526719     130.0  0.525633        0.0   0.024813\n",
       "3                0.0  0.689462     111.0  0.699932        0.0   0.057165\n",
       "7                0.0  0.390835      13.0  0.388123        0.0   0.079966\n",
       "21               0.0  0.133965    -211.0  0.130639        0.0   0.044376\n",
       "23               0.0  0.130030     321.0  0.129065       -0.0   0.061479\n",
       "...              ...       ...       ...       ...        ...        ...\n",
       "400199939        0.0  0.079498     -11.0  0.068866        0.0   0.226768\n",
       "400199945        0.0  0.162039    -211.0  0.158689        0.0   0.061562\n",
       "400199962        0.0  0.067352    -211.0  0.063112        0.0   0.262295\n",
       "400199967        0.0  0.143843     130.0  0.141045       -0.0   0.013341\n",
       "400199970        0.0  0.122696    -321.0  0.121170        0.0   0.056541\n",
       "\n",
       "[98769 rows x 6 columns]"
      ]
     },
     "execution_count": 19,
     "metadata": {},
     "output_type": "execute_result"
    }
   ],
   "source": [
    "index_df.first()"
   ]
  },
  {
   "cell_type": "code",
   "execution_count": 20,
   "metadata": {},
   "outputs": [
    {
     "data": {
      "text/html": [
       "<div>\n",
       "<style scoped>\n",
       "    .dataframe tbody tr th:only-of-type {\n",
       "        vertical-align: middle;\n",
       "    }\n",
       "\n",
       "    .dataframe tbody tr th {\n",
       "        vertical-align: top;\n",
       "    }\n",
       "\n",
       "    .dataframe thead th {\n",
       "        text-align: right;\n",
       "    }\n",
       "</style>\n",
       "<table border=\"1\" class=\"dataframe\">\n",
       "  <thead>\n",
       "    <tr style=\"text-align: right;\">\n",
       "      <th></th>\n",
       "      <th>j1_phirot</th>\n",
       "      <th>j1_ptrel</th>\n",
       "      <th>j1_pdgid</th>\n",
       "      <th>j1_erel</th>\n",
       "      <th>j1_etarot</th>\n",
       "      <th>j1_deltaR</th>\n",
       "    </tr>\n",
       "    <tr>\n",
       "      <th>j_index</th>\n",
       "      <th></th>\n",
       "      <th></th>\n",
       "      <th></th>\n",
       "      <th></th>\n",
       "      <th></th>\n",
       "      <th></th>\n",
       "    </tr>\n",
       "  </thead>\n",
       "  <tbody>\n",
       "    <tr>\n",
       "      <th>1</th>\n",
       "      <td>-0.190216</td>\n",
       "      <td>4.929822e-15</td>\n",
       "      <td>111.0</td>\n",
       "      <td>4.914950e-15</td>\n",
       "      <td>0.030484</td>\n",
       "      <td>0.167938</td>\n",
       "    </tr>\n",
       "    <tr>\n",
       "      <th>3</th>\n",
       "      <td>0.077529</td>\n",
       "      <td>1.743528e-04</td>\n",
       "      <td>11.0</td>\n",
       "      <td>1.716514e-04</td>\n",
       "      <td>-0.180854</td>\n",
       "      <td>0.216846</td>\n",
       "    </tr>\n",
       "    <tr>\n",
       "      <th>7</th>\n",
       "      <td>-0.431896</td>\n",
       "      <td>2.259763e-15</td>\n",
       "      <td>111.0</td>\n",
       "      <td>2.267890e-15</td>\n",
       "      <td>-0.113552</td>\n",
       "      <td>0.371562</td>\n",
       "    </tr>\n",
       "    <tr>\n",
       "      <th>21</th>\n",
       "      <td>0.129893</td>\n",
       "      <td>1.921491e-14</td>\n",
       "      <td>111.0</td>\n",
       "      <td>1.758091e-14</td>\n",
       "      <td>0.029871</td>\n",
       "      <td>0.176887</td>\n",
       "    </tr>\n",
       "    <tr>\n",
       "      <th>23</th>\n",
       "      <td>-0.016355</td>\n",
       "      <td>1.727544e-04</td>\n",
       "      <td>11.0</td>\n",
       "      <td>1.724079e-04</td>\n",
       "      <td>0.203801</td>\n",
       "      <td>0.210257</td>\n",
       "    </tr>\n",
       "    <tr>\n",
       "      <th>...</th>\n",
       "      <td>...</td>\n",
       "      <td>...</td>\n",
       "      <td>...</td>\n",
       "      <td>...</td>\n",
       "      <td>...</td>\n",
       "      <td>...</td>\n",
       "    </tr>\n",
       "    <tr>\n",
       "      <th>400199939</th>\n",
       "      <td>-0.174553</td>\n",
       "      <td>1.899589e-04</td>\n",
       "      <td>111.0</td>\n",
       "      <td>1.702099e-04</td>\n",
       "      <td>0.270294</td>\n",
       "      <td>0.285076</td>\n",
       "    </tr>\n",
       "    <tr>\n",
       "      <th>400199945</th>\n",
       "      <td>0.142462</td>\n",
       "      <td>1.980837e-13</td>\n",
       "      <td>130.0</td>\n",
       "      <td>1.999639e-13</td>\n",
       "      <td>-0.100336</td>\n",
       "      <td>0.211512</td>\n",
       "    </tr>\n",
       "    <tr>\n",
       "      <th>400199962</th>\n",
       "      <td>-0.508617</td>\n",
       "      <td>1.629955e-04</td>\n",
       "      <td>111.0</td>\n",
       "      <td>1.746291e-04</td>\n",
       "      <td>-0.290382</td>\n",
       "      <td>0.318107</td>\n",
       "    </tr>\n",
       "    <tr>\n",
       "      <th>400199967</th>\n",
       "      <td>0.173700</td>\n",
       "      <td>3.792574e-15</td>\n",
       "      <td>111.0</td>\n",
       "      <td>3.704065e-15</td>\n",
       "      <td>-0.133642</td>\n",
       "      <td>0.218666</td>\n",
       "    </tr>\n",
       "    <tr>\n",
       "      <th>400199970</th>\n",
       "      <td>0.425505</td>\n",
       "      <td>5.124709e-15</td>\n",
       "      <td>111.0</td>\n",
       "      <td>5.186064e-15</td>\n",
       "      <td>-0.108092</td>\n",
       "      <td>0.389175</td>\n",
       "    </tr>\n",
       "  </tbody>\n",
       "</table>\n",
       "<p>98769 rows × 6 columns</p>\n",
       "</div>"
      ],
      "text/plain": [
       "           j1_phirot      j1_ptrel  j1_pdgid       j1_erel  j1_etarot  \\\n",
       "j_index                                                                 \n",
       "1          -0.190216  4.929822e-15     111.0  4.914950e-15   0.030484   \n",
       "3           0.077529  1.743528e-04      11.0  1.716514e-04  -0.180854   \n",
       "7          -0.431896  2.259763e-15     111.0  2.267890e-15  -0.113552   \n",
       "21          0.129893  1.921491e-14     111.0  1.758091e-14   0.029871   \n",
       "23         -0.016355  1.727544e-04      11.0  1.724079e-04   0.203801   \n",
       "...              ...           ...       ...           ...        ...   \n",
       "400199939  -0.174553  1.899589e-04     111.0  1.702099e-04   0.270294   \n",
       "400199945   0.142462  1.980837e-13     130.0  1.999639e-13  -0.100336   \n",
       "400199962  -0.508617  1.629955e-04     111.0  1.746291e-04  -0.290382   \n",
       "400199967   0.173700  3.792574e-15     111.0  3.704065e-15  -0.133642   \n",
       "400199970   0.425505  5.124709e-15     111.0  5.186064e-15  -0.108092   \n",
       "\n",
       "           j1_deltaR  \n",
       "j_index               \n",
       "1           0.167938  \n",
       "3           0.216846  \n",
       "7           0.371562  \n",
       "21          0.176887  \n",
       "23          0.210257  \n",
       "...              ...  \n",
       "400199939   0.285076  \n",
       "400199945   0.211512  \n",
       "400199962   0.318107  \n",
       "400199967   0.218666  \n",
       "400199970   0.389175  \n",
       "\n",
       "[98769 rows x 6 columns]"
      ]
     },
     "execution_count": 20,
     "metadata": {},
     "output_type": "execute_result"
    }
   ],
   "source": [
    "index_df.last()"
   ]
  },
  {
   "cell_type": "code",
   "execution_count": 21,
   "metadata": {},
   "outputs": [],
   "source": [
    "max_particles = 20"
   ]
  },
  {
   "cell_type": "markdown",
   "metadata": {},
   "source": [
    "### Iterate through dataframe to create a numpy array with desired dimensions\n"
   ]
  },
  {
   "cell_type": "code",
   "execution_count": 30,
   "metadata": {},
   "outputs": [],
   "source": [
    "data = np.zeros([98769,max_particles,6])\n",
    "p = 0\n",
    "for name, group in index_df:\n",
    "    x = group.to_numpy()\n",
    "    x = np.delete(x,4,1)\n",
    "    g = 0\n",
    "    for l in x:\n",
    "        if g == 20: \n",
    "            break\n",
    "        for n in range(6):\n",
    "            data[p,g,n] = l[n]\n",
    "        g = g+1\n",
    "\n",
    "    p = p+1\n",
    "    "
   ]
  },
  {
   "cell_type": "code",
   "execution_count": 31,
   "metadata": {},
   "outputs": [
    {
     "data": {
      "text/plain": [
       "array([[[ 0.00000000e+00,  5.26718855e-01,  1.30000000e+02,\n",
       "          5.25633097e-01,  0.00000000e+00,  2.48127822e-02],\n",
       "        [ 4.55306284e-03,  8.16964805e-02, -3.21000000e+02,\n",
       "          8.15227404e-02, -1.00144953e-03,  2.94277072e-02],\n",
       "        [-4.35186643e-03,  7.24203736e-02, -2.11000000e+02,\n",
       "          7.22680390e-02,  6.44924934e-04,  2.04328783e-02],\n",
       "        ...,\n",
       "        [-2.80741543e-01,  5.33214770e-03,  1.11000000e+02,\n",
       "          5.23904618e-03,  5.28131891e-03,  2.56084561e-01],\n",
       "        [ 9.37831998e-02,  5.15896268e-03,  2.11000000e+02,\n",
       "          5.13469940e-03, -2.41304729e-02,  1.21284731e-01],\n",
       "        [-2.45866120e-01,  3.94729385e-03, -2.11000000e+02,\n",
       "          3.89839825e-03,  1.28893116e-02,  2.21420020e-01]],\n",
       "\n",
       "       [[ 0.00000000e+00,  6.89462423e-01,  1.11000000e+02,\n",
       "          6.99931800e-01,  0.00000000e+00,  5.71646057e-02],\n",
       "        [-2.49775752e-01,  1.68542340e-01,  1.30000000e+02,\n",
       "          1.59876242e-01,  8.34689102e-14,  1.94951132e-01],\n",
       "        [-6.19659433e-03,  2.03662720e-02,  2.11000000e+02,\n",
       "          1.98702645e-02, -1.29407674e-01,  1.30197898e-01],\n",
       "        ...,\n",
       "        [-1.59942597e-01,  3.46227805e-03,  2.11000000e+02,\n",
       "          3.32524162e-03, -3.72921266e-02,  1.07758597e-01],\n",
       "        [ 9.88735855e-02,  1.74800691e-03,  1.11000000e+02,\n",
       "          1.77862030e-03, -9.24359336e-02,  1.75941572e-01],\n",
       "        [-1.19948409e-01,  1.48140686e-03, -2.11000000e+02,\n",
       "          1.36057718e-03, -3.44679445e-01,  3.41492712e-01]],\n",
       "\n",
       "       [[ 0.00000000e+00,  3.90835166e-01,  1.30000000e+01,\n",
       "          3.88123155e-01,  0.00000000e+00,  7.99662694e-02],\n",
       "        [-2.00170279e-02,  9.86498296e-02, -2.11000000e+02,\n",
       "          9.79162604e-02, -1.91240851e-02,  5.78885674e-02],\n",
       "        [-1.81325953e-02,  5.69535010e-02,  1.30000000e+02,\n",
       "          5.65236770e-02, -1.45012401e-02,  5.98699562e-02],\n",
       "        ...,\n",
       "        [ 2.68836133e-03,  1.14423810e-02,  1.30000000e+02,\n",
       "          1.14081465e-02, -5.41103147e-02,  8.82466212e-02],\n",
       "        [-1.23618515e-02,  9.30479541e-03,  1.11000000e+02,\n",
       "          9.24622733e-03, -2.78935656e-02,  6.62628859e-02],\n",
       "        [-3.36854339e-01,  7.76565028e-03,  1.11000000e+02,\n",
       "          7.78027717e-03, -1.01369675e-02,  2.62916565e-01]],\n",
       "\n",
       "       ...,\n",
       "\n",
       "       [[ 0.00000000e+00,  6.73518255e-02, -2.11000000e+02,\n",
       "          6.31124005e-02,  0.00000000e+00,  2.62294590e-01],\n",
       "        [-3.07715029e-01,  6.35867938e-02, -3.21000000e+02,\n",
       "          5.67335747e-02,  2.41869733e-14,  1.52942985e-01],\n",
       "        [-1.15343984e-02,  5.42424098e-02, -2.11000000e+02,\n",
       "          5.07519618e-02, -5.60324930e-04,  2.52076507e-01],\n",
       "        ...,\n",
       "        [-3.01510513e-01,  2.50507612e-02,  2.11000000e+02,\n",
       "          2.67944932e-02, -2.44215146e-01,  1.33844897e-01],\n",
       "        [-2.95648456e-01,  1.95255503e-02,  2.11000000e+02,\n",
       "          1.76907405e-02, -1.93848647e-02,  1.30074874e-01],\n",
       "        [-1.61940902e-01,  1.95048619e-02,  2.21200000e+03,\n",
       "          1.84676200e-02, -5.05392291e-02,  1.03576370e-01]],\n",
       "\n",
       "       [[ 0.00000000e+00,  1.43843219e-01,  1.30000000e+02,\n",
       "          1.41044989e-01, -0.00000000e+00,  1.33412946e-02],\n",
       "        [ 3.02834138e-02,  5.44578508e-02, -3.21000000e+02,\n",
       "          5.33273816e-02,  4.13669385e-02,  6.45291358e-02],\n",
       "        [-5.36937593e-03,  5.34900129e-02, -1.30000000e+01,\n",
       "          5.25353514e-02,  1.95389595e-02,  3.11412103e-02],\n",
       "        ...,\n",
       "        [ 1.87229231e-01,  1.66102462e-02, -3.21000000e+02,\n",
       "          1.62210893e-02, -7.05000833e-02,  2.03765452e-01],\n",
       "        [ 3.54966335e-02,  1.60296410e-02,  3.21000000e+02,\n",
       "          1.56410411e-02, -7.56062195e-02,  7.66065344e-02],\n",
       "        [-1.39692007e-02,  1.43241035e-02,  2.11000000e+02,\n",
       "          1.41144050e-02,  5.49019948e-02,  6.68687075e-02]],\n",
       "\n",
       "       [[ 0.00000000e+00,  1.22695982e-01, -3.21000000e+02,\n",
       "          1.21169634e-01,  0.00000000e+00,  5.65408878e-02],\n",
       "        [-1.37627363e-01,  8.59616548e-02,  1.11000000e+02,\n",
       "          8.56451616e-02,  4.14828694e-14,  1.92800447e-01],\n",
       "        [ 2.43921280e-01,  6.78009093e-02,  3.21000000e+02,\n",
       "          6.68826848e-02, -2.64501851e-02,  1.90762416e-01],\n",
       "        ...,\n",
       "        [ 2.57803321e-01,  1.97379366e-02,  2.11000000e+02,\n",
       "          1.94692817e-02, -1.67378969e-02,  2.04391956e-01],\n",
       "        [ 2.40273595e-01,  1.94221400e-02,  1.30000000e+02,\n",
       "          1.91534720e-02, -2.41045821e-02,  1.86937675e-01],\n",
       "        [ 2.32965231e-01,  1.88799687e-02,  2.11000000e+02,\n",
       "          1.86194107e-02, -2.86736395e-02,  1.79881319e-01]]])"
      ]
     },
     "execution_count": 31,
     "metadata": {},
     "output_type": "execute_result"
    }
   ],
   "source": [
    "data"
   ]
  },
  {
   "cell_type": "markdown",
   "metadata": {},
   "source": [
    "### Create and group labels dataframe by index"
   ]
  },
  {
   "cell_type": "code",
   "execution_count": 32,
   "metadata": {},
   "outputs": [],
   "source": [
    "labels_df = pd.DataFrame(treeArray,columns=list(set(labels)))\n"
   ]
  },
  {
   "cell_type": "code",
   "execution_count": 33,
   "metadata": {},
   "outputs": [
    {
     "data": {
      "text/html": [
       "<div>\n",
       "<style scoped>\n",
       "    .dataframe tbody tr th:only-of-type {\n",
       "        vertical-align: middle;\n",
       "    }\n",
       "\n",
       "    .dataframe tbody tr th {\n",
       "        vertical-align: top;\n",
       "    }\n",
       "\n",
       "    .dataframe thead th {\n",
       "        text-align: right;\n",
       "    }\n",
       "</style>\n",
       "<table border=\"1\" class=\"dataframe\">\n",
       "  <thead>\n",
       "    <tr style=\"text-align: right;\">\n",
       "      <th></th>\n",
       "      <th>j_g</th>\n",
       "      <th>j_q</th>\n",
       "      <th>j_w</th>\n",
       "      <th>j_index</th>\n",
       "      <th>j_t</th>\n",
       "      <th>j_z</th>\n",
       "    </tr>\n",
       "  </thead>\n",
       "  <tbody>\n",
       "    <tr>\n",
       "      <th>0</th>\n",
       "      <td>1</td>\n",
       "      <td>0</td>\n",
       "      <td>0</td>\n",
       "      <td>101333</td>\n",
       "      <td>0</td>\n",
       "      <td>0</td>\n",
       "    </tr>\n",
       "    <tr>\n",
       "      <th>1</th>\n",
       "      <td>1</td>\n",
       "      <td>0</td>\n",
       "      <td>0</td>\n",
       "      <td>101333</td>\n",
       "      <td>0</td>\n",
       "      <td>0</td>\n",
       "    </tr>\n",
       "    <tr>\n",
       "      <th>2</th>\n",
       "      <td>1</td>\n",
       "      <td>0</td>\n",
       "      <td>0</td>\n",
       "      <td>101333</td>\n",
       "      <td>0</td>\n",
       "      <td>0</td>\n",
       "    </tr>\n",
       "    <tr>\n",
       "      <th>3</th>\n",
       "      <td>1</td>\n",
       "      <td>0</td>\n",
       "      <td>0</td>\n",
       "      <td>101333</td>\n",
       "      <td>0</td>\n",
       "      <td>0</td>\n",
       "    </tr>\n",
       "    <tr>\n",
       "      <th>4</th>\n",
       "      <td>1</td>\n",
       "      <td>0</td>\n",
       "      <td>0</td>\n",
       "      <td>101333</td>\n",
       "      <td>0</td>\n",
       "      <td>0</td>\n",
       "    </tr>\n",
       "    <tr>\n",
       "      <th>...</th>\n",
       "      <td>...</td>\n",
       "      <td>...</td>\n",
       "      <td>...</td>\n",
       "      <td>...</td>\n",
       "      <td>...</td>\n",
       "      <td>...</td>\n",
       "    </tr>\n",
       "    <tr>\n",
       "      <th>5131608</th>\n",
       "      <td>0</td>\n",
       "      <td>0</td>\n",
       "      <td>0</td>\n",
       "      <td>300123134</td>\n",
       "      <td>0</td>\n",
       "      <td>1</td>\n",
       "    </tr>\n",
       "    <tr>\n",
       "      <th>5131609</th>\n",
       "      <td>0</td>\n",
       "      <td>0</td>\n",
       "      <td>0</td>\n",
       "      <td>300123134</td>\n",
       "      <td>0</td>\n",
       "      <td>1</td>\n",
       "    </tr>\n",
       "    <tr>\n",
       "      <th>5131610</th>\n",
       "      <td>0</td>\n",
       "      <td>0</td>\n",
       "      <td>0</td>\n",
       "      <td>300123134</td>\n",
       "      <td>0</td>\n",
       "      <td>1</td>\n",
       "    </tr>\n",
       "    <tr>\n",
       "      <th>5131611</th>\n",
       "      <td>0</td>\n",
       "      <td>0</td>\n",
       "      <td>0</td>\n",
       "      <td>300123134</td>\n",
       "      <td>0</td>\n",
       "      <td>1</td>\n",
       "    </tr>\n",
       "    <tr>\n",
       "      <th>5131612</th>\n",
       "      <td>0</td>\n",
       "      <td>0</td>\n",
       "      <td>0</td>\n",
       "      <td>300123134</td>\n",
       "      <td>0</td>\n",
       "      <td>1</td>\n",
       "    </tr>\n",
       "  </tbody>\n",
       "</table>\n",
       "<p>5131613 rows × 6 columns</p>\n",
       "</div>"
      ],
      "text/plain": [
       "         j_g  j_q  j_w    j_index  j_t  j_z\n",
       "0          1    0    0     101333    0    0\n",
       "1          1    0    0     101333    0    0\n",
       "2          1    0    0     101333    0    0\n",
       "3          1    0    0     101333    0    0\n",
       "4          1    0    0     101333    0    0\n",
       "...      ...  ...  ...        ...  ...  ...\n",
       "5131608    0    0    0  300123134    0    1\n",
       "5131609    0    0    0  300123134    0    1\n",
       "5131610    0    0    0  300123134    0    1\n",
       "5131611    0    0    0  300123134    0    1\n",
       "5131612    0    0    0  300123134    0    1\n",
       "\n",
       "[5131613 rows x 6 columns]"
      ]
     },
     "execution_count": 33,
     "metadata": {},
     "output_type": "execute_result"
    }
   ],
   "source": [
    "labels_df"
   ]
  },
  {
   "cell_type": "code",
   "execution_count": 34,
   "metadata": {},
   "outputs": [],
   "source": [
    "labels_df = labels_df.groupby('j_index')"
   ]
  },
  {
   "cell_type": "markdown",
   "metadata": {},
   "source": [
    "### Iterate through Labels Dataframe to return Numpy Array of labels"
   ]
  },
  {
   "cell_type": "code",
   "execution_count": 35,
   "metadata": {},
   "outputs": [
    {
     "data": {
      "text/html": [
       "<div>\n",
       "<style scoped>\n",
       "    .dataframe tbody tr th:only-of-type {\n",
       "        vertical-align: middle;\n",
       "    }\n",
       "\n",
       "    .dataframe tbody tr th {\n",
       "        vertical-align: top;\n",
       "    }\n",
       "\n",
       "    .dataframe thead th {\n",
       "        text-align: right;\n",
       "    }\n",
       "</style>\n",
       "<table border=\"1\" class=\"dataframe\">\n",
       "  <thead>\n",
       "    <tr style=\"text-align: right;\">\n",
       "      <th></th>\n",
       "      <th>j_g</th>\n",
       "      <th>j_q</th>\n",
       "      <th>j_w</th>\n",
       "      <th>j_t</th>\n",
       "      <th>j_z</th>\n",
       "    </tr>\n",
       "    <tr>\n",
       "      <th>j_index</th>\n",
       "      <th></th>\n",
       "      <th></th>\n",
       "      <th></th>\n",
       "      <th></th>\n",
       "      <th></th>\n",
       "    </tr>\n",
       "  </thead>\n",
       "  <tbody>\n",
       "    <tr>\n",
       "      <th>1</th>\n",
       "      <td>1</td>\n",
       "      <td>0</td>\n",
       "      <td>0</td>\n",
       "      <td>0</td>\n",
       "      <td>0</td>\n",
       "    </tr>\n",
       "    <tr>\n",
       "      <th>3</th>\n",
       "      <td>1</td>\n",
       "      <td>0</td>\n",
       "      <td>0</td>\n",
       "      <td>0</td>\n",
       "      <td>0</td>\n",
       "    </tr>\n",
       "    <tr>\n",
       "      <th>7</th>\n",
       "      <td>1</td>\n",
       "      <td>0</td>\n",
       "      <td>0</td>\n",
       "      <td>0</td>\n",
       "      <td>0</td>\n",
       "    </tr>\n",
       "    <tr>\n",
       "      <th>21</th>\n",
       "      <td>1</td>\n",
       "      <td>0</td>\n",
       "      <td>0</td>\n",
       "      <td>0</td>\n",
       "      <td>0</td>\n",
       "    </tr>\n",
       "    <tr>\n",
       "      <th>23</th>\n",
       "      <td>1</td>\n",
       "      <td>0</td>\n",
       "      <td>0</td>\n",
       "      <td>0</td>\n",
       "      <td>0</td>\n",
       "    </tr>\n",
       "    <tr>\n",
       "      <th>...</th>\n",
       "      <td>...</td>\n",
       "      <td>...</td>\n",
       "      <td>...</td>\n",
       "      <td>...</td>\n",
       "      <td>...</td>\n",
       "    </tr>\n",
       "    <tr>\n",
       "      <th>400199939</th>\n",
       "      <td>0</td>\n",
       "      <td>0</td>\n",
       "      <td>0</td>\n",
       "      <td>1</td>\n",
       "      <td>0</td>\n",
       "    </tr>\n",
       "    <tr>\n",
       "      <th>400199945</th>\n",
       "      <td>0</td>\n",
       "      <td>0</td>\n",
       "      <td>0</td>\n",
       "      <td>1</td>\n",
       "      <td>0</td>\n",
       "    </tr>\n",
       "    <tr>\n",
       "      <th>400199962</th>\n",
       "      <td>0</td>\n",
       "      <td>0</td>\n",
       "      <td>0</td>\n",
       "      <td>1</td>\n",
       "      <td>0</td>\n",
       "    </tr>\n",
       "    <tr>\n",
       "      <th>400199967</th>\n",
       "      <td>0</td>\n",
       "      <td>0</td>\n",
       "      <td>0</td>\n",
       "      <td>1</td>\n",
       "      <td>0</td>\n",
       "    </tr>\n",
       "    <tr>\n",
       "      <th>400199970</th>\n",
       "      <td>0</td>\n",
       "      <td>0</td>\n",
       "      <td>0</td>\n",
       "      <td>1</td>\n",
       "      <td>0</td>\n",
       "    </tr>\n",
       "  </tbody>\n",
       "</table>\n",
       "<p>98769 rows × 5 columns</p>\n",
       "</div>"
      ],
      "text/plain": [
       "           j_g  j_q  j_w  j_t  j_z\n",
       "j_index                           \n",
       "1            1    0    0    0    0\n",
       "3            1    0    0    0    0\n",
       "7            1    0    0    0    0\n",
       "21           1    0    0    0    0\n",
       "23           1    0    0    0    0\n",
       "...        ...  ...  ...  ...  ...\n",
       "400199939    0    0    0    1    0\n",
       "400199945    0    0    0    1    0\n",
       "400199962    0    0    0    1    0\n",
       "400199967    0    0    0    1    0\n",
       "400199970    0    0    0    1    0\n",
       "\n",
       "[98769 rows x 5 columns]"
      ]
     },
     "execution_count": 35,
     "metadata": {},
     "output_type": "execute_result"
    }
   ],
   "source": [
    "labels_df.first()"
   ]
  },
  {
   "cell_type": "code",
   "execution_count": 41,
   "metadata": {},
   "outputs": [],
   "source": [
    "labels = np.zeros([98769,5])\n",
    "o = 0\n",
    "for name,  group in labels_df:\n",
    "    x = group.to_numpy()\n",
    "    x = np.delete(x,3,1)\n",
    "    for z in range(5):\n",
    "        labels[o,z] = x[0][z]\n",
    "\n",
    "    o = o+1"
   ]
  },
  {
   "cell_type": "code",
   "execution_count": 50,
   "metadata": {},
   "outputs": [
    {
     "data": {
      "text/plain": [
       "1"
      ]
     },
     "execution_count": 50,
     "metadata": {},
     "output_type": "execute_result"
    }
   ],
   "source": [
    "np.amax(x)"
   ]
  },
  {
   "cell_type": "markdown",
   "metadata": {},
   "source": [
    "### Group global features by index and iterate to return a numpy array in desired shape"
   ]
  },
  {
   "cell_type": "code",
   "execution_count": 51,
   "metadata": {},
   "outputs": [],
   "source": [
    "globdf = pd.DataFrame(treeArray,columns = glob)"
   ]
  },
  {
   "cell_type": "code",
   "execution_count": 52,
   "metadata": {
    "scrolled": true
   },
   "outputs": [],
   "source": [
    "globdf = globdf.groupby('j_index')"
   ]
  },
  {
   "cell_type": "code",
   "execution_count": 53,
   "metadata": {},
   "outputs": [],
   "source": [
    "glob = np.zeros([98769, 2])\n",
    "o = 0\n",
    "for name, group in globdf:\n",
    "    x = group.to_numpy()\n",
    "    x = np.delete(x,2,1)\n",
    "    for m in range(2):\n",
    "        glob[o,m] = x[0,m]\n",
    "    o = o+1"
   ]
  },
  {
   "cell_type": "code",
   "execution_count": 54,
   "metadata": {},
   "outputs": [
    {
     "data": {
      "text/plain": [
       "array([[ 90.77446747,  93.24835968],\n",
       "       [148.98461914, 150.47558594],\n",
       "       [241.29042053, 241.29042053],\n",
       "       ...,\n",
       "       [182.7910614 , 182.7910614 ],\n",
       "       [145.66259766, 145.66259766],\n",
       "       [166.74099731, 166.74099731]])"
      ]
     },
     "execution_count": 54,
     "metadata": {},
     "output_type": "execute_result"
    }
   ],
   "source": [
    "glob\n"
   ]
  },
  {
   "cell_type": "code",
   "execution_count": 55,
   "metadata": {},
   "outputs": [
    {
     "data": {
      "text/plain": [
       "(98769, 5)"
      ]
     },
     "execution_count": 55,
     "metadata": {},
     "output_type": "execute_result"
    }
   ],
   "source": [
    "labels.shape"
   ]
  },
  {
   "cell_type": "markdown",
   "metadata": {},
   "source": [
    "### Split into train and validation/test sets"
   ]
  },
  {
   "cell_type": "code",
   "execution_count": 56,
   "metadata": {},
   "outputs": [],
   "source": [
    "data_train, data_test, labels_train, labels_test = train_test_split(data, labels, test_size=0.50, random_state=42)\n"
   ]
  },
  {
   "cell_type": "code",
   "execution_count": 57,
   "metadata": {},
   "outputs": [],
   "source": [
    "trash_train, trash_test, glob_train, glob_test = train_test_split(data, glob, test_size=0.50, random_state=42)"
   ]
  },
  {
   "cell_type": "code",
   "execution_count": 58,
   "metadata": {},
   "outputs": [
    {
     "data": {
      "text/plain": [
       "(49384, 5)"
      ]
     },
     "execution_count": 58,
     "metadata": {},
     "output_type": "execute_result"
    }
   ],
   "source": [
    "labels_train.shape"
   ]
  },
  {
   "cell_type": "code",
   "execution_count": 59,
   "metadata": {},
   "outputs": [
    {
     "data": {
      "text/plain": [
       "(49384, 20, 6)"
      ]
     },
     "execution_count": 59,
     "metadata": {},
     "output_type": "execute_result"
    }
   ],
   "source": [
    "data_train.shape"
   ]
  },
  {
   "cell_type": "code",
   "execution_count": 60,
   "metadata": {},
   "outputs": [
    {
     "data": {
      "text/plain": [
       "(49384, 2)"
      ]
     },
     "execution_count": 60,
     "metadata": {},
     "output_type": "execute_result"
    }
   ],
   "source": [
    "glob_train.shape"
   ]
  },
  {
   "cell_type": "code",
   "execution_count": 61,
   "metadata": {},
   "outputs": [
    {
     "data": {
      "text/plain": [
       "(49385, 20, 6)"
      ]
     },
     "execution_count": 61,
     "metadata": {},
     "output_type": "execute_result"
    }
   ],
   "source": [
    "data_test.shape"
   ]
  },
  {
   "cell_type": "markdown",
   "metadata": {},
   "source": [
    "### Create File"
   ]
  },
  {
   "cell_type": "code",
   "execution_count": 62,
   "metadata": {},
   "outputs": [],
   "source": [
    "f = h5py.File('trainABC6feat5tag.h5','w')"
   ]
  },
  {
   "cell_type": "code",
   "execution_count": 63,
   "metadata": {},
   "outputs": [
    {
     "data": {
      "text/plain": [
       "<HDF5 dataset \"data\": shape (49384, 20, 6), type \"<f8\">"
      ]
     },
     "execution_count": 63,
     "metadata": {},
     "output_type": "execute_result"
    }
   ],
   "source": [
    "f.create_dataset('data', data = data_train)"
   ]
  },
  {
   "cell_type": "code",
   "execution_count": 64,
   "metadata": {},
   "outputs": [
    {
     "data": {
      "text/plain": [
       "<HDF5 dataset \"pid\": shape (49384, 5), type \"<f8\">"
      ]
     },
     "execution_count": 64,
     "metadata": {},
     "output_type": "execute_result"
    }
   ],
   "source": [
    "f.create_dataset('pid', data = labels_train)"
   ]
  },
  {
   "cell_type": "code",
   "execution_count": 65,
   "metadata": {},
   "outputs": [
    {
     "data": {
      "text/plain": [
       "<HDF5 dataset \"global\": shape (49384, 2), type \"<f8\">"
      ]
     },
     "execution_count": 65,
     "metadata": {},
     "output_type": "execute_result"
    }
   ],
   "source": [
    "f.create_dataset('global', data = glob_train)"
   ]
  },
  {
   "cell_type": "code",
   "execution_count": 66,
   "metadata": {},
   "outputs": [
    {
     "data": {
      "text/plain": [
       "<KeysViewHDF5 ['data', 'global', 'pid']>"
      ]
     },
     "execution_count": 66,
     "metadata": {},
     "output_type": "execute_result"
    }
   ],
   "source": [
    "f.keys()\n"
   ]
  },
  {
   "cell_type": "code",
   "execution_count": 67,
   "metadata": {},
   "outputs": [],
   "source": [
    "f.close()"
   ]
  },
  {
   "cell_type": "markdown",
   "metadata": {},
   "source": [
    "### Split rest of data into the validation and test sets"
   ]
  },
  {
   "cell_type": "code",
   "execution_count": 68,
   "metadata": {},
   "outputs": [],
   "source": [
    "data_val, datatest, labels_val, labels_test = train_test_split(data_test, labels_test, test_size=0.50, random_state=42)\n"
   ]
  },
  {
   "cell_type": "code",
   "execution_count": 69,
   "metadata": {},
   "outputs": [],
   "source": [
    "trash_val, trash_test, glob_val, glob_test = train_test_split(data_test, glob_test, test_size = 0.50, random_state=42)"
   ]
  },
  {
   "cell_type": "markdown",
   "metadata": {},
   "source": [
    "### Create Files"
   ]
  },
  {
   "cell_type": "code",
   "execution_count": 70,
   "metadata": {},
   "outputs": [],
   "source": [
    "f = h5py.File('testABC6feat5tag.h5', 'w')"
   ]
  },
  {
   "cell_type": "code",
   "execution_count": 71,
   "metadata": {},
   "outputs": [
    {
     "data": {
      "text/plain": [
       "<HDF5 dataset \"data\": shape (24693, 20, 6), type \"<f8\">"
      ]
     },
     "execution_count": 71,
     "metadata": {},
     "output_type": "execute_result"
    }
   ],
   "source": [
    "f.create_dataset('data', data = datatest)\n"
   ]
  },
  {
   "cell_type": "code",
   "execution_count": 72,
   "metadata": {},
   "outputs": [
    {
     "data": {
      "text/plain": [
       "<HDF5 dataset \"pid\": shape (24693, 5), type \"<f8\">"
      ]
     },
     "execution_count": 72,
     "metadata": {},
     "output_type": "execute_result"
    }
   ],
   "source": [
    "f.create_dataset('pid', data = labels_test)\n"
   ]
  },
  {
   "cell_type": "code",
   "execution_count": 73,
   "metadata": {},
   "outputs": [
    {
     "data": {
      "text/plain": [
       "<HDF5 dataset \"global\": shape (24693, 2), type \"<f8\">"
      ]
     },
     "execution_count": 73,
     "metadata": {},
     "output_type": "execute_result"
    }
   ],
   "source": [
    "f.create_dataset('global', data = glob_test)"
   ]
  },
  {
   "cell_type": "code",
   "execution_count": 74,
   "metadata": {},
   "outputs": [],
   "source": [
    "f.close()"
   ]
  },
  {
   "cell_type": "code",
   "execution_count": 75,
   "metadata": {},
   "outputs": [],
   "source": [
    "f = h5py.File('valABC6feat5tag.h5', 'w')"
   ]
  },
  {
   "cell_type": "code",
   "execution_count": 76,
   "metadata": {},
   "outputs": [
    {
     "data": {
      "text/plain": [
       "<HDF5 dataset \"data\": shape (24692, 20, 6), type \"<f8\">"
      ]
     },
     "execution_count": 76,
     "metadata": {},
     "output_type": "execute_result"
    }
   ],
   "source": [
    "f.create_dataset('data', data = data_val)\n"
   ]
  },
  {
   "cell_type": "code",
   "execution_count": 77,
   "metadata": {},
   "outputs": [
    {
     "data": {
      "text/plain": [
       "<HDF5 dataset \"pid\": shape (24692, 5), type \"<f8\">"
      ]
     },
     "execution_count": 77,
     "metadata": {},
     "output_type": "execute_result"
    }
   ],
   "source": [
    "f.create_dataset('pid', data = labels_val)\n"
   ]
  },
  {
   "cell_type": "code",
   "execution_count": 78,
   "metadata": {},
   "outputs": [
    {
     "data": {
      "text/plain": [
       "<HDF5 dataset \"global\": shape (24692, 2), type \"<f8\">"
      ]
     },
     "execution_count": 78,
     "metadata": {},
     "output_type": "execute_result"
    }
   ],
   "source": [
    "f.create_dataset('global', data = glob_val)"
   ]
  },
  {
   "cell_type": "code",
   "execution_count": 79,
   "metadata": {},
   "outputs": [],
   "source": [
    "f.close()"
   ]
  },
  {
   "cell_type": "code",
   "execution_count": 80,
   "metadata": {},
   "outputs": [
    {
     "data": {
      "text/plain": [
       "array([[1., 0., 0., 0., 0.],\n",
       "       [1., 0., 0., 0., 0.],\n",
       "       [1., 0., 0., 0., 0.],\n",
       "       ...,\n",
       "       [0., 0., 0., 1., 0.],\n",
       "       [0., 0., 0., 1., 0.],\n",
       "       [0., 0., 0., 1., 0.]])"
      ]
     },
     "execution_count": 80,
     "metadata": {},
     "output_type": "execute_result"
    }
   ],
   "source": [
    "labels"
   ]
  },
  {
   "cell_type": "code",
   "execution_count": 111,
   "metadata": {},
   "outputs": [],
   "source": [
    "f = h5py.File('trainABC6feat5tag.h5','r')"
   ]
  },
  {
   "cell_type": "code",
   "execution_count": 113,
   "metadata": {},
   "outputs": [
    {
     "data": {
      "text/plain": [
       "(49384,)"
      ]
     },
     "execution_count": 113,
     "metadata": {},
     "output_type": "execute_result"
    }
   ],
   "source": [
    "f['pid'][:][:,0].shape"
   ]
  },
  {
   "cell_type": "code",
   "execution_count": null,
   "metadata": {},
   "outputs": [],
   "source": []
  }
 ],
 "metadata": {
  "kernelspec": {
   "display_name": "Python [conda env:tfgpu] *",
   "language": "python",
   "name": "conda-env-tfgpu-py"
  },
  "language_info": {
   "codemirror_mode": {
    "name": "ipython",
    "version": 3
   },
   "file_extension": ".py",
   "mimetype": "text/x-python",
   "name": "python",
   "nbconvert_exporter": "python",
   "pygments_lexer": "ipython3",
   "version": "3.6.10"
  }
 },
 "nbformat": 4,
 "nbformat_minor": 4
}
