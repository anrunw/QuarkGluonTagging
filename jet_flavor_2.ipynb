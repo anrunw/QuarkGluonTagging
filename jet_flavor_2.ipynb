{
 "metadata": {
  "language_info": {
   "codemirror_mode": {
    "name": "ipython",
    "version": 3
   },
   "file_extension": ".py",
   "mimetype": "text/x-python",
   "name": "python",
   "nbconvert_exporter": "python",
   "pygments_lexer": "ipython3",
   "version": "3.7.9-final"
  },
  "orig_nbformat": 2,
  "kernelspec": {
   "name": "python3",
   "display_name": "Python 3"
  }
 },
 "nbformat": 4,
 "nbformat_minor": 2,
 "cells": [
  {
   "cell_type": "code",
   "execution_count": 2,
   "metadata": {},
   "outputs": [],
   "source": [
    "import json\n",
    "import pandas as pd\n",
    "import h5py\n",
    "import numpy as np\n",
    "import os\n",
    "import matplotlib.pyplot as plt\n",
    "import math\n",
    "import gzip\n",
    "from tqdm import tqdm"
   ]
  },
  {
   "cell_type": "code",
   "execution_count": 3,
   "metadata": {},
   "outputs": [],
   "source": [
    "def load_df (path):\n",
    "    with gzip.open(path, 'r') as pf:\n",
    "        df = pd.read_csv(pf,sep='\\n', header=None)\n",
    "    df = df.loc[:,0].str.split(\",\", n = 17, expand = True) \n",
    "    replace_cols = [3,10,11,16]\n",
    "    for col in replace_cols:\n",
    "        df[col] = df[col].str.replace('{', '')\n",
    "        df[col] = df[col].str.replace('}', '')\n",
    "    df.drop([17],axis=1,inplace=True)\n",
    "    df = df.astype(float)\n",
    "    df[2] = df[2].astype(int)\n",
    "    return df"
   ]
  },
  {
   "cell_type": "code",
   "execution_count": 4,
   "metadata": {},
   "outputs": [],
   "source": [
    "def load_df_tv (path):\n",
    "    with gzip.open(path, 'r') as pf:\n",
    "        df = pd.read_csv(pf,sep='\\n', header=None)\n",
    "    df = df.loc[:,0].str.split(\",\", n = 17, expand = True) \n",
    "    replace_cols = [3,10,11,16]\n",
    "    for col in replace_cols:\n",
    "        df[col] = df[col].str.replace('{', '')\n",
    "        df[col] = df[col].str.replace('}', '')\n",
    "    tv_series = df[17]\n",
    "    df.drop([17],axis=1,inplace=True)\n",
    "    df = df.astype(float)\n",
    "    df[2] = df[2].astype(int)\n",
    "    return pd.concat([df,tv_series],axis=1)"
   ]
  },
  {
   "cell_type": "code",
   "execution_count": 176,
   "metadata": {},
   "outputs": [],
   "source": [
    "def data_cleaning (df, tv_series=False):\n",
    "    if tv_series:\n",
    "        tv = df[17]\n",
    "        df2 = df.iloc[:,:-1]\n",
    "    else:\n",
    "        df2 = pd.DataFrame(df)\n",
    "    column3 = ['track_2_d0_significance', 'track_3_d0_significance','track_2_z0_significance', 'track_3_z0_significance','n_tracks_over_d0_threshold', 'jet_prob', 'jet_width_eta', 'jet_width_phi']\n",
    "    column4 = ['vertex_significance', 'n_secondary_vertices', 'n_secondary_vertex_tracks', 'delta_r_vertex', 'vertex_mass', 'vertex_energy_fraction']\n",
    "    \n",
    "    keys = df2.columns.values\n",
    "    vals = ['jet_pt','jet_eta','flavor']+column3+column4\n",
    "    rename_dict = dict(zip(keys,vals))\n",
    "    df2.rename(columns=rename_dict, inplace=True)\n",
    "   \n",
    "    label_df = pd.get_dummies(df2.flavor,prefix='flavor')\n",
    "    label_df.rename(columns={'flavor_0':\"Light_Jet\",'flavor_4':'Charm_Jet','flavor_5':'Bottom_Jet'},inplace=True)\n",
    "    df2 = pd.concat([df2.drop(['flavor'],axis=1),label_df],axis=1)\n",
    "\n",
    "    if tv_series:\n",
    "        df2 = pd.concat([df2,tv],axis=1)\n",
    "\n",
    "    df2 = df2.where(df2!=-np.inf,np.nan)\n",
    "    df2 = df2.where(df2!=np.inf,np.nan)\n",
    "    df2 = df2.where(df2!=-1,np.nan)\n",
    "    df2 = df2.dropna()\n",
    "\n",
    "    \n",
    "    return df2\n",
    "    \n"
   ]
  },
  {
   "cell_type": "code",
   "execution_count": 125,
   "metadata": {},
   "outputs": [],
   "source": [
    "def bg_charm_deleted (df):\n",
    "    '''\n",
    "        To get ratio around 44:11:45, each bg should have only 75 Charm Jet.\n",
    "        Since each bg has about 400 Charms, sort the df ascending and drop the last 325 rows.\n",
    "    '''\n",
    "    sorted_df = df.sort_values(by='Charm_Jet', ascending=True)\n",
    "    return sorted_df.iloc[:-310,:]\n"
   ]
  },
  {
   "cell_type": "code",
   "execution_count": 126,
   "metadata": {},
   "outputs": [],
   "source": [
    "def hist_plot(data,bins,log=False):\n",
    "    plt.rcParams[\"figure.figsize\"] = (15,10)\n",
    "    features = data.iloc[:,:-3].columns.values\n",
    "    labels = data.iloc[:,-3:].columns.values\n",
    "    col = 4\n",
    "    row = math.ceil(len(features)/4)\n",
    "    fig, ax = plt.subplots(row,col)\n",
    "    for i, feat in enumerate(features):\n",
    "        ax[i//4,i%4].hist(data[data[labels[0]]==1][feat], bins, density=True, histtype='step', label=labels[0], log=log)\n",
    "        ax[i//4,i%4].hist(data[data[labels[1]]==1][feat], bins, density=True, histtype='step', label=labels[1], log=log)\n",
    "        ax[i//4,i%4].hist(data[data[labels[2]]==1][feat], bins, density=True, histtype='step', label=labels[2], log=log)\n",
    "        ax[i//4,i%4].legend()\n",
    "        ax[i//4,i%4].set_xlabel(feat)\n",
    "        ax[i//4,i%4].set_ylabel('Fraction of Events')\n",
    "    plt.tight_layout()\n",
    "    plt.show()"
   ]
  },
  {
   "cell_type": "code",
   "execution_count": null,
   "metadata": {},
   "outputs": [],
   "source": [
    "# To find out the mean distribution in signal set and bg set.\n",
    "nums = np.arange(1,10000,1)\n",
    "sig_rand =np.random.choice(nums,size=50, replace=False)\n",
    "bg_rand = np.random.choice(nums,size=50, replace=False)\n",
    "\n",
    "sig_path = [\"data/jet_flavor/signal/delphes._%04d.ntuple.txt.gz\"%(i) for i in sig_rand]\n",
    "bg_path = [\"data/jet_flavor/bg/delphes._%04d.ntuple.txt.gz\"%(i) for i in bg_rand]\n",
    "\n",
    "mean_set = []\n",
    "for path in tqdm(bg_path):\n",
    "    mean_set.append(return_distr(data_cleaning(load_df(path)),True))\n",
    "\n",
    "np.mean(mean_set,axis=0)"
   ]
  },
  {
   "cell_type": "code",
   "execution_count": 180,
   "metadata": {},
   "outputs": [],
   "source": [
    "def concat (num, customize=False, tv_series=False):\n",
    "    '''\n",
    "    num: total number of jets.\n",
    "    signal distribution:        Light:Charm:Bottom = 35:3:3100\n",
    "    background distribution:    Light:Charm:Bottom = 300:400:10\n",
    "    Target: 100k jets for each category.\n",
    "    '''\n",
    "    sig_dis = (36.06, 4.46, 3121.38)\n",
    "    bg_dis = (323.3 , 391.42,   8.3)\n",
    "    sig_num = int(num/3 // sig_dis[2])\n",
    "    bg_num = int(num/3 // bg_dis[1])\n",
    "\n",
    "    if customize:\n",
    "        weight = .825      # rough calculation, using weight to approach.\n",
    "        sig_num = int(num *45/100 // sig_dis[2])\n",
    "        bg_num = int((num*44/100 - sig_num*sig_dis[0]) // bg_dis[0] * weight)\n",
    "        # sig_num = int(num * 653/4648250)\n",
    "        # bg_num = int(num * 5393/3718600)\n",
    "\n",
    "    nums = np.arange(1,10000,1)\n",
    "    sig_rand =np.random.choice(nums,size=sig_num, replace=False)\n",
    "    bg_rand = np.random.choice(nums,size=bg_num, replace=False)\n",
    "\n",
    "    sig_path = [\"data/jet_flavor/signal/delphes._%04d.ntuple.txt.gz\"%(i) for i in sig_rand]\n",
    "    bg_path = [\"data/jet_flavor/bg/delphes._%04d.ntuple.txt.gz\"%(i) for i in bg_rand]\n",
    "\n",
    "    # for i in bg_path:\n",
    "    #     if not os.path.exists(i):\n",
    "    #         print(i)\n",
    "    # return\n",
    "\n",
    "    data = pd.DataFrame()\n",
    "   \n",
    "    if tv_series:\n",
    "        for path in tqdm(sig_path):\n",
    "            data = pd.concat([data,data_cleaning(load_df_tv(path),tv_series=True)], ignore_index=True)\n",
    "\n",
    "        for path in tqdm(bg_path):\n",
    "            if customize:\n",
    "                data = pd.concat([data,bg_charm_deleted(data_cleaning(load_df_tv(path),tv_series=True))], ignore_index=True)\n",
    "            else:\n",
    "                data = pd.concat([data,data_cleaning(load_df_tv(path),tv_series=True)], ignore_index=True)\n",
    "\n",
    "    else:\n",
    "        for path in tqdm(sig_path):\n",
    "            data = pd.concat([data,data_cleaning(load_df(path))], ignore_index=True)\n",
    "\n",
    "        for path in tqdm(bg_path):\n",
    "            if customize:\n",
    "                data = pd.concat([data,bg_charm_deleted(data_cleaning(load_df(path)))], ignore_index=True)\n",
    "            else:\n",
    "                data = pd.concat([data,data_cleaning(load_df(path))], ignore_index=True)\n",
    "\n",
    "\n",
    "    return data\n"
   ]
  },
  {
   "cell_type": "code",
   "execution_count": 181,
   "metadata": {},
   "outputs": [
    {
     "output_type": "stream",
     "name": "stderr",
     "text": [
      "100%|██████████| 72/72 [00:19<00:00,  3.71it/s]\n",
      "100%|██████████| 554/554 [03:03<00:00,  3.01it/s]\n"
     ]
    }
   ],
   "source": [
    "'''\n",
    "copy the previous file to the following:\n",
    "50, 404, 504, 1666, *8044, 9829, 7898, 7899, 4091, 6899, 0476, 8174,9062,5934,8611,5127,0928,5458, 3039, 5486, 9330, 4230, 3393, 6078, 5053, 555, 4953\n",
    "'''\n",
    "\n",
    "data_500k_with_tv = concat(5e5,customize=True,tv_series=True)\n",
    "# data_1500k = concat(15e5,True)"
   ]
  },
  {
   "cell_type": "code",
   "execution_count": 143,
   "metadata": {},
   "outputs": [],
   "source": [
    "def return_distr(df,ret=False):\n",
    "    \n",
    "    L_j = df[\"Light_Jet\"].sum()\n",
    "    C_j = df[\"Charm_Jet\"].sum()\n",
    "    B_j = df[\"Bottom_Jet\"].sum()\n",
    "    total = L_j + C_j + B_j\n",
    "\n",
    "    if ret:\n",
    "        return [L_j, C_j, B_j]\n",
    "\n",
    "    print(L_j)\n",
    "    print(C_j)\n",
    "    print(B_j)\n",
    "\n",
    "    print(\"Ratio L:C:B = %d : %d : %d\" %(L_j/total*100,C_j/total*100,B_j/total*100))"
   ]
  },
  {
   "cell_type": "code",
   "execution_count": 183,
   "metadata": {},
   "outputs": [
    {
     "output_type": "stream",
     "name": "stdout",
     "text": [
      "180923\n47118\n230679\nRatio L:C:B = 39 : 10 : 50\n"
     ]
    }
   ],
   "source": [
    "return_distr(data_500k_with_tv)"
   ]
  },
  {
   "cell_type": "code",
   "execution_count": 184,
   "metadata": {},
   "outputs": [],
   "source": [
    "out_dir = 'data/jet_flavor/data_500k_with_tv'\n",
    "data_500k_with_tv.to_hdf(out_dir,key='data',mode='w')\n",
    "    "
   ]
  },
  {
   "cell_type": "code",
   "execution_count": null,
   "metadata": {},
   "outputs": [],
   "source": [
    "hist_plot(data_300k,50)"
   ]
  },
  {
   "cell_type": "code",
   "execution_count": null,
   "metadata": {},
   "outputs": [],
   "source": []
  }
 ]
}