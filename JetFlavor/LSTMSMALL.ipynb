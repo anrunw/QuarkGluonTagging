{
 "cells": [
  {
   "cell_type": "code",
   "execution_count": 25,
   "metadata": {},
   "outputs": [],
   "source": [
    "import json\n",
    "import pandas as pd\n",
    "import h5py\n",
    "import numpy as np\n",
    "import tensorflow as tf\n",
    "import keras\n",
    "from keras.layers import Input, Dense, Dropout, LSTM, Flatten, GRU\n",
    "from keras.models import Model\n",
    "from keras.optimizers import Adam, SGD\n",
    "from sklearn.model_selection import train_test_split\n",
    "import os\n",
    "import h5py\n",
    "import matplotlib.pyplot as plt\n",
    "from keras import regularizers\n",
    "from tensorflow.keras.regularizers import l1\n"
   ]
  },
  {
   "cell_type": "code",
   "execution_count": 6,
   "metadata": {},
   "outputs": [],
   "source": [
    "df = pd.read_hdf('data_500k')"
   ]
  },
  {
   "cell_type": "code",
   "execution_count": 7,
   "metadata": {},
   "outputs": [],
   "source": [
    "features = df.values[:,0:16]"
   ]
  },
  {
   "cell_type": "code",
   "execution_count": 32,
   "metadata": {},
   "outputs": [],
   "source": [
    "labels = df.values[:,16:19]"
   ]
  },
  {
   "cell_type": "code",
   "execution_count": 9,
   "metadata": {},
   "outputs": [],
   "source": [
    "length = len(df)\n",
    "featuresnum = 16"
   ]
  },
  {
   "cell_type": "code",
   "execution_count": 10,
   "metadata": {},
   "outputs": [],
   "source": [
    "X_train, X_test, y_train, y_test = train_test_split(features,labels,test_size = 0.2, random_state = 42)\n"
   ]
  },
  {
   "cell_type": "code",
   "execution_count": 13,
   "metadata": {},
   "outputs": [],
   "source": [
    "#images = np.stack((X_train,X_train),axis = -1)"
   ]
  },
  {
   "cell_type": "code",
   "execution_count": 23,
   "metadata": {},
   "outputs": [],
   "source": [
    "images = X_train.reshape(len(X_train), 16, 1)"
   ]
  },
  {
   "cell_type": "code",
   "execution_count": 26,
   "metadata": {},
   "outputs": [
    {
     "name": "stdout",
     "output_type": "stream",
     "text": [
      "Model: \"model_6\"\n",
      "_________________________________________________________________\n",
      "Layer (type)                 Output Shape              Param #   \n",
      "=================================================================\n",
      "input_8 (InputLayer)         [(None, 16, 1)]           0         \n",
      "_________________________________________________________________\n",
      "lstm1 (LSTM)                 (None, 16)                1152      \n",
      "_________________________________________________________________\n",
      "flatten (Flatten)            (None, 16)                0         \n",
      "_________________________________________________________________\n",
      "output_sigmoid (Dense)       (None, 3)                 51        \n",
      "=================================================================\n",
      "Total params: 1,203\n",
      "Trainable params: 1,203\n",
      "Non-trainable params: 0\n",
      "_________________________________________________________________\n"
     ]
    }
   ],
   "source": [
    "Inputs = Input(shape=(16,1))\n",
    "x = LSTM(16, dropout = 0.5, kernel_initializer = 'VarianceScaling', kernel_regularizer = regularizers.l1_l2(l1= 9.999E-5, l2 = 0.0), name = 'lstm1')(Inputs)\n",
    "x = Flatten(trainable= True)(x)\n",
    "predictions = Dense(3, activation='softmax', kernel_initializer='lecun_uniform', name = 'output_sigmoid')(x)\n",
    "model = Model(inputs=Inputs, outputs=predictions)\n",
    "model.summary()"
   ]
  },
  {
   "cell_type": "code",
   "execution_count": 27,
   "metadata": {},
   "outputs": [],
   "source": [
    "\n",
    "adam = Adam(lr = 0.0001)\n",
    "model.compile(optimizer='adam', loss='categorical_crossentropy', metrics=['accuracy'])"
   ]
  },
  {
   "cell_type": "code",
   "execution_count": 28,
   "metadata": {},
   "outputs": [
    {
     "name": "stdout",
     "output_type": "stream",
     "text": [
      "Epoch 1/25\n",
      "833/833 [==============================] - 54s 65ms/step - loss: 0.9081 - accuracy: 0.5534 - val_loss: 0.9932 - val_accuracy: 0.4813\n",
      "Epoch 2/25\n",
      "833/833 [==============================] - 34s 41ms/step - loss: 0.8438 - accuracy: 0.5939 - val_loss: 0.9620 - val_accuracy: 0.4941\n",
      "Epoch 3/25\n",
      "833/833 [==============================] - 35s 42ms/step - loss: 0.8268 - accuracy: 0.6026 - val_loss: 0.9265 - val_accuracy: 0.5187\n",
      "Epoch 4/25\n",
      "833/833 [==============================] - 35s 41ms/step - loss: 0.8140 - accuracy: 0.6126 - val_loss: 0.9119 - val_accuracy: 0.5275\n",
      "Epoch 5/25\n",
      "833/833 [==============================] - 34s 41ms/step - loss: 0.8087 - accuracy: 0.6161 - val_loss: 0.9112 - val_accuracy: 0.5316\n",
      "Epoch 6/25\n",
      "833/833 [==============================] - 38s 45ms/step - loss: 0.8047 - accuracy: 0.6178 - val_loss: 0.8963 - val_accuracy: 0.5457\n",
      "Epoch 7/25\n",
      "833/833 [==============================] - 33s 39ms/step - loss: 0.8033 - accuracy: 0.6191 - val_loss: 0.9301 - val_accuracy: 0.5214\n",
      "Epoch 8/25\n",
      "833/833 [==============================] - 32s 38ms/step - loss: 0.8013 - accuracy: 0.6199 - val_loss: 0.9361 - val_accuracy: 0.5157\n",
      "Epoch 9/25\n",
      "833/833 [==============================] - 32s 38ms/step - loss: 0.7994 - accuracy: 0.6209 - val_loss: 0.9478 - val_accuracy: 0.5110\n",
      "Epoch 10/25\n",
      "833/833 [==============================] - 31s 37ms/step - loss: 0.7979 - accuracy: 0.6216 - val_loss: 0.9379 - val_accuracy: 0.5216\n",
      "Epoch 11/25\n",
      "833/833 [==============================] - 31s 37ms/step - loss: 0.7962 - accuracy: 0.6229 - val_loss: 0.9688 - val_accuracy: 0.5087\n",
      "Epoch 12/25\n",
      "833/833 [==============================] - 36s 43ms/step - loss: 0.7957 - accuracy: 0.6239 - val_loss: 0.9390 - val_accuracy: 0.5285\n",
      "Epoch 13/25\n",
      "833/833 [==============================] - 41s 49ms/step - loss: 0.7948 - accuracy: 0.6244 - val_loss: 0.9908 - val_accuracy: 0.4997\n",
      "Epoch 14/25\n",
      "833/833 [==============================] - 39s 47ms/step - loss: 0.7939 - accuracy: 0.6244 - val_loss: 0.9780 - val_accuracy: 0.5087\n",
      "Epoch 15/25\n",
      "833/833 [==============================] - 39s 47ms/step - loss: 0.7926 - accuracy: 0.6251 - val_loss: 1.0023 - val_accuracy: 0.4980\n",
      "Epoch 16/25\n",
      "833/833 [==============================] - 35s 42ms/step - loss: 0.7916 - accuracy: 0.6261 - val_loss: 0.9767 - val_accuracy: 0.5116\n",
      "Epoch 17/25\n",
      "833/833 [==============================] - 34s 41ms/step - loss: 0.7911 - accuracy: 0.6266 - val_loss: 0.9725 - val_accuracy: 0.5161\n",
      "Epoch 18/25\n",
      "833/833 [==============================] - 34s 41ms/step - loss: 0.7903 - accuracy: 0.6271 - val_loss: 0.9817 - val_accuracy: 0.5105\n",
      "Epoch 19/25\n",
      "833/833 [==============================] - 34s 41ms/step - loss: 0.7894 - accuracy: 0.6275 - val_loss: 1.0374 - val_accuracy: 0.4814\n",
      "Epoch 20/25\n",
      "833/833 [==============================] - 34s 41ms/step - loss: 0.7892 - accuracy: 0.6275 - val_loss: 0.9547 - val_accuracy: 0.5302\n",
      "Epoch 21/25\n",
      "833/833 [==============================] - 33s 40ms/step - loss: 0.7881 - accuracy: 0.6282 - val_loss: 0.9911 - val_accuracy: 0.5031\n",
      "Epoch 22/25\n",
      "833/833 [==============================] - 34s 41ms/step - loss: 0.7867 - accuracy: 0.6294 - val_loss: 0.9849 - val_accuracy: 0.5066\n",
      "Epoch 23/25\n",
      "833/833 [==============================] - 34s 41ms/step - loss: 0.7863 - accuracy: 0.6297 - val_loss: 0.9495 - val_accuracy: 0.5302\n",
      "Epoch 24/25\n",
      "833/833 [==============================] - 33s 40ms/step - loss: 0.7864 - accuracy: 0.6292 - val_loss: 0.9848 - val_accuracy: 0.5119\n",
      "Epoch 25/25\n",
      "833/833 [==============================] - 34s 41ms/step - loss: 0.7855 - accuracy: 0.6299 - val_loss: 0.9767 - val_accuracy: 0.5086\n"
     ]
    }
   ],
   "source": [
    "history = model.fit(images, y_train, batch_size = 1024, epochs = 25, \n",
    "                    validation_split = 0.25, shuffle = True, callbacks = None,\n",
    "                    use_multiprocessing=True, workers=4)"
   ]
  },
  {
   "cell_type": "code",
   "execution_count": 29,
   "metadata": {},
   "outputs": [],
   "source": [
    "imagetest = X_test.reshape(len(X_test), 16, 1)"
   ]
  },
  {
   "cell_type": "code",
   "execution_count": 30,
   "metadata": {},
   "outputs": [],
   "source": [
    "def makeRoc(features_val, labels_val, labels, model, outputDir='', outputSuffix=''):\n",
    "    from sklearn.metrics import roc_curve, auc\n",
    "    labels_pred = model.predict(features_val)\n",
    "    df = pd.DataFrame()\n",
    "    fpr = {}\n",
    "    tpr = {}\n",
    "    auc1 = {}\n",
    "    plt.figure(figsize=(10,8))       \n",
    "    for i, label in enumerate(labels):\n",
    "        df[label] = labels_val[:,i]\n",
    "        df[label + '_pred'] = labels_pred[:,i]\n",
    "        fpr[label], tpr[label], threshold = roc_curve(df[label],df[label+'_pred'])\n",
    "        auc1[label] = auc(fpr[label], tpr[label])\n",
    "        plt.plot(fpr[label],tpr[label],label='%s tagger, AUC = %.1f%%'%(label.replace('j_',''),auc1[label]*100.))\n",
    "    plt.plot([0, 1], [0, 1], lw=1, color='black', linestyle='--')\n",
    "    #plt.semilogy()\n",
    "    plt.xlabel(\"Background Efficiency\")\n",
    "    plt.ylabel(\"Signal Efficiency\")\n",
    "    plt.xlim([-0.05, 1.05])\n",
    "    plt.ylim(0.001,1.05)\n",
    "    plt.grid(True)\n",
    "    plt.legend(loc='lower right')\n",
    "    plt.figtext(0.25, 0.90,'LSTM ROC Curve',fontweight='bold', wrap=True, horizontalalignment='right', fontsize=14)\n",
    "    #plt.figtext(0.35, 0.90,'preliminary', style='italic', wrap=True, horizontalalignment='center', fontsize=14) \n",
    "    #plt.savefig('%sROC_%s.pdf'%(outputDir, outputSuffix))\n",
    "    return labels_pred"
   ]
  },
  {
   "cell_type": "code",
   "execution_count": 34,
   "metadata": {},
   "outputs": [],
   "source": [
    "labels = ['light', 'charm', 'bottom']"
   ]
  },
  {
   "cell_type": "code",
   "execution_count": null,
   "metadata": {},
   "outputs": [],
   "source": [
    "y_pred = makeRoc(imagetest, y_test, labels, model, outputSuffix='two-layer')"
   ]
  },
  {
   "cell_type": "code",
   "execution_count": null,
   "metadata": {},
   "outputs": [],
   "source": [
    "def learningCurve(history):\n",
    "    plt.figure(figsize=(10,8))\n",
    "    plt.plot(history.history['loss'], linewidth=1)\n",
    "    plt.plot(history.history['val_loss'], linewidth=1)\n",
    "    plt.title('Model Loss over Epochs')\n",
    "    plt.ylabel('Loss')\n",
    "    plt.xlabel('Epoch')\n",
    "    plt.legend(['training sample loss','validation sample loss'])\n",
    "    #plt.savefig('Learning_curve.pdf')\n",
    "    plt.show()\n",
    "    plt.close()"
   ]
  },
  {
   "cell_type": "code",
   "execution_count": null,
   "metadata": {},
   "outputs": [],
   "source": [
    "learningCurve(history)"
   ]
  },
  {
   "cell_type": "code",
   "execution_count": null,
   "metadata": {},
   "outputs": [],
   "source": [
    "model.save('lstm_small.h5')"
   ]
  },
  {
   "cell_type": "code",
   "execution_count": 22,
   "metadata": {},
   "outputs": [
    {
     "name": "stdout",
     "output_type": "stream",
     "text": [
      "Model: \"model_6\"\n",
      "_________________________________________________________________\n",
      "Layer (type)                 Output Shape              Param #   \n",
      "=================================================================\n",
      "input_9 (InputLayer)         [(None, 16, 1)]           0         \n",
      "_________________________________________________________________\n",
      "lstm1 (LSTM)                 (None, 16)                1152      \n",
      "_________________________________________________________________\n",
      "fc1_relu (Dense)             (None, 512)               8704      \n",
      "_________________________________________________________________\n",
      "dropout_28 (Dropout)         (None, 512)               0         \n",
      "_________________________________________________________________\n",
      "fc2_relu (Dense)             (None, 256)               131328    \n",
      "_________________________________________________________________\n",
      "dropout_29 (Dropout)         (None, 256)               0         \n",
      "_________________________________________________________________\n",
      "fc3_relu (Dense)             (None, 128)               32896     \n",
      "_________________________________________________________________\n",
      "output_sigmoid (Dense)       (None, 3)                 387       \n",
      "=================================================================\n",
      "Total params: 174,467\n",
      "Trainable params: 174,467\n",
      "Non-trainable params: 0\n",
      "_________________________________________________________________\n"
     ]
    }
   ],
   "source": [
    "model.summary()"
   ]
  },
  {
   "cell_type": "code",
   "execution_count": null,
   "metadata": {},
   "outputs": [],
   "source": []
  }
 ],
 "metadata": {
  "kernelspec": {
   "display_name": "Python 3",
   "language": "python",
   "name": "python3"
  },
  "language_info": {
   "codemirror_mode": {
    "name": "ipython",
    "version": 3
   },
   "file_extension": ".py",
   "mimetype": "text/x-python",
   "name": "python",
   "nbconvert_exporter": "python",
   "pygments_lexer": "ipython3",
   "version": "3.7.9"
  }
 },
 "nbformat": 4,
 "nbformat_minor": 4
}
