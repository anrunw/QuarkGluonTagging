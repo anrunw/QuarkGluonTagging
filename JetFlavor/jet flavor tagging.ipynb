{
 "cells": [
  {
   "cell_type": "code",
   "execution_count": 1,
   "metadata": {},
   "outputs": [],
   "source": [
    "import json\n",
    "import pandas as pd\n",
    "import h5py\n",
    "import numpy as np\n",
    "import tensorflow as tf\n",
    "import keras\n",
    "from keras.layers import Input, Dense, Dropout, LSTM, Flatten, GRU,TimeDistributed, Conv1D\n",
    "from keras.models import Model, Sequential\n",
    "from keras.optimizers import Adam, SGD\n",
    "from sklearn.model_selection import train_test_split\n",
    "import os\n",
    "import h5py\n",
    "import matplotlib.pyplot as plt\n",
    "from keras import regularizers\n",
    "from tensorflow.keras.regularizers import l1\n",
    "import ast\n",
    "from tqdm import tqdm"
   ]
  },
  {
   "cell_type": "code",
   "execution_count": null,
   "metadata": {},
   "outputs": [],
   "source": [
    "df = pd.read_json('dataset1g.json', lines=True\n",
    "                 )"
   ]
  },
  {
   "cell_type": "code",
   "execution_count": null,
   "metadata": {},
   "outputs": [],
   "source": []
  },
  {
   "cell_type": "code",
   "execution_count": 2,
   "metadata": {},
   "outputs": [],
   "source": [
    "df = pd.read_hdf('data_500k_with_tv')"
   ]
  },
  {
   "cell_type": "code",
   "execution_count": 3,
   "metadata": {},
   "outputs": [],
   "source": [
    "length = len(df)\n",
    "featuresnum = 16"
   ]
  },
  {
   "cell_type": "code",
   "execution_count": 4,
   "metadata": {},
   "outputs": [
    {
     "data": {
      "text/html": [
       "<div>\n",
       "<style scoped>\n",
       "    .dataframe tbody tr th:only-of-type {\n",
       "        vertical-align: middle;\n",
       "    }\n",
       "\n",
       "    .dataframe tbody tr th {\n",
       "        vertical-align: top;\n",
       "    }\n",
       "\n",
       "    .dataframe thead th {\n",
       "        text-align: right;\n",
       "    }\n",
       "</style>\n",
       "<table border=\"1\" class=\"dataframe\">\n",
       "  <thead>\n",
       "    <tr style=\"text-align: right;\">\n",
       "      <th></th>\n",
       "      <th>jet_pt</th>\n",
       "      <th>jet_eta</th>\n",
       "      <th>track_2_d0_significance</th>\n",
       "      <th>track_3_d0_significance</th>\n",
       "      <th>track_2_z0_significance</th>\n",
       "      <th>track_3_z0_significance</th>\n",
       "      <th>n_tracks_over_d0_threshold</th>\n",
       "      <th>jet_prob</th>\n",
       "      <th>jet_width_eta</th>\n",
       "      <th>jet_width_phi</th>\n",
       "      <th>vertex_significance</th>\n",
       "      <th>n_secondary_vertices</th>\n",
       "      <th>n_secondary_vertex_tracks</th>\n",
       "      <th>delta_r_vertex</th>\n",
       "      <th>vertex_mass</th>\n",
       "      <th>vertex_energy_fraction</th>\n",
       "      <th>Light_Jet</th>\n",
       "      <th>Charm_Jet</th>\n",
       "      <th>Bottom_Jet</th>\n",
       "      <th>17</th>\n",
       "    </tr>\n",
       "  </thead>\n",
       "  <tbody>\n",
       "    <tr>\n",
       "      <th>0</th>\n",
       "      <td>32.2340</td>\n",
       "      <td>-0.643775</td>\n",
       "      <td>10.700800</td>\n",
       "      <td>3.150200</td>\n",
       "      <td>0.954538</td>\n",
       "      <td>2.443190</td>\n",
       "      <td>3.0</td>\n",
       "      <td>4.913230e-06</td>\n",
       "      <td>0.067985</td>\n",
       "      <td>0.048788</td>\n",
       "      <td>84.13960</td>\n",
       "      <td>1.0</td>\n",
       "      <td>3.0</td>\n",
       "      <td>0.060169</td>\n",
       "      <td>1.687200</td>\n",
       "      <td>0.999864</td>\n",
       "      <td>0</td>\n",
       "      <td>0</td>\n",
       "      <td>1</td>\n",
       "      <td>[{{-0.215808, -0.116363, -0.00300674, 0.01526...</td>\n",
       "    </tr>\n",
       "    <tr>\n",
       "      <th>1</th>\n",
       "      <td>27.1675</td>\n",
       "      <td>-1.765690</td>\n",
       "      <td>34.596800</td>\n",
       "      <td>30.913200</td>\n",
       "      <td>0.163268</td>\n",
       "      <td>27.323300</td>\n",
       "      <td>3.0</td>\n",
       "      <td>2.576370e-16</td>\n",
       "      <td>0.078479</td>\n",
       "      <td>0.105953</td>\n",
       "      <td>232.56700</td>\n",
       "      <td>1.0</td>\n",
       "      <td>2.0</td>\n",
       "      <td>0.100039</td>\n",
       "      <td>0.302106</td>\n",
       "      <td>0.097107</td>\n",
       "      <td>0</td>\n",
       "      <td>0</td>\n",
       "      <td>1</td>\n",
       "      <td>[{{0.865832, -0.0154666, -0.0470188, 0.004403...</td>\n",
       "    </tr>\n",
       "    <tr>\n",
       "      <th>2</th>\n",
       "      <td>76.5242</td>\n",
       "      <td>-0.865873</td>\n",
       "      <td>2.304720</td>\n",
       "      <td>4.925830</td>\n",
       "      <td>3.178780</td>\n",
       "      <td>2.789300</td>\n",
       "      <td>3.0</td>\n",
       "      <td>8.453530e-06</td>\n",
       "      <td>0.050667</td>\n",
       "      <td>0.073102</td>\n",
       "      <td>64.10110</td>\n",
       "      <td>1.0</td>\n",
       "      <td>3.0</td>\n",
       "      <td>0.041544</td>\n",
       "      <td>1.089930</td>\n",
       "      <td>0.646448</td>\n",
       "      <td>0</td>\n",
       "      <td>0</td>\n",
       "      <td>1</td>\n",
       "      <td>[{{-0.0305462, 0.276271, 0.0221988, -0.021539...</td>\n",
       "    </tr>\n",
       "    <tr>\n",
       "      <th>3</th>\n",
       "      <td>65.7796</td>\n",
       "      <td>-0.596838</td>\n",
       "      <td>6.958120</td>\n",
       "      <td>2.081550</td>\n",
       "      <td>2.777960</td>\n",
       "      <td>0.413344</td>\n",
       "      <td>3.0</td>\n",
       "      <td>5.666940e-08</td>\n",
       "      <td>0.119558</td>\n",
       "      <td>0.086531</td>\n",
       "      <td>30.68700</td>\n",
       "      <td>1.0</td>\n",
       "      <td>2.0</td>\n",
       "      <td>0.074565</td>\n",
       "      <td>0.806820</td>\n",
       "      <td>0.290825</td>\n",
       "      <td>0</td>\n",
       "      <td>0</td>\n",
       "      <td>1</td>\n",
       "      <td>[{{-0.0536946, -0.0232979, -0.172776, -0.1518...</td>\n",
       "    </tr>\n",
       "    <tr>\n",
       "      <th>4</th>\n",
       "      <td>24.2995</td>\n",
       "      <td>0.184280</td>\n",
       "      <td>14.144600</td>\n",
       "      <td>4.954620</td>\n",
       "      <td>0.668378</td>\n",
       "      <td>0.117590</td>\n",
       "      <td>4.0</td>\n",
       "      <td>1.145500e-09</td>\n",
       "      <td>0.135787</td>\n",
       "      <td>0.086738</td>\n",
       "      <td>141.32700</td>\n",
       "      <td>2.0</td>\n",
       "      <td>8.0</td>\n",
       "      <td>0.045288</td>\n",
       "      <td>2.312110</td>\n",
       "      <td>1.714390</td>\n",
       "      <td>0</td>\n",
       "      <td>0</td>\n",
       "      <td>1</td>\n",
       "      <td>[{{-0.238139, -0.498327, -0.0209764, -0.16195...</td>\n",
       "    </tr>\n",
       "    <tr>\n",
       "      <th>...</th>\n",
       "      <td>...</td>\n",
       "      <td>...</td>\n",
       "      <td>...</td>\n",
       "      <td>...</td>\n",
       "      <td>...</td>\n",
       "      <td>...</td>\n",
       "      <td>...</td>\n",
       "      <td>...</td>\n",
       "      <td>...</td>\n",
       "      <td>...</td>\n",
       "      <td>...</td>\n",
       "      <td>...</td>\n",
       "      <td>...</td>\n",
       "      <td>...</td>\n",
       "      <td>...</td>\n",
       "      <td>...</td>\n",
       "      <td>...</td>\n",
       "      <td>...</td>\n",
       "      <td>...</td>\n",
       "      <td>...</td>\n",
       "    </tr>\n",
       "    <tr>\n",
       "      <th>458715</th>\n",
       "      <td>38.2624</td>\n",
       "      <td>1.076520</td>\n",
       "      <td>4.280160</td>\n",
       "      <td>0.837287</td>\n",
       "      <td>1.030040</td>\n",
       "      <td>1.354330</td>\n",
       "      <td>2.0</td>\n",
       "      <td>3.595560e-04</td>\n",
       "      <td>0.096017</td>\n",
       "      <td>0.102977</td>\n",
       "      <td>5.67967</td>\n",
       "      <td>1.0</td>\n",
       "      <td>2.0</td>\n",
       "      <td>0.021131</td>\n",
       "      <td>1.881380</td>\n",
       "      <td>0.754975</td>\n",
       "      <td>0</td>\n",
       "      <td>1</td>\n",
       "      <td>0</td>\n",
       "      <td>[{{-0.00085676, -0.00729374, -0.126886, -0.04...</td>\n",
       "    </tr>\n",
       "    <tr>\n",
       "      <th>458716</th>\n",
       "      <td>26.9991</td>\n",
       "      <td>-1.842880</td>\n",
       "      <td>0.873438</td>\n",
       "      <td>0.951756</td>\n",
       "      <td>1.867080</td>\n",
       "      <td>0.165320</td>\n",
       "      <td>0.0</td>\n",
       "      <td>9.324860e-03</td>\n",
       "      <td>0.139642</td>\n",
       "      <td>0.188941</td>\n",
       "      <td>26.00780</td>\n",
       "      <td>1.0</td>\n",
       "      <td>2.0</td>\n",
       "      <td>4.624330</td>\n",
       "      <td>0.797176</td>\n",
       "      <td>0.463599</td>\n",
       "      <td>0</td>\n",
       "      <td>1</td>\n",
       "      <td>0</td>\n",
       "      <td>[{{-0.0360209, -0.0608207, 0.0194916, -0.0191...</td>\n",
       "    </tr>\n",
       "    <tr>\n",
       "      <th>458717</th>\n",
       "      <td>27.5957</td>\n",
       "      <td>-0.618959</td>\n",
       "      <td>2.081820</td>\n",
       "      <td>0.852374</td>\n",
       "      <td>1.934650</td>\n",
       "      <td>2.691350</td>\n",
       "      <td>2.0</td>\n",
       "      <td>5.753440e-04</td>\n",
       "      <td>0.072008</td>\n",
       "      <td>0.071996</td>\n",
       "      <td>27.30100</td>\n",
       "      <td>1.0</td>\n",
       "      <td>3.0</td>\n",
       "      <td>0.107310</td>\n",
       "      <td>1.161160</td>\n",
       "      <td>0.941296</td>\n",
       "      <td>0</td>\n",
       "      <td>1</td>\n",
       "      <td>0</td>\n",
       "      <td>[{{0.0252132, 0.0875218, -0.176529, -0.070535...</td>\n",
       "    </tr>\n",
       "    <tr>\n",
       "      <th>458718</th>\n",
       "      <td>26.2631</td>\n",
       "      <td>-0.230878</td>\n",
       "      <td>0.906961</td>\n",
       "      <td>0.506578</td>\n",
       "      <td>0.917184</td>\n",
       "      <td>2.258050</td>\n",
       "      <td>1.0</td>\n",
       "      <td>4.674780e-03</td>\n",
       "      <td>0.100409</td>\n",
       "      <td>0.050210</td>\n",
       "      <td>15.02400</td>\n",
       "      <td>1.0</td>\n",
       "      <td>2.0</td>\n",
       "      <td>0.108452</td>\n",
       "      <td>0.601236</td>\n",
       "      <td>0.642732</td>\n",
       "      <td>0</td>\n",
       "      <td>1</td>\n",
       "      <td>0</td>\n",
       "      <td>[{{-0.044976, -0.432072, -0.0443296, -0.01766...</td>\n",
       "    </tr>\n",
       "    <tr>\n",
       "      <th>458719</th>\n",
       "      <td>39.0720</td>\n",
       "      <td>1.611590</td>\n",
       "      <td>2.154230</td>\n",
       "      <td>1.461810</td>\n",
       "      <td>0.430612</td>\n",
       "      <td>2.245510</td>\n",
       "      <td>2.0</td>\n",
       "      <td>2.613690e-08</td>\n",
       "      <td>0.069886</td>\n",
       "      <td>0.111374</td>\n",
       "      <td>25.61940</td>\n",
       "      <td>1.0</td>\n",
       "      <td>2.0</td>\n",
       "      <td>0.088663</td>\n",
       "      <td>0.357871</td>\n",
       "      <td>0.327596</td>\n",
       "      <td>0</td>\n",
       "      <td>1</td>\n",
       "      <td>0</td>\n",
       "      <td>[{{0.0184589, -0.0362378, -0.221971, 0.061470...</td>\n",
       "    </tr>\n",
       "  </tbody>\n",
       "</table>\n",
       "<p>458720 rows × 20 columns</p>\n",
       "</div>"
      ],
      "text/plain": [
       "         jet_pt   jet_eta  track_2_d0_significance  track_3_d0_significance  \\\n",
       "0       32.2340 -0.643775                10.700800                 3.150200   \n",
       "1       27.1675 -1.765690                34.596800                30.913200   \n",
       "2       76.5242 -0.865873                 2.304720                 4.925830   \n",
       "3       65.7796 -0.596838                 6.958120                 2.081550   \n",
       "4       24.2995  0.184280                14.144600                 4.954620   \n",
       "...         ...       ...                      ...                      ...   \n",
       "458715  38.2624  1.076520                 4.280160                 0.837287   \n",
       "458716  26.9991 -1.842880                 0.873438                 0.951756   \n",
       "458717  27.5957 -0.618959                 2.081820                 0.852374   \n",
       "458718  26.2631 -0.230878                 0.906961                 0.506578   \n",
       "458719  39.0720  1.611590                 2.154230                 1.461810   \n",
       "\n",
       "        track_2_z0_significance  track_3_z0_significance  \\\n",
       "0                      0.954538                 2.443190   \n",
       "1                      0.163268                27.323300   \n",
       "2                      3.178780                 2.789300   \n",
       "3                      2.777960                 0.413344   \n",
       "4                      0.668378                 0.117590   \n",
       "...                         ...                      ...   \n",
       "458715                 1.030040                 1.354330   \n",
       "458716                 1.867080                 0.165320   \n",
       "458717                 1.934650                 2.691350   \n",
       "458718                 0.917184                 2.258050   \n",
       "458719                 0.430612                 2.245510   \n",
       "\n",
       "        n_tracks_over_d0_threshold      jet_prob  jet_width_eta  \\\n",
       "0                              3.0  4.913230e-06       0.067985   \n",
       "1                              3.0  2.576370e-16       0.078479   \n",
       "2                              3.0  8.453530e-06       0.050667   \n",
       "3                              3.0  5.666940e-08       0.119558   \n",
       "4                              4.0  1.145500e-09       0.135787   \n",
       "...                            ...           ...            ...   \n",
       "458715                         2.0  3.595560e-04       0.096017   \n",
       "458716                         0.0  9.324860e-03       0.139642   \n",
       "458717                         2.0  5.753440e-04       0.072008   \n",
       "458718                         1.0  4.674780e-03       0.100409   \n",
       "458719                         2.0  2.613690e-08       0.069886   \n",
       "\n",
       "        jet_width_phi  vertex_significance  n_secondary_vertices  \\\n",
       "0            0.048788             84.13960                   1.0   \n",
       "1            0.105953            232.56700                   1.0   \n",
       "2            0.073102             64.10110                   1.0   \n",
       "3            0.086531             30.68700                   1.0   \n",
       "4            0.086738            141.32700                   2.0   \n",
       "...               ...                  ...                   ...   \n",
       "458715       0.102977              5.67967                   1.0   \n",
       "458716       0.188941             26.00780                   1.0   \n",
       "458717       0.071996             27.30100                   1.0   \n",
       "458718       0.050210             15.02400                   1.0   \n",
       "458719       0.111374             25.61940                   1.0   \n",
       "\n",
       "        n_secondary_vertex_tracks  delta_r_vertex  vertex_mass  \\\n",
       "0                             3.0        0.060169     1.687200   \n",
       "1                             2.0        0.100039     0.302106   \n",
       "2                             3.0        0.041544     1.089930   \n",
       "3                             2.0        0.074565     0.806820   \n",
       "4                             8.0        0.045288     2.312110   \n",
       "...                           ...             ...          ...   \n",
       "458715                        2.0        0.021131     1.881380   \n",
       "458716                        2.0        4.624330     0.797176   \n",
       "458717                        3.0        0.107310     1.161160   \n",
       "458718                        2.0        0.108452     0.601236   \n",
       "458719                        2.0        0.088663     0.357871   \n",
       "\n",
       "        vertex_energy_fraction  Light_Jet  Charm_Jet  Bottom_Jet  \\\n",
       "0                     0.999864          0          0           1   \n",
       "1                     0.097107          0          0           1   \n",
       "2                     0.646448          0          0           1   \n",
       "3                     0.290825          0          0           1   \n",
       "4                     1.714390          0          0           1   \n",
       "...                        ...        ...        ...         ...   \n",
       "458715                0.754975          0          1           0   \n",
       "458716                0.463599          0          1           0   \n",
       "458717                0.941296          0          1           0   \n",
       "458718                0.642732          0          1           0   \n",
       "458719                0.327596          0          1           0   \n",
       "\n",
       "                                                       17  \n",
       "0        [{{-0.215808, -0.116363, -0.00300674, 0.01526...  \n",
       "1        [{{0.865832, -0.0154666, -0.0470188, 0.004403...  \n",
       "2        [{{-0.0305462, 0.276271, 0.0221988, -0.021539...  \n",
       "3        [{{-0.0536946, -0.0232979, -0.172776, -0.1518...  \n",
       "4        [{{-0.238139, -0.498327, -0.0209764, -0.16195...  \n",
       "...                                                   ...  \n",
       "458715   [{{-0.00085676, -0.00729374, -0.126886, -0.04...  \n",
       "458716   [{{-0.0360209, -0.0608207, 0.0194916, -0.0191...  \n",
       "458717   [{{0.0252132, 0.0875218, -0.176529, -0.070535...  \n",
       "458718   [{{-0.044976, -0.432072, -0.0443296, -0.01766...  \n",
       "458719   [{{0.0184589, -0.0362378, -0.221971, 0.061470...  \n",
       "\n",
       "[458720 rows x 20 columns]"
      ]
     },
     "execution_count": 4,
     "metadata": {},
     "output_type": "execute_result"
    }
   ],
   "source": [
    "df"
   ]
  },
  {
   "cell_type": "code",
   "execution_count": 4,
   "metadata": {},
   "outputs": [],
   "source": [
    "x= df.values"
   ]
  },
  {
   "cell_type": "code",
   "execution_count": 5,
   "metadata": {},
   "outputs": [
    {
     "data": {
      "text/plain": [
       "(458720, 15, 7)"
      ]
     },
     "execution_count": 5,
     "metadata": {},
     "output_type": "execute_result"
    }
   ],
   "source": [
    "features = np.zeros([length,15,7])\n",
    "features.shape"
   ]
  },
  {
   "cell_type": "code",
   "execution_count": 6,
   "metadata": {},
   "outputs": [],
   "source": [
    "features = x[:,0:16]"
   ]
  },
  {
   "cell_type": "code",
   "execution_count": 33,
   "metadata": {},
   "outputs": [
    {
     "data": {
      "text/plain": [
       "array([2.84141e+01, 2.27459e+00, 1.02997e+01, 1.02035e+01, 1.24896e+01,\n",
       "       1.54875e+01, 5.00000e+00, 5.62798e-13, 1.48365e-01, 1.34626e-01,\n",
       "       7.27073e+01, 1.00000e+00, 3.00000e+00, 5.40790e-02, 5.58893e-01,\n",
       "       7.15804e-01])"
      ]
     },
     "execution_count": 33,
     "metadata": {},
     "output_type": "execute_result"
    }
   ],
   "source": [
    "features[0]"
   ]
  },
  {
   "cell_type": "code",
   "execution_count": null,
   "metadata": {},
   "outputs": [],
   "source": [
    "x[:,19][4]"
   ]
  },
  {
   "cell_type": "code",
   "execution_count": 7,
   "metadata": {
    "scrolled": true
   },
   "outputs": [
    {
     "name": "stderr",
     "output_type": "stream",
     "text": [
      "  0%|          | 0/458720 [00:00<?, ?it/s]/home/anrunw/anaconda3/envs/tensorflow/lib/python3.7/site-packages/ipykernel_launcher.py:13: VisibleDeprecationWarning: Creating an ndarray from ragged nested sequences (which is a list-or-tuple of lists-or-tuples-or ndarrays with different lengths or shapes) is deprecated. If you meant to do this, you must specify 'dtype=object' when creating the ndarray\n",
      "  del sys.path[0]\n",
      "100%|██████████| 458720/458720 [03:40<00:00, 2083.22it/s]\n"
     ]
    }
   ],
   "source": [
    "num = 0\n",
    "exceptions = 0\n",
    "for z in tqdm(x):\n",
    "    try:\n",
    "        k = z[19]\n",
    "        k = k.replace(' ', '')\n",
    "        k = k.replace('{','[')\n",
    "        k = k.replace('}',']')\n",
    "        k = k.replace('nan', '0')\n",
    "        k = k.replace('inf', '0')\n",
    "        k = k.replace('-inf', '0')\n",
    "        k = k.replace('-1','0')\n",
    "        k = np.array(ast.literal_eval(k))\n",
    "        num1 = 0\n",
    "        for p in k:\n",
    "            num4 = 0\n",
    "            for g in np.array(p[3]):\n",
    "                features[num][num1][num4] = g\n",
    "                num4 = num4 + 1\n",
    "            num1 = num1 + 1\n",
    "    except:\n",
    "        exceptions = exceptions + 1\n",
    "        pass\n",
    "    num = num + 1"
   ]
  },
  {
   "cell_type": "code",
   "execution_count": null,
   "metadata": {},
   "outputs": [],
   "source": [
    "exceptions"
   ]
  },
  {
   "cell_type": "code",
   "execution_count": 27,
   "metadata": {},
   "outputs": [
    {
     "data": {
      "text/plain": [
       "array([[32.234, -0.643775, 10.7008, ..., 0.0601691, 1.6872, 0.999864],\n",
       "       [27.1675, -1.76569, 34.5968, ..., 0.100039, 0.302106, 0.097107],\n",
       "       [76.5242, -0.865873, 2.30472, ..., 0.041544, 1.08993, 0.646448],\n",
       "       ...,\n",
       "       [27.5957, -0.618959, 2.08182, ..., 0.10731, 1.16116, 0.941296],\n",
       "       [26.2631, -0.230878, 0.906961, ..., 0.108452, 0.601236, 0.642732],\n",
       "       [39.072, 1.61159, 2.15423, ..., 0.0886626, 0.357871, 0.327596]],\n",
       "      dtype=object)"
      ]
     },
     "execution_count": 27,
     "metadata": {},
     "output_type": "execute_result"
    }
   ],
   "source": []
  },
  {
   "cell_type": "code",
   "execution_count": 7,
   "metadata": {},
   "outputs": [],
   "source": [
    "labels = x[:,16:19]"
   ]
  },
  {
   "cell_type": "code",
   "execution_count": 8,
   "metadata": {},
   "outputs": [
    {
     "data": {
      "text/plain": [
       "array([[0, 0, 1],\n",
       "       [0, 0, 1],\n",
       "       [0, 0, 1],\n",
       "       ...,\n",
       "       [0, 1, 0],\n",
       "       [0, 1, 0],\n",
       "       [0, 1, 0]], dtype=object)"
      ]
     },
     "execution_count": 8,
     "metadata": {},
     "output_type": "execute_result"
    }
   ],
   "source": [
    "labels"
   ]
  },
  {
   "cell_type": "code",
   "execution_count": 9,
   "metadata": {},
   "outputs": [],
   "source": [
    "lab = np.zeros((length,1))"
   ]
  },
  {
   "cell_type": "code",
   "execution_count": 10,
   "metadata": {},
   "outputs": [
    {
     "data": {
      "text/plain": [
       "array([0, 0, 0, ..., 0, 0, 0], dtype=object)"
      ]
     },
     "execution_count": 10,
     "metadata": {},
     "output_type": "execute_result"
    }
   ],
   "source": [
    "x[:,16]"
   ]
  },
  {
   "cell_type": "code",
   "execution_count": 11,
   "metadata": {},
   "outputs": [
    {
     "data": {
      "text/plain": [
       "array([[0, 0, 1],\n",
       "       [0, 0, 1],\n",
       "       [0, 0, 1],\n",
       "       ...,\n",
       "       [0, 1, 0],\n",
       "       [0, 1, 0],\n",
       "       [0, 1, 0]], dtype=object)"
      ]
     },
     "execution_count": 11,
     "metadata": {},
     "output_type": "execute_result"
    }
   ],
   "source": [
    "x[:,16:19]"
   ]
  },
  {
   "cell_type": "code",
   "execution_count": 12,
   "metadata": {},
   "outputs": [
    {
     "data": {
      "text/plain": [
       "array([[0, 0, 1],\n",
       "       [0, 0, 1],\n",
       "       [0, 0, 1],\n",
       "       ...,\n",
       "       [0, 1, 0],\n",
       "       [0, 1, 0],\n",
       "       [0, 1, 0]], dtype=object)"
      ]
     },
     "execution_count": 12,
     "metadata": {},
     "output_type": "execute_result"
    }
   ],
   "source": [
    "labels"
   ]
  },
  {
   "cell_type": "code",
   "execution_count": 13,
   "metadata": {},
   "outputs": [],
   "source": [
    "num = 0\n",
    "for g in labels:\n",
    "    if g[2] == 1:\n",
    "        lab[num][0] = 1\n",
    "    num = num + 1"
   ]
  },
  {
   "cell_type": "code",
   "execution_count": 14,
   "metadata": {},
   "outputs": [
    {
     "data": {
      "text/plain": [
       "array([[1.],\n",
       "       [1.],\n",
       "       [1.],\n",
       "       ...,\n",
       "       [0.],\n",
       "       [0.],\n",
       "       [0.]])"
      ]
     },
     "execution_count": 14,
     "metadata": {},
     "output_type": "execute_result"
    }
   ],
   "source": [
    "lab"
   ]
  },
  {
   "cell_type": "code",
   "execution_count": null,
   "metadata": {},
   "outputs": [],
   "source": [
    "feature = df.values[:,0:16]"
   ]
  },
  {
   "cell_type": "code",
   "execution_count": null,
   "metadata": {},
   "outputs": [],
   "source": [
    "lab.shape"
   ]
  },
  {
   "cell_type": "code",
   "execution_count": null,
   "metadata": {},
   "outputs": [],
   "source": [
    "len(features)"
   ]
  },
  {
   "cell_type": "code",
   "execution_count": null,
   "metadata": {},
   "outputs": [],
   "source": [
    "labels = df.values[:,16:19]"
   ]
  },
  {
   "cell_type": "code",
   "execution_count": null,
   "metadata": {},
   "outputs": [],
   "source": [
    "labels"
   ]
  },
  {
   "cell_type": "code",
   "execution_count": null,
   "metadata": {},
   "outputs": [],
   "source": [
    "df.columns = ['j_pt', 'j_eta', 'flavor', 'high_level_track','high_level_vertex','track_variables']"
   ]
  },
  {
   "cell_type": "code",
   "execution_count": null,
   "metadata": {},
   "outputs": [],
   "source": [
    "df"
   ]
  },
  {
   "cell_type": "code",
   "execution_count": null,
   "metadata": {},
   "outputs": [],
   "source": [
    "length = len(df)\n",
    "featuresnum = 16"
   ]
  },
  {
   "cell_type": "code",
   "execution_count": null,
   "metadata": {},
   "outputs": [],
   "source": [
    "features = np.zeros([length,featuresnum])"
   ]
  },
  {
   "cell_type": "code",
   "execution_count": null,
   "metadata": {},
   "outputs": [],
   "source": [
    "z = df.values"
   ]
  },
  {
   "cell_type": "code",
   "execution_count": null,
   "metadata": {},
   "outputs": [],
   "source": [
    "z[:,0].shape"
   ]
  },
  {
   "cell_type": "code",
   "execution_count": null,
   "metadata": {},
   "outputs": [],
   "source": [
    "labmatrix = np.zeros([length,1])"
   ]
  },
  {
   "cell_type": "markdown",
   "metadata": {},
   "source": [
    "Makes a label matrix"
   ]
  },
  {
   "cell_type": "code",
   "execution_count": null,
   "metadata": {},
   "outputs": [],
   "source": [
    "num = 0\n",
    "for e in z:\n",
    "    labmatrix[num] = e[2]\n",
    "    num = num+1"
   ]
  },
  {
   "cell_type": "code",
   "execution_count": null,
   "metadata": {},
   "outputs": [],
   "source": [
    "labmatrix"
   ]
  },
  {
   "cell_type": "markdown",
   "metadata": {},
   "source": [
    "one-hot encodes labels"
   ]
  },
  {
   "cell_type": "code",
   "execution_count": null,
   "metadata": {},
   "outputs": [],
   "source": [
    "lab = np.zeros([length,3])\n",
    "num = 0\n",
    "for x in labmatrix:\n",
    "    if x == 0:\n",
    "        lab[num][0]= 1\n",
    "    elif x == 4:\n",
    "        lab[num][1] = 1\n",
    "    else:\n",
    "        lab[num][2] = 1\n",
    "    num = num + 1"
   ]
  },
  {
   "cell_type": "code",
   "execution_count": null,
   "metadata": {},
   "outputs": [],
   "source": [
    "lab"
   ]
  },
  {
   "cell_type": "markdown",
   "metadata": {},
   "source": [
    "Appends all Pt values into matrix"
   ]
  },
  {
   "cell_type": "code",
   "execution_count": null,
   "metadata": {},
   "outputs": [],
   "source": [
    "num = 0\n",
    "for e in z:\n",
    "    features[num][0] = e[0]\n",
    "    num = num+1"
   ]
  },
  {
   "cell_type": "code",
   "execution_count": null,
   "metadata": {},
   "outputs": [],
   "source": [
    "features"
   ]
  },
  {
   "cell_type": "markdown",
   "metadata": {},
   "source": [
    "Appends eta values into matrix"
   ]
  },
  {
   "cell_type": "code",
   "execution_count": null,
   "metadata": {},
   "outputs": [],
   "source": [
    "num = 0 \n",
    "for e in z:\n",
    "    features[num][1] = e[1]\n",
    "    num = num+1"
   ]
  },
  {
   "cell_type": "code",
   "execution_count": null,
   "metadata": {},
   "outputs": [],
   "source": [
    "features"
   ]
  },
  {
   "cell_type": "code",
   "execution_count": null,
   "metadata": {},
   "outputs": [],
   "source": []
  },
  {
   "cell_type": "markdown",
   "metadata": {},
   "source": [
    "Appends all high level tracking variables"
   ]
  },
  {
   "cell_type": "code",
   "execution_count": null,
   "metadata": {},
   "outputs": [],
   "source": [
    "num = 0\n",
    "\n",
    "for e in z:\n",
    "    num2 = 2\n",
    "    for var in e[3]:\n",
    "        features[num][num2] = var\n",
    "        num2 = num2+1\n",
    "    num = num+1"
   ]
  },
  {
   "cell_type": "code",
   "execution_count": null,
   "metadata": {},
   "outputs": [],
   "source": [
    "features[2]"
   ]
  },
  {
   "cell_type": "markdown",
   "metadata": {},
   "source": [
    "Appends all high level vertex variables"
   ]
  },
  {
   "cell_type": "code",
   "execution_count": null,
   "metadata": {},
   "outputs": [],
   "source": [
    "num = 0\n",
    "\n",
    "for e in z:\n",
    "    num2 = 10\n",
    "    for var in e[4]:\n",
    "        features[num][num2] = var\n",
    "        num2 = num2+1\n",
    "    num = num+1"
   ]
  },
  {
   "cell_type": "code",
   "execution_count": null,
   "metadata": {},
   "outputs": [],
   "source": [
    "len(features)"
   ]
  },
  {
   "cell_type": "markdown",
   "metadata": {},
   "source": [
    "normalizes matrix with SD of 1\n"
   ]
  },
  {
   "cell_type": "code",
   "execution_count": 15,
   "metadata": {},
   "outputs": [],
   "source": [
    "normfeatures = np.zeros([length,15,7])"
   ]
  },
  {
   "cell_type": "code",
   "execution_count": 16,
   "metadata": {},
   "outputs": [
    {
     "data": {
      "text/plain": [
       "(458720, 15, 7)"
      ]
     },
     "execution_count": 16,
     "metadata": {},
     "output_type": "execute_result"
    }
   ],
   "source": [
    "normfeatures.shape"
   ]
  },
  {
   "cell_type": "code",
   "execution_count": 17,
   "metadata": {},
   "outputs": [],
   "source": [
    "transpose = features.transpose()"
   ]
  },
  {
   "cell_type": "code",
   "execution_count": null,
   "metadata": {},
   "outputs": [],
   "source": [
    "features"
   ]
  },
  {
   "cell_type": "code",
   "execution_count": 18,
   "metadata": {},
   "outputs": [
    {
     "ename": "ValueError",
     "evalue": "could not broadcast input array from shape (458720) into shape (7)",
     "output_type": "error",
     "traceback": [
      "\u001b[0;31m---------------------------------------------------------------------------\u001b[0m",
      "\u001b[0;31mValueError\u001b[0m                                Traceback (most recent call last)",
      "\u001b[0;32m<ipython-input-18-3ef28e941d78>\u001b[0m in \u001b[0;36m<module>\u001b[0;34m\u001b[0m\n\u001b[1;32m      4\u001b[0m     \u001b[0mnum2\u001b[0m \u001b[0;34m=\u001b[0m \u001b[0;36m0\u001b[0m\u001b[0;34m\u001b[0m\u001b[0;34m\u001b[0m\u001b[0m\n\u001b[1;32m      5\u001b[0m     \u001b[0;32mfor\u001b[0m \u001b[0me\u001b[0m \u001b[0;32min\u001b[0m \u001b[0mg\u001b[0m\u001b[0;34m:\u001b[0m\u001b[0;34m\u001b[0m\u001b[0;34m\u001b[0m\u001b[0m\n\u001b[0;32m----> 6\u001b[0;31m         \u001b[0mnormfeatures\u001b[0m\u001b[0;34m[\u001b[0m\u001b[0mnum2\u001b[0m\u001b[0;34m,\u001b[0m\u001b[0mnum\u001b[0m\u001b[0;34m]\u001b[0m \u001b[0;34m=\u001b[0m \u001b[0me\u001b[0m\u001b[0;34m\u001b[0m\u001b[0;34m\u001b[0m\u001b[0m\n\u001b[0m\u001b[1;32m      7\u001b[0m         \u001b[0mnum2\u001b[0m \u001b[0;34m=\u001b[0m \u001b[0mnum2\u001b[0m\u001b[0;34m+\u001b[0m\u001b[0;36m1\u001b[0m\u001b[0;34m\u001b[0m\u001b[0;34m\u001b[0m\u001b[0m\n\u001b[1;32m      8\u001b[0m     \u001b[0mnum\u001b[0m \u001b[0;34m=\u001b[0m \u001b[0mnum\u001b[0m\u001b[0;34m+\u001b[0m\u001b[0;36m1\u001b[0m\u001b[0;34m\u001b[0m\u001b[0;34m\u001b[0m\u001b[0m\n",
      "\u001b[0;31mValueError\u001b[0m: could not broadcast input array from shape (458720) into shape (7)"
     ]
    }
   ],
   "source": [
    "num = 0\n",
    "for column in transpose:\n",
    "    g = (column - np.mean(column))/np.std(column)\n",
    "    num2 = 0\n",
    "    for e in g:\n",
    "        normfeatures[num2,num] = e\n",
    "        num2 = num2+1\n",
    "    num = num+1\n",
    "        "
   ]
  },
  {
   "cell_type": "code",
   "execution_count": null,
   "metadata": {},
   "outputs": [],
   "source": [
    "normfeatures = np.nan_to_num(normfeatures,copy=True)"
   ]
  },
  {
   "cell_type": "code",
   "execution_count": null,
   "metadata": {},
   "outputs": [],
   "source": [
    "normfeatures.shape"
   ]
  },
  {
   "cell_type": "code",
   "execution_count": 42,
   "metadata": {},
   "outputs": [],
   "source": [
    "X_train, X_test, y_train, y_test = train_test_split(features,lab, test_size = 0.2, random_state = 42)\n"
   ]
  },
  {
   "cell_type": "code",
   "execution_count": 26,
   "metadata": {},
   "outputs": [
    {
     "data": {
      "text/plain": [
       "array([[25.6116, -1.95917, 20.8794, ..., 0.160423, 1.98638, 1.14442],\n",
       "       [30.2809, 0.311277, 0.92203, ..., 0.461915, 1.45516, 0.607637],\n",
       "       [34.4223, 0.25858, 4.59314, ..., 0.074726, 0.93278, 0.569288],\n",
       "       ...,\n",
       "       [37.4974, -0.0649543, 14.5853, ..., 0.0283417, 2.23829, 0.841346],\n",
       "       [30.6886, -0.0227608, 3.38495, ..., 0.0560654, 2.06787, 0.567753],\n",
       "       [23.8499, -1.39011, 8.21154, ..., 0.187989, 1.32974, 0.322062]],\n",
       "      dtype=object)"
      ]
     },
     "execution_count": 26,
     "metadata": {},
     "output_type": "execute_result"
    }
   ],
   "source": [
    "X_train"
   ]
  },
  {
   "cell_type": "code",
   "execution_count": 59,
   "metadata": {
    "scrolled": true
   },
   "outputs": [
    {
     "name": "stdout",
     "output_type": "stream",
     "text": [
      "Model: \"model_7\"\n",
      "_________________________________________________________________\n",
      "Layer (type)                 Output Shape              Param #   \n",
      "=================================================================\n",
      "input_8 (InputLayer)         [(None, 16)]              0         \n",
      "_________________________________________________________________\n",
      "fc1_relu (Dense)             (None, 256)               4352      \n",
      "_________________________________________________________________\n",
      "dropout_34 (Dropout)         (None, 256)               0         \n",
      "_________________________________________________________________\n",
      "fc2 (Dense)                  (None, 128)               32896     \n",
      "_________________________________________________________________\n",
      "dropout_35 (Dropout)         (None, 128)               0         \n",
      "_________________________________________________________________\n",
      "fc3 (Dense)                  (None, 64)                8256      \n",
      "_________________________________________________________________\n",
      "dropout_36 (Dropout)         (None, 64)                0         \n",
      "_________________________________________________________________\n",
      "fc4 (Dense)                  (None, 32)                2080      \n",
      "_________________________________________________________________\n",
      "dropout_37 (Dropout)         (None, 32)                0         \n",
      "_________________________________________________________________\n",
      "fc7 (Dense)                  (None, 16)                528       \n",
      "_________________________________________________________________\n",
      "output_sigmoid (Dense)       (None, 1)                 17        \n",
      "=================================================================\n",
      "Total params: 48,129\n",
      "Trainable params: 48,129\n",
      "Non-trainable params: 0\n",
      "_________________________________________________________________\n"
     ]
    }
   ],
   "source": [
    "Inputs = Input(shape=16)\n",
    "x = Dense(256, activation='relu', kernel_initializer='lecun_uniform', name='fc1_relu')(Inputs)\n",
    "x= Dropout(rate = 0.5)(x)\n",
    "x = Dense(128, activation='relu', kernel_initializer='lecun_uniform', name = 'fc2')(x)\n",
    "x= Dropout(rate = 0.5)(x)\n",
    "x = Dense(64, activation='relu', kernel_initializer='lecun_uniform', name = 'fc3')(x)\n",
    "x= Dropout(rate = 0.5)(x)\n",
    "x = Dense(32, activation='relu', kernel_initializer='lecun_uniform', name='fc4')(x)\n",
    "x= Dropout(rate = 0.5)(x)\n",
    "x = Dense(16, activation='relu', kernel_initializer='lecun_uniform', name='fc7')(x)\n",
    "predictions = Dense(1, activation='sigmoid', kernel_initializer='lecun_uniform', name = 'output_sigmoid')(x)\n",
    "model = Model(inputs=Inputs, outputs=predictions)\n",
    "model.summary()"
   ]
  },
  {
   "cell_type": "code",
   "execution_count": 60,
   "metadata": {},
   "outputs": [],
   "source": [
    "adam = Adam(lr=0.002)\n",
    "model.compile(optimizer=adam, loss='binary_crossentropy', metrics=['accuracy'])"
   ]
  },
  {
   "cell_type": "code",
   "execution_count": 72,
   "metadata": {},
   "outputs": [
    {
     "name": "stdout",
     "output_type": "stream",
     "text": [
      "Epoch 1/10\n",
      "833/833 [==============================] - 49s 59ms/step - loss: 0.3932 - accuracy: 0.8263 - val_loss: 0.3918 - val_accuracy: 0.8319\n",
      "Epoch 2/10\n",
      "833/833 [==============================] - 65s 79ms/step - loss: 0.3923 - accuracy: 0.8266 - val_loss: 0.3994 - val_accuracy: 0.8263\n",
      "Epoch 3/10\n",
      "833/833 [==============================] - 83s 99ms/step - loss: 0.3920 - accuracy: 0.8271 - val_loss: 0.4031 - val_accuracy: 0.8253\n",
      "Epoch 4/10\n",
      "833/833 [==============================] - 46s 56ms/step - loss: 0.3911 - accuracy: 0.8276 - val_loss: 0.3878 - val_accuracy: 0.8302\n",
      "Epoch 5/10\n",
      "833/833 [==============================] - 37s 44ms/step - loss: 0.3902 - accuracy: 0.8276 - val_loss: 0.3939 - val_accuracy: 0.8307\n",
      "Epoch 6/10\n",
      "833/833 [==============================] - 46s 56ms/step - loss: 0.3903 - accuracy: 0.8280 - val_loss: 0.3947 - val_accuracy: 0.8294\n",
      "Epoch 7/10\n",
      " 56/833 [=>............................] - ETA: 35s - loss: 0.3878 - accuracy: 0.8297"
     ]
    },
    {
     "ename": "KeyboardInterrupt",
     "evalue": "",
     "output_type": "error",
     "traceback": [
      "\u001b[0;31m---------------------------------------------------------------------------\u001b[0m",
      "\u001b[0;31mKeyboardInterrupt\u001b[0m                         Traceback (most recent call last)",
      "\u001b[0;32m<ipython-input-72-5b7d32388581>\u001b[0m in \u001b[0;36m<module>\u001b[0;34m\u001b[0m\n\u001b[1;32m      1\u001b[0m history = model.fit(X_train, y_train, batch_size = 1024, epochs = 10, \n\u001b[1;32m      2\u001b[0m                     \u001b[0mvalidation_split\u001b[0m \u001b[0;34m=\u001b[0m \u001b[0;36m0.25\u001b[0m\u001b[0;34m,\u001b[0m \u001b[0mshuffle\u001b[0m \u001b[0;34m=\u001b[0m \u001b[0;32mTrue\u001b[0m\u001b[0;34m,\u001b[0m \u001b[0mcallbacks\u001b[0m \u001b[0;34m=\u001b[0m \u001b[0;32mNone\u001b[0m\u001b[0;34m,\u001b[0m\u001b[0;34m\u001b[0m\u001b[0;34m\u001b[0m\u001b[0m\n\u001b[0;32m----> 3\u001b[0;31m                     use_multiprocessing=True, workers=4)\n\u001b[0m",
      "\u001b[0;32m~/anaconda3/envs/tensorflow/lib/python3.7/site-packages/tensorflow/python/keras/engine/training.py\u001b[0m in \u001b[0;36m_method_wrapper\u001b[0;34m(self, *args, **kwargs)\u001b[0m\n\u001b[1;32m     64\u001b[0m   \u001b[0;32mdef\u001b[0m \u001b[0m_method_wrapper\u001b[0m\u001b[0;34m(\u001b[0m\u001b[0mself\u001b[0m\u001b[0;34m,\u001b[0m \u001b[0;34m*\u001b[0m\u001b[0margs\u001b[0m\u001b[0;34m,\u001b[0m \u001b[0;34m**\u001b[0m\u001b[0mkwargs\u001b[0m\u001b[0;34m)\u001b[0m\u001b[0;34m:\u001b[0m\u001b[0;34m\u001b[0m\u001b[0;34m\u001b[0m\u001b[0m\n\u001b[1;32m     65\u001b[0m     \u001b[0;32mif\u001b[0m \u001b[0;32mnot\u001b[0m \u001b[0mself\u001b[0m\u001b[0;34m.\u001b[0m\u001b[0m_in_multi_worker_mode\u001b[0m\u001b[0;34m(\u001b[0m\u001b[0;34m)\u001b[0m\u001b[0;34m:\u001b[0m  \u001b[0;31m# pylint: disable=protected-access\u001b[0m\u001b[0;34m\u001b[0m\u001b[0;34m\u001b[0m\u001b[0m\n\u001b[0;32m---> 66\u001b[0;31m       \u001b[0;32mreturn\u001b[0m \u001b[0mmethod\u001b[0m\u001b[0;34m(\u001b[0m\u001b[0mself\u001b[0m\u001b[0;34m,\u001b[0m \u001b[0;34m*\u001b[0m\u001b[0margs\u001b[0m\u001b[0;34m,\u001b[0m \u001b[0;34m**\u001b[0m\u001b[0mkwargs\u001b[0m\u001b[0;34m)\u001b[0m\u001b[0;34m\u001b[0m\u001b[0;34m\u001b[0m\u001b[0m\n\u001b[0m\u001b[1;32m     67\u001b[0m \u001b[0;34m\u001b[0m\u001b[0m\n\u001b[1;32m     68\u001b[0m     \u001b[0;31m# Running inside `run_distribute_coordinator` already.\u001b[0m\u001b[0;34m\u001b[0m\u001b[0;34m\u001b[0m\u001b[0;34m\u001b[0m\u001b[0m\n",
      "\u001b[0;32m~/anaconda3/envs/tensorflow/lib/python3.7/site-packages/tensorflow/python/keras/engine/training.py\u001b[0m in \u001b[0;36mfit\u001b[0;34m(self, x, y, batch_size, epochs, verbose, callbacks, validation_split, validation_data, shuffle, class_weight, sample_weight, initial_epoch, steps_per_epoch, validation_steps, validation_batch_size, validation_freq, max_queue_size, workers, use_multiprocessing)\u001b[0m\n\u001b[1;32m    846\u001b[0m                 batch_size=batch_size):\n\u001b[1;32m    847\u001b[0m               \u001b[0mcallbacks\u001b[0m\u001b[0;34m.\u001b[0m\u001b[0mon_train_batch_begin\u001b[0m\u001b[0;34m(\u001b[0m\u001b[0mstep\u001b[0m\u001b[0;34m)\u001b[0m\u001b[0;34m\u001b[0m\u001b[0;34m\u001b[0m\u001b[0m\n\u001b[0;32m--> 848\u001b[0;31m               \u001b[0mtmp_logs\u001b[0m \u001b[0;34m=\u001b[0m \u001b[0mtrain_function\u001b[0m\u001b[0;34m(\u001b[0m\u001b[0miterator\u001b[0m\u001b[0;34m)\u001b[0m\u001b[0;34m\u001b[0m\u001b[0;34m\u001b[0m\u001b[0m\n\u001b[0m\u001b[1;32m    849\u001b[0m               \u001b[0;31m# Catch OutOfRangeError for Datasets of unknown size.\u001b[0m\u001b[0;34m\u001b[0m\u001b[0;34m\u001b[0m\u001b[0;34m\u001b[0m\u001b[0m\n\u001b[1;32m    850\u001b[0m               \u001b[0;31m# This blocks until the batch has finished executing.\u001b[0m\u001b[0;34m\u001b[0m\u001b[0;34m\u001b[0m\u001b[0;34m\u001b[0m\u001b[0m\n",
      "\u001b[0;32m~/anaconda3/envs/tensorflow/lib/python3.7/site-packages/tensorflow/python/eager/def_function.py\u001b[0m in \u001b[0;36m__call__\u001b[0;34m(self, *args, **kwds)\u001b[0m\n\u001b[1;32m    578\u001b[0m         \u001b[0mxla_context\u001b[0m\u001b[0;34m.\u001b[0m\u001b[0mExit\u001b[0m\u001b[0;34m(\u001b[0m\u001b[0;34m)\u001b[0m\u001b[0;34m\u001b[0m\u001b[0;34m\u001b[0m\u001b[0m\n\u001b[1;32m    579\u001b[0m     \u001b[0;32melse\u001b[0m\u001b[0;34m:\u001b[0m\u001b[0;34m\u001b[0m\u001b[0;34m\u001b[0m\u001b[0m\n\u001b[0;32m--> 580\u001b[0;31m       \u001b[0mresult\u001b[0m \u001b[0;34m=\u001b[0m \u001b[0mself\u001b[0m\u001b[0;34m.\u001b[0m\u001b[0m_call\u001b[0m\u001b[0;34m(\u001b[0m\u001b[0;34m*\u001b[0m\u001b[0margs\u001b[0m\u001b[0;34m,\u001b[0m \u001b[0;34m**\u001b[0m\u001b[0mkwds\u001b[0m\u001b[0;34m)\u001b[0m\u001b[0;34m\u001b[0m\u001b[0;34m\u001b[0m\u001b[0m\n\u001b[0m\u001b[1;32m    581\u001b[0m \u001b[0;34m\u001b[0m\u001b[0m\n\u001b[1;32m    582\u001b[0m     \u001b[0;32mif\u001b[0m \u001b[0mtracing_count\u001b[0m \u001b[0;34m==\u001b[0m \u001b[0mself\u001b[0m\u001b[0;34m.\u001b[0m\u001b[0m_get_tracing_count\u001b[0m\u001b[0;34m(\u001b[0m\u001b[0;34m)\u001b[0m\u001b[0;34m:\u001b[0m\u001b[0;34m\u001b[0m\u001b[0;34m\u001b[0m\u001b[0m\n",
      "\u001b[0;32m~/anaconda3/envs/tensorflow/lib/python3.7/site-packages/tensorflow/python/eager/def_function.py\u001b[0m in \u001b[0;36m_call\u001b[0;34m(self, *args, **kwds)\u001b[0m\n\u001b[1;32m    609\u001b[0m       \u001b[0;31m# In this case we have created variables on the first call, so we run the\u001b[0m\u001b[0;34m\u001b[0m\u001b[0;34m\u001b[0m\u001b[0;34m\u001b[0m\u001b[0m\n\u001b[1;32m    610\u001b[0m       \u001b[0;31m# defunned version which is guaranteed to never create variables.\u001b[0m\u001b[0;34m\u001b[0m\u001b[0;34m\u001b[0m\u001b[0;34m\u001b[0m\u001b[0m\n\u001b[0;32m--> 611\u001b[0;31m       \u001b[0;32mreturn\u001b[0m \u001b[0mself\u001b[0m\u001b[0;34m.\u001b[0m\u001b[0m_stateless_fn\u001b[0m\u001b[0;34m(\u001b[0m\u001b[0;34m*\u001b[0m\u001b[0margs\u001b[0m\u001b[0;34m,\u001b[0m \u001b[0;34m**\u001b[0m\u001b[0mkwds\u001b[0m\u001b[0;34m)\u001b[0m  \u001b[0;31m# pylint: disable=not-callable\u001b[0m\u001b[0;34m\u001b[0m\u001b[0;34m\u001b[0m\u001b[0m\n\u001b[0m\u001b[1;32m    612\u001b[0m     \u001b[0;32melif\u001b[0m \u001b[0mself\u001b[0m\u001b[0;34m.\u001b[0m\u001b[0m_stateful_fn\u001b[0m \u001b[0;32mis\u001b[0m \u001b[0;32mnot\u001b[0m \u001b[0;32mNone\u001b[0m\u001b[0;34m:\u001b[0m\u001b[0;34m\u001b[0m\u001b[0;34m\u001b[0m\u001b[0m\n\u001b[1;32m    613\u001b[0m       \u001b[0;31m# Release the lock early so that multiple threads can perform the call\u001b[0m\u001b[0;34m\u001b[0m\u001b[0;34m\u001b[0m\u001b[0;34m\u001b[0m\u001b[0m\n",
      "\u001b[0;32m~/anaconda3/envs/tensorflow/lib/python3.7/site-packages/tensorflow/python/eager/function.py\u001b[0m in \u001b[0;36m__call__\u001b[0;34m(self, *args, **kwargs)\u001b[0m\n\u001b[1;32m   2418\u001b[0m     \u001b[0;32mwith\u001b[0m \u001b[0mself\u001b[0m\u001b[0;34m.\u001b[0m\u001b[0m_lock\u001b[0m\u001b[0;34m:\u001b[0m\u001b[0;34m\u001b[0m\u001b[0;34m\u001b[0m\u001b[0m\n\u001b[1;32m   2419\u001b[0m       \u001b[0mgraph_function\u001b[0m\u001b[0;34m,\u001b[0m \u001b[0margs\u001b[0m\u001b[0;34m,\u001b[0m \u001b[0mkwargs\u001b[0m \u001b[0;34m=\u001b[0m \u001b[0mself\u001b[0m\u001b[0;34m.\u001b[0m\u001b[0m_maybe_define_function\u001b[0m\u001b[0;34m(\u001b[0m\u001b[0margs\u001b[0m\u001b[0;34m,\u001b[0m \u001b[0mkwargs\u001b[0m\u001b[0;34m)\u001b[0m\u001b[0;34m\u001b[0m\u001b[0;34m\u001b[0m\u001b[0m\n\u001b[0;32m-> 2420\u001b[0;31m     \u001b[0;32mreturn\u001b[0m \u001b[0mgraph_function\u001b[0m\u001b[0;34m.\u001b[0m\u001b[0m_filtered_call\u001b[0m\u001b[0;34m(\u001b[0m\u001b[0margs\u001b[0m\u001b[0;34m,\u001b[0m \u001b[0mkwargs\u001b[0m\u001b[0;34m)\u001b[0m  \u001b[0;31m# pylint: disable=protected-access\u001b[0m\u001b[0;34m\u001b[0m\u001b[0;34m\u001b[0m\u001b[0m\n\u001b[0m\u001b[1;32m   2421\u001b[0m \u001b[0;34m\u001b[0m\u001b[0m\n\u001b[1;32m   2422\u001b[0m   \u001b[0;34m@\u001b[0m\u001b[0mproperty\u001b[0m\u001b[0;34m\u001b[0m\u001b[0;34m\u001b[0m\u001b[0m\n",
      "\u001b[0;32m~/anaconda3/envs/tensorflow/lib/python3.7/site-packages/tensorflow/python/eager/function.py\u001b[0m in \u001b[0;36m_filtered_call\u001b[0;34m(self, args, kwargs)\u001b[0m\n\u001b[1;32m   1663\u001b[0m          if isinstance(t, (ops.Tensor,\n\u001b[1;32m   1664\u001b[0m                            resource_variable_ops.BaseResourceVariable))),\n\u001b[0;32m-> 1665\u001b[0;31m         self.captured_inputs)\n\u001b[0m\u001b[1;32m   1666\u001b[0m \u001b[0;34m\u001b[0m\u001b[0m\n\u001b[1;32m   1667\u001b[0m   \u001b[0;32mdef\u001b[0m \u001b[0m_call_flat\u001b[0m\u001b[0;34m(\u001b[0m\u001b[0mself\u001b[0m\u001b[0;34m,\u001b[0m \u001b[0margs\u001b[0m\u001b[0;34m,\u001b[0m \u001b[0mcaptured_inputs\u001b[0m\u001b[0;34m,\u001b[0m \u001b[0mcancellation_manager\u001b[0m\u001b[0;34m=\u001b[0m\u001b[0;32mNone\u001b[0m\u001b[0;34m)\u001b[0m\u001b[0;34m:\u001b[0m\u001b[0;34m\u001b[0m\u001b[0;34m\u001b[0m\u001b[0m\n",
      "\u001b[0;32m~/anaconda3/envs/tensorflow/lib/python3.7/site-packages/tensorflow/python/eager/function.py\u001b[0m in \u001b[0;36m_call_flat\u001b[0;34m(self, args, captured_inputs, cancellation_manager)\u001b[0m\n\u001b[1;32m   1744\u001b[0m       \u001b[0;31m# No tape is watching; skip to running the function.\u001b[0m\u001b[0;34m\u001b[0m\u001b[0;34m\u001b[0m\u001b[0;34m\u001b[0m\u001b[0m\n\u001b[1;32m   1745\u001b[0m       return self._build_call_outputs(self._inference_function.call(\n\u001b[0;32m-> 1746\u001b[0;31m           ctx, args, cancellation_manager=cancellation_manager))\n\u001b[0m\u001b[1;32m   1747\u001b[0m     forward_backward = self._select_forward_and_backward_functions(\n\u001b[1;32m   1748\u001b[0m         \u001b[0margs\u001b[0m\u001b[0;34m,\u001b[0m\u001b[0;34m\u001b[0m\u001b[0;34m\u001b[0m\u001b[0m\n",
      "\u001b[0;32m~/anaconda3/envs/tensorflow/lib/python3.7/site-packages/tensorflow/python/eager/function.py\u001b[0m in \u001b[0;36mcall\u001b[0;34m(self, ctx, args, cancellation_manager)\u001b[0m\n\u001b[1;32m    596\u001b[0m               \u001b[0minputs\u001b[0m\u001b[0;34m=\u001b[0m\u001b[0margs\u001b[0m\u001b[0;34m,\u001b[0m\u001b[0;34m\u001b[0m\u001b[0;34m\u001b[0m\u001b[0m\n\u001b[1;32m    597\u001b[0m               \u001b[0mattrs\u001b[0m\u001b[0;34m=\u001b[0m\u001b[0mattrs\u001b[0m\u001b[0;34m,\u001b[0m\u001b[0;34m\u001b[0m\u001b[0;34m\u001b[0m\u001b[0m\n\u001b[0;32m--> 598\u001b[0;31m               ctx=ctx)\n\u001b[0m\u001b[1;32m    599\u001b[0m         \u001b[0;32melse\u001b[0m\u001b[0;34m:\u001b[0m\u001b[0;34m\u001b[0m\u001b[0;34m\u001b[0m\u001b[0m\n\u001b[1;32m    600\u001b[0m           outputs = execute.execute_with_cancellation(\n",
      "\u001b[0;32m~/anaconda3/envs/tensorflow/lib/python3.7/site-packages/tensorflow/python/eager/execute.py\u001b[0m in \u001b[0;36mquick_execute\u001b[0;34m(op_name, num_outputs, inputs, attrs, ctx, name)\u001b[0m\n\u001b[1;32m     58\u001b[0m     \u001b[0mctx\u001b[0m\u001b[0;34m.\u001b[0m\u001b[0mensure_initialized\u001b[0m\u001b[0;34m(\u001b[0m\u001b[0;34m)\u001b[0m\u001b[0;34m\u001b[0m\u001b[0;34m\u001b[0m\u001b[0m\n\u001b[1;32m     59\u001b[0m     tensors = pywrap_tfe.TFE_Py_Execute(ctx._handle, device_name, op_name,\n\u001b[0;32m---> 60\u001b[0;31m                                         inputs, attrs, num_outputs)\n\u001b[0m\u001b[1;32m     61\u001b[0m   \u001b[0;32mexcept\u001b[0m \u001b[0mcore\u001b[0m\u001b[0;34m.\u001b[0m\u001b[0m_NotOkStatusException\u001b[0m \u001b[0;32mas\u001b[0m \u001b[0me\u001b[0m\u001b[0;34m:\u001b[0m\u001b[0;34m\u001b[0m\u001b[0;34m\u001b[0m\u001b[0m\n\u001b[1;32m     62\u001b[0m     \u001b[0;32mif\u001b[0m \u001b[0mname\u001b[0m \u001b[0;32mis\u001b[0m \u001b[0;32mnot\u001b[0m \u001b[0;32mNone\u001b[0m\u001b[0;34m:\u001b[0m\u001b[0;34m\u001b[0m\u001b[0;34m\u001b[0m\u001b[0m\n",
      "\u001b[0;31mKeyboardInterrupt\u001b[0m: "
     ]
    }
   ],
   "source": [
    "history = model.fit(X_train, y_train, batch_size = 1024, epochs = 10, \n",
    "                    validation_split = 0.25, shuffle = True, callbacks = None,\n",
    "                    use_multiprocessing=True, workers=4)"
   ]
  },
  {
   "cell_type": "code",
   "execution_count": 21,
   "metadata": {},
   "outputs": [],
   "source": [
    "def learningCurve(history):\n",
    "    plt.figure(figsize=(10,8))\n",
    "    plt.plot(history.history['loss'], linewidth=1)\n",
    "    plt.plot(history.history['val_loss'], linewidth=1)\n",
    "    plt.title('Model Loss over Epochs')\n",
    "    plt.ylabel('Loss')\n",
    "    plt.xlabel('Epoch')\n",
    "    plt.legend(['training sample loss','validation sample loss'])\n",
    "    #plt.savefig('Learning_curve.pdf')\n",
    "    plt.show()\n",
    "    plt.close()"
   ]
  },
  {
   "cell_type": "code",
   "execution_count": 63,
   "metadata": {},
   "outputs": [
    {
     "data": {
      "image/png": "[encoded data removed]",
      "text/plain": [
       "<Figure size 720x576 with 1 Axes>"
      ]
     },
     "metadata": {
      "needs_background": "light"
     },
     "output_type": "display_data"
    }
   ],
   "source": [
    "learningCurve(history)"
   ]
  },
  {
   "cell_type": "code",
   "execution_count": 65,
   "metadata": {},
   "outputs": [],
   "source": [
    "labels = ['light/charm/bottom']\n"
   ]
  },
  {
   "cell_type": "code",
   "execution_count": 70,
   "metadata": {},
   "outputs": [],
   "source": [
    "model.save('dnnVertex2class.h5')"
   ]
  },
  {
   "cell_type": "code",
   "execution_count": 73,
   "metadata": {},
   "outputs": [],
   "source": [
    "labels_pred = model.predict(X_test)"
   ]
  },
  {
   "cell_type": "code",
   "execution_count": null,
   "metadata": {},
   "outputs": [],
   "source": [
    "labels_pred"
   ]
  },
  {
   "cell_type": "code",
   "execution_count": null,
   "metadata": {},
   "outputs": [],
   "source": [
    "len(features)"
   ]
  },
  {
   "cell_type": "code",
   "execution_count": null,
   "metadata": {},
   "outputs": [],
   "source": [
    "len(X_test)"
   ]
  },
  {
   "cell_type": "code",
   "execution_count": null,
   "metadata": {},
   "outputs": [],
   "source": [
    "y_test = df.values[:,16:19]"
   ]
  },
  {
   "cell_type": "code",
   "execution_count": null,
   "metadata": {},
   "outputs": [],
   "source": [
    "len(y_test)"
   ]
  },
  {
   "cell_type": "code",
   "execution_count": 74,
   "metadata": {},
   "outputs": [],
   "source": [
    "def makeRoc(features_val, labels_val, labels, model, outputDir='', outputSuffix=''):\n",
    "    from sklearn.metrics import roc_curve, auc\n",
    "    df = pd.DataFrame()\n",
    "    fpr = {}\n",
    "    tpr = {}\n",
    "    auc1 = {}\n",
    "    plt.figure(figsize=(16,8))       \n",
    "    for i, label in enumerate(labels):\n",
    "        df[label] = labels_val[:,i]\n",
    "        df[label + '_pred'] = labels_pred[:,i]\n",
    "        fpr[label], tpr[label], threshold = roc_curve(df[label],df[label+'_pred'])\n",
    "        auc1[label] = auc(fpr[label], tpr[label])\n",
    "        plt.plot(fpr[label],tpr[label],label='%s tagger, AUC = %.1f%%'%(label.replace('j_',''),auc1[label]*100.))\n",
    "    plt.plot([0, 1], [0, 1], lw=1, color='black', linestyle='--')\n",
    "    #plt.semilogy()\n",
    "    plt.xlabel(\"Background Efficiency\")\n",
    "    plt.ylabel(\"Signal Efficiency\")\n",
    "    plt.xlim([-0.05, 1.05])\n",
    "    plt.ylim(0.001,1.05)\n",
    "    plt.grid(True)\n",
    "    plt.legend(loc='lower right')\n",
    "    plt.figtext(0.25, 0.90,'Feed Forward Roc Curve',fontweight='bold', wrap=True, horizontalalignment='right', fontsize=14)\n",
    "    #plt.figtext(0.35, 0.90,'preliminary', style='italic', wrap=True, horizontalalignment='center', fontsize=14) \n",
    "    #plt.savefig('%sROC_%s.pdf'%(outputDir, outputSuffix))\n",
    "    return labels_pred"
   ]
  },
  {
   "cell_type": "code",
   "execution_count": 75,
   "metadata": {},
   "outputs": [
    {
     "data": {
      "image/png": "[encoded data removed]",
      "text/plain": [
       "<Figure size 1152x576 with 1 Axes>"
      ]
     },
     "metadata": {
      "needs_background": "light"
     },
     "output_type": "display_data"
    }
   ],
   "source": [
    "y_pred = makeRoc(X_test, y_test, labels, model, outputSuffix='two-layer')"
   ]
  },
  {
   "cell_type": "code",
   "execution_count": null,
   "metadata": {},
   "outputs": [],
   "source": [
    "y_pred = makeRoc(X_test, y_test, labels, model, outputSuffix='two-layer')"
   ]
  },
  {
   "cell_type": "code",
   "execution_count": null,
   "metadata": {},
   "outputs": [],
   "source": [
    "y_test"
   ]
  },
  {
   "cell_type": "code",
   "execution_count": 16,
   "metadata": {},
   "outputs": [],
   "source": [
    "X_train, X_test, y_train, y_test = train_test_split(features,lab,test_size = 0.2, random_state = 42)\n"
   ]
  },
  {
   "cell_type": "code",
   "execution_count": 17,
   "metadata": {
    "scrolled": true
   },
   "outputs": [],
   "source": [
    "imagetrain = X_train.reshape(len(X_train), 16, 1)"
   ]
  },
  {
   "cell_type": "code",
   "execution_count": 89,
   "metadata": {
    "scrolled": true
   },
   "outputs": [
    {
     "name": "stdout",
     "output_type": "stream",
     "text": [
      "Model: \"model_10\"\n",
      "_________________________________________________________________\n",
      "Layer (type)                 Output Shape              Param #   \n",
      "=================================================================\n",
      "input_11 (InputLayer)        [(None, 16, 1)]           0         \n",
      "_________________________________________________________________\n",
      "lstm1 (LSTM)                 (None, 16)                1152      \n",
      "_________________________________________________________________\n",
      "flatten_3 (Flatten)          (None, 16)                0         \n",
      "_________________________________________________________________\n",
      "output_sigmoid (Dense)       (None, 1)                 17        \n",
      "=================================================================\n",
      "Total params: 1,169\n",
      "Trainable params: 1,169\n",
      "Non-trainable params: 0\n",
      "_________________________________________________________________\n"
     ]
    }
   ],
   "source": [
    "Inputs = Input(shape=(16,1))\n",
    "x = LSTM(16, kernel_initializer = 'VarianceScaling', kernel_regularizer = regularizers.l1_l2(l1= 9.999E-5, l2 = 0.0), name = 'lstm1')(Inputs)\n",
    "x = Flatten(trainable= True)(x)\n",
    "predictions = Dense(1, activation='sigmoid', kernel_initializer='lecun_uniform', name = 'output_sigmoid')(x)\n",
    "model = Model(inputs=Inputs, outputs=predictions)\n",
    "model.summary()"
   ]
  },
  {
   "cell_type": "code",
   "execution_count": 90,
   "metadata": {},
   "outputs": [],
   "source": [
    "\n",
    "adam = Adam(lr = 0.0001)\n",
    "model.compile(optimizer='adam', loss='binary_crossentropy', metrics=['accuracy'])"
   ]
  },
  {
   "cell_type": "code",
   "execution_count": 91,
   "metadata": {},
   "outputs": [
    {
     "name": "stdout",
     "output_type": "stream",
     "text": [
      "Epoch 1/10\n",
      "833/833 [==============================] - 45s 54ms/step - loss: 0.4534 - accuracy: 0.7936 - val_loss: 0.4170 - val_accuracy: 0.8152\n",
      "Epoch 2/10\n",
      "833/833 [==============================] - 46s 55ms/step - loss: 0.4059 - accuracy: 0.8182 - val_loss: 0.3994 - val_accuracy: 0.8216\n",
      "Epoch 3/10\n",
      "833/833 [==============================] - 44s 53ms/step - loss: 0.3970 - accuracy: 0.8228 - val_loss: 0.3927 - val_accuracy: 0.8263\n",
      "Epoch 4/10\n",
      "833/833 [==============================] - 59s 71ms/step - loss: 0.3914 - accuracy: 0.8270 - val_loss: 0.3877 - val_accuracy: 0.8296\n",
      "Epoch 5/10\n",
      "833/833 [==============================] - 46s 55ms/step - loss: 0.3872 - accuracy: 0.8295 - val_loss: 0.3863 - val_accuracy: 0.8311\n",
      "Epoch 6/10\n",
      "833/833 [==============================] - 53s 64ms/step - loss: 0.3847 - accuracy: 0.8310 - val_loss: 0.3860 - val_accuracy: 0.8309\n",
      "Epoch 7/10\n",
      "833/833 [==============================] - 52s 63ms/step - loss: 0.3829 - accuracy: 0.8318 - val_loss: 0.3808 - val_accuracy: 0.8336\n",
      "Epoch 8/10\n",
      "833/833 [==============================] - 46s 55ms/step - loss: 0.3818 - accuracy: 0.8323 - val_loss: 0.3800 - val_accuracy: 0.8335\n",
      "Epoch 9/10\n",
      "833/833 [==============================] - 57s 68ms/step - loss: 0.3806 - accuracy: 0.8329 - val_loss: 0.3787 - val_accuracy: 0.8343\n",
      "Epoch 10/10\n",
      "833/833 [==============================] - 48s 57ms/step - loss: 0.3799 - accuracy: 0.8332 - val_loss: 0.3782 - val_accuracy: 0.8345\n"
     ]
    }
   ],
   "source": [
    "history = model.fit(X_train, y_train, batch_size = 1024, epochs = 10, \n",
    "                    validation_split = 0.25, shuffle = True, callbacks = None,\n",
    "                    use_multiprocessing=True, workers=4)"
   ]
  },
  {
   "cell_type": "code",
   "execution_count": 92,
   "metadata": {},
   "outputs": [
    {
     "data": {
      "image/png": "[encoded data removed]",
      "text/plain": [
       "<Figure size 720x576 with 1 Axes>"
      ]
     },
     "metadata": {
      "needs_background": "light"
     },
     "output_type": "display_data"
    }
   ],
   "source": [
    "learningCurve(history)"
   ]
  },
  {
   "cell_type": "code",
   "execution_count": 33,
   "metadata": {},
   "outputs": [],
   "source": [
    "imagetest = X_test.reshape(len(X_test), 16, 1)"
   ]
  },
  {
   "cell_type": "code",
   "execution_count": 19,
   "metadata": {},
   "outputs": [],
   "source": [
    "labels = ['light/charm/bottom']\n"
   ]
  },
  {
   "cell_type": "code",
   "execution_count": null,
   "metadata": {},
   "outputs": [],
   "source": [
    "lab"
   ]
  },
  {
   "cell_type": "code",
   "execution_count": 20,
   "metadata": {},
   "outputs": [],
   "source": [
    "def makeRoc(features_val, labels_val, labels, model, outputDir='', outputSuffix=''):\n",
    "    from sklearn.metrics import roc_curve, auc\n",
    "    labels_pred = model.predict(features_val)\n",
    "    df = pd.DataFrame()\n",
    "    fpr = {}\n",
    "    tpr = {}\n",
    "    auc1 = {}\n",
    "    plt.figure(figsize=(10,8))       \n",
    "    for i, label in enumerate(labels):\n",
    "        df[label] = labels_val[:,i]\n",
    "        df[label + '_pred'] = labels_pred[:,i]\n",
    "        fpr[label], tpr[label], threshold = roc_curve(df[label],df[label+'_pred'])\n",
    "        auc1[label] = auc(fpr[label], tpr[label])\n",
    "        plt.plot(fpr[label],tpr[label],label='%s tagger, AUC = %.1f%%'%(label.replace('j_',''),auc1[label]*100.))\n",
    "    plt.plot([0, 1], [0, 1], lw=1, color='black', linestyle='--')\n",
    "    #plt.semilogy()\n",
    "    plt.xlabel(\"Background Efficiency\")\n",
    "    plt.ylabel(\"Signal Efficiency\")\n",
    "    plt.xlim([-0.05, 1.05])\n",
    "    plt.ylim(0.001,1.05)\n",
    "    plt.grid(True)\n",
    "    plt.legend(loc='lower right')\n",
    "    plt.figtext(0.25, 0.90,'LSTM ROC Curve',fontweight='bold', wrap=True, horizontalalignment='right', fontsize=14)\n",
    "    #plt.figtext(0.35, 0.90,'preliminary', style='italic', wrap=True, horizontalalignment='center', fontsize=14) \n",
    "    #plt.savefig('%sROC_%s.pdf'%(outputDir, outputSuffix))\n",
    "    return labels_pred"
   ]
  },
  {
   "cell_type": "code",
   "execution_count": 96,
   "metadata": {},
   "outputs": [
    {
     "data": {
      "image/png": "[encoded data removed]",
      "text/plain": [
       "<Figure size 720x576 with 1 Axes>"
      ]
     },
     "metadata": {
      "needs_background": "light"
     },
     "output_type": "display_data"
    }
   ],
   "source": [
    "y_pred = makeRoc(X_test, y_test, labels, model, outputSuffix='two-layer')"
   ]
  },
  {
   "cell_type": "code",
   "execution_count": null,
   "metadata": {},
   "outputs": [],
   "source": [
    "model.save('lstmvertex.h5')"
   ]
  },
  {
   "cell_type": "code",
   "execution_count": null,
   "metadata": {},
   "outputs": [],
   "source": [
    "model.save_weights('lstm_weights')"
   ]
  },
  {
   "cell_type": "code",
   "execution_count": null,
   "metadata": {},
   "outputs": [],
   "source": [
    "model = tf.keras.models.load_model('lstm.h5')\n"
   ]
  },
  {
   "cell_type": "code",
   "execution_count": 27,
   "metadata": {},
   "outputs": [
    {
     "name": "stdout",
     "output_type": "stream",
     "text": [
      "Model: \"model_2\"\n",
      "_________________________________________________________________\n",
      "Layer (type)                 Output Shape              Param #   \n",
      "=================================================================\n",
      "input_3 (InputLayer)         [(None, 16, 1)]           0         \n",
      "_________________________________________________________________\n",
      "gru_selu (GRU)               (None, 16)                912       \n",
      "_________________________________________________________________\n",
      "dense_relu (Dense)           (None, 20)                340       \n",
      "_________________________________________________________________\n",
      "dropout_2 (Dropout)          (None, 20)                0         \n",
      "_________________________________________________________________\n",
      "rnn_densef (Dense)           (None, 1)                 21        \n",
      "=================================================================\n",
      "Total params: 1,273\n",
      "Trainable params: 1,273\n",
      "Non-trainable params: 0\n",
      "_________________________________________________________________\n"
     ]
    }
   ],
   "source": [
    "\n",
    "l1Reg =  0.0001\n",
    "l1RegR = 0.001\n",
    "\n",
    "Inputs = Input(shape = (16,1))\n",
    "\n",
    "x = GRU(16,kernel_regularizer=l1(l1Reg),recurrent_regularizer=l1(l1RegR),activation='relu', recurrent_activation='sigmoid', name='gru_selu',)(Inputs)\n",
    "x = Dense(20,kernel_regularizer=l1(l1Reg),activation='relu', kernel_initializer='lecun_uniform', name='dense_relu')(x)\n",
    "x = Dropout(0.1)(x)\n",
    "predictions = Dense(1, activation='sigmoid', kernel_initializer='lecun_uniform', name='rnn_densef')(x)\n",
    "model = Model(inputs=Inputs, outputs=predictions)\n",
    "\n",
    "model.summary()"
   ]
  },
  {
   "cell_type": "code",
   "execution_count": 28,
   "metadata": {},
   "outputs": [],
   "source": [
    "adam = Adam(lr = 0.002)\n",
    "model.compile(optimizer='adam', loss='binary_crossentropy', metrics=['accuracy'])"
   ]
  },
  {
   "cell_type": "code",
   "execution_count": 29,
   "metadata": {},
   "outputs": [
    {
     "name": "stdout",
     "output_type": "stream",
     "text": [
      "Epoch 1/15\n",
      "269/269 [==============================] - 28s 105ms/step - loss: 1.1039 - accuracy: 0.6899 - val_loss: 0.5315 - val_accuracy: 0.7804\n",
      "Epoch 2/15\n",
      "269/269 [==============================] - 29s 109ms/step - loss: 0.5009 - accuracy: 0.8028 - val_loss: 0.4239 - val_accuracy: 0.8318\n",
      "Epoch 3/15\n",
      "269/269 [==============================] - 30s 110ms/step - loss: 0.4280 - accuracy: 0.8301 - val_loss: 0.4117 - val_accuracy: 0.8369\n",
      "Epoch 4/15\n",
      "269/269 [==============================] - 38s 140ms/step - loss: 0.4172 - accuracy: 0.8344 - val_loss: 0.4045 - val_accuracy: 0.8375\n",
      "Epoch 5/15\n",
      "269/269 [==============================] - 22s 81ms/step - loss: 0.4105 - accuracy: 0.8365 - val_loss: 0.4006 - val_accuracy: 0.8395\n",
      "Epoch 6/15\n",
      "269/269 [==============================] - 28s 103ms/step - loss: 0.4054 - accuracy: 0.8380 - val_loss: 0.3954 - val_accuracy: 0.8417\n",
      "Epoch 7/15\n",
      "269/269 [==============================] - 26s 97ms/step - loss: 0.4034 - accuracy: 0.8392 - val_loss: 0.3925 - val_accuracy: 0.8438\n",
      "Epoch 8/15\n",
      "269/269 [==============================] - 28s 103ms/step - loss: 0.3997 - accuracy: 0.8408 - val_loss: 0.3906 - val_accuracy: 0.8449\n",
      "Epoch 9/15\n",
      "269/269 [==============================] - 50s 186ms/step - loss: 0.3969 - accuracy: 0.8426 - val_loss: 0.3909 - val_accuracy: 0.8435\n",
      "Epoch 10/15\n",
      "269/269 [==============================] - 70s 259ms/step - loss: 0.3916 - accuracy: 0.8450 - val_loss: 0.3815 - val_accuracy: 0.8509\n",
      "Epoch 11/15\n",
      "269/269 [==============================] - 48s 177ms/step - loss: 0.3889 - accuracy: 0.8457 - val_loss: 0.3797 - val_accuracy: 0.8513\n",
      "Epoch 12/15\n",
      "269/269 [==============================] - 62s 231ms/step - loss: 0.3881 - accuracy: 0.8462 - val_loss: 0.3807 - val_accuracy: 0.8495\n",
      "Epoch 13/15\n",
      "269/269 [==============================] - 31s 116ms/step - loss: 0.3862 - accuracy: 0.8462 - val_loss: 0.3774 - val_accuracy: 0.8515\n",
      "Epoch 14/15\n",
      "269/269 [==============================] - 43s 160ms/step - loss: 0.3844 - accuracy: 0.8473 - val_loss: 0.3751 - val_accuracy: 0.8518\n",
      "Epoch 15/15\n",
      "269/269 [==============================] - 45s 166ms/step - loss: 0.3833 - accuracy: 0.8475 - val_loss: 0.3743 - val_accuracy: 0.8514\n"
     ]
    }
   ],
   "source": [
    "history = model.fit(X_train.astype(float), y_train.astype(float), batch_size = 1024, epochs = 15, \n",
    "                    validation_split = 0.25, shuffle = True, callbacks = None,\n",
    "                    use_multiprocessing=True, workers=4)"
   ]
  },
  {
   "cell_type": "code",
   "execution_count": 35,
   "metadata": {},
   "outputs": [
    {
     "data": {
      "image/png": "[encoded data removed]",
      "text/plain": [
       "<Figure size 720x576 with 1 Axes>"
      ]
     },
     "metadata": {
      "needs_background": "light"
     },
     "output_type": "display_data"
    }
   ],
   "source": [
    "y_pred = makeRoc(X_test.astype(float), y_test.astype(float), labels, model, outputSuffix='two-layer')"
   ]
  },
  {
   "cell_type": "code",
   "execution_count": 36,
   "metadata": {},
   "outputs": [
    {
     "data": {
      "image/png": "[encoded data removed]",
      "text/plain": [
       "<Figure size 720x576 with 1 Axes>"
      ]
     },
     "metadata": {
      "needs_background": "light"
     },
     "output_type": "display_data"
    }
   ],
   "source": [
    "learningCurve(history)"
   ]
  },
  {
   "cell_type": "code",
   "execution_count": null,
   "metadata": {},
   "outputs": [],
   "source": [
    "model.save('GRUVertex.h5')"
   ]
  },
  {
   "cell_type": "code",
   "execution_count": 126,
   "metadata": {},
   "outputs": [
    {
     "name": "stdout",
     "output_type": "stream",
     "text": [
      "Model: \"model_15\"\n",
      "_________________________________________________________________\n",
      "Layer (type)                 Output Shape              Param #   \n",
      "=================================================================\n",
      "input_16 (InputLayer)        [(None, 15, 7)]           0         \n",
      "_________________________________________________________________\n",
      "lstm1 (LSTM)                 (None, 15)                1380      \n",
      "_________________________________________________________________\n",
      "fc4 (Dense)                  (None, 64)                1024      \n",
      "_________________________________________________________________\n",
      "dropout_45 (Dropout)         (None, 64)                0         \n",
      "_________________________________________________________________\n",
      "fc7 (Dense)                  (None, 32)                2080      \n",
      "_________________________________________________________________\n",
      "dropout_46 (Dropout)         (None, 32)                0         \n",
      "_________________________________________________________________\n",
      "fc8 (Dense)                  (None, 16)                528       \n",
      "_________________________________________________________________\n",
      "output_sigmoid (Dense)       (None, 1)                 17        \n",
      "=================================================================\n",
      "Total params: 5,029\n",
      "Trainable params: 5,029\n",
      "Non-trainable params: 0\n",
      "_________________________________________________________________\n"
     ]
    }
   ],
   "source": [
    "Inputs = Input(shape=(15,7))\n",
    "x = LSTM(15, kernel_initializer = 'VarianceScaling', kernel_regularizer = regularizers.l1_l2(l1= 9.999E-5, l2 = 0.0), name = 'lstm1')(Inputs)\n",
    "x = Dense(64, activation='relu', kernel_initializer='lecun_uniform', name='fc4')(x)\n",
    "x= Dropout(rate = 0.3)(x)\n",
    "x = Dense(32, activation='relu', kernel_initializer='lecun_uniform', name='fc7')(x)\n",
    "x= Dropout(rate = 0.3)(x)\n",
    "x = Dense(16, activation='relu', kernel_initializer='lecun_uniform', name='fc8')(x)\n",
    "predictions = Dense(1, activation='sigmoid', kernel_initializer='lecun_uniform', name = 'output_sigmoid')(x)\n",
    "model = Model(inputs=Inputs, outputs=predictions)\n",
    "model.summary()"
   ]
  },
  {
   "cell_type": "code",
   "execution_count": 81,
   "metadata": {},
   "outputs": [],
   "source": [
    "adam = Adam(lr = 0.0001)\n",
    "model.compile(optimizer='adam', loss='binary_crossentropy', metrics=['accuracy'])"
   ]
  },
  {
   "cell_type": "code",
   "execution_count": 82,
   "metadata": {},
   "outputs": [
    {
     "name": "stdout",
     "output_type": "stream",
     "text": [
      "Epoch 1/10\n",
      "WARNING:tensorflow:Model was constructed with shape (None, 15, 1) for input Tensor(\"input_9:0\", shape=(None, 15, 1), dtype=float32), but it was called on an input with incompatible shape (None, 16, 1).\n",
      "WARNING:tensorflow:Model was constructed with shape (None, 15, 1) for input Tensor(\"input_9:0\", shape=(None, 15, 1), dtype=float32), but it was called on an input with incompatible shape (None, 16, 1).\n"
     ]
    },
    {
     "ename": "KeyboardInterrupt",
     "evalue": "",
     "output_type": "error",
     "traceback": [
      "\u001b[0;31m---------------------------------------------------------------------------\u001b[0m",
      "\u001b[0;31mKeyboardInterrupt\u001b[0m                         Traceback (most recent call last)",
      "\u001b[0;32m<ipython-input-82-5b7d32388581>\u001b[0m in \u001b[0;36m<module>\u001b[0;34m\u001b[0m\n\u001b[1;32m      1\u001b[0m history = model.fit(X_train, y_train, batch_size = 1024, epochs = 10, \n\u001b[1;32m      2\u001b[0m                     \u001b[0mvalidation_split\u001b[0m \u001b[0;34m=\u001b[0m \u001b[0;36m0.25\u001b[0m\u001b[0;34m,\u001b[0m \u001b[0mshuffle\u001b[0m \u001b[0;34m=\u001b[0m \u001b[0;32mTrue\u001b[0m\u001b[0;34m,\u001b[0m \u001b[0mcallbacks\u001b[0m \u001b[0;34m=\u001b[0m \u001b[0;32mNone\u001b[0m\u001b[0;34m,\u001b[0m\u001b[0;34m\u001b[0m\u001b[0;34m\u001b[0m\u001b[0m\n\u001b[0;32m----> 3\u001b[0;31m                     use_multiprocessing=True, workers=4)\n\u001b[0m",
      "\u001b[0;32m~/anaconda3/envs/tensorflow/lib/python3.7/site-packages/tensorflow/python/keras/engine/training.py\u001b[0m in \u001b[0;36m_method_wrapper\u001b[0;34m(self, *args, **kwargs)\u001b[0m\n\u001b[1;32m     64\u001b[0m   \u001b[0;32mdef\u001b[0m \u001b[0m_method_wrapper\u001b[0m\u001b[0;34m(\u001b[0m\u001b[0mself\u001b[0m\u001b[0;34m,\u001b[0m \u001b[0;34m*\u001b[0m\u001b[0margs\u001b[0m\u001b[0;34m,\u001b[0m \u001b[0;34m**\u001b[0m\u001b[0mkwargs\u001b[0m\u001b[0;34m)\u001b[0m\u001b[0;34m:\u001b[0m\u001b[0;34m\u001b[0m\u001b[0;34m\u001b[0m\u001b[0m\n\u001b[1;32m     65\u001b[0m     \u001b[0;32mif\u001b[0m \u001b[0;32mnot\u001b[0m \u001b[0mself\u001b[0m\u001b[0;34m.\u001b[0m\u001b[0m_in_multi_worker_mode\u001b[0m\u001b[0;34m(\u001b[0m\u001b[0;34m)\u001b[0m\u001b[0;34m:\u001b[0m  \u001b[0;31m# pylint: disable=protected-access\u001b[0m\u001b[0;34m\u001b[0m\u001b[0;34m\u001b[0m\u001b[0m\n\u001b[0;32m---> 66\u001b[0;31m       \u001b[0;32mreturn\u001b[0m \u001b[0mmethod\u001b[0m\u001b[0;34m(\u001b[0m\u001b[0mself\u001b[0m\u001b[0;34m,\u001b[0m \u001b[0;34m*\u001b[0m\u001b[0margs\u001b[0m\u001b[0;34m,\u001b[0m \u001b[0;34m**\u001b[0m\u001b[0mkwargs\u001b[0m\u001b[0;34m)\u001b[0m\u001b[0;34m\u001b[0m\u001b[0;34m\u001b[0m\u001b[0m\n\u001b[0m\u001b[1;32m     67\u001b[0m \u001b[0;34m\u001b[0m\u001b[0m\n\u001b[1;32m     68\u001b[0m     \u001b[0;31m# Running inside `run_distribute_coordinator` already.\u001b[0m\u001b[0;34m\u001b[0m\u001b[0;34m\u001b[0m\u001b[0;34m\u001b[0m\u001b[0m\n",
      "\u001b[0;32m~/anaconda3/envs/tensorflow/lib/python3.7/site-packages/tensorflow/python/keras/engine/training.py\u001b[0m in \u001b[0;36mfit\u001b[0;34m(self, x, y, batch_size, epochs, verbose, callbacks, validation_split, validation_data, shuffle, class_weight, sample_weight, initial_epoch, steps_per_epoch, validation_steps, validation_batch_size, validation_freq, max_queue_size, workers, use_multiprocessing)\u001b[0m\n\u001b[1;32m    846\u001b[0m                 batch_size=batch_size):\n\u001b[1;32m    847\u001b[0m               \u001b[0mcallbacks\u001b[0m\u001b[0;34m.\u001b[0m\u001b[0mon_train_batch_begin\u001b[0m\u001b[0;34m(\u001b[0m\u001b[0mstep\u001b[0m\u001b[0;34m)\u001b[0m\u001b[0;34m\u001b[0m\u001b[0;34m\u001b[0m\u001b[0m\n\u001b[0;32m--> 848\u001b[0;31m               \u001b[0mtmp_logs\u001b[0m \u001b[0;34m=\u001b[0m \u001b[0mtrain_function\u001b[0m\u001b[0;34m(\u001b[0m\u001b[0miterator\u001b[0m\u001b[0;34m)\u001b[0m\u001b[0;34m\u001b[0m\u001b[0;34m\u001b[0m\u001b[0m\n\u001b[0m\u001b[1;32m    849\u001b[0m               \u001b[0;31m# Catch OutOfRangeError for Datasets of unknown size.\u001b[0m\u001b[0;34m\u001b[0m\u001b[0;34m\u001b[0m\u001b[0;34m\u001b[0m\u001b[0m\n\u001b[1;32m    850\u001b[0m               \u001b[0;31m# This blocks until the batch has finished executing.\u001b[0m\u001b[0;34m\u001b[0m\u001b[0;34m\u001b[0m\u001b[0;34m\u001b[0m\u001b[0m\n",
      "\u001b[0;32m~/anaconda3/envs/tensorflow/lib/python3.7/site-packages/tensorflow/python/eager/def_function.py\u001b[0m in \u001b[0;36m__call__\u001b[0;34m(self, *args, **kwds)\u001b[0m\n\u001b[1;32m    578\u001b[0m         \u001b[0mxla_context\u001b[0m\u001b[0;34m.\u001b[0m\u001b[0mExit\u001b[0m\u001b[0;34m(\u001b[0m\u001b[0;34m)\u001b[0m\u001b[0;34m\u001b[0m\u001b[0;34m\u001b[0m\u001b[0m\n\u001b[1;32m    579\u001b[0m     \u001b[0;32melse\u001b[0m\u001b[0;34m:\u001b[0m\u001b[0;34m\u001b[0m\u001b[0;34m\u001b[0m\u001b[0m\n\u001b[0;32m--> 580\u001b[0;31m       \u001b[0mresult\u001b[0m \u001b[0;34m=\u001b[0m \u001b[0mself\u001b[0m\u001b[0;34m.\u001b[0m\u001b[0m_call\u001b[0m\u001b[0;34m(\u001b[0m\u001b[0;34m*\u001b[0m\u001b[0margs\u001b[0m\u001b[0;34m,\u001b[0m \u001b[0;34m**\u001b[0m\u001b[0mkwds\u001b[0m\u001b[0;34m)\u001b[0m\u001b[0;34m\u001b[0m\u001b[0;34m\u001b[0m\u001b[0m\n\u001b[0m\u001b[1;32m    581\u001b[0m \u001b[0;34m\u001b[0m\u001b[0m\n\u001b[1;32m    582\u001b[0m     \u001b[0;32mif\u001b[0m \u001b[0mtracing_count\u001b[0m \u001b[0;34m==\u001b[0m \u001b[0mself\u001b[0m\u001b[0;34m.\u001b[0m\u001b[0m_get_tracing_count\u001b[0m\u001b[0;34m(\u001b[0m\u001b[0;34m)\u001b[0m\u001b[0;34m:\u001b[0m\u001b[0;34m\u001b[0m\u001b[0;34m\u001b[0m\u001b[0m\n",
      "\u001b[0;32m~/anaconda3/envs/tensorflow/lib/python3.7/site-packages/tensorflow/python/eager/def_function.py\u001b[0m in \u001b[0;36m_call\u001b[0;34m(self, *args, **kwds)\u001b[0m\n\u001b[1;32m    642\u001b[0m         \u001b[0;31m# Lifting succeeded, so variables are initialized and we can run the\u001b[0m\u001b[0;34m\u001b[0m\u001b[0;34m\u001b[0m\u001b[0;34m\u001b[0m\u001b[0m\n\u001b[1;32m    643\u001b[0m         \u001b[0;31m# stateless function.\u001b[0m\u001b[0;34m\u001b[0m\u001b[0;34m\u001b[0m\u001b[0;34m\u001b[0m\u001b[0m\n\u001b[0;32m--> 644\u001b[0;31m         \u001b[0;32mreturn\u001b[0m \u001b[0mself\u001b[0m\u001b[0;34m.\u001b[0m\u001b[0m_stateless_fn\u001b[0m\u001b[0;34m(\u001b[0m\u001b[0;34m*\u001b[0m\u001b[0margs\u001b[0m\u001b[0;34m,\u001b[0m \u001b[0;34m**\u001b[0m\u001b[0mkwds\u001b[0m\u001b[0;34m)\u001b[0m\u001b[0;34m\u001b[0m\u001b[0;34m\u001b[0m\u001b[0m\n\u001b[0m\u001b[1;32m    645\u001b[0m     \u001b[0;32melse\u001b[0m\u001b[0;34m:\u001b[0m\u001b[0;34m\u001b[0m\u001b[0;34m\u001b[0m\u001b[0m\n\u001b[1;32m    646\u001b[0m       \u001b[0mcanon_args\u001b[0m\u001b[0;34m,\u001b[0m \u001b[0mcanon_kwds\u001b[0m \u001b[0;34m=\u001b[0m\u001b[0;31m \u001b[0m\u001b[0;31m\\\u001b[0m\u001b[0;34m\u001b[0m\u001b[0;34m\u001b[0m\u001b[0m\n",
      "\u001b[0;32m~/anaconda3/envs/tensorflow/lib/python3.7/site-packages/tensorflow/python/eager/function.py\u001b[0m in \u001b[0;36m__call__\u001b[0;34m(self, *args, **kwargs)\u001b[0m\n\u001b[1;32m   2418\u001b[0m     \u001b[0;32mwith\u001b[0m \u001b[0mself\u001b[0m\u001b[0;34m.\u001b[0m\u001b[0m_lock\u001b[0m\u001b[0;34m:\u001b[0m\u001b[0;34m\u001b[0m\u001b[0;34m\u001b[0m\u001b[0m\n\u001b[1;32m   2419\u001b[0m       \u001b[0mgraph_function\u001b[0m\u001b[0;34m,\u001b[0m \u001b[0margs\u001b[0m\u001b[0;34m,\u001b[0m \u001b[0mkwargs\u001b[0m \u001b[0;34m=\u001b[0m \u001b[0mself\u001b[0m\u001b[0;34m.\u001b[0m\u001b[0m_maybe_define_function\u001b[0m\u001b[0;34m(\u001b[0m\u001b[0margs\u001b[0m\u001b[0;34m,\u001b[0m \u001b[0mkwargs\u001b[0m\u001b[0;34m)\u001b[0m\u001b[0;34m\u001b[0m\u001b[0;34m\u001b[0m\u001b[0m\n\u001b[0;32m-> 2420\u001b[0;31m     \u001b[0;32mreturn\u001b[0m \u001b[0mgraph_function\u001b[0m\u001b[0;34m.\u001b[0m\u001b[0m_filtered_call\u001b[0m\u001b[0;34m(\u001b[0m\u001b[0margs\u001b[0m\u001b[0;34m,\u001b[0m \u001b[0mkwargs\u001b[0m\u001b[0;34m)\u001b[0m  \u001b[0;31m# pylint: disable=protected-access\u001b[0m\u001b[0;34m\u001b[0m\u001b[0;34m\u001b[0m\u001b[0m\n\u001b[0m\u001b[1;32m   2421\u001b[0m \u001b[0;34m\u001b[0m\u001b[0m\n\u001b[1;32m   2422\u001b[0m   \u001b[0;34m@\u001b[0m\u001b[0mproperty\u001b[0m\u001b[0;34m\u001b[0m\u001b[0;34m\u001b[0m\u001b[0m\n",
      "\u001b[0;32m~/anaconda3/envs/tensorflow/lib/python3.7/site-packages/tensorflow/python/eager/function.py\u001b[0m in \u001b[0;36m_filtered_call\u001b[0;34m(self, args, kwargs)\u001b[0m\n\u001b[1;32m   1663\u001b[0m          if isinstance(t, (ops.Tensor,\n\u001b[1;32m   1664\u001b[0m                            resource_variable_ops.BaseResourceVariable))),\n\u001b[0;32m-> 1665\u001b[0;31m         self.captured_inputs)\n\u001b[0m\u001b[1;32m   1666\u001b[0m \u001b[0;34m\u001b[0m\u001b[0m\n\u001b[1;32m   1667\u001b[0m   \u001b[0;32mdef\u001b[0m \u001b[0m_call_flat\u001b[0m\u001b[0;34m(\u001b[0m\u001b[0mself\u001b[0m\u001b[0;34m,\u001b[0m \u001b[0margs\u001b[0m\u001b[0;34m,\u001b[0m \u001b[0mcaptured_inputs\u001b[0m\u001b[0;34m,\u001b[0m \u001b[0mcancellation_manager\u001b[0m\u001b[0;34m=\u001b[0m\u001b[0;32mNone\u001b[0m\u001b[0;34m)\u001b[0m\u001b[0;34m:\u001b[0m\u001b[0;34m\u001b[0m\u001b[0;34m\u001b[0m\u001b[0m\n",
      "\u001b[0;32m~/anaconda3/envs/tensorflow/lib/python3.7/site-packages/tensorflow/python/eager/function.py\u001b[0m in \u001b[0;36m_call_flat\u001b[0;34m(self, args, captured_inputs, cancellation_manager)\u001b[0m\n\u001b[1;32m   1744\u001b[0m       \u001b[0;31m# No tape is watching; skip to running the function.\u001b[0m\u001b[0;34m\u001b[0m\u001b[0;34m\u001b[0m\u001b[0;34m\u001b[0m\u001b[0m\n\u001b[1;32m   1745\u001b[0m       return self._build_call_outputs(self._inference_function.call(\n\u001b[0;32m-> 1746\u001b[0;31m           ctx, args, cancellation_manager=cancellation_manager))\n\u001b[0m\u001b[1;32m   1747\u001b[0m     forward_backward = self._select_forward_and_backward_functions(\n\u001b[1;32m   1748\u001b[0m         \u001b[0margs\u001b[0m\u001b[0;34m,\u001b[0m\u001b[0;34m\u001b[0m\u001b[0;34m\u001b[0m\u001b[0m\n",
      "\u001b[0;32m~/anaconda3/envs/tensorflow/lib/python3.7/site-packages/tensorflow/python/eager/function.py\u001b[0m in \u001b[0;36mcall\u001b[0;34m(self, ctx, args, cancellation_manager)\u001b[0m\n\u001b[1;32m    596\u001b[0m               \u001b[0minputs\u001b[0m\u001b[0;34m=\u001b[0m\u001b[0margs\u001b[0m\u001b[0;34m,\u001b[0m\u001b[0;34m\u001b[0m\u001b[0;34m\u001b[0m\u001b[0m\n\u001b[1;32m    597\u001b[0m               \u001b[0mattrs\u001b[0m\u001b[0;34m=\u001b[0m\u001b[0mattrs\u001b[0m\u001b[0;34m,\u001b[0m\u001b[0;34m\u001b[0m\u001b[0;34m\u001b[0m\u001b[0m\n\u001b[0;32m--> 598\u001b[0;31m               ctx=ctx)\n\u001b[0m\u001b[1;32m    599\u001b[0m         \u001b[0;32melse\u001b[0m\u001b[0;34m:\u001b[0m\u001b[0;34m\u001b[0m\u001b[0;34m\u001b[0m\u001b[0m\n\u001b[1;32m    600\u001b[0m           outputs = execute.execute_with_cancellation(\n",
      "\u001b[0;32m~/anaconda3/envs/tensorflow/lib/python3.7/site-packages/tensorflow/python/eager/execute.py\u001b[0m in \u001b[0;36mquick_execute\u001b[0;34m(op_name, num_outputs, inputs, attrs, ctx, name)\u001b[0m\n\u001b[1;32m     58\u001b[0m     \u001b[0mctx\u001b[0m\u001b[0;34m.\u001b[0m\u001b[0mensure_initialized\u001b[0m\u001b[0;34m(\u001b[0m\u001b[0;34m)\u001b[0m\u001b[0;34m\u001b[0m\u001b[0;34m\u001b[0m\u001b[0m\n\u001b[1;32m     59\u001b[0m     tensors = pywrap_tfe.TFE_Py_Execute(ctx._handle, device_name, op_name,\n\u001b[0;32m---> 60\u001b[0;31m                                         inputs, attrs, num_outputs)\n\u001b[0m\u001b[1;32m     61\u001b[0m   \u001b[0;32mexcept\u001b[0m \u001b[0mcore\u001b[0m\u001b[0;34m.\u001b[0m\u001b[0m_NotOkStatusException\u001b[0m \u001b[0;32mas\u001b[0m \u001b[0me\u001b[0m\u001b[0;34m:\u001b[0m\u001b[0;34m\u001b[0m\u001b[0;34m\u001b[0m\u001b[0m\n\u001b[1;32m     62\u001b[0m     \u001b[0;32mif\u001b[0m \u001b[0mname\u001b[0m \u001b[0;32mis\u001b[0m \u001b[0;32mnot\u001b[0m \u001b[0;32mNone\u001b[0m\u001b[0;34m:\u001b[0m\u001b[0;34m\u001b[0m\u001b[0;34m\u001b[0m\u001b[0m\n",
      "\u001b[0;31mKeyboardInterrupt\u001b[0m: "
     ]
    }
   ],
   "source": [
    "history = model.fit(X_train, y_train, batch_size = 1024, epochs = 10, \n",
    "                    validation_split = 0.25, shuffle = True, callbacks = None,\n",
    "                    use_multiprocessing=True, workers=4)"
   ]
  },
  {
   "cell_type": "code",
   "execution_count": 129,
   "metadata": {},
   "outputs": [
    {
     "data": {
      "image/png": "[encoded data removed]",
      "text/plain": [
       "<Figure size 720x576 with 1 Axes>"
      ]
     },
     "metadata": {
      "needs_background": "light"
     },
     "output_type": "display_data"
    }
   ],
   "source": [
    "learningCurve(history)"
   ]
  },
  {
   "cell_type": "code",
   "execution_count": 130,
   "metadata": {},
   "outputs": [
    {
     "data": {
      "image/png": "[encoded data removed]",
      "text/plain": [
       "<Figure size 720x576 with 1 Axes>"
      ]
     },
     "metadata": {
      "needs_background": "light"
     },
     "output_type": "display_data"
    }
   ],
   "source": [
    "y_pred = makeRoc(X_test, y_test, labels, model, outputSuffix='two-layer')"
   ]
  },
  {
   "cell_type": "code",
   "execution_count": 131,
   "metadata": {},
   "outputs": [],
   "source": [
    "model.save('LSTMDNNVERTEX2CLASS.h5')"
   ]
  },
  {
   "cell_type": "code",
   "execution_count": 141,
   "metadata": {},
   "outputs": [
    {
     "name": "stdout",
     "output_type": "stream",
     "text": [
      "Model: \"model_19\"\n",
      "_________________________________________________________________\n",
      "Layer (type)                 Output Shape              Param #   \n",
      "=================================================================\n",
      "input_20 (InputLayer)        [(None, 15, 7)]           0         \n",
      "_________________________________________________________________\n",
      "lstm1 (LSTM)                 (None, 16)                1536      \n",
      "_________________________________________________________________\n",
      "flatten_8 (Flatten)          (None, 16)                0         \n",
      "_________________________________________________________________\n",
      "output_sigmoid (Dense)       (None, 1)                 17        \n",
      "=================================================================\n",
      "Total params: 1,553\n",
      "Trainable params: 1,553\n",
      "Non-trainable params: 0\n",
      "_________________________________________________________________\n"
     ]
    }
   ],
   "source": [
    "Inputs = Input(shape=(15,7))\n",
    "x = LSTM(16, kernel_initializer = 'VarianceScaling', kernel_regularizer = regularizers.l1_l2(l1= 9.999E-5, l2 = 0.0), name = 'lstm1')(Inputs)\n",
    "x = Flatten(trainable= True)(x)\n",
    "predictions = Dense(1, activation='sigmoid', kernel_initializer='lecun_uniform', name = 'output_sigmoid')(x)\n",
    "model = Model(inputs=Inputs, outputs=predictions)\n",
    "model.summary()\n"
   ]
  },
  {
   "cell_type": "code",
   "execution_count": 142,
   "metadata": {},
   "outputs": [],
   "source": [
    "adam = Adam(lr = 0.0001)\n",
    "model.compile(optimizer='adam', loss='binary_crossentropy', metrics=['accuracy'])"
   ]
  },
  {
   "cell_type": "code",
   "execution_count": 143,
   "metadata": {},
   "outputs": [
    {
     "name": "stdout",
     "output_type": "stream",
     "text": [
      "Epoch 1/10\n",
      "269/269 [==============================] - 14s 50ms/step - loss: 0.4945 - accuracy: 0.7797 - val_loss: 0.3997 - val_accuracy: 0.8317\n",
      "Epoch 2/10\n",
      "269/269 [==============================] - 12s 46ms/step - loss: 0.3913 - accuracy: 0.8346 - val_loss: 0.3851 - val_accuracy: 0.8369\n",
      "Epoch 3/10\n",
      "269/269 [==============================] - 13s 48ms/step - loss: 0.3795 - accuracy: 0.8389 - val_loss: 0.3743 - val_accuracy: 0.8410\n",
      "Epoch 4/10\n",
      "269/269 [==============================] - 16s 61ms/step - loss: 0.3716 - accuracy: 0.8423 - val_loss: 0.3685 - val_accuracy: 0.8435\n",
      "Epoch 5/10\n",
      "269/269 [==============================] - 14s 54ms/step - loss: 0.3674 - accuracy: 0.8439 - val_loss: 0.3667 - val_accuracy: 0.8450\n",
      "Epoch 6/10\n",
      "269/269 [==============================] - 13s 48ms/step - loss: 0.3646 - accuracy: 0.8449 - val_loss: 0.3620 - val_accuracy: 0.8459\n",
      "Epoch 7/10\n",
      "269/269 [==============================] - 12s 46ms/step - loss: 0.3628 - accuracy: 0.8452 - val_loss: 0.3606 - val_accuracy: 0.8463\n",
      "Epoch 8/10\n",
      "269/269 [==============================] - 14s 54ms/step - loss: 0.3608 - accuracy: 0.8459 - val_loss: 0.3593 - val_accuracy: 0.8469\n",
      "Epoch 9/10\n",
      "269/269 [==============================] - 15s 54ms/step - loss: 0.3597 - accuracy: 0.8463 - val_loss: 0.3599 - val_accuracy: 0.8464\n",
      "Epoch 10/10\n",
      "269/269 [==============================] - 14s 54ms/step - loss: 0.3589 - accuracy: 0.8469 - val_loss: 0.3569 - val_accuracy: 0.8477\n"
     ]
    }
   ],
   "source": [
    "history = model.fit(X_train, y_train, batch_size = 1024, epochs = 10, \n",
    "                    validation_split = 0.25, shuffle = True, callbacks = None,\n",
    "                    use_multiprocessing=True, workers=4)"
   ]
  },
  {
   "cell_type": "code",
   "execution_count": 145,
   "metadata": {},
   "outputs": [
    {
     "data": {
      "image/png": "[encoded data removed]",
      "text/plain": [
       "<Figure size 720x576 with 1 Axes>"
      ]
     },
     "metadata": {
      "needs_background": "light"
     },
     "output_type": "display_data"
    }
   ],
   "source": [
    "learningCurve(history)"
   ]
  },
  {
   "cell_type": "code",
   "execution_count": 146,
   "metadata": {},
   "outputs": [
    {
     "data": {
      "image/png": "[encoded data removed]",
      "text/plain": [
       "<Figure size 720x576 with 1 Axes>"
      ]
     },
     "metadata": {
      "needs_background": "light"
     },
     "output_type": "display_data"
    }
   ],
   "source": [
    "y_pred = makeRoc(X_test, y_test, labels, model, outputSuffix='two-layer')"
   ]
  },
  {
   "cell_type": "code",
   "execution_count": null,
   "metadata": {},
   "outputs": [],
   "source": [
    "import external_RNN_code.py"
   ]
  },
  {
   "cell_type": "code",
   "execution_count": 18,
   "metadata": {},
   "outputs": [],
   "source": [
    "def Pair_inputs(data, num_tracks_for_pairing = 15):\n",
    "    \"\"\"\n",
    "        assuming data shape is: (batch, num_tracks, 13)\n",
    "    \n",
    "        returns:\n",
    "        ---------\n",
    "        (batch , num_tracks_for_pairing**2, 26)\n",
    "    \"\"\"\n",
    "\n",
    "    # Example: input of shape (batch, 10 (const. #tracks), 13)\n",
    "    # --> 100 pairs including (a,b), (b,a)\n",
    "    # stacking the pairs' features together --> 2*13 features\n",
    "    # will be re-permuted & duplicated into (batch, 100, 26)\n",
    "    # [optional] transpose / reshape --> (batch * 100, 26)\n",
    "\n",
    "    sp = data.shape\n",
    "    \n",
    "    num_feat = sp[2]\n",
    "    assert data.ndim==3\n",
    "\n",
    "    result = np.zeros((sp[0], num_tracks_for_pairing**2, num_feat*2),'float32')\n",
    "\n",
    "    \n",
    "    for i in range(num_tracks_for_pairing):\n",
    "        result[:, i::num_tracks_for_pairing, :num_feat] = data\n",
    "        result[:, i*num_tracks_for_pairing:num_tracks_for_pairing + i*num_tracks_for_pairing, num_feat:] = data\n",
    "\n",
    "    return result\n",
    "\n",
    "\n",
    "\n",
    "\n",
    "\n",
    "\n",
    "def build_External_RNN(special_layer_hidden_units=20, \n",
    "                                 num_tracks_for_pairing = 15, \n",
    "                                 hidden_layers = [300, 300], \n",
    "                                 dropout_rates = [0.2, 0.2],\n",
    "                                 num_classes = 2, \n",
    "                                 num_input_features = 13, \n",
    "                                 weight_decay_rate = None):\n",
    "    '''\n",
    "     Example: original features have input shape (batch, 15 (const. #tracks), 13)\n",
    "     --> 225 pairs including (a,b), (b,a), -- (we could remove those double-counts)\n",
    "     stacking the pair's features together --> 2*13 features\n",
    "     --> model expects input of shape: (batch, 225, 26)\n",
    "         \n",
    "     Apply FC-layer with <num_units> neurons (don't choose too many as everything will be big) along the time axis \n",
    "     [note that flatten_input=False takes care of this in my DNN code, but keras might need somthine like TimeDistributed()].\n",
    "     \n",
    "     Then put standard MLP on it\n",
    "    '''\n",
    "\n",
    "    input_mid = layers.Input(shape=(None, num_tracks_for_pairing**2, 2 * num_input_features))\n",
    "\n",
    "    #(batch , 100, 26)\n",
    "    L = layers.Layer_Dense(input_mid, special_layer_hidden_units, flatten_input=False, activation_function='ReLu')\n",
    "    #(batch , 100, special_layer_hidden_units)\n",
    "\n",
    "    for i, nh in enumerate(hidden_layers):\n",
    "        L = layers.Layer_Dropout(L, dropout_rate=dropout_rates[i])\n",
    "        L = layers.Layer_Dense(L, nh, flatten_input=True, activation_function='ReLu')\n",
    "\n",
    "    last = layers.Layer_Dense(L, num_classes, activation_function='linear')\n",
    "\n",
    "    lay = layers.Layer_Output(last)\n",
    "    \n",
    "    dnn = GNET.model()\n",
    "    dnn.add(lay)\n",
    "    dnn.InitializeModel(weight_decay_rate = weight_decay_rate)\n",
    "    return dnn\n",
    "\n"
   ]
  },
  {
   "cell_type": "code",
   "execution_count": null,
   "metadata": {},
   "outputs": [],
   "source": [
    "GNET.model"
   ]
  },
  {
   "cell_type": "code",
   "execution_count": 23,
   "metadata": {},
   "outputs": [],
   "source": [
    "pair = Pair_inputs(features)"
   ]
  },
  {
   "cell_type": "code",
   "execution_count": 25,
   "metadata": {},
   "outputs": [],
   "source": [
    "f = h5py.File('pair_inputs.h5', 'w')"
   ]
  },
  {
   "cell_type": "code",
   "execution_count": 26,
   "metadata": {},
   "outputs": [
    {
     "data": {
      "text/plain": [
       "<HDF5 dataset \"features\": shape (458720, 15, 7), type \"<f8\">"
      ]
     },
     "execution_count": 26,
     "metadata": {},
     "output_type": "execute_result"
    }
   ],
   "source": [
    "f.create_dataset(data = features, name = 'features')"
   ]
  },
  {
   "cell_type": "code",
   "execution_count": 30,
   "metadata": {},
   "outputs": [],
   "source": [
    "f.close()"
   ]
  },
  {
   "cell_type": "code",
   "execution_count": 31,
   "metadata": {},
   "outputs": [],
   "source": [
    "f = h5py.File('pair_inputs.h5', 'r')"
   ]
  },
  {
   "cell_type": "code",
   "execution_count": 33,
   "metadata": {},
   "outputs": [],
   "source": [
    "f.close()"
   ]
  },
  {
   "cell_type": "code",
   "execution_count": null,
   "metadata": {},
   "outputs": [],
   "source": [
    "pair"
   ]
  },
  {
   "cell_type": "code",
   "execution_count": 24,
   "metadata": {},
   "outputs": [],
   "source": [
    "X_train, X_test, y_train, y_test = train_test_split(pair,lab,test_size = 0.2, random_state = 42)\n"
   ]
  },
  {
   "cell_type": "code",
   "execution_count": null,
   "metadata": {},
   "outputs": [],
   "source": [
    "X_train.shape"
   ]
  },
  {
   "cell_type": "code",
   "execution_count": 27,
   "metadata": {},
   "outputs": [],
   "source": [
    "adam = Adam(lr = 0.002)\n",
    "model.compile(optimizer='adam', loss='binary_crossentropy', metrics=['accuracy'])"
   ]
  },
  {
   "cell_type": "code",
   "execution_count": 26,
   "metadata": {},
   "outputs": [
    {
     "name": "stdout",
     "output_type": "stream",
     "text": [
      "Model: \"model\"\n",
      "_________________________________________________________________\n",
      "Layer (type)                 Output Shape              Param #   \n",
      "=================================================================\n",
      "input_1 (InputLayer)         [(None, 225, 14)]         0         \n",
      "_________________________________________________________________\n",
      "time_distributed (TimeDistri (None, 225, 10)           150       \n",
      "_________________________________________________________________\n",
      "dropout (Dropout)            (None, 225, 10)           0         \n",
      "_________________________________________________________________\n",
      "flatten (Flatten)            (None, 2250)              0         \n",
      "_________________________________________________________________\n",
      "fc7 (Dense)                  (None, 6)                 13506     \n",
      "_________________________________________________________________\n",
      "dropout_1 (Dropout)          (None, 6)                 0         \n",
      "_________________________________________________________________\n",
      "fc6 (Dense)                  (None, 2)                 14        \n",
      "_________________________________________________________________\n",
      "output_sigmoid (Dense)       (None, 1)                 3         \n",
      "=================================================================\n",
      "Total params: 13,673\n",
      "Trainable params: 13,673\n",
      "Non-trainable params: 0\n",
      "_________________________________________________________________\n"
     ]
    }
   ],
   "source": [
    "Inputs = Input(shape=(225,14))\n",
    "x = TimeDistributed(Dense(10, activation='relu', kernel_initializer='lecun_uniform', name='fc1'))(Inputs)\n",
    "x= Dropout(rate = 0.3)(x)\n",
    "x=Flatten()(x)\n",
    "x = Dense(6, activation='relu', kernel_initializer='lecun_uniform', name='fc7')(x)\n",
    "x = Dropout(rate = 0.3)(x)\n",
    "x = Dense(2, activation='relu', kernel_initializer='lecun_uniform', name='fc6')(x)\n",
    "\n",
    "predictions = Dense(1, activation='sigmoid', kernel_initializer='lecun_uniform', name = 'output_sigmoid')(x)\n",
    "model = Model(inputs=Inputs, outputs=predictions)\n",
    "model.summary()"
   ]
  },
  {
   "cell_type": "code",
   "execution_count": 28,
   "metadata": {},
   "outputs": [
    {
     "name": "stdout",
     "output_type": "stream",
     "text": [
      "Epoch 1/25\n",
      "269/269 [==============================] - 18s 67ms/step - loss: 0.4886 - accuracy: 0.7770 - val_loss: 0.3972 - val_accuracy: 0.8174\n",
      "Epoch 2/25\n",
      "269/269 [==============================] - 20s 74ms/step - loss: 0.4323 - accuracy: 0.8001 - val_loss: 0.3885 - val_accuracy: 0.8293\n",
      "Epoch 3/25\n",
      "269/269 [==============================] - 20s 73ms/step - loss: 0.4252 - accuracy: 0.8063 - val_loss: 0.3828 - val_accuracy: 0.8334\n",
      "Epoch 4/25\n",
      "269/269 [==============================] - 20s 75ms/step - loss: 0.4211 - accuracy: 0.8093 - val_loss: 0.3789 - val_accuracy: 0.8353\n",
      "Epoch 5/25\n",
      "269/269 [==============================] - 20s 74ms/step - loss: 0.4164 - accuracy: 0.8130 - val_loss: 0.3770 - val_accuracy: 0.8341\n",
      "Epoch 6/25\n",
      "269/269 [==============================] - 21s 80ms/step - loss: 0.4132 - accuracy: 0.8162 - val_loss: 0.3740 - val_accuracy: 0.8360\n",
      "Epoch 7/25\n",
      "269/269 [==============================] - 22s 84ms/step - loss: 0.4088 - accuracy: 0.8180 - val_loss: 0.3683 - val_accuracy: 0.8377\n",
      "Epoch 8/25\n",
      "269/269 [==============================] - 24s 90ms/step - loss: 0.4054 - accuracy: 0.8210 - val_loss: 0.3681 - val_accuracy: 0.8381\n",
      "Epoch 9/25\n",
      "269/269 [==============================] - 21s 80ms/step - loss: 0.4016 - accuracy: 0.8244 - val_loss: 0.3681 - val_accuracy: 0.8367\n",
      "Epoch 10/25\n",
      "269/269 [==============================] - 21s 80ms/step - loss: 0.3971 - accuracy: 0.8287 - val_loss: 0.3637 - val_accuracy: 0.8409\n",
      "Epoch 11/25\n",
      "269/269 [==============================] - 24s 88ms/step - loss: 0.3932 - accuracy: 0.8298 - val_loss: 0.3619 - val_accuracy: 0.8432\n",
      "Epoch 12/25\n",
      "269/269 [==============================] - 19s 71ms/step - loss: 0.3910 - accuracy: 0.8307 - val_loss: 0.3641 - val_accuracy: 0.8416\n",
      "Epoch 13/25\n",
      "269/269 [==============================] - 23s 84ms/step - loss: 0.3905 - accuracy: 0.8313 - val_loss: 0.3619 - val_accuracy: 0.8436\n",
      "Epoch 14/25\n",
      "269/269 [==============================] - 22s 82ms/step - loss: 0.3892 - accuracy: 0.8315 - val_loss: 0.3619 - val_accuracy: 0.8430\n",
      "Epoch 15/25\n",
      "269/269 [==============================] - 26s 95ms/step - loss: 0.3879 - accuracy: 0.8318 - val_loss: 0.3602 - val_accuracy: 0.8442\n",
      "Epoch 16/25\n",
      "269/269 [==============================] - 21s 78ms/step - loss: 0.3866 - accuracy: 0.8330 - val_loss: 0.3613 - val_accuracy: 0.8434\n",
      "Epoch 17/25\n",
      "269/269 [==============================] - 20s 76ms/step - loss: 0.3863 - accuracy: 0.8325 - val_loss: 0.3609 - val_accuracy: 0.8425\n",
      "Epoch 18/25\n",
      "269/269 [==============================] - 22s 80ms/step - loss: 0.3867 - accuracy: 0.8328 - val_loss: 0.3596 - val_accuracy: 0.8443\n",
      "Epoch 19/25\n",
      "269/269 [==============================] - 21s 78ms/step - loss: 0.3857 - accuracy: 0.8330 - val_loss: 0.3599 - val_accuracy: 0.8439\n",
      "Epoch 20/25\n",
      "269/269 [==============================] - 21s 78ms/step - loss: 0.3844 - accuracy: 0.8336 - val_loss: 0.3598 - val_accuracy: 0.8430\n",
      "Epoch 21/25\n",
      "269/269 [==============================] - 25s 92ms/step - loss: 0.3846 - accuracy: 0.8331 - val_loss: 0.3584 - val_accuracy: 0.8444\n",
      "Epoch 22/25\n",
      "269/269 [==============================] - 25s 93ms/step - loss: 0.3843 - accuracy: 0.8337 - val_loss: 0.3611 - val_accuracy: 0.8439\n",
      "Epoch 23/25\n",
      "269/269 [==============================] - 25s 92ms/step - loss: 0.3839 - accuracy: 0.8336 - val_loss: 0.3587 - val_accuracy: 0.8434\n",
      "Epoch 24/25\n",
      "269/269 [==============================] - 20s 76ms/step - loss: 0.3833 - accuracy: 0.8342 - val_loss: 0.3588 - val_accuracy: 0.8441\n",
      "Epoch 25/25\n",
      "269/269 [==============================] - 23s 85ms/step - loss: 0.3838 - accuracy: 0.8336 - val_loss: 0.3581 - val_accuracy: 0.8449\n"
     ]
    }
   ],
   "source": [
    "history = model.fit(X_train, y_train, batch_size = 1024, epochs = 25, \n",
    "                    validation_split = 0.25, shuffle = True, callbacks = None,\n",
    "                    use_multiprocessing=True, workers=4)"
   ]
  },
  {
   "cell_type": "code",
   "execution_count": 31,
   "metadata": {},
   "outputs": [
    {
     "data": {
      "image/png": "[encoded data removed]",
      "text/plain": [
       "<Figure size 720x576 with 1 Axes>"
      ]
     },
     "metadata": {
      "needs_background": "light"
     },
     "output_type": "display_data"
    }
   ],
   "source": [
    "y_pred = makeRoc(X_test, y_test, labels, model, outputSuffix='two-layer')"
   ]
  },
  {
   "cell_type": "code",
   "execution_count": 31,
   "metadata": {},
   "outputs": [],
   "source": [
    "labels = ['light/charm&bottom']\n"
   ]
  },
  {
   "cell_type": "code",
   "execution_count": 32,
   "metadata": {},
   "outputs": [
    {
     "data": {
      "image/png": "[encoded data removed]",
      "text/plain": [
       "<Figure size 720x576 with 1 Axes>"
      ]
     },
     "metadata": {
      "needs_background": "light"
     },
     "output_type": "display_data"
    }
   ],
   "source": [
    "learningCurve(history)"
   ]
  },
  {
   "cell_type": "code",
   "execution_count": 50,
   "metadata": {},
   "outputs": [],
   "source": [
    "model.save('EXTERNALRNN_VERTEX_SMALL_TIMEDISTRIBUTED.h5')"
   ]
  },
  {
   "cell_type": "code",
   "execution_count": 4,
   "metadata": {},
   "outputs": [],
   "source": [
    "model = keras.models.load_model('EXTERNALRNNVERTEXSMALL.h5')"
   ]
  },
  {
   "cell_type": "code",
   "execution_count": 5,
   "metadata": {},
   "outputs": [
    {
     "name": "stdout",
     "output_type": "stream",
     "text": [
      "Model: \"model_8\"\n",
      "_________________________________________________________________\n",
      "Layer (type)                 Output Shape              Param #   \n",
      "=================================================================\n",
      "input_11 (InputLayer)        [(None, 225, 14)]         0         \n",
      "_________________________________________________________________\n",
      "flatten_10 (Flatten)         (None, 3150)              0         \n",
      "_________________________________________________________________\n",
      "fc7 (Dense)                  (None, 4)                 12604     \n",
      "_________________________________________________________________\n",
      "dropout_16 (Dropout)         (None, 4)                 0         \n",
      "_________________________________________________________________\n",
      "fc8 (Dense)                  (None, 2)                 10        \n",
      "_________________________________________________________________\n",
      "output_sigmoid (Dense)       (None, 3)                 9         \n",
      "=================================================================\n",
      "Total params: 12,623\n",
      "Trainable params: 12,623\n",
      "Non-trainable params: 0\n",
      "_________________________________________________________________\n"
     ]
    }
   ],
   "source": [
    "model.summary()"
   ]
  },
  {
   "cell_type": "code",
   "execution_count": null,
   "metadata": {},
   "outputs": [],
   "source": []
  }
 ],
 "metadata": {
  "kernelspec": {
   "display_name": "Python 3",
   "language": "python",
   "name": "python3"
  },
  "language_info": {
   "codemirror_mode": {
    "name": "ipython",
    "version": 3
   },
   "file_extension": ".py",
   "mimetype": "text/x-python",
   "name": "python",
   "nbconvert_exporter": "python",
   "pygments_lexer": "ipython3",
   "version": "3.7.9"
  }
 },
 "nbformat": 4,
 "nbformat_minor": 4
}
