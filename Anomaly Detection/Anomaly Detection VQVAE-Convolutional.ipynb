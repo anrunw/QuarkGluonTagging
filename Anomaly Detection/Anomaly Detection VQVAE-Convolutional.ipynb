{
 "cells": [
  {
   "cell_type": "code",
   "execution_count": 30,
   "id": "statutory-klein",
   "metadata": {},
   "outputs": [],
   "source": [
    "import numpy as np\n",
    "import matplotlib.pyplot as plt\n",
    "\n",
    "from tensorflow import keras\n",
    "from tensorflow.keras import layers\n",
    "import tensorflow_probability as tfp\n",
    "import tensorflow as tf\n",
    "import h5py\n",
    "from tqdm import tqdm\n",
    "from tensorflow.keras.models import Model\n",
    "\n",
    "from tensorflow.keras.layers import Input, Dense,ZeroPadding2D, BatchNormalization, Activation, Layer, ReLU, LeakyReLU,Conv2D,AveragePooling2D,UpSampling2D,Reshape,Flatten\n",
    "\n",
    "# gpu = tf.config.experimental.list_physical_devices('GPU')[0]\n",
    "# tf.config.experimental.set_memory_growth(gpu, True)"
   ]
  },
  {
   "cell_type": "code",
   "execution_count": 2,
   "id": "hundred-board",
   "metadata": {},
   "outputs": [],
   "source": [
    "class VectorQuantizer(layers.Layer):\n",
    "    def __init__(self, num_embeddings, embedding_dim, beta=0.25, **kwargs): #assuming latent_dim=16, n_embd=128, the input will be (,7,7,16), output is still (,7,7,16)\n",
    "        super().__init__(**kwargs)\n",
    "        self.embedding_dim = embedding_dim\n",
    "        self.num_embeddings = num_embeddings\n",
    "        self.beta = (\n",
    "            beta  # This parameter is best kept between [0.25, 2] as per the paper.\n",
    "        )\n",
    "\n",
    "        # Initialize the embeddings which we will quantize.\n",
    "        w_init = tf.random_uniform_initializer()\n",
    "        self.embeddings = tf.Variable(\n",
    "            initial_value=w_init(\n",
    "                shape=(self.embedding_dim, self.num_embeddings), dtype=\"float32\"\n",
    "            ),\n",
    "            trainable=True,\n",
    "            name=\"embeddings_vqvae\",\n",
    "        ) # latent * n_embd float 32 ~ 5k pamaters 2D\n",
    "\n",
    "    def call(self, x):\n",
    "        # Calculate the input shape of the inputs and\n",
    "        # then flatten the inputs keeping `embedding_dim` intact.\n",
    "        input_shape = tf.shape(x)\n",
    "        flattened = tf.reshape(x, [-1, self.embedding_dim]) # (batch * 7 * 7, 16)\n",
    "\n",
    "        # Quantization.\n",
    "        encoding_indices = self.get_code_indices(flattened) # for each input image, 49 element output from conv2D, each one corresponding to one of the 128 embeded vector\n",
    "        encodings = tf.one_hot(encoding_indices, self.num_embeddings) # (flat,128) ont hot\n",
    "        quantized = tf.matmul(encodings, self.embeddings, transpose_b=True) # (flat,128)*((16,128).T) = (flat,16), each element corresponding to one embded vector\n",
    "        quantized = tf.reshape(quantized, input_shape) #reshaping thr flat to batch * 7 * 7, each position corresponding to one embded vector\n",
    "\n",
    "        # Calculate vector quantization loss and add that to the layer. You can learn more\n",
    "        # about adding losses to different layers here:\n",
    "        # https://keras.io/guides/making_new_layers_and_models_via_subclassing/. Check\n",
    "        # the original paper to get a handle on the formulation of the loss function.\n",
    "        commitment_loss = self.beta * tf.reduce_mean(\n",
    "            (tf.stop_gradient(quantized) - x) ** 2\n",
    "        )\n",
    "        codebook_loss = tf.reduce_mean((quantized - tf.stop_gradient(x)) ** 2)\n",
    "        self.add_loss(commitment_loss + codebook_loss)\n",
    "\n",
    "        # Straight-through estimator.\n",
    "        quantized = x + tf.stop_gradient(quantized - x)\n",
    "        return quantized\n",
    "\n",
    "    def get_code_indices(self, flattened_inputs):\n",
    "        # Calculate L2-normalized distance between the inputs and the codes.\n",
    "        similarity = tf.matmul(flattened_inputs, self.embeddings) #product the (batch * 7 * 7, 16) and (16,128), that is (batch * 7 * 7, 128);;let flat=batch * 7 * 7\n",
    "        distances = (\n",
    "            tf.reduce_sum(flattened_inputs ** 2, axis=1, keepdims=True) \n",
    "            + tf.reduce_sum(self.embeddings ** 2, axis=0)\n",
    "            - 2 * similarity\n",
    "        ) #(flat,1)+(128)-(flat,128) ?\n",
    "\n",
    "        # Derive the indices for minimum distances.\n",
    "        encoding_indices = tf.argmin(distances, axis=1) #return the id of one of the embeddings, then it is a (flat) 1D array contianting 0~128\n",
    "        \n",
    "#         print(flattened_inputs.shape) #flat,16\n",
    "#         print(tf.reduce_sum(flattened_inputs ** 2, axis=1, keepdims=True).shape) #(flat,1)\n",
    "#         print(self.embeddings.shape) #(16,128)\n",
    "#         print(tf.reduce_sum(self.embeddings ** 2, axis=0).shape) # (128)\n",
    "#         print(similarity.shape) #(flat,128)\n",
    "#         print(distances.shape) #(flat,128)\n",
    "#         print(encoding_indices.shape)#(flat)\n",
    "        return encoding_indices #quantized to a number, like 0~128\n"
   ]
  },
  {
   "cell_type": "code",
   "execution_count": 47,
   "id": "legislative-absorption",
   "metadata": {},
   "outputs": [],
   "source": [
    "def get_encoder(latent_dim=16):\n",
    "    encoder_inputs = keras.Input(shape=(19, 3, 1))\n",
    "    x = Conv2D(10, kernel_size=(3, 3),\n",
    "         use_bias=False, data_format='channels_last', padding='same')(encoder_inputs)\n",
    "    x = AveragePooling2D(pool_size = (2, 1))(x)\n",
    "    x = BatchNormalization()(x)\n",
    "    x = Activation('relu')(x)\n",
    "    x = Flatten()(x)\n",
    "    x = Dense(latent_dim)(x)\n",
    "    encoder_outputs = Activation('relu')(x)\n",
    "    return Model(inputs=encoder_inputs, outputs=encoder_outputs)\n",
    "\n",
    "\n",
    "def get_decoder(latent_dim=16):\n",
    "    latent_inputs = keras.Input(shape=get_encoder(latent_dim).output.shape[1:])\n",
    "    x = Dense(270)(latent_inputs)\n",
    "    x = Activation('relu')(x)\n",
    "    x = Reshape((9,3,10))(x)\n",
    "    x = UpSampling2D((2, 1))(x)\n",
    "    x = ZeroPadding2D(((1, 0),(0,0)))(x)\n",
    "    x = Conv2D(1, kernel_size=(3,3), use_bias=False, data_format='channels_last', padding='same')(x)\n",
    "    x = BatchNormalization()(x)\n",
    "    dec = Activation('relu')(x)\n",
    "\n",
    "    return Model(inputs=latent_inputs, outputs= dec)\n"
   ]
  },
  {
   "cell_type": "code",
   "execution_count": 48,
   "id": "russian-occasion",
   "metadata": {},
   "outputs": [
    {
     "data": {
      "text/plain": [
       "TensorShape([16])"
      ]
     },
     "execution_count": 48,
     "metadata": {},
     "output_type": "execute_result"
    }
   ],
   "source": [
    "get_encoder(16).output.shape[1:]"
   ]
  },
  {
   "cell_type": "code",
   "execution_count": 49,
   "id": "pressed-warning",
   "metadata": {},
   "outputs": [
    {
     "name": "stdout",
     "output_type": "stream",
     "text": [
      "Model: \"functional_19\"\n",
      "_________________________________________________________________\n",
      "Layer (type)                 Output Shape              Param #   \n",
      "=================================================================\n",
      "input_37 (InputLayer)        [(None, 19, 3, 1)]        0         \n",
      "_________________________________________________________________\n",
      "conv2d_52 (Conv2D)           (None, 19, 3, 10)         90        \n",
      "_________________________________________________________________\n",
      "average_pooling2d_15 (Averag (None, 9, 3, 10)          0         \n",
      "_________________________________________________________________\n",
      "batch_normalization_17 (Batc (None, 9, 3, 10)          40        \n",
      "_________________________________________________________________\n",
      "activation_32 (Activation)   (None, 9, 3, 10)          0         \n",
      "_________________________________________________________________\n",
      "flatten_15 (Flatten)         (None, 270)               0         \n",
      "_________________________________________________________________\n",
      "dense_16 (Dense)             (None, 16)                4336      \n",
      "_________________________________________________________________\n",
      "activation_33 (Activation)   (None, 16)                0         \n",
      "=================================================================\n",
      "Total params: 4,466\n",
      "Trainable params: 4,446\n",
      "Non-trainable params: 20\n",
      "_________________________________________________________________\n"
     ]
    }
   ],
   "source": [
    "get_encoder(16).summary()"
   ]
  },
  {
   "cell_type": "code",
   "execution_count": 50,
   "id": "least-running",
   "metadata": {},
   "outputs": [
    {
     "name": "stdout",
     "output_type": "stream",
     "text": [
      "Model: \"functional_23\"\n",
      "_________________________________________________________________\n",
      "Layer (type)                 Output Shape              Param #   \n",
      "=================================================================\n",
      "input_39 (InputLayer)        [(None, 32)]              0         \n",
      "_________________________________________________________________\n",
      "dense_18 (Dense)             (None, 270)               8910      \n",
      "_________________________________________________________________\n",
      "activation_36 (Activation)   (None, 270)               0         \n",
      "_________________________________________________________________\n",
      "reshape_2 (Reshape)          (None, 9, 3, 10)          0         \n",
      "_________________________________________________________________\n",
      "up_sampling2d_2 (UpSampling2 (None, 18, 3, 10)         0         \n",
      "_________________________________________________________________\n",
      "zero_padding2d_2 (ZeroPaddin (None, 19, 3, 10)         0         \n",
      "_________________________________________________________________\n",
      "conv2d_54 (Conv2D)           (None, 19, 3, 1)          90        \n",
      "_________________________________________________________________\n",
      "batch_normalization_19 (Batc (None, 19, 3, 1)          4         \n",
      "_________________________________________________________________\n",
      "activation_37 (Activation)   (None, 19, 3, 1)          0         \n",
      "=================================================================\n",
      "Total params: 9,004\n",
      "Trainable params: 9,002\n",
      "Non-trainable params: 2\n",
      "_________________________________________________________________\n"
     ]
    }
   ],
   "source": [
    "get_decoder(32).summary()"
   ]
  },
  {
   "cell_type": "code",
   "execution_count": 51,
   "id": "military-turning",
   "metadata": {},
   "outputs": [],
   "source": [
    "def get_vqvae(latent_dim=16, num_embeddings=64):\n",
    "    vq_layer = VectorQuantizer(num_embeddings, latent_dim, name=\"vector_quantizer\")\n",
    "    encoder = get_encoder(latent_dim)\n",
    "    decoder = get_decoder(latent_dim)\n",
    "    inputs = keras.Input(shape=(19, 3, 1))\n",
    "    encoder_outputs = encoder(inputs)\n",
    "    quantized_latents = vq_layer(encoder_outputs)\n",
    "    reconstructions = decoder(quantized_latents)\n",
    "    return keras.Model(inputs, reconstructions, name=\"vq_vae\")"
   ]
  },
  {
   "cell_type": "code",
   "execution_count": 52,
   "id": "answering-fundamentals",
   "metadata": {},
   "outputs": [
    {
     "name": "stdout",
     "output_type": "stream",
     "text": [
      "Model: \"vq_vae\"\n",
      "_________________________________________________________________\n",
      "Layer (type)                 Output Shape              Param #   \n",
      "=================================================================\n",
      "input_43 (InputLayer)        [(None, 19, 3, 1)]        0         \n",
      "_________________________________________________________________\n",
      "functional_25 (Functional)   (None, 1)                 401       \n",
      "_________________________________________________________________\n",
      "vector_quantizer (VectorQuan (None, 1)                 128       \n",
      "_________________________________________________________________\n",
      "functional_29 (Functional)   (None, 19, 3, 1)          634       \n",
      "=================================================================\n",
      "Total params: 1,163\n",
      "Trainable params: 1,141\n",
      "Non-trainable params: 22\n",
      "_________________________________________________________________\n"
     ]
    }
   ],
   "source": [
    "get_vqvae(1,128).summary()"
   ]
  },
  {
   "cell_type": "code",
   "execution_count": 53,
   "id": "minus-mason",
   "metadata": {},
   "outputs": [],
   "source": [
    "class VQVAETrainer(keras.models.Model):\n",
    "    def __init__(self, train_variance, latent_dim=32, num_embeddings=128, **kwargs):\n",
    "        super(VQVAETrainer, self).__init__(**kwargs)\n",
    "        self.train_variance = train_variance\n",
    "        self.latent_dim = latent_dim\n",
    "        self.num_embeddings = num_embeddings\n",
    "\n",
    "        self.vqvae = get_vqvae(self.latent_dim, self.num_embeddings)\n",
    "\n",
    "        self.total_loss_tracker = keras.metrics.Mean(name=\"total_loss\")\n",
    "        self.reconstruction_loss_tracker = keras.metrics.Mean(\n",
    "            name=\"reconstruction_loss\"\n",
    "        )\n",
    "        self.vq_loss_tracker = keras.metrics.Mean(name=\"vq_loss\")\n",
    "\n",
    "    @property\n",
    "    def metrics(self):\n",
    "        return [\n",
    "            self.total_loss_tracker,\n",
    "            self.reconstruction_loss_tracker,\n",
    "            self.vq_loss_tracker,\n",
    "        ]\n",
    "\n",
    "    def call(self,x): #bug, the keras required the call here. 2.7 will fix this.\n",
    "        self.train_step(x)\n",
    "    def train_step(self, x):\n",
    "        with tf.GradientTape() as tape:\n",
    "            # Outputs from the VQ-VAE.\n",
    "            reconstructions = self.vqvae(x)\n",
    "\n",
    "            # Calculate the losses.\n",
    "            reconstruction_loss = (\n",
    "                tf.reduce_mean((x - reconstructions) ** 2) / self.train_variance\n",
    "            )\n",
    "            total_loss = reconstruction_loss + sum(self.vqvae.losses)\n",
    "\n",
    "        # Backpropagation.\n",
    "        grads = tape.gradient(total_loss, self.vqvae.trainable_variables)\n",
    "        self.optimizer.apply_gradients(zip(grads, self.vqvae.trainable_variables))\n",
    "\n",
    "        # Loss tracking.\n",
    "        self.total_loss_tracker.update_state(total_loss)\n",
    "        self.reconstruction_loss_tracker.update_state(reconstruction_loss)\n",
    "        self.vq_loss_tracker.update_state(sum(self.vqvae.losses))\n",
    "\n",
    "        # Log results.\n",
    "        return {\n",
    "            \"loss\": self.total_loss_tracker.result(),\n",
    "            \"reconstruction_loss\": self.reconstruction_loss_tracker.result(),\n",
    "            \"vqvae_loss\": self.vq_loss_tracker.result(),\n",
    "        }\n"
   ]
  },
  {
   "cell_type": "code",
   "execution_count": 54,
   "id": "apart-defensive",
   "metadata": {},
   "outputs": [],
   "source": [
    "filename = 'BKG_dataset.h5'"
   ]
  },
  {
   "cell_type": "code",
   "execution_count": 55,
   "id": "lined-generator",
   "metadata": {},
   "outputs": [],
   "source": [
    "# make sure input data has correct input shape - background training data\n",
    "with h5py.File(filename, 'r') as file:\n",
    "    X_train = np.array(file['X_train'])\n",
    "    X_test = np.array(file['X_test'])\n",
    "    X_val = np.array(file['X_val'])"
   ]
  },
  {
   "cell_type": "code",
   "execution_count": 56,
   "id": "manual-english",
   "metadata": {},
   "outputs": [
    {
     "data": {
      "text/plain": [
       "(640000, 57)"
      ]
     },
     "execution_count": 56,
     "metadata": {},
     "output_type": "execute_result"
    }
   ],
   "source": [
    "X_train.shape"
   ]
  },
  {
   "cell_type": "code",
   "execution_count": 57,
   "id": "split-introduction",
   "metadata": {},
   "outputs": [
    {
     "data": {
      "text/plain": [
       "(200000, 57)"
      ]
     },
     "execution_count": 57,
     "metadata": {},
     "output_type": "execute_result"
    }
   ],
   "source": [
    "X_test.shape"
   ]
  },
  {
   "cell_type": "code",
   "execution_count": 58,
   "id": "embedded-kinase",
   "metadata": {},
   "outputs": [],
   "source": [
    "X_train = np.reshape(X_train, (-1, 19,3,1))\n",
    "X_test = np.reshape(X_test, (-1, 19,3,1))\n",
    "X_val = np.reshape(X_val, (-1, 19,3,1))"
   ]
  },
  {
   "cell_type": "code",
   "execution_count": 59,
   "id": "correct-plaintiff",
   "metadata": {},
   "outputs": [
    {
     "data": {
      "text/plain": [
       "(640000, 19, 3, 1)"
      ]
     },
     "execution_count": 59,
     "metadata": {},
     "output_type": "execute_result"
    }
   ],
   "source": [
    "X_train.shape"
   ]
  },
  {
   "cell_type": "code",
   "execution_count": 60,
   "id": "fourth-brazil",
   "metadata": {},
   "outputs": [],
   "source": [
    "training_data = np.concatenate((X_train,X_val))"
   ]
  },
  {
   "cell_type": "code",
   "execution_count": 61,
   "id": "french-champagne",
   "metadata": {},
   "outputs": [],
   "source": [
    "data_variance = np.var(training_data)"
   ]
  },
  {
   "cell_type": "code",
   "execution_count": 64,
   "id": "fifty-shark",
   "metadata": {},
   "outputs": [
    {
     "data": {
      "text/plain": [
       "83.38244512834959"
      ]
     },
     "execution_count": 64,
     "metadata": {},
     "output_type": "execute_result"
    }
   ],
   "source": [
    "data_variance"
   ]
  },
  {
   "cell_type": "code",
   "execution_count": 65,
   "id": "photographic-shower",
   "metadata": {
    "scrolled": true
   },
   "outputs": [
    {
     "name": "stdout",
     "output_type": "stream",
     "text": [
      "Epoch 1/50\n",
      "6250/6250 [==============================] - 38s 6ms/step - loss: 3.7908 - reconstruction_loss: 0.1971 - vqvae_loss: 3.4433\n",
      "Epoch 2/50\n",
      "6250/6250 [==============================] - 36s 6ms/step - loss: 1.3299 - reconstruction_loss: 0.0965 - vqvae_loss: 1.2312\n",
      "Epoch 3/50\n",
      "6250/6250 [==============================] - 37s 6ms/step - loss: 0.7987 - reconstruction_loss: 0.0825 - vqvae_loss: 0.7142\n",
      "Epoch 4/50\n",
      "6250/6250 [==============================] - 37s 6ms/step - loss: 0.6310 - reconstruction_loss: 0.0744 - vqvae_loss: 0.5553\n",
      "Epoch 5/50\n",
      "6250/6250 [==============================] - 37s 6ms/step - loss: 0.5945 - reconstruction_loss: 0.0689 - vqvae_loss: 0.5248\n",
      "Epoch 6/50\n",
      "6250/6250 [==============================] - 36s 6ms/step - loss: 0.5517 - reconstruction_loss: 0.0652 - vqvae_loss: 0.4840\n",
      "Epoch 7/50\n",
      "6250/6250 [==============================] - 37s 6ms/step - loss: 0.5249 - reconstruction_loss: 0.0623 - vqvae_loss: 0.4617\n",
      "Epoch 8/50\n",
      "6250/6250 [==============================] - 40s 6ms/step - loss: 0.4295 - reconstruction_loss: 0.0609 - vqvae_loss: 0.3688\n",
      "Epoch 9/50\n",
      "6250/6250 [==============================] - 36s 6ms/step - loss: 0.4002 - reconstruction_loss: 0.0596 - vqvae_loss: 0.3400\n",
      "Epoch 10/50\n",
      "6250/6250 [==============================] - 38s 6ms/step - loss: 0.3431 - reconstruction_loss: 0.0581 - vqvae_loss: 0.2852\n",
      "Epoch 11/50\n",
      "6250/6250 [==============================] - 36s 6ms/step - loss: 0.3113 - reconstruction_loss: 0.0569 - vqvae_loss: 0.2550\n",
      "Epoch 12/50\n",
      "6250/6250 [==============================] - 37s 6ms/step - loss: 0.2746 - reconstruction_loss: 0.0562 - vqvae_loss: 0.2205\n",
      "Epoch 13/50\n",
      "6250/6250 [==============================] - 37s 6ms/step - loss: 0.2989 - reconstruction_loss: 0.0556 - vqvae_loss: 0.2434\n",
      "Epoch 14/50\n",
      "6250/6250 [==============================] - 36s 6ms/step - loss: 0.2708 - reconstruction_loss: 0.0551 - vqvae_loss: 0.2175\n",
      "Epoch 15/50\n",
      "6250/6250 [==============================] - 36s 6ms/step - loss: 0.2968 - reconstruction_loss: 0.0541 - vqvae_loss: 0.2414\n",
      "Epoch 16/50\n",
      "6250/6250 [==============================] - 36s 6ms/step - loss: 0.2871 - reconstruction_loss: 0.0537 - vqvae_loss: 0.2318\n",
      "Epoch 17/50\n",
      "6250/6250 [==============================] - 40s 6ms/step - loss: 0.2699 - reconstruction_loss: 0.0535 - vqvae_loss: 0.2162\n",
      "Epoch 18/50\n",
      "6250/6250 [==============================] - 44s 7ms/step - loss: 0.2756 - reconstruction_loss: 0.0531 - vqvae_loss: 0.2215\n",
      "Epoch 19/50\n",
      "6250/6250 [==============================] - 45s 7ms/step - loss: 0.2479 - reconstruction_loss: 0.0530 - vqvae_loss: 0.1957\n",
      "Epoch 20/50\n",
      "6250/6250 [==============================] - 49s 8ms/step - loss: 0.2408 - reconstruction_loss: 0.0526 - vqvae_loss: 0.1903\n",
      "Epoch 21/50\n",
      "6250/6250 [==============================] - 46s 7ms/step - loss: 0.2560 - reconstruction_loss: 0.0524 - vqvae_loss: 0.2038\n",
      "Epoch 22/50\n",
      "6250/6250 [==============================] - 51s 8ms/step - loss: 0.2515 - reconstruction_loss: 0.0520 - vqvae_loss: 0.1994\n",
      "Epoch 23/50\n",
      "6250/6250 [==============================] - 50s 8ms/step - loss: 0.2539 - reconstruction_loss: 0.0517 - vqvae_loss: 0.2021\n",
      "Epoch 24/50\n",
      "6250/6250 [==============================] - 51s 8ms/step - loss: 0.2612 - reconstruction_loss: 0.0515 - vqvae_loss: 0.2089\n",
      "Epoch 25/50\n",
      "6250/6250 [==============================] - 51s 8ms/step - loss: 0.2459 - reconstruction_loss: 0.0513 - vqvae_loss: 0.1951\n",
      "Epoch 26/50\n",
      "6250/6250 [==============================] - 50s 8ms/step - loss: 0.2548 - reconstruction_loss: 0.0512 - vqvae_loss: 0.2030\n",
      "Epoch 27/50\n",
      "6250/6250 [==============================] - 45s 7ms/step - loss: 0.2441 - reconstruction_loss: 0.0510 - vqvae_loss: 0.1938\n",
      "Epoch 28/50\n",
      "6250/6250 [==============================] - 45s 7ms/step - loss: 0.2402 - reconstruction_loss: 0.0510 - vqvae_loss: 0.1900\n",
      "Epoch 29/50\n",
      "6250/6250 [==============================] - 53s 8ms/step - loss: 0.2338 - reconstruction_loss: 0.0508 - vqvae_loss: 0.1839\n",
      "Epoch 30/50\n",
      "6250/6250 [==============================] - 50s 8ms/step - loss: 0.2320 - reconstruction_loss: 0.0506 - vqvae_loss: 0.1825\n",
      "Epoch 31/50\n",
      "6250/6250 [==============================] - 44s 7ms/step - loss: 0.2487 - reconstruction_loss: 0.0505 - vqvae_loss: 0.1974\n",
      "Epoch 32/50\n",
      "6250/6250 [==============================] - 47s 8ms/step - loss: 0.2380 - reconstruction_loss: 0.0502 - vqvae_loss: 0.1884\n",
      "Epoch 33/50\n",
      "6250/6250 [==============================] - 49s 8ms/step - loss: 0.2515 - reconstruction_loss: 0.0502 - vqvae_loss: 0.1999\n",
      "Epoch 34/50\n",
      "6250/6250 [==============================] - 48s 8ms/step - loss: 0.2470 - reconstruction_loss: 0.0500 - vqvae_loss: 0.1966\n",
      "Epoch 35/50\n",
      "6250/6250 [==============================] - 48s 8ms/step - loss: 0.2496 - reconstruction_loss: 0.0498 - vqvae_loss: 0.1987\n",
      "Epoch 36/50\n",
      "6250/6250 [==============================] - 43s 7ms/step - loss: 0.2427 - reconstruction_loss: 0.0496 - vqvae_loss: 0.1927\n",
      "Epoch 37/50\n",
      "6250/6250 [==============================] - 48s 8ms/step - loss: 0.2236 - reconstruction_loss: 0.0495 - vqvae_loss: 0.1751\n",
      "Epoch 38/50\n",
      "6250/6250 [==============================] - 48s 8ms/step - loss: 0.2338 - reconstruction_loss: 0.0494 - vqvae_loss: 0.1847\n",
      "Epoch 39/50\n",
      "6250/6250 [==============================] - 56s 9ms/step - loss: 0.2235 - reconstruction_loss: 0.0493 - vqvae_loss: 0.1753\n",
      "Epoch 40/50\n",
      "6250/6250 [==============================] - 51s 8ms/step - loss: 0.2315 - reconstruction_loss: 0.0492 - vqvae_loss: 0.1824\n",
      "Epoch 41/50\n",
      "6250/6250 [==============================] - 50s 8ms/step - loss: 0.2184 - reconstruction_loss: 0.0491 - vqvae_loss: 0.1711\n",
      "Epoch 42/50\n",
      "6250/6250 [==============================] - 48s 8ms/step - loss: 0.2331 - reconstruction_loss: 0.0489 - vqvae_loss: 0.1843\n",
      "Epoch 43/50\n",
      "6250/6250 [==============================] - 48s 8ms/step - loss: 0.2225 - reconstruction_loss: 0.0488 - vqvae_loss: 0.1746\n",
      "Epoch 44/50\n",
      "6250/6250 [==============================] - 44s 7ms/step - loss: 0.2170 - reconstruction_loss: 0.0487 - vqvae_loss: 0.1699\n",
      "Epoch 45/50\n",
      "6250/6250 [==============================] - 47s 8ms/step - loss: 0.2235 - reconstruction_loss: 0.0486 - vqvae_loss: 0.1759\n",
      "Epoch 46/50\n",
      "6250/6250 [==============================] - 49s 8ms/step - loss: 0.2287 - reconstruction_loss: 0.0485 - vqvae_loss: 0.1797\n",
      "Epoch 47/50\n",
      "6250/6250 [==============================] - 46s 7ms/step - loss: 0.2376 - reconstruction_loss: 0.0486 - vqvae_loss: 0.1883\n",
      "Epoch 48/50\n",
      "6250/6250 [==============================] - 47s 8ms/step - loss: 0.2231 - reconstruction_loss: 0.0487 - vqvae_loss: 0.1748\n",
      "Epoch 49/50\n",
      "6250/6250 [==============================] - 50s 8ms/step - loss: 0.2261 - reconstruction_loss: 0.0486 - vqvae_loss: 0.1778\n",
      "Epoch 50/50\n",
      "6250/6250 [==============================] - 47s 8ms/step - loss: 0.2463 - reconstruction_loss: 0.0486 - vqvae_loss: 0.1958\n"
     ]
    },
    {
     "data": {
      "text/plain": [
       "<tensorflow.python.keras.callbacks.History at 0x7fe4a4388fd0>"
      ]
     },
     "execution_count": 65,
     "metadata": {},
     "output_type": "execute_result"
    }
   ],
   "source": [
    "vqvae_trainer = VQVAETrainer(data_variance, latent_dim=16, num_embeddings=128)\n",
    "vqvae_trainer.compile(optimizer=keras.optimizers.Adam())\n",
    "vqvae_trainer.fit(training_data, epochs=50, batch_size=128)\n",
    "# vqvae_trainer.save_weights(\"trainer_mini.wt\")\n",
    "#load weights to avoid the retraining\n",
    "# vqvae_trainer.load_weights(\"trainer.wt\")"
   ]
  },
  {
   "cell_type": "code",
   "execution_count": 68,
   "id": "flexible-fantasy",
   "metadata": {},
   "outputs": [],
   "source": [
    "trained_vqvae_model = vqvae_trainer.vqvae\n"
   ]
  },
  {
   "cell_type": "code",
   "execution_count": 69,
   "id": "finished-horse",
   "metadata": {},
   "outputs": [],
   "source": [
    "bkg_prediction = trained_vqvae_model.predict(X_test)"
   ]
  },
  {
   "cell_type": "code",
   "execution_count": 70,
   "id": "actual-blues",
   "metadata": {},
   "outputs": [
    {
     "data": {
      "text/plain": [
       "(200000, 19, 3, 1)"
      ]
     },
     "execution_count": 70,
     "metadata": {},
     "output_type": "execute_result"
    }
   ],
   "source": [
    "bkg_prediction.shape"
   ]
  },
  {
   "cell_type": "code",
   "execution_count": 71,
   "id": "banner-theta",
   "metadata": {},
   "outputs": [
    {
     "data": {
      "text/plain": [
       "(200000, 19, 3, 1)"
      ]
     },
     "execution_count": 71,
     "metadata": {},
     "output_type": "execute_result"
    }
   ],
   "source": [
    "X_test.shape"
   ]
  },
  {
   "cell_type": "code",
   "execution_count": 72,
   "id": "pleasant-austria",
   "metadata": {},
   "outputs": [],
   "source": [
    "signal_labels = ['Particles', 'Particles','Particles','Particles']"
   ]
  },
  {
   "cell_type": "code",
   "execution_count": 73,
   "id": "champion-carpet",
   "metadata": {},
   "outputs": [],
   "source": [
    "signals_file = ['Ato4l_lepFilter_13TeV.h5', 'hChToTauNu_13TeV_PU20.h5', 'hToTauTau_13TeV_PU20.h5','leptoquark_LOWMASS_lepFilter_13TeV.h5' ]"
   ]
  },
  {
   "cell_type": "code",
   "execution_count": 74,
   "id": "understanding-intelligence",
   "metadata": {},
   "outputs": [],
   "source": [
    "# add correct path to signal files\n",
    "signal_data = []\n",
    "for i, label in enumerate(signal_labels, ):\n",
    "    with h5py.File(signals_file[i], 'r') as file:\n",
    "        test_data = np.array(file[label])\n",
    "        test_data = test_data[:,:,0:3]\n",
    "    signal_data.append(test_data)"
   ]
  },
  {
   "cell_type": "code",
   "execution_count": 75,
   "id": "floppy-reunion",
   "metadata": {},
   "outputs": [
    {
     "name": "stderr",
     "output_type": "stream",
     "text": [
      "4it [01:45, 26.47s/it]\n"
     ]
    }
   ],
   "source": [
    "signal_results = []\n",
    "\n",
    "for i, label in tqdm(enumerate(signal_labels)):\n",
    "    signal_prediction = trained_vqvae_model.predict(signal_data[i])\n",
    "\n",
    "    signal_results.append([label, signal_data[i], signal_prediction]) # save [label, true, prediction] for signal"
   ]
  },
  {
   "cell_type": "code",
   "execution_count": 91,
   "id": "studied-thanks",
   "metadata": {},
   "outputs": [
    {
     "data": {
      "text/plain": [
       "(3,)"
      ]
     },
     "execution_count": 91,
     "metadata": {},
     "output_type": "execute_result"
    }
   ],
   "source": [
    "np.shape(signal_results[0])"
   ]
  },
  {
   "cell_type": "code",
   "execution_count": 76,
   "id": "regional-bhutan",
   "metadata": {},
   "outputs": [],
   "source": [
    "from func import mse_loss"
   ]
  },
  {
   "cell_type": "code",
   "execution_count": 129,
   "id": "strong-theory",
   "metadata": {},
   "outputs": [],
   "source": [
    "X_test=np.reshape(X_test,(-1,57))"
   ]
  },
  {
   "cell_type": "code",
   "execution_count": 135,
   "id": "macro-diploma",
   "metadata": {},
   "outputs": [],
   "source": [
    "# compute loss value (true, predicted)\n",
    "total_loss = []\n",
    "total_loss.append(mse_loss(X_test.reshape(-1,57), bkg_prediction.astype(np.float32).reshape(-1,57)).numpy())\n",
    "for i, signal_X in enumerate(signal_data):\n",
    "    sig_results = np.reshape(signal_results[i][2].astype(np.float32), (-1,57))\n",
    "    sigX = np.reshape(signal_X,(-1,57))\n",
    "    total_loss.append(mse_loss(sigX,sig_results).numpy())"
   ]
  },
  {
   "cell_type": "code",
   "execution_count": 136,
   "id": "respiratory-cruise",
   "metadata": {},
   "outputs": [
    {
     "data": {
      "text/plain": [
       "[array([ 0.30077787,  2.34888209,  0.40054587, ..., 15.18373692,\n",
       "         0.41379745,  0.39099489]),\n",
       " array([13.21827162,  0.35584113,  8.80828414, ..., 21.56083971,\n",
       "        15.04735092, 11.63286794]),\n",
       " array([122.42136473,  52.25920532, 239.2813356 , ...,  34.55498705,\n",
       "         48.54236808,  55.1153729 ]),\n",
       " array([ 66.25752235, 154.13305896, 114.98444772, ...,   1.99383608,\n",
       "          7.48069772,   5.88050265]),\n",
       " array([ 83.95021183, 101.06102235,  37.60381813, ...,   9.34949095,\n",
       "         57.42603788,  17.22839305])]"
      ]
     },
     "execution_count": 136,
     "metadata": {},
     "output_type": "execute_result"
    }
   ],
   "source": [
    "total_loss"
   ]
  },
  {
   "cell_type": "code",
   "execution_count": 137,
   "id": "popular-microwave",
   "metadata": {},
   "outputs": [],
   "source": [
    "from sklearn.metrics import roc_curve, auc\n",
    "labels = np.concatenate([['Background'], np.array(signal_labels)])\n",
    "signals_files = ['Background','Ato4l_lepFilter_13TeV.h5', 'hChToTauNu_13TeV_PU20.h5', 'hToTauTau_13TeV_PU20.h5','leptoquark_LOWMASS_lepFilter_13TeV.h5' ]"
   ]
  },
  {
   "cell_type": "code",
   "execution_count": 138,
   "id": "musical-salem",
   "metadata": {},
   "outputs": [
    {
     "data": {
      "text/plain": [
       "array([13.21827162,  0.35584113,  8.80828414, ..., 21.56083971,\n",
       "       15.04735092, 11.63286794])"
      ]
     },
     "execution_count": 138,
     "metadata": {},
     "output_type": "execute_result"
    }
   ],
   "source": [
    "total_loss[1]"
   ]
  },
  {
   "cell_type": "code",
   "execution_count": 139,
   "id": "analyzed-exploration",
   "metadata": {
    "scrolled": true
   },
   "outputs": [
    {
     "data": {
      "image/png": "[encoded data removed]",
      "text/plain": [
       "<Figure size 720x576 with 1 Axes>"
      ]
     },
     "metadata": {
      "needs_background": "light"
     },
     "output_type": "display_data"
    }
   ],
   "source": [
    "target_background = np.zeros(total_loss[0].shape[0])\n",
    "\n",
    "plt.figure(figsize=(10,8))\n",
    "for i, label in enumerate(labels):\n",
    "    if i == 0: continue # background events\n",
    "    \n",
    "    \n",
    "    trueVal = np.concatenate((np.ones(total_loss[i].shape[0]), target_background)) # anomaly=1, bkg=0\n",
    "    \n",
    "    predVal_loss = np.concatenate((total_loss[i], total_loss[0]))\n",
    "    \n",
    "    fpr_loss, tpr_loss, threshold_loss = roc_curve(trueVal, predVal_loss)\n",
    "    auc_loss = auc(fpr_loss, tpr_loss)\n",
    "    \n",
    "    plt.plot(fpr_loss, tpr_loss, \"-\", label='%s (auc = %.1f%%)'%(signals_files[i],auc_loss*100.), linewidth=1.5)\n",
    "    \n",
    "    plt.semilogx()\n",
    "    plt.semilogy()\n",
    "    plt.ylabel(\"True Positive Rate\")\n",
    "    plt.xlabel(\"False Positive Rate\")\n",
    "    plt.legend(loc='center right')\n",
    "    plt.grid(True)\n",
    "    plt.tight_layout()\n",
    "plt.plot(np.linspace(0, 1),np.linspace(0, 1), '--', color='0.75')\n",
    "plt.axvline(0.00001, color='red', linestyle='dashed', linewidth=1) # threshold value for measuring anomaly detection efficiency\n",
    "plt.title(\"ROC AE\")\n",
    "plt.show()"
   ]
  },
  {
   "cell_type": "code",
   "execution_count": null,
   "id": "herbal-functionality",
   "metadata": {},
   "outputs": [],
   "source": [
    "kl = tf.keras.losses.KLDivergence()\n"
   ]
  },
  {
   "cell_type": "code",
   "execution_count": null,
   "id": "distinguished-mexico",
   "metadata": {},
   "outputs": [],
   "source": [
    "# compute loss value (true, predicted)\n",
    "total_loss = [[],[],[],[]]\n",
    "for x in range(X_test.shape[0]):\n",
    "    total_loss[0].append(kl(X_test[x], bkg_prediction.astype(np.float32)[x]).numpy())\n",
    "for i, signal_X in enumerate(signal_data):\n",
    "\n",
    "    total_loss.append(kl(signal_X, signal_results[i][2].astype(np.float32)).numpy())"
   ]
  },
  {
   "cell_type": "code",
   "execution_count": null,
   "id": "dutch-alloy",
   "metadata": {},
   "outputs": [],
   "source": [
    "total_loss[1]"
   ]
  },
  {
   "cell_type": "code",
   "execution_count": null,
   "id": "objective-pharmacology",
   "metadata": {},
   "outputs": [],
   "source": [
    "\n",
    "plt.figure(figsize=(10,8))\n",
    "for i, label in enumerate(labels):\n",
    "    if i == 0: continue # background events\n",
    "    \n",
    "    trueVal = np.array((np.ones(total_loss[i].shape), 0)) # anomaly=1, bkg=0\n",
    "    predVal_loss = np.array([total_loss[i],total_loss[0]])\n",
    "    print(trueVal)\n",
    "    print(predVal_loss)\n",
    "    fpr_loss, tpr_loss, threshold_loss = roc_curve(trueVal, predVal_loss)\n",
    "    auc_loss = auc(fpr_loss, tpr_loss)\n",
    "    \n",
    "    plt.plot(fpr_loss, tpr_loss, \"-\", label='%s (auc = %.1f%%)'%(signals_files[i],auc_loss*100.), linewidth=1.5)\n",
    "    \n",
    "    plt.semilogx()\n",
    "    plt.semilogy()\n",
    "    plt.ylabel(\"True Positive Rate\")\n",
    "    plt.xlabel(\"False Positive Rate\")\n",
    "    plt.legend(loc='center right')\n",
    "    plt.grid(True)\n",
    "    plt.tight_layout()\n",
    "plt.plot(np.linspace(0, 1),np.linspace(0, 1), '--', color='0.75')\n",
    "plt.axvline(0.00001, color='red', linestyle='dashed', linewidth=1) # threshold value for measuring anomaly detection efficiency\n",
    "plt.title(\"ROC AE\")\n",
    "plt.show()"
   ]
  },
  {
   "cell_type": "code",
   "execution_count": null,
   "id": "flush-physics",
   "metadata": {},
   "outputs": [],
   "source": []
  }
 ],
 "metadata": {
  "kernelspec": {
   "display_name": "Python 3",
   "language": "python",
   "name": "python3"
  },
  "language_info": {
   "codemirror_mode": {
    "name": "ipython",
    "version": 3
   },
   "file_extension": ".py",
   "mimetype": "text/x-python",
   "name": "python",
   "nbconvert_exporter": "python",
   "pygments_lexer": "ipython3",
   "version": "3.7.9"
  }
 },
 "nbformat": 4,
 "nbformat_minor": 5
}
