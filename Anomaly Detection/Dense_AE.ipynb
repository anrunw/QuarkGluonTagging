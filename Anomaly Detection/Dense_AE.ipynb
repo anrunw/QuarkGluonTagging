{
 "cells": [
  {
   "cell_type": "code",
   "execution_count": 1,
   "id": "excellent-magnet",
   "metadata": {},
   "outputs": [],
   "source": [
    "import numpy as np\n",
    "import h5py\n",
    "import math\n",
    "import os\n",
    "import pathlib\n",
    "import matplotlib.pyplot as plt\n",
    "import matplotlib\n",
    "%matplotlib inline\n",
    "import tensorflow as tf\n",
    "import tensorflow.keras as keras\n",
    "from tensorflow.keras.models import Model\n",
    "from tensorflow.keras.layers import Input, Dense, BatchNormalization, Activation, Layer, ReLU, LeakyReLU\n",
    "from tensorflow.keras import backend as K"
   ]
  },
  {
   "cell_type": "code",
   "execution_count": 2,
   "id": "south-brick",
   "metadata": {},
   "outputs": [],
   "source": [
    "from func import load_model, save_model"
   ]
  },
  {
   "cell_type": "markdown",
   "id": "light-drive",
   "metadata": {},
   "source": [
    "## Load dataset"
   ]
  },
  {
   "cell_type": "code",
   "execution_count": 3,
   "id": "greatest-question",
   "metadata": {},
   "outputs": [],
   "source": [
    "filename = 'BKG_dataset.h5'"
   ]
  },
  {
   "cell_type": "code",
   "execution_count": 4,
   "id": "numeric-funds",
   "metadata": {},
   "outputs": [],
   "source": [
    "# make sure input data has correct input shape - background training data\n",
    "with h5py.File(filename, 'r') as file:\n",
    "    X_train = np.array(file['X_train'])\n",
    "    X_test = np.array(file['X_test'])\n",
    "    X_val = np.array(file['X_val'])"
   ]
  },
  {
   "cell_type": "code",
   "execution_count": 5,
   "id": "lasting-silicon",
   "metadata": {},
   "outputs": [
    {
     "data": {
      "text/plain": [
       "(160000, 57)"
      ]
     },
     "execution_count": 5,
     "metadata": {},
     "output_type": "execute_result"
    }
   ],
   "source": [
    "X_val.shape"
   ]
  },
  {
   "cell_type": "code",
   "execution_count": 6,
   "id": "british-venture",
   "metadata": {},
   "outputs": [
    {
     "data": {
      "text/plain": [
       "(640000, 57)"
      ]
     },
     "execution_count": 6,
     "metadata": {},
     "output_type": "execute_result"
    }
   ],
   "source": [
    "X_train.shape"
   ]
  },
  {
   "cell_type": "code",
   "execution_count": 7,
   "id": "thick-rainbow",
   "metadata": {},
   "outputs": [
    {
     "data": {
      "text/plain": [
       "(200000, 57)"
      ]
     },
     "execution_count": 7,
     "metadata": {},
     "output_type": "execute_result"
    }
   ],
   "source": [
    "X_test.shape"
   ]
  },
  {
   "cell_type": "markdown",
   "id": "extensive-wilderness",
   "metadata": {},
   "source": [
    "## Define Dense NN architecture"
   ]
  },
  {
   "cell_type": "code",
   "execution_count": 8,
   "id": "sustained-fossil",
   "metadata": {},
   "outputs": [],
   "source": [
    "input_shape = 57\n",
    "latent_dimension = 3\n",
    "num_nodes=[32,16]"
   ]
  },
  {
   "cell_type": "code",
   "execution_count": 9,
   "id": "regulated-hostel",
   "metadata": {},
   "outputs": [
    {
     "name": "stdout",
     "output_type": "stream",
     "text": [
      "Model: \"functional_1\"\n",
      "_________________________________________________________________\n",
      "Layer (type)                 Output Shape              Param #   \n",
      "=================================================================\n",
      "input_1 (InputLayer)         [(None, 57)]              0         \n",
      "_________________________________________________________________\n",
      "batch_normalization (BatchNo (None, 57)                228       \n",
      "_________________________________________________________________\n",
      "dense (Dense)                (None, 32)                1824      \n",
      "_________________________________________________________________\n",
      "activation (Activation)      (None, 32)                0         \n",
      "_________________________________________________________________\n",
      "dense_1 (Dense)              (None, 16)                512       \n",
      "_________________________________________________________________\n",
      "activation_1 (Activation)    (None, 16)                0         \n",
      "_________________________________________________________________\n",
      "dense_2 (Dense)              (None, 3)                 48        \n",
      "_________________________________________________________________\n",
      "activation_2 (Activation)    (None, 3)                 0         \n",
      "_________________________________________________________________\n",
      "dense_3 (Dense)              (None, 32)                96        \n",
      "_________________________________________________________________\n",
      "activation_3 (Activation)    (None, 32)                0         \n",
      "_________________________________________________________________\n",
      "dense_4 (Dense)              (None, 57)                1881      \n",
      "=================================================================\n",
      "Total params: 4,589\n",
      "Trainable params: 4,475\n",
      "Non-trainable params: 114\n",
      "_________________________________________________________________\n"
     ]
    }
   ],
   "source": [
    "#encoder\n",
    "inputArray = Input(shape=(input_shape))\n",
    "x = BatchNormalization()(inputArray)\n",
    "x = Dense(num_nodes[0], use_bias=False)(x)\n",
    "x = Activation(tf.nn.leaky_relu)(x)\n",
    "x = Dense(num_nodes[1], use_bias=False)(x)\n",
    "x = Activation(tf.nn.leaky_relu)(x)\n",
    "x = Dense(latent_dimension, use_bias=False)(x)\n",
    "encoder = Activation(tf.nn.leaky_relu)(x)\n",
    "\n",
    "#decoder\n",
    "x = Dense(num_nodes[0], use_bias=False)(encoder)\n",
    "x = Activation(tf.nn.leaky_relu)(x)\n",
    "decoder = Dense(input_shape)(x)\n",
    "\n",
    "#create autoencoder\n",
    "autoencoder = Model(inputs = inputArray, outputs=decoder)\n",
    "autoencoder.summary()"
   ]
  },
  {
   "cell_type": "code",
   "execution_count": 10,
   "id": "liberal-martial",
   "metadata": {},
   "outputs": [],
   "source": [
    "autoencoder.compile(optimizer = keras.optimizers.Adam(), loss='mse')"
   ]
  },
  {
   "cell_type": "markdown",
   "id": "exotic-carroll",
   "metadata": {},
   "source": [
    "## Train model"
   ]
  },
  {
   "cell_type": "code",
   "execution_count": 11,
   "id": "complex-mainstream",
   "metadata": {},
   "outputs": [],
   "source": [
    "EPOCHS = 10\n",
    "BATCH_SIZE = 1024"
   ]
  },
  {
   "cell_type": "code",
   "execution_count": 12,
   "id": "specified-convention",
   "metadata": {},
   "outputs": [
    {
     "name": "stdout",
     "output_type": "stream",
     "text": [
      "Epoch 1/10\n",
      "625/625 [==============================] - 2s 3ms/step - loss: 38.5856 - val_loss: 27.9781\n",
      "Epoch 2/10\n",
      "625/625 [==============================] - 2s 3ms/step - loss: 12.0465 - val_loss: 3.5781\n",
      "Epoch 3/10\n",
      "625/625 [==============================] - 2s 3ms/step - loss: 3.2707 - val_loss: 2.6675\n",
      "Epoch 4/10\n",
      "625/625 [==============================] - 2s 3ms/step - loss: 2.8673 - val_loss: 2.2943\n",
      "Epoch 5/10\n",
      "625/625 [==============================] - 2s 3ms/step - loss: 2.6632 - val_loss: 2.1699\n",
      "Epoch 6/10\n",
      "625/625 [==============================] - 2s 3ms/step - loss: 2.5782 - val_loss: 2.0922\n",
      "Epoch 7/10\n",
      "625/625 [==============================] - 2s 3ms/step - loss: 2.5243 - val_loss: 2.1077\n",
      "Epoch 8/10\n",
      "625/625 [==============================] - 2s 3ms/step - loss: 2.4704 - val_loss: 2.1103\n",
      "Epoch 9/10\n",
      "625/625 [==============================] - 2s 3ms/step - loss: 2.4272 - val_loss: 2.0074\n",
      "Epoch 10/10\n",
      "625/625 [==============================] - 2s 3ms/step - loss: 2.4075 - val_loss: 1.9905\n"
     ]
    }
   ],
   "source": [
    "history = autoencoder.fit(X_train, X_train, epochs = EPOCHS, batch_size = BATCH_SIZE,\n",
    "                  validation_data=(X_val, X_val))"
   ]
  },
  {
   "cell_type": "code",
   "execution_count": 13,
   "id": "female-europe",
   "metadata": {},
   "outputs": [],
   "source": [
    "def learningCurve(history):\n",
    "    plt.figure(figsize=(10,8))\n",
    "    plt.plot(history.history['loss'], linewidth=1)\n",
    "    plt.plot(history.history['val_loss'], linewidth=1)\n",
    "    plt.title('Model Loss over Epochs')\n",
    "    plt.ylabel('Loss')\n",
    "    plt.xlabel('Epoch')\n",
    "    plt.legend(['training sample loss','validation sample loss'])\n",
    "    #plt.savefig('Learning_curve.pdf')\n",
    "    plt.show()\n",
    "    plt.close()"
   ]
  },
  {
   "cell_type": "code",
   "execution_count": 14,
   "id": "valuable-content",
   "metadata": {},
   "outputs": [
    {
     "data": {
      "image/png": "[encoded data removed]",
      "text/plain": [
       "<Figure size 720x576 with 1 Axes>"
      ]
     },
     "metadata": {
      "needs_background": "light"
     },
     "output_type": "display_data"
    }
   ],
   "source": [
    "learningCurve(history)\n"
   ]
  },
  {
   "cell_type": "code",
   "execution_count": 15,
   "id": "rural-advantage",
   "metadata": {},
   "outputs": [],
   "source": [
    "model_name = 'model_name'\n",
    "model_directory = ''\n",
    "save_model(model_directory+model_name, autoencoder)"
   ]
  },
  {
   "cell_type": "markdown",
   "id": "ruled-rolling",
   "metadata": {},
   "source": [
    "## Prediction - background"
   ]
  },
  {
   "cell_type": "code",
   "execution_count": 16,
   "id": "confidential-hierarchy",
   "metadata": {},
   "outputs": [],
   "source": [
    "bkg_prediction = autoencoder.predict(X_test)"
   ]
  },
  {
   "cell_type": "code",
   "execution_count": null,
   "id": "passive-orange",
   "metadata": {},
   "outputs": [],
   "source": []
  },
  {
   "cell_type": "code",
   "execution_count": 17,
   "id": "cognitive-happiness",
   "metadata": {},
   "outputs": [],
   "source": [
    "np.save('bkgprediction',bkg_prediction)"
   ]
  },
  {
   "cell_type": "markdown",
   "id": "million-genius",
   "metadata": {},
   "source": [
    "## Prediction - signals"
   ]
  },
  {
   "cell_type": "code",
   "execution_count": 18,
   "id": "whole-suicide",
   "metadata": {},
   "outputs": [],
   "source": [
    "signal_labels = ['Particles', 'Particles','Particles','Particles']"
   ]
  },
  {
   "cell_type": "code",
   "execution_count": 19,
   "id": "spread-liabilities",
   "metadata": {},
   "outputs": [],
   "source": [
    "signals_file = ['Ato4l_lepFilter_13TeV.h5', 'hChToTauNu_13TeV_PU20.h5', 'hToTauTau_13TeV_PU20.h5','leptoquark_LOWMASS_lepFilter_13TeV.h5' ]"
   ]
  },
  {
   "cell_type": "code",
   "execution_count": 20,
   "id": "laden-playing",
   "metadata": {},
   "outputs": [],
   "source": [
    "# add correct path to signal files\n",
    "signal_data = []\n",
    "for i, label in enumerate(signal_labels, ):\n",
    "    with h5py.File(signals_file[i], 'r') as file:\n",
    "        test_data = np.array(file[label])\n",
    "        test_data = test_data[:,:,0:3]\n",
    "        test_data = np.reshape(test_data,(test_data.shape[0],57) )\n",
    "    signal_data.append(test_data)"
   ]
  },
  {
   "cell_type": "code",
   "execution_count": 21,
   "id": "breeding-stupid",
   "metadata": {},
   "outputs": [
    {
     "data": {
      "text/plain": [
       "(55969, 57)"
      ]
     },
     "execution_count": 21,
     "metadata": {},
     "output_type": "execute_result"
    }
   ],
   "source": [
    "signal_data[0].shape"
   ]
  },
  {
   "cell_type": "code",
   "execution_count": 22,
   "id": "whole-means",
   "metadata": {},
   "outputs": [],
   "source": [
    "signal_results = []\n",
    "\n",
    "for i, label in enumerate(signal_labels):\n",
    "    signal_prediction = autoencoder.predict(signal_data[i])\n",
    "    signal_results.append([label, signal_data[i], signal_prediction]) # save [label, true, prediction] for signal"
   ]
  },
  {
   "cell_type": "code",
   "execution_count": 23,
   "id": "legitimate-departure",
   "metadata": {},
   "outputs": [
    {
     "data": {
      "text/plain": [
       "(340544, 57)"
      ]
     },
     "execution_count": 23,
     "metadata": {},
     "output_type": "execute_result"
    }
   ],
   "source": [
    "signal_prediction.shape"
   ]
  },
  {
   "cell_type": "markdown",
   "id": "laughing-clear",
   "metadata": {},
   "source": [
    "## Save results"
   ]
  },
  {
   "cell_type": "code",
   "execution_count": 24,
   "id": "covered-tissue",
   "metadata": {},
   "outputs": [],
   "source": [
    "save_file = 'save_file'"
   ]
  },
  {
   "cell_type": "markdown",
   "id": "alternate-saskatchewan",
   "metadata": {},
   "source": [
    "## Evaluate results\n",
    "\n",
    "1. Plot loss distribution after prediction (check loss value for signals)\n",
    "2. Plot ROC curves - how good is anomaly detection for chosen FPR threshold"
   ]
  },
  {
   "cell_type": "markdown",
   "id": "quality-heavy",
   "metadata": {},
   "source": [
    "# 1."
   ]
  },
  {
   "cell_type": "code",
   "execution_count": 25,
   "id": "extraordinary-mambo",
   "metadata": {},
   "outputs": [],
   "source": [
    "from func import mse_loss"
   ]
  },
  {
   "cell_type": "code",
   "execution_count": 32,
   "id": "cordless-variable",
   "metadata": {},
   "outputs": [
    {
     "name": "stdout",
     "output_type": "stream",
     "text": [
      "(55969,)\n",
      "(760272,)\n",
      "(691283,)\n",
      "(340544,)\n"
     ]
    }
   ],
   "source": [
    "# compute loss value (true, predicted)\n",
    "total_loss = []\n",
    "total_loss.append(mse_loss(X_test, bkg_prediction.astype(np.float32)).numpy())\n",
    "for i, signal_X in enumerate(signal_data):\n",
    "    z = mse_loss(signal_X, signal_results[i][2].astype(np.float32)).numpy()\n",
    "    print(z.shape)\n",
    "    total_loss.append(mse_loss(signal_X, signal_results[i][2].astype(np.float32)).numpy())"
   ]
  },
  {
   "cell_type": "code",
   "execution_count": 27,
   "id": "smaller-vacation",
   "metadata": {},
   "outputs": [
    {
     "data": {
      "text/plain": [
       "(200000, 57)"
      ]
     },
     "execution_count": 27,
     "metadata": {},
     "output_type": "execute_result"
    }
   ],
   "source": [
    "total_loss.append(mse_loss(X_test, bkg_prediction.astype(np.float32)).numpy())"
   ]
  },
  {
   "cell_type": "code",
   "execution_count": 30,
   "id": "baking-moment",
   "metadata": {},
   "outputs": [
    {
     "data": {
      "text/plain": [
       "(200000, 57)"
      ]
     },
     "execution_count": 30,
     "metadata": {},
     "output_type": "execute_result"
    }
   ],
   "source": [
    "bkg_prediction.astype(np.float32).shape"
   ]
  },
  {
   "cell_type": "code",
   "execution_count": 36,
   "id": "choice-nursery",
   "metadata": {},
   "outputs": [
    {
     "data": {
      "text/plain": [
       "array([ 0.20038207,  0.71997249,  0.1235649 , ..., 24.96092466,\n",
       "        0.17368828,  0.23966084])"
      ]
     },
     "execution_count": 36,
     "metadata": {},
     "output_type": "execute_result"
    }
   ],
   "source": [
    "total_loss[0]"
   ]
  },
  {
   "cell_type": "code",
   "execution_count": 35,
   "id": "advance-regular",
   "metadata": {},
   "outputs": [
    {
     "data": {
      "text/plain": [
       "(55969, 57)"
      ]
     },
     "execution_count": 35,
     "metadata": {},
     "output_type": "execute_result"
    }
   ],
   "source": [
    "signal_data[0].shape"
   ]
  },
  {
   "cell_type": "code",
   "execution_count": 24,
   "id": "qualified-highway",
   "metadata": {},
   "outputs": [
    {
     "data": {
      "image/png": "[encoded data removed]",
      "text/plain": [
       "<Figure size 720x576 with 1 Axes>"
      ]
     },
     "metadata": {
      "needs_background": "light"
     },
     "output_type": "display_data"
    }
   ],
   "source": [
    "bin_size=100\n",
    "\n",
    "plt.figure(figsize=(10,8))\n",
    "for i, label in enumerate(signal_labels):\n",
    "    plt.hist(total_loss[i], bins=bin_size, label=signals_file[i], density = True, histtype='step', fill=False, linewidth=1.5)\n",
    "plt.yscale('log')\n",
    "plt.xlabel(\"Autoencoder Loss\")\n",
    "plt.ylabel(\"Probability (a.u.)\")\n",
    "plt.title('MSE loss')\n",
    "plt.legend(loc='best')\n",
    "plt.show()"
   ]
  },
  {
   "cell_type": "markdown",
   "id": "worthy-hybrid",
   "metadata": {},
   "source": [
    "# 2."
   ]
  },
  {
   "cell_type": "code",
   "execution_count": 25,
   "id": "banned-foster",
   "metadata": {},
   "outputs": [],
   "source": [
    "from sklearn.metrics import roc_curve, auc"
   ]
  },
  {
   "cell_type": "code",
   "execution_count": 26,
   "id": "plastic-distributor",
   "metadata": {},
   "outputs": [],
   "source": [
    "labels = np.concatenate([['Background'], np.array(signal_labels)])"
   ]
  },
  {
   "cell_type": "code",
   "execution_count": 27,
   "id": "broad-progress",
   "metadata": {},
   "outputs": [
    {
     "data": {
      "text/plain": [
       "array(['Particles', 'Particles', 'Particles', 'Particles'], dtype='<U9')"
      ]
     },
     "execution_count": 27,
     "metadata": {},
     "output_type": "execute_result"
    }
   ],
   "source": [
    "np.array(signal_labels)"
   ]
  },
  {
   "cell_type": "code",
   "execution_count": 28,
   "id": "limiting-stranger",
   "metadata": {},
   "outputs": [
    {
     "data": {
      "text/plain": [
       "array([ 0.20038207,  0.71997249,  0.1235649 , ..., 24.96092466,\n",
       "        0.17368828,  0.23966084])"
      ]
     },
     "execution_count": 28,
     "metadata": {},
     "output_type": "execute_result"
    }
   ],
   "source": [
    "total_loss[0]"
   ]
  },
  {
   "cell_type": "code",
   "execution_count": 29,
   "id": "declared-amplifier",
   "metadata": {},
   "outputs": [],
   "source": [
    "signals_files = ['Background','Ato4l_lepFilter_13TeV.h5', 'hChToTauNu_13TeV_PU20.h5', 'hToTauTau_13TeV_PU20.h5','leptoquark_LOWMASS_lepFilter_13TeV.h5' ]"
   ]
  },
  {
   "cell_type": "code",
   "execution_count": 32,
   "id": "linear-parker",
   "metadata": {},
   "outputs": [
    {
     "data": {
      "text/plain": [
       "(340544,)"
      ]
     },
     "execution_count": 32,
     "metadata": {},
     "output_type": "execute_result"
    }
   ],
   "source": [
    "total_loss[i].shape"
   ]
  },
  {
   "cell_type": "code",
   "execution_count": 34,
   "id": "marine-bones",
   "metadata": {},
   "outputs": [
    {
     "data": {
      "text/plain": [
       "(691283,)"
      ]
     },
     "execution_count": 34,
     "metadata": {},
     "output_type": "execute_result"
    }
   ],
   "source": [
    "total_loss[i].shape"
   ]
  },
  {
   "cell_type": "code",
   "execution_count": 30,
   "id": "careful-banner",
   "metadata": {
    "scrolled": true
   },
   "outputs": [
    {
     "data": {
      "image/png": "[encoded data removed]",
      "text/plain": [
       "<Figure size 720x576 with 1 Axes>"
      ]
     },
     "metadata": {
      "needs_background": "light"
     },
     "output_type": "display_data"
    }
   ],
   "source": [
    "target_background = np.zeros(total_loss[0].shape[0])\n",
    "\n",
    "plt.figure(figsize=(10,8))\n",
    "for i, label in enumerate(labels):\n",
    "    if i == 0: continue # background events\n",
    "    \n",
    "    trueVal = np.concatenate((np.ones(total_loss[i].shape[0]), target_background)) # anomaly=1, bkg=0\n",
    "    predVal_loss = np.concatenate((total_loss[i], total_loss[0]))\n",
    "    \n",
    "    fpr_loss, tpr_loss, threshold_loss = roc_curve(trueVal, predVal_loss)\n",
    "    auc_loss = auc(fpr_loss, tpr_loss)\n",
    "    \n",
    "    plt.plot(fpr_loss, tpr_loss, \"-\", label='%s (auc = %.1f%%)'%(signals_files[i],auc_loss*100.), linewidth=1.5)\n",
    "    \n",
    "    plt.semilogx()\n",
    "    plt.semilogy()\n",
    "    plt.ylabel(\"True Positive Rate\")\n",
    "    plt.xlabel(\"False Positive Rate\")\n",
    "    plt.legend(loc='center right')\n",
    "    plt.grid(True)\n",
    "    plt.tight_layout()\n",
    "plt.plot(np.linspace(0, 1),np.linspace(0, 1), '--', color='0.75')\n",
    "plt.axvline(0.00001, color='red', linestyle='dashed', linewidth=1) # threshold value for measuring anomaly detection efficiency\n",
    "plt.title(\"ROC AE\")\n",
    "plt.show()"
   ]
  },
  {
   "cell_type": "code",
   "execution_count": 31,
   "id": "tutorial-content",
   "metadata": {},
   "outputs": [
    {
     "data": {
      "text/plain": [
       "array([2.63731854e+01, 4.49536012e+01, 5.65671993e+02, ...,\n",
       "       2.49609247e+01, 1.73688277e-01, 2.39660839e-01])"
      ]
     },
     "execution_count": 31,
     "metadata": {},
     "output_type": "execute_result"
    }
   ],
   "source": [
    "predVal_loss"
   ]
  },
  {
   "cell_type": "code",
   "execution_count": 63,
   "id": "contained-american",
   "metadata": {},
   "outputs": [
    {
     "data": {
      "text/plain": [
       "array([0.00000000e+00, 2.93647811e-06, 5.57930840e-05, ...,\n",
       "       9.99997064e-01, 1.00000000e+00, 1.00000000e+00])"
      ]
     },
     "execution_count": 63,
     "metadata": {},
     "output_type": "execute_result"
    }
   ],
   "source": [
    "tpr_loss"
   ]
  },
  {
   "cell_type": "code",
   "execution_count": null,
   "id": "patent-folks",
   "metadata": {},
   "outputs": [],
   "source": []
  }
 ],
 "metadata": {
  "kernelspec": {
   "display_name": "Python 3",
   "language": "python",
   "name": "python3"
  },
  "language_info": {
   "codemirror_mode": {
    "name": "ipython",
    "version": 3
   },
   "file_extension": ".py",
   "mimetype": "text/x-python",
   "name": "python",
   "nbconvert_exporter": "python",
   "pygments_lexer": "ipython3",
   "version": "3.7.9"
  }
 },
 "nbformat": 4,
 "nbformat_minor": 5
}
