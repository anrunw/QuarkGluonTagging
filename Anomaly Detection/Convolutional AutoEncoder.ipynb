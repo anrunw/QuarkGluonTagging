{
 "cells": [
  {
   "cell_type": "code",
   "execution_count": 1,
   "id": "local-flash",
   "metadata": {},
   "outputs": [],
   "source": [
    "import numpy as np\n",
    "import h5py\n",
    "import math\n",
    "import os\n",
    "import pathlib\n",
    "import matplotlib.pyplot as plt\n",
    "import matplotlib\n",
    "%matplotlib inline\n",
    "import tensorflow as tf\n",
    "import tensorflow.keras as keras\n",
    "from tensorflow.keras.models import Model\n",
    "from tensorflow.keras.layers import Input, Dense,ZeroPadding2D, BatchNormalization, Activation, Layer, ReLU, LeakyReLU,Conv2D,AveragePooling2D,UpSampling2D,Reshape,Flatten\n",
    "from tensorflow.keras import backend as K"
   ]
  },
  {
   "cell_type": "code",
   "execution_count": 2,
   "id": "revolutionary-celtic",
   "metadata": {},
   "outputs": [],
   "source": [
    "from func import load_model, save_model"
   ]
  },
  {
   "cell_type": "markdown",
   "id": "united-relation",
   "metadata": {},
   "source": [
    "## Load dataset"
   ]
  },
  {
   "cell_type": "code",
   "execution_count": 3,
   "id": "legislative-chapter",
   "metadata": {},
   "outputs": [],
   "source": [
    "filename = 'BKG_dataset.h5'"
   ]
  },
  {
   "cell_type": "code",
   "execution_count": 19,
   "id": "listed-tablet",
   "metadata": {},
   "outputs": [],
   "source": [
    "# make sure input data has correct input shape - background training data\n",
    "with h5py.File(filename, 'r') as file:\n",
    "    X_train = np.array(file['X_train'])\n",
    "    X_test = np.array(file['X_test'])\n",
    "    X_val = np.array(file['X_val'])"
   ]
  },
  {
   "cell_type": "code",
   "execution_count": 20,
   "id": "humanitarian-labor",
   "metadata": {},
   "outputs": [],
   "source": [
    "X_train = np.reshape(X_train, (-1, 19,3,1))\n",
    "X_test = np.reshape(X_test, (-1, 19,3,1))\n",
    "X_val = np.reshape(X_val, (-1, 19,3,1))"
   ]
  },
  {
   "cell_type": "markdown",
   "id": "fundamental-nudist",
   "metadata": {},
   "source": [
    "## Define Dense NN architecture"
   ]
  },
  {
   "cell_type": "code",
   "execution_count": 21,
   "id": "sunset-permit",
   "metadata": {},
   "outputs": [],
   "source": [
    "image_shape = (19,3,1)\n",
    "latent_dimension = 8\n",
    "num_nodes=[16,8]"
   ]
  },
  {
   "cell_type": "code",
   "execution_count": 22,
   "id": "green-cooperative",
   "metadata": {},
   "outputs": [
    {
     "name": "stdout",
     "output_type": "stream",
     "text": [
      "Model: \"functional_13\"\n",
      "_________________________________________________________________\n",
      "Layer (type)                 Output Shape              Param #   \n",
      "=================================================================\n",
      "input_4 (InputLayer)         [(None, 19, 3, 1)]        0         \n",
      "_________________________________________________________________\n",
      "conv2d_5 (Conv2D)            (None, 19, 3, 10)         90        \n",
      "_________________________________________________________________\n",
      "average_pooling2d_3 (Average (None, 9, 3, 10)          0         \n",
      "_________________________________________________________________\n",
      "batch_normalization_5 (Batch (None, 9, 3, 10)          40        \n",
      "_________________________________________________________________\n",
      "activation_11 (Activation)   (None, 9, 3, 10)          0         \n",
      "_________________________________________________________________\n",
      "flatten_3 (Flatten)          (None, 270)               0         \n",
      "_________________________________________________________________\n",
      "dense_6 (Dense)              (None, 8)                 2168      \n",
      "_________________________________________________________________\n",
      "activation_12 (Activation)   (None, 8)                 0         \n",
      "_________________________________________________________________\n",
      "dense_7 (Dense)              (None, 270)               2430      \n",
      "_________________________________________________________________\n",
      "activation_13 (Activation)   (None, 270)               0         \n",
      "_________________________________________________________________\n",
      "reshape_3 (Reshape)          (None, 9, 3, 10)          0         \n",
      "_________________________________________________________________\n",
      "up_sampling2d_2 (UpSampling2 (None, 18, 3, 10)         0         \n",
      "_________________________________________________________________\n",
      "zero_padding2d_2 (ZeroPaddin (None, 19, 3, 10)         0         \n",
      "_________________________________________________________________\n",
      "conv2d_6 (Conv2D)            (None, 19, 3, 1)          90        \n",
      "_________________________________________________________________\n",
      "batch_normalization_6 (Batch (None, 19, 3, 1)          4         \n",
      "_________________________________________________________________\n",
      "activation_14 (Activation)   (None, 19, 3, 1)          0         \n",
      "=================================================================\n",
      "Total params: 4,822\n",
      "Trainable params: 4,800\n",
      "Non-trainable params: 22\n",
      "_________________________________________________________________\n"
     ]
    }
   ],
   "source": [
    "#encoder\n",
    "input_encoder = Input(shape=(image_shape))\n",
    "x = Conv2D(10, kernel_size=(3, 3),\n",
    "         use_bias=False, data_format='channels_last', padding='same')(input_encoder)\n",
    "x = AveragePooling2D(pool_size = (2, 1))(x)\n",
    "x = BatchNormalization()(x)\n",
    "x = Activation('relu')(x)\n",
    "x = Flatten()(x)\n",
    "x = Dense(latent_dimension)(x)\n",
    "enc = Activation('relu')(x)\n",
    "encoder = Model(inputs=input_encoder, outputs=enc)\n",
    "#decoder\n",
    "x = Dense(270)(enc)\n",
    "x = Activation('relu')(x)\n",
    "x = Reshape((9,3,10))(x)\n",
    "x = UpSampling2D((2, 1))(x)\n",
    "x = ZeroPadding2D(((1, 0),(0,0)))(x)\n",
    "x = Conv2D(1, kernel_size=(3,3), use_bias=False, data_format='channels_last', padding='same')(x)\n",
    "x = BatchNormalization()(x)\n",
    "dec = Activation('relu')(x)\n",
    "\n",
    "autoencoder = Model(inputs=input_encoder, outputs=dec)\n",
    "autoencoder.summary()"
   ]
  },
  {
   "cell_type": "code",
   "execution_count": 23,
   "id": "joined-dominican",
   "metadata": {},
   "outputs": [],
   "source": [
    "autoencoder.compile(optimizer = keras.optimizers.Adam(), loss='mse')"
   ]
  },
  {
   "cell_type": "code",
   "execution_count": null,
   "id": "rolled-defense",
   "metadata": {},
   "outputs": [],
   "source": []
  },
  {
   "cell_type": "markdown",
   "id": "prescription-seven",
   "metadata": {},
   "source": [
    "## Train model"
   ]
  },
  {
   "cell_type": "code",
   "execution_count": 24,
   "id": "functioning-billy",
   "metadata": {},
   "outputs": [],
   "source": [
    "EPOCHS = 100\n",
    "BATCH_SIZE = 1024"
   ]
  },
  {
   "cell_type": "code",
   "execution_count": 25,
   "id": "burning-reservation",
   "metadata": {},
   "outputs": [
    {
     "name": "stdout",
     "output_type": "stream",
     "text": [
      "Epoch 1/100\n",
      "625/625 [==============================] - 18s 29ms/step - loss: 64.0750 - val_loss: 55.4394\n",
      "Epoch 2/100\n",
      "625/625 [==============================] - 18s 28ms/step - loss: 52.0528 - val_loss: 45.4417\n",
      "Epoch 3/100\n",
      "625/625 [==============================] - 19s 31ms/step - loss: 43.2803 - val_loss: 37.7284\n",
      "Epoch 4/100\n",
      "625/625 [==============================] - 20s 32ms/step - loss: 35.9256 - val_loss: 31.1201\n",
      "Epoch 5/100\n",
      "625/625 [==============================] - 17s 27ms/step - loss: 29.5631 - val_loss: 25.3136\n",
      "Epoch 6/100\n",
      "625/625 [==============================] - 17s 27ms/step - loss: 24.0011 - val_loss: 20.3397\n",
      "Epoch 7/100\n",
      "625/625 [==============================] - 17s 27ms/step - loss: 19.1423 - val_loss: 15.9734\n",
      "Epoch 8/100\n",
      "625/625 [==============================] - 17s 27ms/step - loss: 14.9645 - val_loss: 12.2635\n",
      "Epoch 9/100\n",
      "625/625 [==============================] - 17s 27ms/step - loss: 11.3833 - val_loss: 9.4111\n",
      "Epoch 10/100\n",
      "625/625 [==============================] - 18s 29ms/step - loss: 8.4156 - val_loss: 6.5196\n",
      "Epoch 11/100\n",
      "625/625 [==============================] - 17s 27ms/step - loss: 5.9990 - val_loss: 4.5910\n",
      "Epoch 12/100\n",
      "625/625 [==============================] - 17s 27ms/step - loss: 4.1055 - val_loss: 3.1571\n",
      "Epoch 13/100\n",
      "625/625 [==============================] - 17s 27ms/step - loss: 2.6825 - val_loss: 2.0643\n",
      "Epoch 14/100\n",
      "625/625 [==============================] - 17s 27ms/step - loss: 1.6783 - val_loss: 1.1205\n",
      "Epoch 15/100\n",
      "625/625 [==============================] - 17s 27ms/step - loss: 1.0350 - val_loss: 0.6114\n",
      "Epoch 16/100\n",
      "625/625 [==============================] - 17s 27ms/step - loss: 0.6797 - val_loss: 0.4354\n",
      "Epoch 17/100\n",
      "625/625 [==============================] - 17s 27ms/step - loss: 0.5037 - val_loss: 0.2681\n",
      "Epoch 18/100\n",
      "625/625 [==============================] - 17s 27ms/step - loss: 0.4394 - val_loss: 0.4312\n",
      "Epoch 19/100\n",
      "625/625 [==============================] - 17s 28ms/step - loss: 0.3932 - val_loss: 0.2120\n",
      "Epoch 20/100\n",
      "625/625 [==============================] - 17s 27ms/step - loss: 0.3809 - val_loss: 0.2076\n",
      "Epoch 21/100\n",
      "625/625 [==============================] - 17s 27ms/step - loss: 0.3691 - val_loss: 0.2112\n",
      "Epoch 22/100\n",
      "625/625 [==============================] - 17s 27ms/step - loss: 0.3828 - val_loss: 0.1977\n",
      "Epoch 23/100\n",
      "625/625 [==============================] - 17s 27ms/step - loss: 0.3508 - val_loss: 0.2032\n",
      "Epoch 24/100\n",
      "625/625 [==============================] - 17s 27ms/step - loss: 0.3830 - val_loss: 0.1960\n",
      "Epoch 25/100\n",
      "625/625 [==============================] - 17s 27ms/step - loss: 0.3691 - val_loss: 0.1972\n",
      "Epoch 26/100\n",
      "625/625 [==============================] - 17s 27ms/step - loss: 0.3677 - val_loss: 0.2071\n",
      "Epoch 27/100\n",
      "625/625 [==============================] - 17s 28ms/step - loss: 0.3708 - val_loss: 0.2002\n",
      "Epoch 28/100\n",
      "625/625 [==============================] - 17s 27ms/step - loss: 0.3679 - val_loss: 0.2056\n",
      "Epoch 29/100\n",
      "625/625 [==============================] - 17s 27ms/step - loss: 0.3703 - val_loss: 0.1988\n",
      "Epoch 30/100\n",
      "625/625 [==============================] - 17s 28ms/step - loss: 0.3694 - val_loss: 0.2057\n",
      "Epoch 31/100\n",
      "625/625 [==============================] - 17s 27ms/step - loss: 0.3651 - val_loss: 0.1986\n",
      "Epoch 32/100\n",
      "625/625 [==============================] - 17s 27ms/step - loss: 0.3622 - val_loss: 0.2418\n",
      "Epoch 33/100\n",
      "625/625 [==============================] - 17s 27ms/step - loss: 0.3594 - val_loss: 0.2169\n",
      "Epoch 34/100\n",
      "625/625 [==============================] - 17s 27ms/step - loss: 0.3594 - val_loss: 0.2200\n",
      "Epoch 35/100\n",
      "625/625 [==============================] - 17s 27ms/step - loss: 0.3493 - val_loss: 0.2015\n",
      "Epoch 36/100\n",
      "625/625 [==============================] - 17s 27ms/step - loss: 0.3388 - val_loss: 0.2084\n",
      "Epoch 37/100\n",
      "625/625 [==============================] - 17s 27ms/step - loss: 0.3325 - val_loss: 0.1987\n",
      "Epoch 38/100\n",
      "625/625 [==============================] - 17s 27ms/step - loss: 0.3341 - val_loss: 0.2045\n",
      "Epoch 39/100\n",
      "625/625 [==============================] - 17s 27ms/step - loss: 0.3252 - val_loss: 0.2036\n",
      "Epoch 40/100\n",
      "625/625 [==============================] - 17s 27ms/step - loss: 0.3049 - val_loss: 0.1954\n",
      "Epoch 41/100\n",
      "625/625 [==============================] - 17s 27ms/step - loss: 0.3138 - val_loss: 0.2094\n",
      "Epoch 42/100\n",
      "625/625 [==============================] - 17s 27ms/step - loss: 0.3149 - val_loss: 0.2188\n",
      "Epoch 43/100\n",
      "625/625 [==============================] - 19s 31ms/step - loss: 0.3107 - val_loss: 0.2521\n",
      "Epoch 44/100\n",
      "625/625 [==============================] - 19s 31ms/step - loss: 0.2880 - val_loss: 0.2252\n",
      "Epoch 45/100\n",
      "625/625 [==============================] - 20s 32ms/step - loss: 0.2894 - val_loss: 0.2117\n",
      "Epoch 46/100\n",
      "625/625 [==============================] - 19s 30ms/step - loss: 0.2916 - val_loss: 0.2153\n",
      "Epoch 47/100\n",
      "625/625 [==============================] - 20s 32ms/step - loss: 0.2774 - val_loss: 0.2157\n",
      "Epoch 48/100\n",
      "625/625 [==============================] - 20s 31ms/step - loss: 0.2728 - val_loss: 0.2147\n",
      "Epoch 49/100\n",
      "625/625 [==============================] - 19s 30ms/step - loss: 0.2695 - val_loss: 0.2093\n",
      "Epoch 50/100\n",
      "625/625 [==============================] - 19s 31ms/step - loss: 0.2651 - val_loss: 0.2094\n",
      "Epoch 51/100\n",
      "625/625 [==============================] - 20s 32ms/step - loss: 0.2625 - val_loss: 0.2097\n",
      "Epoch 52/100\n",
      "625/625 [==============================] - 22s 34ms/step - loss: 0.2577 - val_loss: 0.2060\n",
      "Epoch 53/100\n",
      "625/625 [==============================] - 22s 35ms/step - loss: 0.2512 - val_loss: 0.2202\n",
      "Epoch 54/100\n",
      "625/625 [==============================] - 20s 31ms/step - loss: 0.2564 - val_loss: 0.2069\n",
      "Epoch 55/100\n",
      "625/625 [==============================] - 19s 30ms/step - loss: 0.2465 - val_loss: 0.1990\n",
      "Epoch 56/100\n",
      "625/625 [==============================] - 19s 31ms/step - loss: 0.2450 - val_loss: 0.2103\n",
      "Epoch 57/100\n",
      "625/625 [==============================] - 18s 29ms/step - loss: 0.2575 - val_loss: 0.2031\n",
      "Epoch 58/100\n",
      "625/625 [==============================] - 18s 29ms/step - loss: 0.2447 - val_loss: 0.1986\n",
      "Epoch 59/100\n",
      "625/625 [==============================] - 18s 30ms/step - loss: 0.2468 - val_loss: 0.1996\n",
      "Epoch 60/100\n",
      "625/625 [==============================] - 19s 31ms/step - loss: 0.2419 - val_loss: 0.2154\n",
      "Epoch 61/100\n",
      "625/625 [==============================] - 18s 29ms/step - loss: 0.2447 - val_loss: 0.1976\n",
      "Epoch 62/100\n",
      "625/625 [==============================] - 18s 29ms/step - loss: 0.2345 - val_loss: 0.2067\n",
      "Epoch 63/100\n",
      "625/625 [==============================] - 20s 31ms/step - loss: 0.2340 - val_loss: 0.2203\n",
      "Epoch 64/100\n",
      "625/625 [==============================] - 19s 30ms/step - loss: 0.2415 - val_loss: 0.2083\n",
      "Epoch 65/100\n",
      "625/625 [==============================] - 18s 28ms/step - loss: 0.2336 - val_loss: 0.1936\n",
      "Epoch 66/100\n",
      "625/625 [==============================] - 18s 30ms/step - loss: 0.2390 - val_loss: 0.1908\n",
      "Epoch 67/100\n",
      "625/625 [==============================] - 18s 29ms/step - loss: 0.2348 - val_loss: 0.1980\n",
      "Epoch 68/100\n",
      "625/625 [==============================] - 19s 30ms/step - loss: 0.2343 - val_loss: 0.1910\n",
      "Epoch 69/100\n",
      "625/625 [==============================] - 19s 30ms/step - loss: 0.2352 - val_loss: 0.1937\n",
      "Epoch 70/100\n",
      "625/625 [==============================] - 19s 31ms/step - loss: 0.2325 - val_loss: 0.1909\n",
      "Epoch 71/100\n",
      "625/625 [==============================] - 19s 31ms/step - loss: 0.2246 - val_loss: 0.1963\n",
      "Epoch 72/100\n",
      "625/625 [==============================] - 20s 32ms/step - loss: 0.2319 - val_loss: 0.2165\n",
      "Epoch 73/100\n",
      "625/625 [==============================] - 19s 31ms/step - loss: 0.2229 - val_loss: 0.2032\n",
      "Epoch 74/100\n",
      "625/625 [==============================] - 19s 31ms/step - loss: 0.2274 - val_loss: 0.1944\n",
      "Epoch 75/100\n",
      "625/625 [==============================] - 19s 31ms/step - loss: 0.2287 - val_loss: 0.1980\n",
      "Epoch 76/100\n",
      "625/625 [==============================] - 21s 34ms/step - loss: 0.2278 - val_loss: 0.1905\n",
      "Epoch 77/100\n",
      "625/625 [==============================] - 20s 31ms/step - loss: 0.2254 - val_loss: 0.1931\n",
      "Epoch 78/100\n",
      "625/625 [==============================] - 20s 33ms/step - loss: 0.2244 - val_loss: 0.1981\n",
      "Epoch 79/100\n",
      "625/625 [==============================] - 19s 30ms/step - loss: 0.2296 - val_loss: 0.2022\n",
      "Epoch 80/100\n",
      "625/625 [==============================] - 18s 28ms/step - loss: 0.2237 - val_loss: 0.1853\n",
      "Epoch 81/100\n",
      "625/625 [==============================] - 19s 30ms/step - loss: 0.2236 - val_loss: 0.1926\n",
      "Epoch 82/100\n",
      "625/625 [==============================] - 21s 34ms/step - loss: 0.2224 - val_loss: 0.1885\n",
      "Epoch 83/100\n",
      "625/625 [==============================] - 18s 29ms/step - loss: 0.2192 - val_loss: 0.1990\n",
      "Epoch 84/100\n",
      "625/625 [==============================] - 19s 30ms/step - loss: 0.2217 - val_loss: 0.2075\n",
      "Epoch 85/100\n",
      "625/625 [==============================] - 20s 31ms/step - loss: 0.2212 - val_loss: 0.1969\n",
      "Epoch 86/100\n",
      "625/625 [==============================] - 19s 31ms/step - loss: 0.2209 - val_loss: 0.2027\n",
      "Epoch 87/100\n",
      "625/625 [==============================] - 19s 31ms/step - loss: 0.2245 - val_loss: 0.1872\n",
      "Epoch 88/100\n",
      "625/625 [==============================] - 21s 34ms/step - loss: 0.2257 - val_loss: 0.1921\n",
      "Epoch 89/100\n",
      "625/625 [==============================] - 20s 32ms/step - loss: 0.2202 - val_loss: 0.1893\n",
      "Epoch 90/100\n",
      "625/625 [==============================] - 21s 34ms/step - loss: 0.2199 - val_loss: 0.1856\n",
      "Epoch 91/100\n",
      "625/625 [==============================] - 19s 31ms/step - loss: 0.2171 - val_loss: 0.2085\n",
      "Epoch 92/100\n",
      "625/625 [==============================] - 19s 31ms/step - loss: 0.2271 - val_loss: 0.1926\n",
      "Epoch 93/100\n",
      "625/625 [==============================] - 19s 31ms/step - loss: 0.2144 - val_loss: 0.1894\n",
      "Epoch 94/100\n",
      "625/625 [==============================] - 20s 32ms/step - loss: 0.2165 - val_loss: 0.1914\n",
      "Epoch 95/100\n",
      "625/625 [==============================] - 20s 32ms/step - loss: 0.2231 - val_loss: 0.1930\n",
      "Epoch 96/100\n",
      "625/625 [==============================] - 19s 31ms/step - loss: 0.2125 - val_loss: 0.1907\n",
      "Epoch 97/100\n",
      "625/625 [==============================] - 19s 30ms/step - loss: 0.2150 - val_loss: 0.1868\n",
      "Epoch 98/100\n",
      "625/625 [==============================] - 20s 32ms/step - loss: 0.2122 - val_loss: 0.1831\n",
      "Epoch 99/100\n",
      "625/625 [==============================] - 20s 31ms/step - loss: 0.2102 - val_loss: 0.1848\n",
      "Epoch 100/100\n",
      "625/625 [==============================] - 21s 34ms/step - loss: 0.2103 - val_loss: 0.1855\n"
     ]
    }
   ],
   "source": [
    "history = autoencoder.fit(X_train, X_train, epochs = EPOCHS, batch_size = BATCH_SIZE,\n",
    "                  validation_data=(X_val, X_val))"
   ]
  },
  {
   "cell_type": "code",
   "execution_count": null,
   "id": "funky-disabled",
   "metadata": {},
   "outputs": [],
   "source": [
    "model_name = 'model_name'\n",
    "model_directory = ''\n",
    "save_model(model_directory+model_name, autoencoder)"
   ]
  },
  {
   "cell_type": "code",
   "execution_count": 26,
   "id": "contemporary-gentleman",
   "metadata": {},
   "outputs": [],
   "source": [
    "def learningCurve(history):\n",
    "    plt.figure(figsize=(10,8))\n",
    "    plt.plot(history.history['loss'], linewidth=1)\n",
    "    plt.plot(history.history['val_loss'], linewidth=1)\n",
    "    plt.title('Model Loss over Epochs')\n",
    "    plt.ylabel('Loss')\n",
    "    plt.xlabel('Epoch')\n",
    "    plt.legend(['training sample loss','validation sample loss'])\n",
    "    #plt.savefig('Learning_curve.pdf')\n",
    "    plt.show()\n",
    "    plt.close()"
   ]
  },
  {
   "cell_type": "code",
   "execution_count": 27,
   "id": "corporate-miller",
   "metadata": {},
   "outputs": [
    {
     "data": {
      "image/png": "[encoded data removed]",
      "text/plain": [
       "<Figure size 720x576 with 1 Axes>"
      ]
     },
     "metadata": {
      "needs_background": "light"
     },
     "output_type": "display_data"
    }
   ],
   "source": [
    "learningCurve(history)\n"
   ]
  },
  {
   "cell_type": "markdown",
   "id": "constant-pasta",
   "metadata": {},
   "source": [
    "## Prediction - background"
   ]
  },
  {
   "cell_type": "code",
   "execution_count": 48,
   "id": "gorgeous-hebrew",
   "metadata": {},
   "outputs": [],
   "source": [
    "bkg_prediction = autoencoder.predict(X_test)"
   ]
  },
  {
   "cell_type": "code",
   "execution_count": 49,
   "id": "iraqi-finnish",
   "metadata": {},
   "outputs": [],
   "source": [
    "np.save('bkgprediction',bkg_prediction)"
   ]
  },
  {
   "cell_type": "markdown",
   "id": "bridal-decision",
   "metadata": {},
   "source": [
    "## Prediction - signals"
   ]
  },
  {
   "cell_type": "code",
   "execution_count": 50,
   "id": "understanding-frontier",
   "metadata": {},
   "outputs": [],
   "source": [
    "signal_labels = ['Particles', 'Particles','Particles','Particles']"
   ]
  },
  {
   "cell_type": "code",
   "execution_count": 51,
   "id": "extra-single",
   "metadata": {},
   "outputs": [],
   "source": [
    "signals_file = ['Ato4l_lepFilter_13TeV.h5', 'hChToTauNu_13TeV_PU20.h5', 'hToTauTau_13TeV_PU20.h5','leptoquark_LOWMASS_lepFilter_13TeV.h5' ]"
   ]
  },
  {
   "cell_type": "code",
   "execution_count": 60,
   "id": "tested-sauce",
   "metadata": {},
   "outputs": [],
   "source": [
    "# add correct path to signal files\n",
    "signal_data = []\n",
    "for i, label in enumerate(signal_labels, ):\n",
    "    with h5py.File(signals_file[i], 'r') as file:\n",
    "        test_data = np.array(file[label])\n",
    "        test_data = test_data[:,:,0:3]\n",
    "        test_data = np.reshape(test_data,(test_data.shape[0],57) )\n",
    "    signal_data.append(test_data)"
   ]
  },
  {
   "cell_type": "code",
   "execution_count": 61,
   "id": "binary-registrar",
   "metadata": {},
   "outputs": [],
   "source": [
    "signal_results = []\n",
    "\n",
    "for i, label in enumerate(signal_labels):\n",
    "    signal_prediction = autoencoder.predict(np.reshape(signal_data[i],(-1, 19,3,1)))\n",
    "    signal_results.append([label, signal_data[i], signal_prediction]) # save [label, true, prediction] for signal"
   ]
  },
  {
   "cell_type": "code",
   "execution_count": 134,
   "id": "induced-religious",
   "metadata": {},
   "outputs": [],
   "source": [
    "signal_prediction = signal_prediction.reshape(-1,57)"
   ]
  },
  {
   "cell_type": "code",
   "execution_count": 135,
   "id": "discrete-apple",
   "metadata": {},
   "outputs": [
    {
     "data": {
      "text/plain": [
       "(340544, 57)"
      ]
     },
     "execution_count": 135,
     "metadata": {},
     "output_type": "execute_result"
    }
   ],
   "source": [
    "signal_prediction.shape"
   ]
  },
  {
   "cell_type": "markdown",
   "id": "israeli-wayne",
   "metadata": {},
   "source": [
    "## Save results"
   ]
  },
  {
   "cell_type": "code",
   "execution_count": 68,
   "id": "devoted-mailing",
   "metadata": {},
   "outputs": [
    {
     "data": {
      "text/plain": [
       "(340544, 19, 3, 1)"
      ]
     },
     "execution_count": 68,
     "metadata": {},
     "output_type": "execute_result"
    }
   ],
   "source": [
    "signal_prediction.shape"
   ]
  },
  {
   "cell_type": "code",
   "execution_count": 67,
   "id": "numeric-madonna",
   "metadata": {},
   "outputs": [],
   "source": [
    "save_file = 'save_file'"
   ]
  },
  {
   "cell_type": "markdown",
   "id": "animated-spokesman",
   "metadata": {},
   "source": [
    "## Evaluate results\n",
    "\n",
    "1. Plot loss distribution after prediction (check loss value for signals)\n",
    "2. Plot ROC curves - how good is anomaly detection for chosen FPR threshold"
   ]
  },
  {
   "cell_type": "markdown",
   "id": "complimentary-induction",
   "metadata": {},
   "source": [
    "# 1."
   ]
  },
  {
   "cell_type": "code",
   "execution_count": 62,
   "id": "opening-property",
   "metadata": {},
   "outputs": [],
   "source": [
    "from func import mse_loss"
   ]
  },
  {
   "cell_type": "code",
   "execution_count": 143,
   "id": "understood-filter",
   "metadata": {},
   "outputs": [
    {
     "ename": "TypeError",
     "evalue": "'tuple' object is not callable",
     "output_type": "error",
     "traceback": [
      "\u001b[0;31m---------------------------------------------------------------------------\u001b[0m",
      "\u001b[0;31mTypeError\u001b[0m                                 Traceback (most recent call last)",
      "\u001b[0;32m<ipython-input-143-b6f705ec276d>\u001b[0m in \u001b[0;36m<module>\u001b[0;34m\u001b[0m\n\u001b[0;32m----> 1\u001b[0;31m \u001b[0msignal_results\u001b[0m\u001b[0;34m[\u001b[0m\u001b[0;36m0\u001b[0m\u001b[0;34m]\u001b[0m\u001b[0;34m[\u001b[0m\u001b[0;36m2\u001b[0m\u001b[0;34m]\u001b[0m\u001b[0;34m.\u001b[0m\u001b[0mshape\u001b[0m\u001b[0;34m(\u001b[0m\u001b[0;34m)\u001b[0m\u001b[0;34m\u001b[0m\u001b[0;34m\u001b[0m\u001b[0m\n\u001b[0m",
      "\u001b[0;31mTypeError\u001b[0m: 'tuple' object is not callable"
     ]
    }
   ],
   "source": [
    "signal_results[0][2].shape()"
   ]
  },
  {
   "cell_type": "code",
   "execution_count": 173,
   "id": "particular-imperial",
   "metadata": {},
   "outputs": [],
   "source": [
    "# compute loss value (true, predicted)\n",
    "total_loss = []\n",
    "total_loss.append(mse_loss(X_test.reshape(-1,57), g).numpy())\n",
    "for i, signal_X in enumerate(signal_data):\n",
    "    x = mse_loss(signal_X, np.asarray(signal_results[i][2]).reshape(-1,57)).numpy()\n",
    "    total_loss.append(x)"
   ]
  },
  {
   "cell_type": "markdown",
   "id": "floral-hazard",
   "metadata": {},
   "source": [
    "# 2."
   ]
  },
  {
   "cell_type": "code",
   "execution_count": 174,
   "id": "related-hello",
   "metadata": {},
   "outputs": [],
   "source": [
    "from sklearn.metrics import roc_curve, auc"
   ]
  },
  {
   "cell_type": "code",
   "execution_count": 175,
   "id": "vocational-looking",
   "metadata": {},
   "outputs": [],
   "source": [
    "labels = np.concatenate([['Background'], np.array(signal_labels)])"
   ]
  },
  {
   "cell_type": "code",
   "execution_count": 176,
   "id": "floral-cisco",
   "metadata": {},
   "outputs": [
    {
     "data": {
      "text/plain": [
       "array(['Particles', 'Particles', 'Particles', 'Particles'], dtype='<U9')"
      ]
     },
     "execution_count": 176,
     "metadata": {},
     "output_type": "execute_result"
    }
   ],
   "source": [
    "np.array(signal_labels)"
   ]
  },
  {
   "cell_type": "code",
   "execution_count": 177,
   "id": "perfect-minute",
   "metadata": {},
   "outputs": [],
   "source": [
    "signals_files = ['Background','Ato4l_lepFilter_13TeV.h5', 'hChToTauNu_13TeV_PU20.h5', 'hToTauTau_13TeV_PU20.h5','leptoquark_LOWMASS_lepFilter_13TeV.h5' ]"
   ]
  },
  {
   "cell_type": "code",
   "execution_count": 179,
   "id": "attended-reunion",
   "metadata": {},
   "outputs": [
    {
     "data": {
      "text/plain": [
       "(200000,)"
      ]
     },
     "execution_count": 179,
     "metadata": {},
     "output_type": "execute_result"
    }
   ],
   "source": [
    "total_loss[0].shape"
   ]
  },
  {
   "cell_type": "code",
   "execution_count": 180,
   "id": "whole-federation",
   "metadata": {
    "scrolled": true
   },
   "outputs": [
    {
     "data": {
      "image/png": "[encoded data removed]",
      "text/plain": [
       "<Figure size 720x576 with 1 Axes>"
      ]
     },
     "metadata": {
      "needs_background": "light"
     },
     "output_type": "display_data"
    }
   ],
   "source": [
    "target_background = np.zeros(total_loss[0].shape[0])\n",
    "\n",
    "plt.figure(figsize=(10,8))\n",
    "for i, label in enumerate(labels):\n",
    "    if i == 0: continue # background events\n",
    "    \n",
    "    trueVal = np.concatenate((np.ones(total_loss[i].shape[0]), target_background)) # anomaly=1, bkg=0\n",
    "    predVal_loss = np.concatenate((total_loss[i], total_loss[0]))\n",
    "    \n",
    "    fpr_loss, tpr_loss, threshold_loss = roc_curve(trueVal, predVal_loss)\n",
    "    auc_loss = auc(fpr_loss, tpr_loss)\n",
    "    \n",
    "    plt.plot(fpr_loss, tpr_loss, \"-\", label='%s (auc = %.1f%%)'%(signals_files[i],auc_loss*100.), linewidth=1.5)\n",
    "    \n",
    "    plt.semilogx()\n",
    "    plt.semilogy()\n",
    "    plt.ylabel(\"True Positive Rate\")\n",
    "    plt.xlabel(\"False Positive Rate\")\n",
    "    plt.legend(loc='center right')\n",
    "    plt.grid(True)\n",
    "    plt.tight_layout()\n",
    "plt.plot(np.linspace(0, 1),np.linspace(0, 1), '--', color='0.75')\n",
    "plt.axvline(0.00001, color='red', linestyle='dashed', linewidth=1) # threshold value for measuring anomaly detection efficiency\n",
    "plt.title(\"ROC AE\")\n",
    "plt.show()"
   ]
  },
  {
   "cell_type": "code",
   "execution_count": 165,
   "id": "welsh-crime",
   "metadata": {},
   "outputs": [
    {
     "data": {
      "text/plain": [
       "<bound method _EagerTensorBase.numpy of <tf.Tensor: shape=(200000,), dtype=float64, numpy=\n",
       "array([0.20043047, 0.2691875 , 0.06519824, ..., 1.96653947, 0.16231564,\n",
       "       0.24942219])>>"
      ]
     },
     "execution_count": 165,
     "metadata": {},
     "output_type": "execute_result"
    }
   ],
   "source": [
    "total_loss[0]"
   ]
  },
  {
   "cell_type": "code",
   "execution_count": null,
   "id": "regular-vehicle",
   "metadata": {},
   "outputs": [],
   "source": [
    "tpr_loss"
   ]
  },
  {
   "cell_type": "code",
   "execution_count": null,
   "id": "beautiful-maryland",
   "metadata": {},
   "outputs": [],
   "source": []
  },
  {
   "cell_type": "code",
   "execution_count": null,
   "id": "under-pharmaceutical",
   "metadata": {},
   "outputs": [],
   "source": []
  }
 ],
 "metadata": {
  "kernelspec": {
   "display_name": "Python 3",
   "language": "python",
   "name": "python3"
  },
  "language_info": {
   "codemirror_mode": {
    "name": "ipython",
    "version": 3
   },
   "file_extension": ".py",
   "mimetype": "text/x-python",
   "name": "python",
   "nbconvert_exporter": "python",
   "pygments_lexer": "ipython3",
   "version": "3.7.9"
  }
 },
 "nbformat": 4,
 "nbformat_minor": 5
}
