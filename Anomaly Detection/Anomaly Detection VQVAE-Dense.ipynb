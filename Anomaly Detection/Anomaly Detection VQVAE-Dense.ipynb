{
 "cells": [
  {
   "cell_type": "code",
   "execution_count": 1,
   "id": "federal-flour",
   "metadata": {},
   "outputs": [],
   "source": [
    "import numpy as np\n",
    "import matplotlib.pyplot as plt\n",
    "\n",
    "from tensorflow import keras\n",
    "from tensorflow.keras import layers\n",
    "import tensorflow_probability as tfp\n",
    "import tensorflow as tf\n",
    "import h5py\n",
    "from tqdm import tqdm\n",
    "from tensorflow.keras.models import Model\n",
    "\n",
    "from tensorflow.keras.layers import Input, Dense,ZeroPadding2D, BatchNormalization, Activation, Layer, ReLU, LeakyReLU,Conv2D,AveragePooling2D,UpSampling2D,Reshape,Flatten\n",
    "\n",
    "# gpu = tf.config.experimental.list_physical_devices('GPU')[0]\n",
    "# tf.config.experimental.set_memory_growth(gpu, True)"
   ]
  },
  {
   "cell_type": "code",
   "execution_count": null,
   "id": "close-blake",
   "metadata": {},
   "outputs": [],
   "source": [
    "with h5py.File(filename, 'r') as file:\n",
    "    X_train = np.array(file['X_train'])\n",
    "    X_test = np.array(file['X_test'])\n",
    "    X_val = np.array(file['X_val'])"
   ]
  },
  {
   "cell_type": "code",
   "execution_count": 2,
   "id": "divine-assault",
   "metadata": {},
   "outputs": [],
   "source": [
    "class VectorQuantizer(layers.Layer):\n",
    "    def __init__(self, num_embeddings, embedding_dim, beta=0.25, **kwargs): #assuming latent_dim=16, n_embd=128, the input will be (,7,7,16), output is still (,7,7,16)\n",
    "        super().__init__(**kwargs)\n",
    "        self.embedding_dim = embedding_dim\n",
    "        self.num_embeddings = num_embeddings\n",
    "        self.beta = (\n",
    "            beta  # This parameter is best kept between [0.25, 2] as per the paper.\n",
    "        )\n",
    "\n",
    "        # Initialize the embeddings which we will quantize.\n",
    "        w_init = tf.random_uniform_initializer()\n",
    "        self.embeddings = tf.Variable(\n",
    "            initial_value=w_init(\n",
    "                shape=(self.embedding_dim, self.num_embeddings), dtype=\"float32\"\n",
    "            ),\n",
    "            trainable=True,\n",
    "            name=\"embeddings_vqvae\",\n",
    "        ) # latent * n_embd float 32 ~ 5k pamaters 2D\n",
    "\n",
    "    def call(self, x):\n",
    "        # Calculate the input shape of the inputs and\n",
    "        # then flatten the inputs keeping `embedding_dim` intact.\n",
    "        input_shape = tf.shape(x)\n",
    "        flattened = tf.reshape(x, [-1, self.embedding_dim]) # (batch * 7 * 7, 16)\n",
    "\n",
    "        # Quantization.\n",
    "        encoding_indices = self.get_code_indices(flattened) # for each input image, 49 element output from conv2D, each one corresponding to one of the 128 embeded vector\n",
    "        encodings = tf.one_hot(encoding_indices, self.num_embeddings) # (flat,128) ont hot\n",
    "        quantized = tf.matmul(encodings, self.embeddings, transpose_b=True) # (flat,128)*((16,128).T) = (flat,16), each element corresponding to one embded vector\n",
    "        quantized = tf.reshape(quantized, input_shape) #reshaping thr flat to batch * 7 * 7, each position corresponding to one embded vector\n",
    "\n",
    "        # Calculate vector quantization loss and add that to the layer. You can learn more\n",
    "        # about adding losses to different layers here:\n",
    "        # https://keras.io/guides/making_new_layers_and_models_via_subclassing/. Check\n",
    "        # the original paper to get a handle on the formulation of the loss function.\n",
    "        commitment_loss = self.beta * tf.reduce_mean(\n",
    "            (tf.stop_gradient(quantized) - x) ** 2\n",
    "        )\n",
    "        codebook_loss = tf.reduce_mean((quantized - tf.stop_gradient(x)) ** 2)\n",
    "        self.add_loss(commitment_loss + codebook_loss)\n",
    "\n",
    "        # Straight-through estimator.\n",
    "        quantized = x + tf.stop_gradient(quantized - x)\n",
    "        return quantized\n",
    "\n",
    "    def get_code_indices(self, flattened_inputs):\n",
    "        # Calculate L2-normalized distance between the inputs and the codes.\n",
    "        similarity = tf.matmul(flattened_inputs, self.embeddings) #product the (batch * 7 * 7, 16) and (16,128), that is (batch * 7 * 7, 128);;let flat=batch * 7 * 7\n",
    "        distances = (\n",
    "            tf.reduce_sum(flattened_inputs ** 2, axis=1, keepdims=True) \n",
    "            + tf.reduce_sum(self.embeddings ** 2, axis=0)\n",
    "            - 2 * similarity\n",
    "        ) #(flat,1)+(128)-(flat,128) ?\n",
    "\n",
    "        # Derive the indices for minimum distances.\n",
    "        encoding_indices = tf.argmin(distances, axis=1) #return the id of one of the embeddings, then it is a (flat) 1D array contianting 0~128\n",
    "        \n",
    "#         print(flattened_inputs.shape) #flat,16\n",
    "#         print(tf.reduce_sum(flattened_inputs ** 2, axis=1, keepdims=True).shape) #(flat,1)\n",
    "#         print(self.embeddings.shape) #(16,128)\n",
    "#         print(tf.reduce_sum(self.embeddings ** 2, axis=0).shape) # (128)\n",
    "#         print(similarity.shape) #(flat,128)\n",
    "#         print(distances.shape) #(flat,128)\n",
    "#         print(encoding_indices.shape)#(flat)\n",
    "        return encoding_indices #quantized to a number, like 0~128\n"
   ]
  },
  {
   "cell_type": "code",
   "execution_count": 8,
   "id": "attractive-palace",
   "metadata": {},
   "outputs": [],
   "source": [
    "input_shape = 57\n",
    "latent_dimension = 3\n",
    "num_nodes=[32,16]"
   ]
  },
  {
   "cell_type": "code",
   "execution_count": 43,
   "id": "corresponding-minister",
   "metadata": {},
   "outputs": [],
   "source": [
    "def get_encoder(latent_dim=3,input_shape = 57, num_nodes=[32,16]):\n",
    "    inputArray = Input(shape=(input_shape))\n",
    "    x = BatchNormalization()(inputArray)\n",
    "    x = Dense(num_nodes[0], use_bias=False)(x)\n",
    "    x = Activation(tf.nn.leaky_relu)(x)\n",
    "    x = Dense(num_nodes[1], use_bias=False)(x)\n",
    "    x = Activation(tf.nn.leaky_relu)(x)\n",
    "    x = Dense(latent_dimension, use_bias=False)(x)\n",
    "    encoder = Activation(tf.nn.leaky_relu)(x)\n",
    "    return Model(inputs=inputArray, outputs=encoder)\n",
    "\n",
    "\n",
    "def get_decoder(latent_dim=3,input_shape = 57, num_nodes=[32,16]):\n",
    "    latent_inputs = keras.Input(shape=get_encoder(latent_dim).output.shape[1:])\n",
    "    x = Dense(num_nodes[0], use_bias=False)(latent_inputs)\n",
    "    x = Activation(tf.nn.leaky_relu)(x)\n",
    "    decoder = Dense(input_shape)(x)\n",
    "\n",
    "    return Model(inputs=latent_inputs, outputs= decoder)\n"
   ]
  },
  {
   "cell_type": "code",
   "execution_count": 44,
   "id": "nasty-clothing",
   "metadata": {},
   "outputs": [
    {
     "data": {
      "text/plain": [
       "TensorShape([3])"
      ]
     },
     "execution_count": 44,
     "metadata": {},
     "output_type": "execute_result"
    }
   ],
   "source": [
    "get_encoder(16).output.shape[1:]"
   ]
  },
  {
   "cell_type": "code",
   "execution_count": 45,
   "id": "coated-discount",
   "metadata": {},
   "outputs": [
    {
     "name": "stdout",
     "output_type": "stream",
     "text": [
      "Model: \"functional_53\"\n",
      "_________________________________________________________________\n",
      "Layer (type)                 Output Shape              Param #   \n",
      "=================================================================\n",
      "input_33 (InputLayer)        [(None, 57)]              0         \n",
      "_________________________________________________________________\n",
      "batch_normalization_21 (Batc (None, 57)                228       \n",
      "_________________________________________________________________\n",
      "dense_73 (Dense)             (None, 32)                1824      \n",
      "_________________________________________________________________\n",
      "activation_66 (Activation)   (None, 32)                0         \n",
      "_________________________________________________________________\n",
      "dense_74 (Dense)             (None, 16)                512       \n",
      "_________________________________________________________________\n",
      "activation_67 (Activation)   (None, 16)                0         \n",
      "_________________________________________________________________\n",
      "dense_75 (Dense)             (None, 3)                 48        \n",
      "_________________________________________________________________\n",
      "activation_68 (Activation)   (None, 3)                 0         \n",
      "=================================================================\n",
      "Total params: 2,612\n",
      "Trainable params: 2,498\n",
      "Non-trainable params: 114\n",
      "_________________________________________________________________\n"
     ]
    }
   ],
   "source": [
    "get_encoder(16).summary()"
   ]
  },
  {
   "cell_type": "code",
   "execution_count": 46,
   "id": "every-element",
   "metadata": {},
   "outputs": [
    {
     "name": "stdout",
     "output_type": "stream",
     "text": [
      "Model: \"functional_57\"\n",
      "_________________________________________________________________\n",
      "Layer (type)                 Output Shape              Param #   \n",
      "=================================================================\n",
      "input_35 (InputLayer)        [(None, 3)]               0         \n",
      "_________________________________________________________________\n",
      "dense_79 (Dense)             (None, 32)                96        \n",
      "_________________________________________________________________\n",
      "activation_72 (Activation)   (None, 32)                0         \n",
      "_________________________________________________________________\n",
      "dense_80 (Dense)             (None, 57)                1881      \n",
      "=================================================================\n",
      "Total params: 1,977\n",
      "Trainable params: 1,977\n",
      "Non-trainable params: 0\n",
      "_________________________________________________________________\n"
     ]
    }
   ],
   "source": [
    "get_decoder(32).summary()"
   ]
  },
  {
   "cell_type": "code",
   "execution_count": 47,
   "id": "active-classics",
   "metadata": {},
   "outputs": [
    {
     "ename": "SyntaxError",
     "evalue": "invalid syntax (<ipython-input-47-7eafbed9add4>, line 6)",
     "output_type": "error",
     "traceback": [
      "\u001b[0;36m  File \u001b[0;32m\"<ipython-input-47-7eafbed9add4>\"\u001b[0;36m, line \u001b[0;32m6\u001b[0m\n\u001b[0;31m    encoder_outputs = encoder(inputs)\u001b[0m\n\u001b[0m                  ^\u001b[0m\n\u001b[0;31mSyntaxError\u001b[0m\u001b[0;31m:\u001b[0m invalid syntax\n"
     ]
    }
   ],
   "source": [
    "def get_vqvae(latent_dim=3, num_embeddings=64):\n",
    "    vq_layer = VectorQuantizer(num_embeddings, latent_dim, name=\"vector_quantizer\")\n",
    "    encoder = get_encoder(latent_dim)\n",
    "    decoder = get_decoder(latent_dim)\n",
    "    inputs = keras.Input(shape=57\n",
    "    encoder_outputs = encoder(inputs)\n",
    "    quantized_latents = vq_layer(encoder_outputs)\n",
    "    reconstructions = decoder(quantized_latents)\n",
    "    return keras.Model(inputs, reconstructions, name=\"vq_vae\")"
   ]
  },
  {
   "cell_type": "code",
   "execution_count": 48,
   "id": "greenhouse-franklin",
   "metadata": {},
   "outputs": [
    {
     "name": "stdout",
     "output_type": "stream",
     "text": [
      "Model: \"vq_vae\"\n",
      "_________________________________________________________________\n",
      "Layer (type)                 Output Shape              Param #   \n",
      "=================================================================\n",
      "input_39 (InputLayer)        [(None, 57)]              0         \n",
      "_________________________________________________________________\n",
      "functional_59 (Functional)   (None, 3)                 2612      \n",
      "_________________________________________________________________\n",
      "vector_quantizer (VectorQuan (None, 3)                 128       \n",
      "_________________________________________________________________\n",
      "functional_63 (Functional)   (None, 57)                1977      \n",
      "=================================================================\n",
      "Total params: 4,717\n",
      "Trainable params: 4,603\n",
      "Non-trainable params: 114\n",
      "_________________________________________________________________\n"
     ]
    }
   ],
   "source": [
    "get_vqvae(1,128).summary()"
   ]
  },
  {
   "cell_type": "code",
   "execution_count": 49,
   "id": "geographic-duration",
   "metadata": {},
   "outputs": [],
   "source": [
    "class VQVAETrainer(keras.models.Model):\n",
    "    def __init__(self, train_variance, latent_dim=32, num_embeddings=128, **kwargs):\n",
    "        super(VQVAETrainer, self).__init__(**kwargs)\n",
    "        self.train_variance = train_variance\n",
    "        self.latent_dim = latent_dim\n",
    "        self.num_embeddings = num_embeddings\n",
    "\n",
    "        self.vqvae = get_vqvae(self.latent_dim, self.num_embeddings)\n",
    "\n",
    "        self.total_loss_tracker = keras.metrics.Mean(name=\"total_loss\")\n",
    "        self.reconstruction_loss_tracker = keras.metrics.Mean(\n",
    "            name=\"reconstruction_loss\"\n",
    "        )\n",
    "        self.vq_loss_tracker = keras.metrics.Mean(name=\"vq_loss\")\n",
    "\n",
    "    @property\n",
    "    def metrics(self):\n",
    "        return [\n",
    "            self.total_loss_tracker,\n",
    "            self.reconstruction_loss_tracker,\n",
    "            self.vq_loss_tracker,\n",
    "        ]\n",
    "\n",
    "    def call(self,x): #bug, the keras required the call here. 2.7 will fix this.\n",
    "        self.train_step(x)\n",
    "    def train_step(self, x):\n",
    "        with tf.GradientTape() as tape:\n",
    "            # Outputs from the VQ-VAE.\n",
    "            reconstructions = self.vqvae(x)\n",
    "\n",
    "            # Calculate the losses.\n",
    "            reconstruction_loss = (\n",
    "                tf.reduce_mean((x - reconstructions) ** 2) / self.train_variance\n",
    "            )\n",
    "            total_loss = reconstruction_loss + sum(self.vqvae.losses)\n",
    "\n",
    "        # Backpropagation.\n",
    "        grads = tape.gradient(total_loss, self.vqvae.trainable_variables)\n",
    "        self.optimizer.apply_gradients(zip(grads, self.vqvae.trainable_variables))\n",
    "\n",
    "        # Loss tracking.\n",
    "        self.total_loss_tracker.update_state(total_loss)\n",
    "        self.reconstruction_loss_tracker.update_state(reconstruction_loss)\n",
    "        self.vq_loss_tracker.update_state(sum(self.vqvae.losses))\n",
    "\n",
    "        # Log results.\n",
    "        return {\n",
    "            \"loss\": self.total_loss_tracker.result(),\n",
    "            \"reconstruction_loss\": self.reconstruction_loss_tracker.result(),\n",
    "            \"vqvae_loss\": self.vq_loss_tracker.result(),\n",
    "        }\n"
   ]
  },
  {
   "cell_type": "code",
   "execution_count": 50,
   "id": "adjustable-february",
   "metadata": {},
   "outputs": [],
   "source": [
    "filename = 'BKG_dataset.h5'"
   ]
  },
  {
   "cell_type": "code",
   "execution_count": 51,
   "id": "proof-incentive",
   "metadata": {},
   "outputs": [],
   "source": [
    "# make sure input data has correct input shape - background training data\n",
    "with h5py.File(filename, 'r') as file:\n",
    "    X_train = np.array(file['X_train'])\n",
    "    X_test = np.array(file['X_test'])\n",
    "    X_val = np.array(file['X_val'])"
   ]
  },
  {
   "cell_type": "code",
   "execution_count": 52,
   "id": "enormous-tender",
   "metadata": {},
   "outputs": [
    {
     "data": {
      "text/plain": [
       "(640000, 57)"
      ]
     },
     "execution_count": 52,
     "metadata": {},
     "output_type": "execute_result"
    }
   ],
   "source": [
    "X_train.shape"
   ]
  },
  {
   "cell_type": "code",
   "execution_count": 53,
   "id": "humanitarian-florist",
   "metadata": {},
   "outputs": [
    {
     "data": {
      "text/plain": [
       "(200000, 57)"
      ]
     },
     "execution_count": 53,
     "metadata": {},
     "output_type": "execute_result"
    }
   ],
   "source": [
    "X_test.shape"
   ]
  },
  {
   "cell_type": "code",
   "execution_count": 54,
   "id": "dietary-legislature",
   "metadata": {},
   "outputs": [
    {
     "data": {
      "text/plain": [
       "(640000, 57)"
      ]
     },
     "execution_count": 54,
     "metadata": {},
     "output_type": "execute_result"
    }
   ],
   "source": [
    "X_train.shape"
   ]
  },
  {
   "cell_type": "code",
   "execution_count": 55,
   "id": "front-climb",
   "metadata": {},
   "outputs": [],
   "source": [
    "training_data = np.concatenate((X_train,X_val))"
   ]
  },
  {
   "cell_type": "code",
   "execution_count": 56,
   "id": "cardiac-essence",
   "metadata": {},
   "outputs": [],
   "source": [
    "data_variance = np.var(training_data)"
   ]
  },
  {
   "cell_type": "code",
   "execution_count": 57,
   "id": "statewide-moment",
   "metadata": {},
   "outputs": [
    {
     "data": {
      "text/plain": [
       "83.38244512834959"
      ]
     },
     "execution_count": 57,
     "metadata": {},
     "output_type": "execute_result"
    }
   ],
   "source": [
    "data_variance"
   ]
  },
  {
   "cell_type": "code",
   "execution_count": 59,
   "id": "talented-tsunami",
   "metadata": {
    "scrolled": true
   },
   "outputs": [
    {
     "name": "stdout",
     "output_type": "stream",
     "text": [
      "Epoch 1/100\n",
      "6250/6250 [==============================] - 13s 2ms/step - loss: 1.8265 - reconstruction_loss: 0.2987 - vqvae_loss: 1.3397\n",
      "Epoch 2/100\n",
      "6250/6250 [==============================] - 14s 2ms/step - loss: 0.4302 - reconstruction_loss: 0.1065 - vqvae_loss: 0.3158\n",
      "Epoch 3/100\n",
      "6250/6250 [==============================] - 15s 2ms/step - loss: 0.3946 - reconstruction_loss: 0.0852 - vqvae_loss: 0.3048\n",
      "Epoch 4/100\n",
      "6250/6250 [==============================] - 15s 2ms/step - loss: 0.3709 - reconstruction_loss: 0.0720 - vqvae_loss: 0.2959\n",
      "Epoch 5/100\n",
      "6250/6250 [==============================] - 13s 2ms/step - loss: 0.2925 - reconstruction_loss: 0.0677 - vqvae_loss: 0.2247\n",
      "Epoch 6/100\n",
      "6250/6250 [==============================] - 17s 3ms/step - loss: 0.3381 - reconstruction_loss: 0.0649 - vqvae_loss: 0.2699\n",
      "Epoch 7/100\n",
      "6250/6250 [==============================] - 19s 3ms/step - loss: 0.2460 - reconstruction_loss: 0.0631 - vqvae_loss: 0.1846\n",
      "Epoch 8/100\n",
      "6250/6250 [==============================] - 17s 3ms/step - loss: 0.2653 - reconstruction_loss: 0.0617 - vqvae_loss: 0.2031\n",
      "Epoch 9/100\n",
      "6250/6250 [==============================] - 16s 3ms/step - loss: 0.2565 - reconstruction_loss: 0.0606 - vqvae_loss: 0.1961\n",
      "Epoch 10/100\n",
      "6250/6250 [==============================] - 15s 2ms/step - loss: 0.2953 - reconstruction_loss: 0.0596 - vqvae_loss: 0.2313\n",
      "Epoch 11/100\n",
      "6250/6250 [==============================] - 20s 3ms/step - loss: 0.2815 - reconstruction_loss: 0.0589 - vqvae_loss: 0.2193\n",
      "Epoch 12/100\n",
      "6250/6250 [==============================] - 14s 2ms/step - loss: 0.2428 - reconstruction_loss: 0.0585 - vqvae_loss: 0.1835\n",
      "Epoch 13/100\n",
      "6250/6250 [==============================] - 15s 2ms/step - loss: 0.2387 - reconstruction_loss: 0.0580 - vqvae_loss: 0.1798\n",
      "Epoch 14/100\n",
      "6250/6250 [==============================] - 19s 3ms/step - loss: 0.2069 - reconstruction_loss: 0.0574 - vqvae_loss: 0.1512\n",
      "Epoch 15/100\n",
      "6250/6250 [==============================] - 15s 2ms/step - loss: 0.2198 - reconstruction_loss: 0.0566 - vqvae_loss: 0.1620\n",
      "Epoch 16/100\n",
      "6250/6250 [==============================] - 15s 2ms/step - loss: 0.2290 - reconstruction_loss: 0.0564 - vqvae_loss: 0.1712\n",
      "Epoch 17/100\n",
      "6250/6250 [==============================] - 18s 3ms/step - loss: 0.2166 - reconstruction_loss: 0.0561 - vqvae_loss: 0.1596\n",
      "Epoch 18/100\n",
      "6250/6250 [==============================] - 16s 2ms/step - loss: 0.2141 - reconstruction_loss: 0.0556 - vqvae_loss: 0.1580\n",
      "Epoch 19/100\n",
      "6250/6250 [==============================] - 15s 2ms/step - loss: 0.2109 - reconstruction_loss: 0.0554 - vqvae_loss: 0.1550\n",
      "Epoch 20/100\n",
      "6250/6250 [==============================] - 15s 2ms/step - loss: 0.2174 - reconstruction_loss: 0.0548 - vqvae_loss: 0.1596\n",
      "Epoch 21/100\n",
      "6250/6250 [==============================] - 14s 2ms/step - loss: 0.1998 - reconstruction_loss: 0.0548 - vqvae_loss: 0.1454\n",
      "Epoch 22/100\n",
      "6250/6250 [==============================] - 14s 2ms/step - loss: 0.1999 - reconstruction_loss: 0.0544 - vqvae_loss: 0.1458\n",
      "Epoch 23/100\n",
      "6250/6250 [==============================] - 14s 2ms/step - loss: 0.2051 - reconstruction_loss: 0.0541 - vqvae_loss: 0.1493\n",
      "Epoch 24/100\n",
      "6250/6250 [==============================] - 13s 2ms/step - loss: 0.2058 - reconstruction_loss: 0.0537 - vqvae_loss: 0.1511\n",
      "Epoch 25/100\n",
      "6250/6250 [==============================] - 15s 2ms/step - loss: 0.1903 - reconstruction_loss: 0.0536 - vqvae_loss: 0.1374\n",
      "Epoch 26/100\n",
      "6250/6250 [==============================] - 14s 2ms/step - loss: 0.1914 - reconstruction_loss: 0.0532 - vqvae_loss: 0.1380\n",
      "Epoch 27/100\n",
      "6250/6250 [==============================] - 15s 2ms/step - loss: 0.1846 - reconstruction_loss: 0.0530 - vqvae_loss: 0.1318\n",
      "Epoch 28/100\n",
      "6250/6250 [==============================] - 16s 3ms/step - loss: 0.1867 - reconstruction_loss: 0.0529 - vqvae_loss: 0.1343\n",
      "Epoch 29/100\n",
      "6250/6250 [==============================] - 19s 3ms/step - loss: 0.1850 - reconstruction_loss: 0.0526 - vqvae_loss: 0.1328\n",
      "Epoch 30/100\n",
      "6250/6250 [==============================] - 16s 3ms/step - loss: 0.1947 - reconstruction_loss: 0.0523 - vqvae_loss: 0.1397\n",
      "Epoch 31/100\n",
      "6250/6250 [==============================] - 17s 3ms/step - loss: 0.1815 - reconstruction_loss: 0.0523 - vqvae_loss: 0.1293\n",
      "Epoch 32/100\n",
      "6250/6250 [==============================] - 16s 2ms/step - loss: 0.1765 - reconstruction_loss: 0.0520 - vqvae_loss: 0.1254\n",
      "Epoch 33/100\n",
      "6250/6250 [==============================] - 15s 2ms/step - loss: 0.1861 - reconstruction_loss: 0.0520 - vqvae_loss: 0.1339\n",
      "Epoch 34/100\n",
      "6250/6250 [==============================] - 14s 2ms/step - loss: 0.1848 - reconstruction_loss: 0.0519 - vqvae_loss: 0.1323\n",
      "Epoch 35/100\n",
      "6250/6250 [==============================] - 13s 2ms/step - loss: 0.1837 - reconstruction_loss: 0.0516 - vqvae_loss: 0.1319\n",
      "Epoch 36/100\n",
      "6250/6250 [==============================] - 13s 2ms/step - loss: 0.1810 - reconstruction_loss: 0.0514 - vqvae_loss: 0.1294\n",
      "Epoch 37/100\n",
      "6250/6250 [==============================] - 14s 2ms/step - loss: 0.1810 - reconstruction_loss: 0.0513 - vqvae_loss: 0.1300\n",
      "Epoch 38/100\n",
      "6250/6250 [==============================] - 14s 2ms/step - loss: 0.1712 - reconstruction_loss: 0.0510 - vqvae_loss: 0.1210\n",
      "Epoch 39/100\n",
      "6250/6250 [==============================] - 16s 3ms/step - loss: 0.1724 - reconstruction_loss: 0.0509 - vqvae_loss: 0.1222\n",
      "Epoch 40/100\n",
      "6250/6250 [==============================] - 15s 2ms/step - loss: 0.1784 - reconstruction_loss: 0.0509 - vqvae_loss: 0.1276\n",
      "Epoch 41/100\n",
      "6250/6250 [==============================] - 16s 3ms/step - loss: 0.1737 - reconstruction_loss: 0.0508 - vqvae_loss: 0.1231\n",
      "Epoch 42/100\n",
      "6250/6250 [==============================] - 15s 2ms/step - loss: 0.1757 - reconstruction_loss: 0.0509 - vqvae_loss: 0.1249\n",
      "Epoch 43/100\n",
      "6250/6250 [==============================] - 15s 2ms/step - loss: 0.1670 - reconstruction_loss: 0.0507 - vqvae_loss: 0.1178\n",
      "Epoch 44/100\n",
      "6250/6250 [==============================] - 15s 2ms/step - loss: 0.1668 - reconstruction_loss: 0.0508 - vqvae_loss: 0.1172\n",
      "Epoch 45/100\n",
      "6250/6250 [==============================] - 14s 2ms/step - loss: 0.1729 - reconstruction_loss: 0.0504 - vqvae_loss: 0.1224\n",
      "Epoch 46/100\n",
      "6250/6250 [==============================] - 15s 2ms/step - loss: 0.1722 - reconstruction_loss: 0.0502 - vqvae_loss: 0.1218\n",
      "Epoch 47/100\n",
      "6250/6250 [==============================] - 16s 3ms/step - loss: 0.1722 - reconstruction_loss: 0.0509 - vqvae_loss: 0.1211\n",
      "Epoch 48/100\n",
      "6250/6250 [==============================] - 15s 2ms/step - loss: 0.1803 - reconstruction_loss: 0.0503 - vqvae_loss: 0.1290\n",
      "Epoch 49/100\n",
      "6250/6250 [==============================] - 14s 2ms/step - loss: 0.1698 - reconstruction_loss: 0.0506 - vqvae_loss: 0.1194\n",
      "Epoch 50/100\n",
      "6250/6250 [==============================] - 13s 2ms/step - loss: 0.1688 - reconstruction_loss: 0.0500 - vqvae_loss: 0.1190\n",
      "Epoch 51/100\n",
      "6250/6250 [==============================] - 13s 2ms/step - loss: 0.1741 - reconstruction_loss: 0.0498 - vqvae_loss: 0.1230\n",
      "Epoch 52/100\n",
      "6250/6250 [==============================] - 13s 2ms/step - loss: 0.1660 - reconstruction_loss: 0.0498 - vqvae_loss: 0.1169\n",
      "Epoch 53/100\n",
      "6250/6250 [==============================] - 15s 2ms/step - loss: 0.1657 - reconstruction_loss: 0.0505 - vqvae_loss: 0.1161\n",
      "Epoch 54/100\n",
      "6250/6250 [==============================] - 14s 2ms/step - loss: 0.1700 - reconstruction_loss: 0.0505 - vqvae_loss: 0.1194\n",
      "Epoch 55/100\n",
      "6250/6250 [==============================] - 16s 3ms/step - loss: 0.1657 - reconstruction_loss: 0.0504 - vqvae_loss: 0.1157\n",
      "Epoch 56/100\n",
      "6250/6250 [==============================] - 14s 2ms/step - loss: 0.1668 - reconstruction_loss: 0.0495 - vqvae_loss: 0.1175\n",
      "Epoch 57/100\n",
      "6250/6250 [==============================] - 14s 2ms/step - loss: 0.1757 - reconstruction_loss: 0.0494 - vqvae_loss: 0.1245\n",
      "Epoch 58/100\n",
      "6250/6250 [==============================] - 15s 2ms/step - loss: 0.1667 - reconstruction_loss: 0.0499 - vqvae_loss: 0.1167\n",
      "Epoch 59/100\n",
      "6250/6250 [==============================] - 21s 3ms/step - loss: 0.1629 - reconstruction_loss: 0.0495 - vqvae_loss: 0.1140\n",
      "Epoch 60/100\n"
     ]
    },
    {
     "name": "stdout",
     "output_type": "stream",
     "text": [
      "6250/6250 [==============================] - 16s 3ms/step - loss: 0.1707 - reconstruction_loss: 0.0496 - vqvae_loss: 0.1207\n",
      "Epoch 61/100\n",
      "6250/6250 [==============================] - 19s 3ms/step - loss: 0.1618 - reconstruction_loss: 0.0497 - vqvae_loss: 0.1121\n",
      "Epoch 62/100\n",
      "6250/6250 [==============================] - 18s 3ms/step - loss: 0.1662 - reconstruction_loss: 0.0492 - vqvae_loss: 0.1166\n",
      "Epoch 63/100\n",
      "6250/6250 [==============================] - 17s 3ms/step - loss: 0.1641 - reconstruction_loss: 0.0493 - vqvae_loss: 0.1144\n",
      "Epoch 64/100\n",
      "6250/6250 [==============================] - 15s 2ms/step - loss: 0.1646 - reconstruction_loss: 0.0492 - vqvae_loss: 0.1156\n",
      "Epoch 65/100\n",
      "6250/6250 [==============================] - 15s 2ms/step - loss: 0.1636 - reconstruction_loss: 0.0490 - vqvae_loss: 0.1151\n",
      "Epoch 66/100\n",
      "6250/6250 [==============================] - 16s 3ms/step - loss: 0.1645 - reconstruction_loss: 0.0493 - vqvae_loss: 0.1159\n",
      "Epoch 67/100\n",
      "6250/6250 [==============================] - 16s 3ms/step - loss: 0.1780 - reconstruction_loss: 0.0493 - vqvae_loss: 0.1267\n",
      "Epoch 68/100\n",
      "6250/6250 [==============================] - 15s 2ms/step - loss: 0.1588 - reconstruction_loss: 0.0493 - vqvae_loss: 0.1101\n",
      "Epoch 69/100\n",
      "6250/6250 [==============================] - 15s 2ms/step - loss: 0.1597 - reconstruction_loss: 0.0495 - vqvae_loss: 0.1106\n",
      "Epoch 70/100\n",
      "6250/6250 [==============================] - 15s 2ms/step - loss: 0.1614 - reconstruction_loss: 0.0490 - vqvae_loss: 0.1125\n",
      "Epoch 71/100\n",
      "6250/6250 [==============================] - 14s 2ms/step - loss: 0.1627 - reconstruction_loss: 0.0490 - vqvae_loss: 0.1142\n",
      "Epoch 72/100\n",
      "6250/6250 [==============================] - 15s 2ms/step - loss: 0.1583 - reconstruction_loss: 0.0486 - vqvae_loss: 0.1102\n",
      "Epoch 73/100\n",
      "6250/6250 [==============================] - 15s 2ms/step - loss: 0.1627 - reconstruction_loss: 0.0490 - vqvae_loss: 0.1137\n",
      "Epoch 74/100\n",
      "6250/6250 [==============================] - 15s 2ms/step - loss: 0.1649 - reconstruction_loss: 0.0490 - vqvae_loss: 0.1151\n",
      "Epoch 75/100\n",
      "6250/6250 [==============================] - 13s 2ms/step - loss: 0.1599 - reconstruction_loss: 0.0487 - vqvae_loss: 0.1115\n",
      "Epoch 76/100\n",
      "6250/6250 [==============================] - 13s 2ms/step - loss: 0.1628 - reconstruction_loss: 0.0486 - vqvae_loss: 0.1136\n",
      "Epoch 77/100\n",
      "6250/6250 [==============================] - 13s 2ms/step - loss: 0.1628 - reconstruction_loss: 0.0483 - vqvae_loss: 0.1132\n",
      "Epoch 78/100\n",
      "6250/6250 [==============================] - 13s 2ms/step - loss: 0.1573 - reconstruction_loss: 0.0480 - vqvae_loss: 0.1097\n",
      "Epoch 79/100\n",
      "6250/6250 [==============================] - 15s 2ms/step - loss: 0.1589 - reconstruction_loss: 0.0480 - vqvae_loss: 0.1110\n",
      "Epoch 80/100\n",
      "6250/6250 [==============================] - 14s 2ms/step - loss: 0.1584 - reconstruction_loss: 0.0479 - vqvae_loss: 0.1101\n",
      "Epoch 81/100\n",
      "6250/6250 [==============================] - 15s 2ms/step - loss: 0.1575 - reconstruction_loss: 0.0478 - vqvae_loss: 0.1098\n",
      "Epoch 82/100\n",
      "6250/6250 [==============================] - 15s 2ms/step - loss: 0.1604 - reconstruction_loss: 0.0477 - vqvae_loss: 0.1125\n",
      "Epoch 83/100\n",
      "6250/6250 [==============================] - 15s 2ms/step - loss: 0.1579 - reconstruction_loss: 0.0482 - vqvae_loss: 0.1085\n",
      "Epoch 84/100\n",
      "6250/6250 [==============================] - 16s 3ms/step - loss: 0.1608 - reconstruction_loss: 0.0477 - vqvae_loss: 0.1124\n",
      "Epoch 85/100\n",
      "6250/6250 [==============================] - 14s 2ms/step - loss: 0.1563 - reconstruction_loss: 0.0477 - vqvae_loss: 0.1089\n",
      "Epoch 86/100\n",
      "6250/6250 [==============================] - 14s 2ms/step - loss: 0.1528 - reconstruction_loss: 0.0474 - vqvae_loss: 0.1058\n",
      "Epoch 87/100\n",
      "6250/6250 [==============================] - 14s 2ms/step - loss: 0.1553 - reconstruction_loss: 0.0473 - vqvae_loss: 0.1077\n",
      "Epoch 88/100\n",
      "6250/6250 [==============================] - 14s 2ms/step - loss: 0.1551 - reconstruction_loss: 0.0474 - vqvae_loss: 0.1083\n",
      "Epoch 89/100\n",
      "6250/6250 [==============================] - 15s 2ms/step - loss: 0.1587 - reconstruction_loss: 0.0472 - vqvae_loss: 0.1103\n",
      "Epoch 90/100\n",
      "6250/6250 [==============================] - 14s 2ms/step - loss: 0.1559 - reconstruction_loss: 0.0472 - vqvae_loss: 0.1086\n",
      "Epoch 91/100\n",
      "6250/6250 [==============================] - 13s 2ms/step - loss: 0.1612 - reconstruction_loss: 0.0471 - vqvae_loss: 0.1125\n",
      "Epoch 92/100\n",
      "6250/6250 [==============================] - 15s 2ms/step - loss: 0.1532 - reconstruction_loss: 0.0470 - vqvae_loss: 0.1068\n",
      "Epoch 93/100\n",
      "6250/6250 [==============================] - 17s 3ms/step - loss: 0.1583 - reconstruction_loss: 0.0469 - vqvae_loss: 0.1099\n",
      "Epoch 94/100\n",
      "6250/6250 [==============================] - 15s 2ms/step - loss: 0.1560 - reconstruction_loss: 0.0468 - vqvae_loss: 0.1086\n",
      "Epoch 95/100\n",
      "6250/6250 [==============================] - 15s 2ms/step - loss: 0.1552 - reconstruction_loss: 0.0469 - vqvae_loss: 0.1084\n",
      "Epoch 96/100\n",
      "6250/6250 [==============================] - 14s 2ms/step - loss: 0.1641 - reconstruction_loss: 0.0469 - vqvae_loss: 0.1155\n",
      "Epoch 97/100\n",
      "6250/6250 [==============================] - 14s 2ms/step - loss: 0.1528 - reconstruction_loss: 0.0471 - vqvae_loss: 0.1060\n",
      "Epoch 98/100\n",
      "6250/6250 [==============================] - 9s 1ms/step - loss: 0.1533 - reconstruction_loss: 0.0470 - vqvae_loss: 0.1064\n",
      "Epoch 99/100\n",
      "6250/6250 [==============================] - 10s 2ms/step - loss: 0.1547 - reconstruction_loss: 0.0469 - vqvae_loss: 0.1079\n",
      "Epoch 100/100\n",
      "6250/6250 [==============================] - 9s 1ms/step - loss: 0.1536 - reconstruction_loss: 0.0469 - vqvae_loss: 0.1069\n"
     ]
    },
    {
     "data": {
      "text/plain": [
       "<tensorflow.python.keras.callbacks.History at 0x7f8ce8292cd0>"
      ]
     },
     "execution_count": 59,
     "metadata": {},
     "output_type": "execute_result"
    }
   ],
   "source": [
    "vqvae_trainer = VQVAETrainer(data_variance, latent_dim=3, num_embeddings=128)\n",
    "vqvae_trainer.compile(optimizer=keras.optimizers.Adam())\n",
    "vqvae_trainer.fit(training_data, epochs=100, batch_size=128)\n",
    "# vqvae_trainer.save_weights(\"trainer_mini.wt\")\n",
    "#load weights to avoid the retraining\n",
    "# vqvae_trainer.load_weights(\"trainer.wt\")"
   ]
  },
  {
   "cell_type": "code",
   "execution_count": 82,
   "id": "covered-stamp",
   "metadata": {},
   "outputs": [],
   "source": [
    "trained_vqvae_model = vqvae_trainer.vqvae\n"
   ]
  },
  {
   "cell_type": "code",
   "execution_count": 83,
   "id": "authentic-peeing",
   "metadata": {},
   "outputs": [],
   "source": [
    "bkg_prediction = trained_vqvae_model.predict(X_test)"
   ]
  },
  {
   "cell_type": "code",
   "execution_count": 84,
   "id": "artificial-amendment",
   "metadata": {},
   "outputs": [
    {
     "data": {
      "text/plain": [
       "(200000, 57)"
      ]
     },
     "execution_count": 84,
     "metadata": {},
     "output_type": "execute_result"
    }
   ],
   "source": [
    "bkg_prediction.shape"
   ]
  },
  {
   "cell_type": "code",
   "execution_count": 85,
   "id": "communist-bristol",
   "metadata": {},
   "outputs": [
    {
     "data": {
      "text/plain": [
       "(200000, 57)"
      ]
     },
     "execution_count": 85,
     "metadata": {},
     "output_type": "execute_result"
    }
   ],
   "source": [
    "X_test.shape"
   ]
  },
  {
   "cell_type": "code",
   "execution_count": 86,
   "id": "black-identity",
   "metadata": {},
   "outputs": [],
   "source": [
    "signal_labels = ['Particles', 'Particles','Particles','Particles']"
   ]
  },
  {
   "cell_type": "code",
   "execution_count": 87,
   "id": "chemical-michigan",
   "metadata": {},
   "outputs": [],
   "source": [
    "signals_file = ['Ato4l_lepFilter_13TeV.h5', 'hChToTauNu_13TeV_PU20.h5', 'hToTauTau_13TeV_PU20.h5','leptoquark_LOWMASS_lepFilter_13TeV.h5' ]"
   ]
  },
  {
   "cell_type": "code",
   "execution_count": 88,
   "id": "conditional-resource",
   "metadata": {},
   "outputs": [],
   "source": [
    "# add correct path to signal files\n",
    "signal_data = []\n",
    "for i, label in enumerate(signal_labels, ):\n",
    "    with h5py.File(signals_file[i], 'r') as file:\n",
    "        test_data = np.array(file[label])\n",
    "        test_data = test_data[:,:,0:3]\n",
    "    signal_data.append(test_data)"
   ]
  },
  {
   "cell_type": "code",
   "execution_count": 90,
   "id": "outside-contemporary",
   "metadata": {},
   "outputs": [
    {
     "data": {
      "text/plain": [
       "(55969, 19, 3)"
      ]
     },
     "execution_count": 90,
     "metadata": {},
     "output_type": "execute_result"
    }
   ],
   "source": [
    "signal_data[0].shape"
   ]
  },
  {
   "cell_type": "code",
   "execution_count": 91,
   "id": "acoustic-florence",
   "metadata": {},
   "outputs": [
    {
     "name": "stderr",
     "output_type": "stream",
     "text": [
      "4it [00:48, 12.11s/it]\n"
     ]
    }
   ],
   "source": [
    "signal_results = []\n",
    "\n",
    "for i, label in tqdm(enumerate(signal_labels)):\n",
    "    signal_prediction = trained_vqvae_model.predict(signal_data[i].reshape(-1,57))\n",
    "\n",
    "    signal_results.append([label, signal_data[i], signal_prediction]) # save [label, true, prediction] for signal\n",
    "    "
   ]
  },
  {
   "cell_type": "code",
   "execution_count": 92,
   "id": "current-array",
   "metadata": {},
   "outputs": [],
   "source": [
    "from func import mse_loss"
   ]
  },
  {
   "cell_type": "code",
   "execution_count": 93,
   "id": "dress-digest",
   "metadata": {},
   "outputs": [],
   "source": [
    "# compute loss value (true, predicted)\n",
    "total_loss = []\n",
    "total_loss.append(mse_loss(X_test.reshape(-1,57), bkg_prediction.astype(np.float32).reshape(-1,57)).numpy())\n",
    "for i, signal_X in enumerate(signal_data):\n",
    "    sig_results = np.reshape(signal_results[i][2].astype(np.float32), (-1,57))\n",
    "    sigX = np.reshape(signal_X,(-1,57))\n",
    "    total_loss.append(mse_loss(sigX,sig_results).numpy())"
   ]
  },
  {
   "cell_type": "code",
   "execution_count": 94,
   "id": "statewide-glory",
   "metadata": {},
   "outputs": [],
   "source": [
    "from sklearn.metrics import roc_curve, auc\n",
    "labels = np.concatenate([['Background'], np.array(signal_labels)])\n",
    "signals_files = ['Background','Ato4l_lepFilter_13TeV.h5', 'hChToTauNu_13TeV_PU20.h5', 'hToTauTau_13TeV_PU20.h5','leptoquark_LOWMASS_lepFilter_13TeV.h5' ]"
   ]
  },
  {
   "cell_type": "code",
   "execution_count": 95,
   "id": "drawn-metro",
   "metadata": {
    "scrolled": true
   },
   "outputs": [
    {
     "data": {
      "image/png": "[encoded data removed]",
      "text/plain": [
       "<Figure size 720x576 with 1 Axes>"
      ]
     },
     "metadata": {
      "needs_background": "light"
     },
     "output_type": "display_data"
    }
   ],
   "source": [
    "target_background = np.zeros(total_loss[0].shape[0])\n",
    "\n",
    "plt.figure(figsize=(10,8))\n",
    "for i, label in enumerate(labels):\n",
    "    if i == 0: continue # background events\n",
    "    \n",
    "    trueVal = np.concatenate((np.ones(total_loss[i].shape[0]), target_background)) # anomaly=1, bkg=0\n",
    "    predVal_loss = np.concatenate((total_loss[i], total_loss[0]))\n",
    "    \n",
    "    fpr_loss, tpr_loss, threshold_loss = roc_curve(trueVal, predVal_loss)\n",
    "    auc_loss = auc(fpr_loss, tpr_loss)\n",
    "    \n",
    "    plt.plot(fpr_loss, tpr_loss, \"-\", label='%s (auc = %.1f%%)'%(signals_files[i],auc_loss*100.), linewidth=1.5)\n",
    "    \n",
    "    plt.semilogx()\n",
    "    plt.semilogy()\n",
    "    plt.ylabel(\"True Positive Rate\")\n",
    "    plt.xlabel(\"False Positive Rate\")\n",
    "    plt.legend(loc='center right')\n",
    "    plt.grid(True)\n",
    "    plt.tight_layout()\n",
    "plt.plot(np.linspace(0, 1),np.linspace(0, 1), '--', color='0.75')\n",
    "plt.axvline(0.00001, color='red', linestyle='dashed', linewidth=1) # threshold value for measuring anomaly detection efficiency\n",
    "plt.title(\"ROC AE\")\n",
    "plt.show()"
   ]
  },
  {
   "cell_type": "code",
   "execution_count": 197,
   "id": "sunrise-dancing",
   "metadata": {},
   "outputs": [],
   "source": [
    "kl = tf.keras.losses.KLDivergence()\n"
   ]
  },
  {
   "cell_type": "code",
   "execution_count": 228,
   "id": "interested-routine",
   "metadata": {},
   "outputs": [
    {
     "ename": "KeyboardInterrupt",
     "evalue": "",
     "output_type": "error",
     "traceback": [
      "\u001b[0;31m---------------------------------------------------------------------------\u001b[0m",
      "\u001b[0;31mKeyboardInterrupt\u001b[0m                         Traceback (most recent call last)",
      "\u001b[0;32m<ipython-input-228-dd1ab2cca330>\u001b[0m in \u001b[0;36m<module>\u001b[0;34m\u001b[0m\n\u001b[1;32m      2\u001b[0m \u001b[0mtotal_loss\u001b[0m \u001b[0;34m=\u001b[0m \u001b[0;34m[\u001b[0m\u001b[0;34m[\u001b[0m\u001b[0;34m]\u001b[0m\u001b[0;34m,\u001b[0m\u001b[0;34m[\u001b[0m\u001b[0;34m]\u001b[0m\u001b[0;34m,\u001b[0m\u001b[0;34m[\u001b[0m\u001b[0;34m]\u001b[0m\u001b[0;34m,\u001b[0m\u001b[0;34m[\u001b[0m\u001b[0;34m]\u001b[0m\u001b[0;34m]\u001b[0m\u001b[0;34m\u001b[0m\u001b[0;34m\u001b[0m\u001b[0m\n\u001b[1;32m      3\u001b[0m \u001b[0;32mfor\u001b[0m \u001b[0mx\u001b[0m \u001b[0;32min\u001b[0m \u001b[0mrange\u001b[0m\u001b[0;34m(\u001b[0m\u001b[0mX_test\u001b[0m\u001b[0;34m.\u001b[0m\u001b[0mshape\u001b[0m\u001b[0;34m[\u001b[0m\u001b[0;36m0\u001b[0m\u001b[0;34m]\u001b[0m\u001b[0;34m)\u001b[0m\u001b[0;34m:\u001b[0m\u001b[0;34m\u001b[0m\u001b[0;34m\u001b[0m\u001b[0m\n\u001b[0;32m----> 4\u001b[0;31m     \u001b[0mtotal_loss\u001b[0m\u001b[0;34m[\u001b[0m\u001b[0;36m0\u001b[0m\u001b[0;34m]\u001b[0m\u001b[0;34m.\u001b[0m\u001b[0mappend\u001b[0m\u001b[0;34m(\u001b[0m\u001b[0mkl\u001b[0m\u001b[0;34m(\u001b[0m\u001b[0mX_test\u001b[0m\u001b[0;34m[\u001b[0m\u001b[0mx\u001b[0m\u001b[0;34m]\u001b[0m\u001b[0;34m,\u001b[0m \u001b[0mbkg_prediction\u001b[0m\u001b[0;34m.\u001b[0m\u001b[0mastype\u001b[0m\u001b[0;34m(\u001b[0m\u001b[0mnp\u001b[0m\u001b[0;34m.\u001b[0m\u001b[0mfloat32\u001b[0m\u001b[0;34m)\u001b[0m\u001b[0;34m[\u001b[0m\u001b[0mx\u001b[0m\u001b[0;34m]\u001b[0m\u001b[0;34m)\u001b[0m\u001b[0;34m.\u001b[0m\u001b[0mnumpy\u001b[0m\u001b[0;34m(\u001b[0m\u001b[0;34m)\u001b[0m\u001b[0;34m)\u001b[0m\u001b[0;34m\u001b[0m\u001b[0;34m\u001b[0m\u001b[0m\n\u001b[0m\u001b[1;32m      5\u001b[0m \u001b[0;32mfor\u001b[0m \u001b[0mi\u001b[0m\u001b[0;34m,\u001b[0m \u001b[0msignal_X\u001b[0m \u001b[0;32min\u001b[0m \u001b[0menumerate\u001b[0m\u001b[0;34m(\u001b[0m\u001b[0msignal_data\u001b[0m\u001b[0;34m)\u001b[0m\u001b[0;34m:\u001b[0m\u001b[0;34m\u001b[0m\u001b[0;34m\u001b[0m\u001b[0m\n\u001b[1;32m      6\u001b[0m \u001b[0;34m\u001b[0m\u001b[0m\n",
      "\u001b[0;31mKeyboardInterrupt\u001b[0m: "
     ]
    }
   ],
   "source": [
    "# compute loss value (true, predicted)\n",
    "total_loss = [[],[],[],[]]\n",
    "for x in range(X_test.shape[0]):\n",
    "    total_loss[0].append(kl(X_test[x], bkg_prediction.astype(np.float32)[x]).numpy())\n",
    "for i, signal_X in enumerate(signal_data):\n",
    "\n",
    "    total_loss.append(kl(signal_X, signal_results[i][2].astype(np.float32)).numpy())"
   ]
  },
  {
   "cell_type": "code",
   "execution_count": 225,
   "id": "eligible-trailer",
   "metadata": {},
   "outputs": [
    {
     "data": {
      "text/plain": [
       "0.72223955"
      ]
     },
     "execution_count": 225,
     "metadata": {},
     "output_type": "execute_result"
    }
   ],
   "source": [
    "total_loss[1]"
   ]
  },
  {
   "cell_type": "code",
   "execution_count": 226,
   "id": "increasing-snapshot",
   "metadata": {},
   "outputs": [
    {
     "name": "stdout",
     "output_type": "stream",
     "text": [
      "[1. 0.]\n",
      "[0.72223955 0.21897088]\n",
      "[1. 0.]\n",
      "[0.64292854 0.21897088]\n",
      "[1. 0.]\n",
      "[0.5052309  0.21897088]\n",
      "[1. 0.]\n",
      "[0.5053181  0.21897088]\n"
     ]
    },
    {
     "data": {
      "image/png": "[encoded data removed]",
      "text/plain": [
       "<Figure size 720x576 with 1 Axes>"
      ]
     },
     "metadata": {
      "needs_background": "light"
     },
     "output_type": "display_data"
    }
   ],
   "source": [
    "\n",
    "plt.figure(figsize=(10,8))\n",
    "for i, label in enumerate(labels):\n",
    "    if i == 0: continue # background events\n",
    "    \n",
    "    trueVal = np.array((np.ones(total_loss[i].shape), 0)) # anomaly=1, bkg=0\n",
    "    predVal_loss = np.array([total_loss[i],total_loss[0]])\n",
    "    print(trueVal)\n",
    "    print(predVal_loss)\n",
    "    fpr_loss, tpr_loss, threshold_loss = roc_curve(trueVal, predVal_loss)\n",
    "    auc_loss = auc(fpr_loss, tpr_loss)\n",
    "    \n",
    "    plt.plot(fpr_loss, tpr_loss, \"-\", label='%s (auc = %.1f%%)'%(signals_files[i],auc_loss*100.), linewidth=1.5)\n",
    "    \n",
    "    plt.semilogx()\n",
    "    plt.semilogy()\n",
    "    plt.ylabel(\"True Positive Rate\")\n",
    "    plt.xlabel(\"False Positive Rate\")\n",
    "    plt.legend(loc='center right')\n",
    "    plt.grid(True)\n",
    "    plt.tight_layout()\n",
    "plt.plot(np.linspace(0, 1),np.linspace(0, 1), '--', color='0.75')\n",
    "plt.axvline(0.00001, color='red', linestyle='dashed', linewidth=1) # threshold value for measuring anomaly detection efficiency\n",
    "plt.title(\"ROC AE\")\n",
    "plt.show()"
   ]
  },
  {
   "cell_type": "code",
   "execution_count": null,
   "id": "exact-christopher",
   "metadata": {},
   "outputs": [],
   "source": []
  }
 ],
 "metadata": {
  "kernelspec": {
   "display_name": "Python 3",
   "language": "python",
   "name": "python3"
  },
  "language_info": {
   "codemirror_mode": {
    "name": "ipython",
    "version": 3
   },
   "file_extension": ".py",
   "mimetype": "text/x-python",
   "name": "python",
   "nbconvert_exporter": "python",
   "pygments_lexer": "ipython3",
   "version": "3.7.9"
  }
 },
 "nbformat": 4,
 "nbformat_minor": 5
}
