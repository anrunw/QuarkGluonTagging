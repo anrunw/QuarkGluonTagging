{
 "cells": [
  {
   "cell_type": "code",
   "execution_count": 2,
   "id": "sorted-charles",
   "metadata": {},
   "outputs": [],
   "source": [
    "import pandas as pd\n",
    "import numpy as np\n",
    "import matplotlib.pyplot as plt\n",
    "import h5py\n",
    "from tqdm import tqdm"
   ]
  },
  {
   "cell_type": "markdown",
   "id": "signal-tracy",
   "metadata": {},
   "source": [
    "\n",
    "## This is the anomaly detection dataset. It comes with 6 files:\n",
    "#### Background data: \n",
    "\n",
    "background_for_training.h5: This is the dataset that consists entirely of background data (labeled as 0s when classifying)\n",
    "\n",
    "#### Signal data (labeled as 1 when classifying) Each of these files contains some beyond standard model new physics data:\n",
    "Ato4l_lepFilter_13TeV.h5  \n",
    "hChToTauNu_13TeV_PU20.h5  \n",
    "hToTauTau_13TeV_PU20.h5  \n",
    "leptoquark_LOWMASS_lepFilter_13TeV.h5  \n",
    "\n",
    "#### Testing data(unlabeled data that includes a combination of background and signal jets: \n",
    "BlackBox_13TeV_PU20.h5\n"
   ]
  },
  {
   "cell_type": "markdown",
   "id": "julian-scope",
   "metadata": {},
   "source": [
    "### Data Structure and Shape\n",
    "Shape of the data: (*number of events*, *19 different particles/jets*, *features*)\n",
    "\n",
    "In each of these files, each **row** is an event. In each row, there will be 19 different particles. **First** line is **MET**(missing transverse energy), next **four** rows are electrons, next **four** rows are muons, **last ten rows** are particle jets  \n",
    "\n",
    "**19 rows per event**  \n",
    "**row 0: MET  \n",
    "rows 1 to 4 inclusive: electrons  \n",
    "rows 5 to 8 inclusive: muons  \n",
    "rows 9 to 19 inclusive: jets**\n",
    "\n"
   ]
  },
  {
   "cell_type": "markdown",
   "id": "opening-switch",
   "metadata": {},
   "source": [
    "For each of these particles/features, there are 4 features in the order: **Pt (transverse momentum), eta (pseudorapidity), phi (azimuthal angle) and particle classification number **"
   ]
  },
  {
   "cell_type": "markdown",
   "id": "bulgarian-navigator",
   "metadata": {},
   "source": [
    "### Exploring the h5 files"
   ]
  },
  {
   "cell_type": "markdown",
   "id": "permanent-forest",
   "metadata": {},
   "source": [
    "#### opening the file and finding keys"
   ]
  },
  {
   "cell_type": "code",
   "execution_count": 6,
   "id": "comfortable-letter",
   "metadata": {},
   "outputs": [],
   "source": [
    "f = h5py.File('background_for_training.h5', \"r\")\n"
   ]
  },
  {
   "cell_type": "markdown",
   "id": "excess-inquiry",
   "metadata": {},
   "source": [
    "#### Definition for each key:  \n",
    "**Particles**: Numerical features and values for events as described above in the shape (*number of events*, *19 different particles/jets*, *features*)\n",
    "\n",
    "**Particles_Classes**: Label definitions for the last feature dimension\n",
    "\n",
    "**Particle_Names**: Names of four features in events"
   ]
  },
  {
   "cell_type": "code",
   "execution_count": 11,
   "id": "expensive-minister",
   "metadata": {},
   "outputs": [
    {
     "data": {
      "text/plain": [
       "array([b'MET_class_1', b'Four_Ele_class_2', b'Four_Mu_class_3',\n",
       "       b'Ten_Jet_class_4'], dtype='|S16')"
      ]
     },
     "execution_count": 11,
     "metadata": {},
     "output_type": "execute_result"
    }
   ],
   "source": [
    "f['Particles_Classes'][()]"
   ]
  },
  {
   "cell_type": "code",
   "execution_count": 12,
   "id": "thermal-namibia",
   "metadata": {},
   "outputs": [
    {
     "data": {
      "text/plain": [
       "array([b'Pt', b'Eta', b'Phi', b'Class'], dtype='|S5')"
      ]
     },
     "execution_count": 12,
     "metadata": {},
     "output_type": "execute_result"
    }
   ],
   "source": [
    "f['Particles_Names'][()]"
   ]
  },
  {
   "cell_type": "code",
   "execution_count": 13,
   "id": "internal-notebook",
   "metadata": {},
   "outputs": [
    {
     "data": {
      "text/plain": [
       "array([[[14.16792965,  0.        ,  0.87859172,  1.        ],\n",
       "        [ 0.        ,  0.        ,  0.        ,  0.        ],\n",
       "        [ 0.        ,  0.        ,  0.        ,  0.        ],\n",
       "        ...,\n",
       "        [ 0.        ,  0.        ,  0.        ,  0.        ],\n",
       "        [ 0.        ,  0.        ,  0.        ,  0.        ],\n",
       "        [ 0.        ,  0.        ,  0.        ,  0.        ]],\n",
       "\n",
       "       [[84.00697327,  0.        , -2.41600823,  1.        ],\n",
       "        [ 0.        ,  0.        ,  0.        ,  0.        ],\n",
       "        [ 0.        ,  0.        ,  0.        ,  0.        ],\n",
       "        ...,\n",
       "        [ 0.        ,  0.        ,  0.        ,  0.        ],\n",
       "        [ 0.        ,  0.        ,  0.        ,  0.        ],\n",
       "        [ 0.        ,  0.        ,  0.        ,  0.        ]],\n",
       "\n",
       "       [[61.71755981,  0.        ,  0.72055572,  1.        ],\n",
       "        [31.21881485,  1.76982129,  2.79109716,  2.        ],\n",
       "        [ 0.        ,  0.        ,  0.        ,  0.        ],\n",
       "        ...,\n",
       "        [ 0.        ,  0.        ,  0.        ,  0.        ],\n",
       "        [ 0.        ,  0.        ,  0.        ,  0.        ],\n",
       "        [ 0.        ,  0.        ,  0.        ,  0.        ]],\n",
       "\n",
       "       ...,\n",
       "\n",
       "       [[27.43260002,  0.        , -2.22142315,  1.        ],\n",
       "        [ 0.        ,  0.        ,  0.        ,  0.        ],\n",
       "        [ 0.        ,  0.        ,  0.        ,  0.        ],\n",
       "        ...,\n",
       "        [ 0.        ,  0.        ,  0.        ,  0.        ],\n",
       "        [ 0.        ,  0.        ,  0.        ,  0.        ],\n",
       "        [ 0.        ,  0.        ,  0.        ,  0.        ]],\n",
       "\n",
       "       [[56.66179276,  0.        , -1.01653361,  1.        ],\n",
       "        [ 0.        ,  0.        ,  0.        ,  0.        ],\n",
       "        [ 0.        ,  0.        ,  0.        ,  0.        ],\n",
       "        ...,\n",
       "        [ 0.        ,  0.        ,  0.        ,  0.        ],\n",
       "        [ 0.        ,  0.        ,  0.        ,  0.        ],\n",
       "        [ 0.        ,  0.        ,  0.        ,  0.        ]],\n",
       "\n",
       "       [[41.11294937,  0.        ,  2.36530614,  1.        ],\n",
       "        [47.54456711,  1.56037033, -1.45333004,  2.        ],\n",
       "        [ 0.        ,  0.        ,  0.        ,  0.        ],\n",
       "        ...,\n",
       "        [ 0.        ,  0.        ,  0.        ,  0.        ],\n",
       "        [ 0.        ,  0.        ,  0.        ,  0.        ],\n",
       "        [ 0.        ,  0.        ,  0.        ,  0.        ]]])"
      ]
     },
     "execution_count": 13,
     "metadata": {},
     "output_type": "execute_result"
    }
   ],
   "source": [
    "f['Particles'][()]"
   ]
  },
  {
   "cell_type": "code",
   "execution_count": 14,
   "id": "emerging-fields",
   "metadata": {},
   "outputs": [
    {
     "data": {
      "text/plain": [
       "(4000000, 19, 4)"
      ]
     },
     "execution_count": 14,
     "metadata": {},
     "output_type": "execute_result"
    }
   ],
   "source": [
    "f['Particles'][()].shape"
   ]
  },
  {
   "cell_type": "code",
   "execution_count": null,
   "id": "forward-coating",
   "metadata": {},
   "outputs": [],
   "source": []
  },
  {
   "cell_type": "markdown",
   "id": "manufactured-february",
   "metadata": {},
   "source": [
    "### Some sample plotting of feature distributions: "
   ]
  },
  {
   "cell_type": "code",
   "execution_count": null,
   "id": "provincial-association",
   "metadata": {},
   "outputs": [],
   "source": [
    "\n",
    "\n",
    "f2 = h5py.File('background_for_training.h5', \"r\")\n",
    "particles2 = f2['Particles'][()]\n",
    "electrons = particles2[:,1:5]\n",
    "leadingPTelectrons = electrons[:,0][:,1]\n",
    "background = [i for i in leadingPTelectrons if i != 0]\n"
   ]
  },
  {
   "cell_type": "code",
   "execution_count": 141,
   "id": "identical-chile",
   "metadata": {},
   "outputs": [],
   "source": [
    "f2 = h5py.File('Ato4l_lepFilter_13TeV.h5', \"r\")\n",
    "particles2 = f2['Particles'][()]\n",
    "electrons = particles2[:,1:5]\n",
    "leadingPTelectrons = electrons[:,0][:,1]\n",
    "Ato4l_lepFilter = [i for i in leadingPTelectrons if i != 0]\n"
   ]
  },
  {
   "cell_type": "code",
   "execution_count": 142,
   "id": "peaceful-rainbow",
   "metadata": {},
   "outputs": [],
   "source": [
    "f2 = h5py.File('hToTauTau_13TeV_PU20.h5', \"r\")\n",
    "particles2 = f2['Particles'][()]\n",
    "electrons = particles2[:,1:5]\n",
    "leadingPTelectrons = electrons[:,0][:,1]\n",
    "hToTauTau = [i for i in leadingPTelectrons if i != 0]\n"
   ]
  },
  {
   "cell_type": "code",
   "execution_count": 143,
   "id": "young-pulse",
   "metadata": {},
   "outputs": [],
   "source": [
    "f2 = h5py.File('hChToTauNu_13TeV_PU20.h5', \"r\")\n",
    "particles2 = f2['Particles'][()]\n",
    "electrons = particles2[:,1:5]\n",
    "leadingPTelectrons = electrons[:,0][:,1]\n",
    "hchToTauNu = [i for i in leadingPTelectrons if i != 0]\n"
   ]
  },
  {
   "cell_type": "code",
   "execution_count": 144,
   "id": "confused-israeli",
   "metadata": {},
   "outputs": [],
   "source": [
    "f2 = h5py.File('leptoquark_LOWMASS_lepFilter_13TeV.h5', \"r\")\n",
    "particles2 = f2['Particles'][()]\n",
    "electrons = particles2[:,1:5]\n",
    "leadingPTelectrons = electrons[:,0][:,1]\n",
    "leptoquark = [i for i in leadingPTelectrons if i != 0]\n"
   ]
  },
  {
   "cell_type": "code",
   "execution_count": 147,
   "id": "ancient-edward",
   "metadata": {
    "scrolled": true
   },
   "outputs": [
    {
     "data": {
      "text/plain": [
       "Text(0.5, 1.0, 'Leading Electron Eta')"
      ]
     },
     "execution_count": 147,
     "metadata": {},
     "output_type": "execute_result"
    },
    {
     "data": {
      "image/png": "[encoded data removed]",
      "text/plain": [
       "<Figure size 432x288 with 1 Axes>"
      ]
     },
     "metadata": {
      "needs_background": "light"
     },
     "output_type": "display_data"
    }
   ],
   "source": [
    "plt.hist(np.asarray(background), bins=200, alpha=0.5, label = 'background')\n",
    "plt.hist(np.asarray(Ato4l_lepFilter), bins=200, alpha=0.5, label = 'Signal A to 4 leptons')\n",
    "plt.hist(np.asarray(leptoquark), bins=200, alpha=0.5, label = 'LeptoquarkLowMass')\n",
    "plt.hist(np.asarray(hToTauTau), bins=200, alpha=0.5, label = 'htotautau')\n",
    "plt.hist(np.asarray(hchToTauNu), bins=200, alpha=0.5, label = 'hChtotautau')\n",
    "\n",
    "plt.xscale('linear')\n",
    "plt.yscale('log')\n",
    "plt.legend(loc='upper right')\n",
    "plt.title('Leading Electron Eta')"
   ]
  },
  {
   "cell_type": "code",
   "execution_count": 119,
   "id": "powerful-interpretation",
   "metadata": {},
   "outputs": [],
   "source": [
    "f2 = h5py.File('background_for_training.h5', \"r\")\n",
    "particles2 = f2['Particles'][()]\n",
    "electrons = particles2[:,1:5]\n",
    "leadingPTelectrons = electrons[:,0][:,0]\n",
    "background = [i for i in leadingPTelectrons if i != 0]\n"
   ]
  },
  {
   "cell_type": "code",
   "execution_count": 120,
   "id": "exact-negative",
   "metadata": {},
   "outputs": [],
   "source": [
    "f2 = h5py.File('Ato4l_lepFilter_13TeV.h5', \"r\")\n",
    "particles2 = f2['Particles'][()]\n",
    "electrons = particles2[:,1:5]\n",
    "leadingPTelectrons = electrons[:,0][:,0]\n",
    "Ato4l_lepFilter = [i for i in leadingPTelectrons if i != 0]\n"
   ]
  },
  {
   "cell_type": "code",
   "execution_count": 121,
   "id": "amended-violence",
   "metadata": {},
   "outputs": [],
   "source": [
    "f2 = h5py.File('hToTauTau_13TeV_PU20.h5', \"r\")\n",
    "particles2 = f2['Particles'][()]\n",
    "electrons = particles2[:,1:5]\n",
    "leadingPTelectrons = electrons[:,0][:,0]\n",
    "hToTauTau = [i for i in leadingPTelectrons if i != 0]\n"
   ]
  },
  {
   "cell_type": "code",
   "execution_count": 122,
   "id": "graphic-funds",
   "metadata": {},
   "outputs": [],
   "source": [
    "f2 = h5py.File('hChToTauNu_13TeV_PU20.h5', \"r\")\n",
    "particles2 = f2['Particles'][()]\n",
    "electrons = particles2[:,1:5]\n",
    "leadingPTelectrons = electrons[:,0][:,0]\n",
    "hchToTauNu = [i for i in leadingPTelectrons if i != 0]\n"
   ]
  },
  {
   "cell_type": "code",
   "execution_count": 123,
   "id": "north-award",
   "metadata": {},
   "outputs": [],
   "source": [
    "f2 = h5py.File('leptoquark_LOWMASS_lepFilter_13TeV.h5', \"r\")\n",
    "particles2 = f2['Particles'][()]\n",
    "electrons = particles2[:,1:5]\n",
    "leadingPTelectrons = electrons[:,0][:,0]\n",
    "leptoquark = [i for i in leadingPTelectrons if i != 0]\n"
   ]
  },
  {
   "cell_type": "code",
   "execution_count": 125,
   "id": "prepared-politics",
   "metadata": {},
   "outputs": [
    {
     "data": {
      "text/plain": [
       "Text(0.5, 1.0, 'Leading Electron Pt')"
      ]
     },
     "execution_count": 125,
     "metadata": {},
     "output_type": "execute_result"
    },
    {
     "data": {
      "image/png": "[encoded data removed]",
      "text/plain": [
       "<Figure size 432x288 with 1 Axes>"
      ]
     },
     "metadata": {
      "needs_background": "light"
     },
     "output_type": "display_data"
    }
   ],
   "source": [
    "plt.hist(np.asarray(background), bins=200, alpha=0.5, label = 'background')\n",
    "plt.hist(np.asarray(Ato4l_lepFilter), bins=200, alpha=0.5, label = 'Signal A to 4 leptons')\n",
    "plt.hist(np.asarray(leptoquark), bins=200, alpha=0.5, label = 'LeptoquarkLowMass')\n",
    "plt.hist(np.asarray(hToTauTau), bins=200, alpha=0.5, label = 'htotautau')\n",
    "plt.hist(np.asarray(hchToTauNu), bins=200, alpha=0.5, label = 'hChtotautau')\n",
    "\n",
    "plt.xscale('linear')\n",
    "plt.yscale('log')\n",
    "plt.legend(loc='upper right')\n",
    "plt.title('Leading Electron Pt')"
   ]
  },
  {
   "cell_type": "code",
   "execution_count": 36,
   "id": "outdoor-house",
   "metadata": {},
   "outputs": [],
   "source": [
    "f2 = h5py.File('background_for_training.h5', \"r\")\n",
    "leptoquark = f2['Particles'][()]\n",
    "electrons = leptoquark[:,1:5][:,:,0].reshape(-1).tolist()\n",
    "\n",
    "background = [i for i in electrons if i != 0]\n"
   ]
  },
  {
   "cell_type": "code",
   "execution_count": 37,
   "id": "closing-bracelet",
   "metadata": {},
   "outputs": [],
   "source": [
    "f2 = h5py.File('hToTauTau_13TeV_PU20.h5', \"r\")\n",
    "leptoquark = f2['Particles'][()]\n",
    "electrons = leptoquark[:,1:5][:,:,0].reshape(-1).tolist()\n",
    "\n",
    "hToTauTau = [i for i in electrons if i != 0]\n"
   ]
  },
  {
   "cell_type": "code",
   "execution_count": 38,
   "id": "gorgeous-improvement",
   "metadata": {},
   "outputs": [],
   "source": [
    "f2 = h5py.File('hChToTauNu_13TeV_PU20.h5', \"r\")\n",
    "leptoquark = f2['Particles'][()]\n",
    "electrons = leptoquark[:,1:5][:,:,0].reshape(-1).tolist()\n",
    "\n",
    "hchToTauNu = [i for i in electrons if i != 0]\n"
   ]
  },
  {
   "cell_type": "code",
   "execution_count": 39,
   "id": "smart-clinic",
   "metadata": {},
   "outputs": [],
   "source": [
    "f2 = h5py.File('Ato4l_lepFilter_13TeV.h5', \"r\")\n",
    "leptoquark = f2['Particles'][()]\n",
    "electrons = leptoquark[:,1:5][:,:,0].reshape(-1).tolist()\n",
    "\n",
    "Ato4l_lepFilter = [i for i in electrons if i != 0]\n"
   ]
  },
  {
   "cell_type": "code",
   "execution_count": 40,
   "id": "confused-honor",
   "metadata": {},
   "outputs": [],
   "source": [
    "f2 = h5py.File('leptoquark_LOWMASS_lepFilter_13TeV.h5', \"r\")\n",
    "leptoquark = f2['Particles'][()]\n",
    "electrons = leptoquark[:,1:5][:,:,0].reshape(-1).tolist()\n",
    "\n",
    "leptoquark = [i for i in electrons if i != 0]\n"
   ]
  },
  {
   "cell_type": "code",
   "execution_count": 41,
   "id": "outside-providence",
   "metadata": {
    "scrolled": true
   },
   "outputs": [
    {
     "data": {
      "text/plain": [
       "Text(0.5, 1.0, 'Electron Pt')"
      ]
     },
     "execution_count": 41,
     "metadata": {},
     "output_type": "execute_result"
    },
    {
     "data": {
      "image/png": "[encoded data removed]",
      "text/plain": [
       "<Figure size 432x288 with 1 Axes>"
      ]
     },
     "metadata": {
      "needs_background": "light"
     },
     "output_type": "display_data"
    }
   ],
   "source": [
    "plt.hist(np.asarray(background), bins=200, alpha=0.5, label = 'background')\n",
    "plt.hist(np.asarray(Ato4l_lepFilter), bins=200, alpha=0.5, label = 'Signal A to 4 leptons')\n",
    "plt.hist(np.asarray(leptoquark), bins=200, alpha=0.5, label = 'LeptoquarkLowMass')\n",
    "plt.hist(np.asarray(hToTauTau), bins=200, alpha=0.5, label = 'htotautau')\n",
    "plt.hist(np.asarray(hchToTauNu), bins=200, alpha=0.5, label = 'hChtotautau')\n",
    "\n",
    "plt.xscale('linear')\n",
    "plt.yscale('log')\n",
    "plt.legend(loc='upper right')\n",
    "plt.title('Electron Pt')"
   ]
  },
  {
   "cell_type": "code",
   "execution_count": 27,
   "id": "pursuant-reviewer",
   "metadata": {},
   "outputs": [],
   "source": [
    "f2 = h5py.File('background_for_training.h5', \"r\")\n",
    "leptoquark = f2['Particles'][()]\n",
    "electrons = leptoquark[:,1:5][:,:,1][:,0]\n",
    "electrons = electrons.tolist()\n",
    "background = [i for i in electrons if i != 0]\n"
   ]
  },
  {
   "cell_type": "code",
   "execution_count": 159,
   "id": "opened-adult",
   "metadata": {},
   "outputs": [],
   "source": [
    "f2 = h5py.File('background_for_training.h5', \"r\")\n",
    "leptoquark = f2['Particles'][()]\n",
    "electrons = leptoquark[:,1:4][:,:,0][:,0]\n",
    "electrons = electrons.tolist()\n",
    "background = [i for i in electrons if i != 0]\n"
   ]
  },
  {
   "cell_type": "code",
   "execution_count": 150,
   "id": "positive-carol",
   "metadata": {},
   "outputs": [],
   "source": [
    "f2 = h5py.File('hToTauTau_13TeV_PU20.h5', \"r\")\n",
    "leptoquark = f2['Particles'][()]\n",
    "electrons = leptoquark[:,1:4][:,:,0][:,0]\n",
    "electrons = electrons.tolist()\n",
    "hToTauTau = [i for i in electrons if i != 0]\n"
   ]
  },
  {
   "cell_type": "code",
   "execution_count": 151,
   "id": "together-creature",
   "metadata": {},
   "outputs": [],
   "source": [
    "f2 = h5py.File('hChToTauNu_13TeV_PU20.h5', \"r\")\n",
    "leptoquark = f2['Particles'][()]\n",
    "electrons = leptoquark[:,1:4][:,:,0][:,0]\n",
    "electrons = electrons.tolist()\n",
    "hchToTauNu = [i for i in electrons if i != 0]\n"
   ]
  },
  {
   "cell_type": "code",
   "execution_count": 155,
   "id": "confirmed-raising",
   "metadata": {},
   "outputs": [],
   "source": [
    "f2 = h5py.File('leptoquark_LOWMASS_lepFilter_13TeV.h5', \"r\")\n",
    "leptoquark = f2['Particles'][()]\n",
    "electrons = leptoquark[:,1:4][:,:,0][:,0]\n",
    "electrons = electrons.tolist()\n",
    "leptoquark = [i for i in electrons if i != 0]\n"
   ]
  },
  {
   "cell_type": "code",
   "execution_count": 153,
   "id": "middle-muslim",
   "metadata": {},
   "outputs": [],
   "source": [
    "f2 = h5py.File('Ato4l_lepFilter_13TeV.h5', \"r\")\n",
    "leptoquark = f2['Particles'][()]\n",
    "electrons = leptoquark[:,1:4][:,:,0][:,0]\n",
    "electrons = electrons.tolist()\n",
    "Ato4l_lepFilter = [i for i in electrons if i != 0]\n"
   ]
  },
  {
   "cell_type": "code",
   "execution_count": 156,
   "id": "crazy-southwest",
   "metadata": {
    "scrolled": true
   },
   "outputs": [
    {
     "data": {
      "text/plain": [
       "Text(0.5, 1.0, 'Electron Pt')"
      ]
     },
     "execution_count": 156,
     "metadata": {},
     "output_type": "execute_result"
    },
    {
     "data": {
      "image/png": "[encoded data removed]",
      "text/plain": [
       "<Figure size 432x288 with 1 Axes>"
      ]
     },
     "metadata": {
      "needs_background": "light"
     },
     "output_type": "display_data"
    }
   ],
   "source": [
    "plt.hist(np.asarray(background), bins=200, alpha=0.5, label = 'background')\n",
    "plt.hist(np.asarray(Ato4l_lepFilter), bins=200, alpha=0.5, label = 'Signal A to 4 leptons')\n",
    "plt.hist(np.asarray(leptoquark), bins=200, alpha=0.5, label = 'LeptoquarkLowMass')\n",
    "plt.hist(np.asarray(hToTauTau), bins=200, alpha=0.5, label = 'htotautau')\n",
    "plt.hist(np.asarray(hchToTauNu), bins=200, alpha=0.5, label = 'hChtotautau')\n",
    "\n",
    "plt.xscale('linear')\n",
    "plt.yscale('log')\n",
    "plt.legend(loc='upper right')\n",
    "plt.title('Electron Pt')"
   ]
  },
  {
   "cell_type": "code",
   "execution_count": 28,
   "id": "confused-resident",
   "metadata": {},
   "outputs": [],
   "source": [
    "f2 = h5py.File('hToTauTau_13TeV_PU20.h5', \"r\")\n",
    "leptoquark = f2['Particles'][()]\n",
    "electrons = leptoquark[:,1:5][:,:,1][:,0]\n",
    "electrons = electrons.tolist()\n",
    "hToTauTau = [i for i in electrons if i != 0]\n"
   ]
  },
  {
   "cell_type": "code",
   "execution_count": 29,
   "id": "greatest-turner",
   "metadata": {},
   "outputs": [],
   "source": [
    "f2 = h5py.File('hChToTauNu_13TeV_PU20.h5', \"r\")\n",
    "leptoquark = f2['Particles'][()]\n",
    "electrons = leptoquark[:,1:5][:,:,1][:,0]\n",
    "electrons = electrons.tolist()\n",
    "hchToTauNu = [i for i in electrons if i != 0]\n"
   ]
  },
  {
   "cell_type": "code",
   "execution_count": 33,
   "id": "atomic-checklist",
   "metadata": {},
   "outputs": [],
   "source": [
    "f2 = h5py.File('leptoquark_LOWMASS_lepFilter_13TeV.h5', \"r\")\n",
    "leptoquark = f2['Particles'][()]\n",
    "electrons = leptoquark[:,1:5][:,:,1][:,0]\n",
    "electrons = electrons.tolist()\n",
    "leptoquarks = [i for i in electrons if i != 0]\n"
   ]
  },
  {
   "cell_type": "code",
   "execution_count": 31,
   "id": "adequate-dubai",
   "metadata": {},
   "outputs": [],
   "source": [
    "f2 = h5py.File('Ato4l_lepFilter_13TeV.h5', \"r\")\n",
    "leptoquark = f2['Particles'][()]\n",
    "electrons = leptoquark[:,1:5][:,:,1][:,0]\n",
    "electrons = electrons.tolist()\n",
    "Ato4l_lepFilter = [i for i in electrons if i != 0]\n"
   ]
  },
  {
   "cell_type": "code",
   "execution_count": 42,
   "id": "worthy-leave",
   "metadata": {
    "scrolled": true
   },
   "outputs": [
    {
     "data": {
      "text/plain": [
       "Text(0.5, 1.0, 'Muon Eta')"
      ]
     },
     "execution_count": 42,
     "metadata": {},
     "output_type": "execute_result"
    },
    {
     "data": {
      "image/png": "[encoded data removed]",
      "text/plain": [
       "<Figure size 432x288 with 1 Axes>"
      ]
     },
     "metadata": {
      "needs_background": "light"
     },
     "output_type": "display_data"
    }
   ],
   "source": [
    "plt.hist(np.asarray(background), bins=200, alpha=0.5, label = 'background')\n",
    "plt.hist(np.asarray(Ato4l_lepFilter), bins=200, alpha=0.5, label = 'Signal A to 4 leptons')\n",
    "plt.hist(np.asarray(leptoquarks), bins=200, alpha=0.5, label = 'LeptoquarkLowMass')\n",
    "plt.hist(np.asarray(hToTauTau), bins=200, alpha=0.5, label = 'htotautau')\n",
    "plt.hist(np.asarray(hchToTauNu), bins=200, alpha=0.5, label = 'hChtotautau')\n",
    "\n",
    "plt.xscale('linear')\n",
    "plt.yscale('log')\n",
    "plt.legend(loc='upper right')\n",
    "plt.title('Electron Eta')"
   ]
  },
  {
   "cell_type": "code",
   "execution_count": null,
   "id": "comparative-questionnaire",
   "metadata": {},
   "outputs": [],
   "source": []
  }
 ],
 "metadata": {
  "kernelspec": {
   "display_name": "Python 3",
   "language": "python",
   "name": "python3"
  },
  "language_info": {
   "codemirror_mode": {
    "name": "ipython",
    "version": 3
   },
   "file_extension": ".py",
   "mimetype": "text/x-python",
   "name": "python",
   "nbconvert_exporter": "python",
   "pygments_lexer": "ipython3",
   "version": "3.7.9"
  }
 },
 "nbformat": 4,
 "nbformat_minor": 5
}
