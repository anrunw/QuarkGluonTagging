{
 "cells": [
  {
   "cell_type": "code",
   "execution_count": 11,
   "metadata": {},
   "outputs": [
    {
     "name": "stdout",
     "output_type": "stream",
     "text": [
      "['/home/anrunw/anaconda3/envs/tensorflow/lib/python3.6/site-packages/ipykernel_launcher.py', '-f', '/home/anrunw/.local/share/jupyter/runtime/kernel-e615f19f-e202-471a-996b-772ad32eb045.json']\n"
     ]
    }
   ],
   "source": [
    "import os\n",
    "import numpy as np\n",
    "import h5py\n",
    "import glob\n",
    "import itertools\n",
    "import sys\n",
    "from sklearn.utils import shuffle\n",
    "\n",
    "import torch\n",
    "import torch.nn as nn\n",
    "from torch.autograd.variable import *\n",
    "import torch.optim as optim\n",
    "\n",
    "from generatorIN import InEventLoader\n",
    "import random\n",
    "import time\n",
    "print(sys.argv)\n",
    "args_sumO = bool(int(sys.argv[3])) if len(sys.argv)>3 else False"
   ]
  },
  {
   "cell_type": "code",
   "execution_count": null,
   "metadata": {},
   "outputs": [],
   "source": [
    "\n"
   ]
  },
  {
   "cell_type": "code",
   "execution_count": 12,
   "metadata": {},
   "outputs": [
    {
     "name": "stdout",
     "output_type": "stream",
     "text": [
      "['/home/anrunw/anaconda3/envs/tensorflow/lib/python3.6/site-packages/ipykernel_launcher.py', '-f', '/home/anrunw/.local/share/jupyter/runtime/kernel-e615f19f-e202-471a-996b-772ad32eb045.json']\n"
     ]
    }
   ],
   "source": [
    "\n",
    "print(sys.argv)\n",
    "args_sumO = bool(int(sys.argv[3])) if len(sys.argv)>3 else False\n",
    "class GraphNet(nn.Module):\n",
    "    def __init__(self, n_constituents, n_targets, params, hidden, De, Do, \n",
    "                 fr_activation=0, fo_activation=0, fc_activation=0, optimizer = 0, verbose = False):\n",
    "        super(GraphNet, self).__init__()\n",
    "        self.hidden = hidden\n",
    "        self.P = len(params)\n",
    "        self.N = n_constituents\n",
    "        self.Nr = self.N * (self.N - 1)\n",
    "        self.Dr = 0\n",
    "        self.De = De\n",
    "        self.Dx = 0\n",
    "        self.Do = Do\n",
    "        self.n_targets = n_targets\n",
    "        self.fr_activation = fr_activation\n",
    "        self.fo_activation = fo_activation\n",
    "        self.fc_activation = fc_activation\n",
    "        self.optimizer = optimizer\n",
    "        self.verbose = verbose\n",
    "        self.assign_matrices()\n",
    "\n",
    "        self.sum_O = args_sumO\n",
    "        self.Ra = torch.ones(self.Dr, self.Nr)\n",
    "        self.fr1 = nn.Linear(2 * self.P + self.Dr, self.hidden)\n",
    "        self.fr2 = nn.Linear(self.hidden, int(self.hidden/2))\n",
    "        self.fr3 = nn.Linear(int(self.hidden/2), self.De)\n",
    "        self.fo1 = nn.Linear(self.P + self.Dx + self.De, self.hidden)\n",
    "        self.fo2 = nn.Linear(self.hidden, int(self.hidden/2))\n",
    "        self.fo3 = nn.Linear(int(self.hidden/2), self.Do)\n",
    "        if self.sum_O:\n",
    "            self.fc1 = nn.Linear(self.Do *1, self.hidden)\n",
    "        else:\n",
    "            self.fc1 = nn.Linear(self.Do * self.N, self.hidden)\n",
    "        self.fc2 = nn.Linear(self.hidden, int(self.hidden/2))\n",
    "        self.fc3 = nn.Linear(int(self.hidden/2), self.n_targets)\n",
    "\n",
    "    def assign_matrices(self):\n",
    "        self.Rr = torch.zeros(self.N, self.Nr)\n",
    "        self.Rs = torch.zeros(self.N, self.Nr)\n",
    "        receiver_sender_list = [i for i in itertools.product(range(self.N), range(self.N)) if i[0]!=i[1]]\n",
    "        for i, (r, s) in enumerate(receiver_sender_list):\n",
    "            self.Rr[r, i] = 1\n",
    "            self.Rs[s, i] = 1\n",
    "        self.Rr = Variable(self.Rr)\n",
    "        self.Rs = Variable(self.Rs)\n",
    "\n",
    "    def forward(self, x):\n",
    "        Orr = self.tmul(x, self.Rr)\n",
    "        Ors = self.tmul(x, self.Rs)\n",
    "        B = torch.cat([Orr, Ors], 1)\n",
    "        ### First MLP ###\n",
    "        B = torch.transpose(B, 1, 2).contiguous()\n",
    "        if self.fr_activation ==2:\n",
    "            B = nn.functional.selu(self.fr1(B.view(-1, 2 * self.P + self.Dr)))\n",
    "            B = nn.functional.selu(self.fr2(B))\n",
    "            E = nn.functional.selu(self.fr3(B).view(-1, self.Nr, self.De))            \n",
    "        elif self.fr_activation ==1:\n",
    "            B = nn.functional.elu(self.fr1(B.view(-1, 2 * self.P + self.Dr)))\n",
    "            B = nn.functional.elu(self.fr2(B))\n",
    "            E = nn.functional.elu(self.fr3(B).view(-1, self.Nr, self.De))\n",
    "        else:\n",
    "            B = nn.functional.relu(self.fr1(B.view(-1, 2 * self.P + self.Dr)))\n",
    "            B = nn.functional.relu(self.fr2(B))\n",
    "            E = nn.functional.relu(self.fr3(B).view(-1, self.Nr, self.De))\n",
    "        del B\n",
    "        E = torch.transpose(E, 1, 2).contiguous()\n",
    "        Ebar = self.tmul(E, torch.transpose(self.Rr, 0, 1).contiguous())\n",
    "        del E\n",
    "        C = torch.cat([x, Ebar], 1)\n",
    "        del Ebar\n",
    "        C = torch.transpose(C, 1, 2).contiguous()\n",
    "        ### Second MLP ###\n",
    "        if self.fo_activation ==2:\n",
    "            C = nn.functional.selu(self.fo1(C.view(-1, self.P + self.Dx + self.De)))\n",
    "            C = nn.functional.selu(self.fo2(C))\n",
    "            O = nn.functional.selu(self.fo3(C).view(-1, self.N, self.Do))\n",
    "        elif self.fo_activation ==1:\n",
    "            C = nn.functional.elu(self.fo1(C.view(-1, self.P + self.Dx + self.De)))\n",
    "            C = nn.functional.elu(self.fo2(C))\n",
    "            O = nn.functional.elu(self.fo3(C).view(-1, self.N, self.Do))\n",
    "        else:\n",
    "            C = nn.functional.relu(self.fo1(C.view(-1, self.P + self.Dx + self.De)))\n",
    "            C = nn.functional.relu(self.fo2(C))\n",
    "            O = nn.functional.relu(self.fo3(C).view(-1, self.N, self.Do))\n",
    "        del C\n",
    "        ## sum over the O matrix\n",
    "        if self.sum_O:\n",
    "            O = torch.sum( O, dim=1)\n",
    "        ### Classification MLP ###\n",
    "        if self.fc_activation ==2:\n",
    "            if self.sum_O:\n",
    "                N = nn.functional.selu(self.fc1(O.view(-1, self.Do * 1)))\n",
    "            else:\n",
    "                N = nn.functional.selu(self.fc1(O.view(-1, self.Do * self.N)))\n",
    "            N = nn.functional.selu(self.fc2(N))       \n",
    "        elif self.fc_activation ==1:\n",
    "            if self.sum_O:\n",
    "                N = nn.functional.elu(self.fc1(O.view(-1, self.Do * 1)))\n",
    "            else:\n",
    "                N = nn.functional.elu(self.fc1(O.view(-1, self.Do * self.N)))\n",
    "            N = nn.functional.elu(self.fc2(N))\n",
    "        else:\n",
    "            if self.sum_O:\n",
    "                N = nn.functional.relu(self.fc1(O.view(-1, self.Do * 1)))\n",
    "            else:\n",
    "                N = nn.functional.relu(self.fc1(O.view(-1, self.Do * self.N)))\n",
    "            N = nn.functional.relu(self.fc2(N))\n",
    "        del O\n",
    "        #N = nn.functional.relu(self.fc3(N))\n",
    "        N = self.fc3(N)\n",
    "        return N\n",
    "\n",
    "    def tmul(self, x, y):  #Takes (I * J * K)(K * L) -> I * J * L \n",
    "        x_shape = x.size()\n",
    "        y_shape = y.size()\n",
    "        return torch.mm(x.reshape(-1, x_shape[2]), y).reshape(-1, x_shape[1], y_shape[1])\n",
    "\n",
    "####################\n",
    "    \n",
    "def get_sample(training, target, choice):\n",
    "    target_vals = np.argmax(target, axis = 1)\n",
    "    ind, = np.where(target_vals == choice)\n",
    "    chosen_ind = np.random.choice(ind, 50000)\n",
    "    return training[chosen_ind], target[chosen_ind]\n",
    "\n",
    "def accuracy(predict, target):\n",
    "    _, p_vals = torch.max(predict, 1)\n",
    "    r = torch.sum(target == p_vals.squeeze(1)).data.numpy()[0]\n",
    "    t = target.size()[0]\n",
    "    return r * 1.0 / t\n",
    "\n",
    "def stats(predict, target):\n",
    "    print(predict)\n",
    "    _, p_vals = torch.max(predict, 1)\n",
    "    t = target.cpu().data.numpy()\n",
    "    p_vals = p_vals.squeeze(1).data.numpy()\n",
    "    vals = np.unique(t)\n",
    "    for i in vals:\n",
    "        ind = np.where(t == i)\n",
    "        pv = p_vals[ind]\n",
    "        correct = sum(pv == t[ind])\n",
    "        print(\"  Target %s: %s/%s = %s%%\" % (i, correct, len(pv), correct * 100.0/len(pv)))\n",
    "    print(\"Overall: %s/%s = %s%%\" % (sum(p_vals == t), len(t), sum(p_vals == t) * 100.0/len(t)))\n",
    "    return sum(p_vals == t) * 100.0/len(t)\n",
    "\n",
    "best_perf = {\n",
    "    30 : [50, 12,  6,  0,  2,  2,  0], #L 0.63\n",
    "    50 : [50, 12, 14,  1,  2,  1,  0], #L 0.57\n",
    "    100: [30, 10, 10,  1,  1,  1,  0], #L 0.56\n",
    "    150: [10,  4, 14,  2,  2,  2,  0]  #L 0.62\n",
    "}\n",
    "sumO_best_perf = {\n",
    "    30 : [ 6,  8,  6, 0, 1, 1, 0], #L 0.84\n",
    "    50 : [50, 12, 14, 0, 0, 2, 0], #L 0.58\n",
    "    100: [30,  4,  4, 2, 0, 2, 0], #L 0.62\n",
    "    150: [50, 14, 10, 2, 2, 2, 0]  #L 0.55\n",
    "}\n",
    "# ### Prepare Dataset\n",
    "nParticles = 30\n",
    "x = sumO_best_perf[nParticles] if args_sumO else best_perf[nParticles]\n",
    "#nParticles = 100\n",
    "#x = []\n",
    "#x.append(50) # hinned nodes\n",
    "#x.append(12) # De\n",
    "#x.append(4) # Do\n",
    "#x.append(2) # fr_activation_index\n",
    "#x.append(0) # fo_activation_index\n",
    "#x.append(0) # fc_activation_index\n",
    "#x.append(0) # optmizer_index\n",
    "\n",
    "#####"
   ]
  },
  {
   "cell_type": "code",
   "execution_count": 13,
   "metadata": {},
   "outputs": [],
   "source": [
    "#####\n",
    "labels = ['j_g', 'j_q', 'j_w', 'j_z', 'j_t']  # this is a classifier\n",
    "params = ['j1_px', 'j1_py' , 'j1_pz' , 'j1_e' , 'j1_erel' , 'j1_pt' , 'j1_ptrel', 'j1_eta' , 'j1_etarel' , \n",
    "          'j1_etarot' , 'j1_phi' , 'j1_phirel' , 'j1_phirot', 'j1_deltaR' , 'j1_costheta' , 'j1_costhetarel'] # these are the features in the graph\n",
    "\n",
    "val_split = 0.3\n",
    "batch_size = 100\n",
    "n_epochs = 20\n",
    "patience = 10"
   ]
  },
  {
   "cell_type": "code",
   "execution_count": 14,
   "metadata": {},
   "outputs": [],
   "source": [
    "nParticles = 30\n",
    "import glob\n",
    "#### LIST OF TRAINING FILES\n",
    "inputTrainFiles = glob.glob(\"../data/train/5tag/jetImage*_%sp*.h5\" %nParticles)\n",
    "#### LIST OF VALIDATION FILES\n",
    "inputValFiles = glob.glob(\"../data/val/5tag/jetImage*_%sp*.h5\" %nParticles)\n",
    "mymodel = GraphNet(nParticles, len(labels), params, int(x[0]), int(x[1]), int(x[2]), \n",
    "                   fr_activation=int(x[3]),  fo_activation=int(x[4]), fc_activation=int(x[5]), optimizer=int(x[6]), verbose=True)"
   ]
  },
  {
   "cell_type": "code",
   "execution_count": 15,
   "metadata": {},
   "outputs": [
    {
     "data": {
      "text/plain": [
       "['../data/val/5tag/jetImage_7_30p_0_10000.h5']"
      ]
     },
     "execution_count": 15,
     "metadata": {},
     "output_type": "execute_result"
    }
   ],
   "source": [
    "inputValFiles"
   ]
  },
  {
   "cell_type": "code",
   "execution_count": 21,
   "metadata": {},
   "outputs": [
    {
     "name": "stdout",
     "output_type": "stream",
     "text": [
      "nBatches_per_training_epoch: 493\n",
      "nBatches_per_validation_epoch: 246\n"
     ]
    }
   ],
   "source": [
    "loss = nn.CrossEntropyLoss(reduction='mean')\n",
    "if mymodel.optimizer == 1:        \n",
    "    optimizer = optim.Adadelta(mymodel.parameters(), lr = 0.0001)\n",
    "else:\n",
    "    optimizer = optim.Adam(mymodel.parameters(), lr = 0.0001)\n",
    "loss_train = np.zeros(n_epochs)\n",
    "loss_val = np.zeros(n_epochs)\n",
    "nBatches_per_training_epoch = 49384/batch_size\n",
    "nBatches_per_validation_epoch = 24693/batch_size\n",
    "print(\"nBatches_per_training_epoch: %i\" %nBatches_per_training_epoch)\n",
    "print(\"nBatches_per_validation_epoch: %i\" %nBatches_per_validation_epoch)"
   ]
  },
  {
   "cell_type": "code",
   "execution_count": 22,
   "metadata": {},
   "outputs": [
    {
     "data": {
      "text/plain": [
       "GraphNet(\n",
       "  (fr1): Linear(in_features=32, out_features=50, bias=True)\n",
       "  (fr2): Linear(in_features=50, out_features=25, bias=True)\n",
       "  (fr3): Linear(in_features=25, out_features=12, bias=True)\n",
       "  (fo1): Linear(in_features=28, out_features=50, bias=True)\n",
       "  (fo2): Linear(in_features=50, out_features=25, bias=True)\n",
       "  (fo3): Linear(in_features=25, out_features=6, bias=True)\n",
       "  (fc1): Linear(in_features=180, out_features=50, bias=True)\n",
       "  (fc2): Linear(in_features=50, out_features=25, bias=True)\n",
       "  (fc3): Linear(in_features=25, out_features=5, bias=True)\n",
       ")"
      ]
     },
     "execution_count": 22,
     "metadata": {},
     "output_type": "execute_result"
    }
   ],
   "source": [
    "mymodel.eval()"
   ]
  },
  {
   "cell_type": "code",
   "execution_count": null,
   "metadata": {},
   "outputs": [
    {
     "name": "stdout",
     "output_type": "stream",
     "text": [
      "Epoch 0\n"
     ]
    },
    {
     "name": "stderr",
     "output_type": "stream",
     "text": [
      "/home/anrunw/anaconda3/envs/tensorflow/lib/python3.6/site-packages/ipykernel_launcher.py:31: UserWarning: volatile was removed and now has no effect. Use `with torch.no_grad():` instead.\n"
     ]
    },
    {
     "name": "stdout",
     "output_type": "stream",
     "text": [
      "Training   Loss: 4.371545\n",
      "Validation Loss: 3.784645\n",
      "Time to Run Epoch: 49.371970415115356\n",
      "Epoch 1\n",
      "Training   Loss: 2.485686\n",
      "Validation Loss: 2.230590\n",
      "Time to Run Epoch: 49.21049737930298\n",
      "Epoch 2\n",
      "Training   Loss: 1.193127\n",
      "Validation Loss: 1.206673\n",
      "Time to Run Epoch: 51.02082920074463\n",
      "Epoch 3\n",
      "Training   Loss: 1.176742\n",
      "Validation Loss: 1.197220\n",
      "Time to Run Epoch: 47.43619132041931\n",
      "Epoch 4\n",
      "Training   Loss: 1.159943\n",
      "Validation Loss: 1.184952\n",
      "Time to Run Epoch: 46.55116510391235\n",
      "Epoch 5\n",
      "Training   Loss: 1.143178\n",
      "Validation Loss: 1.166453\n",
      "Time to Run Epoch: 49.03259825706482\n",
      "Epoch 6\n"
     ]
    }
   ],
   "source": [
    "for i in range(n_epochs):\n",
    "    start = time.time()\n",
    "    if mymodel.verbose: print(\"Epoch %s\" % i)\n",
    "    # Define the data generators from the training set and validation set.\n",
    "    random.shuffle(inputTrainFiles)\n",
    "    random.shuffle(inputValFiles)\n",
    "    train_set = InEventLoader(file_names=inputTrainFiles, nP=nParticles,\n",
    "                              feature_name ='data',label_name = 'labels', verbose=False)\n",
    "    train_loader = torch.utils.data.DataLoader(train_set, batch_size=batch_size, shuffle=False)\n",
    "    val_set = InEventLoader(file_names=inputValFiles, nP=nParticles,\n",
    "                            feature_name ='data',label_name = 'labels', verbose=False)\n",
    "    val_loader = torch.utils.data.DataLoader(val_set, batch_size=batch_size, shuffle=False)\n",
    "    ####\n",
    "    # train\n",
    "\n",
    "    for batch_idx, mydict in enumerate(train_loader):\n",
    "        data = mydict['jetConstituentList']\n",
    "        target = mydict['jets']\n",
    "        data, target = Variable(data), Variable(target)\n",
    "        optimizer.zero_grad()\n",
    "        out = mymodel(data)\n",
    "        l = loss(out, target)\n",
    "        l.backward()\n",
    "        optimizer.step()\n",
    "        loss_train[i] += l.cpu().data.numpy()/nBatches_per_training_epoch\n",
    "    # validation\n",
    "\n",
    "    for batch_idx, mydict in enumerate(val_loader):\n",
    "        data = mydict['jetConstituentList']\n",
    "        target = mydict['jets']\n",
    "        data, target = Variable(data, volatile=True), Variable(target)\n",
    "        out_val = mymodel(data)\n",
    "        l_val = loss(out_val, target)\n",
    "        loss_val[i] += l_val.cpu().data.numpy()/nBatches_per_validation_epoch\n",
    "\n",
    "    if mymodel.verbose: print(\"Training   Loss: %f\" %loss_train[i])\n",
    "    if mymodel.verbose: print(\"Validation Loss: %f\" %loss_val[i])\n",
    "    if all(loss_val[max(0, i - patience):i] > min(np.append(loss_val[0:max(0, i - patience)], 200))) and i > patience:\n",
    "        print(\"Early Stopping at\",i)\n",
    "        break\n",
    "        #that above does not trigger soon enough        \n",
    "    if i > (2*patience):\n",
    "        last_avg = np.mean(loss_val[i - patience:i])\n",
    "        previous_avg = np.mean(loss_val[i - 2*patience : i - patience])\n",
    "        if last_avg > previous_avg:\n",
    "            print(\"Early Avg Stopping at\",i)\n",
    "            break\n",
    "    if i > patience:\n",
    "        last_min = min(loss_val[i - patience:i])\n",
    "        overall_min = min(loss_val[:i-patience])\n",
    "        if last_min > overall_min:\n",
    "            print(\"Early min Stopping at\",i)\n",
    "            break\n",
    "    stop = time.time()\n",
    "    duration = stop-start\n",
    "    print('Time to Run Epoch: ' + str(duration))"
   ]
  },
  {
   "cell_type": "code",
   "execution_count": null,
   "metadata": {},
   "outputs": [],
   "source": []
  },
  {
   "cell_type": "code",
   "execution_count": 14,
   "metadata": {},
   "outputs": [
    {
     "ename": "OSError",
     "evalue": "Unable to create file (unable to truncate a file which is already open)",
     "output_type": "error",
     "traceback": [
      "\u001b[0;31m---------------------------------------------------------------------------\u001b[0m",
      "\u001b[0;31mOSError\u001b[0m                                   Traceback (most recent call last)",
      "\u001b[0;32m<ipython-input-14-9bf64c8edad5>\u001b[0m in \u001b[0;36m<module>\u001b[0;34m\u001b[0m\n\u001b[1;32m      2\u001b[0m \u001b[0mloc\u001b[0m\u001b[0;34m=\u001b[0m\u001b[0;34m'IN_kFold_%s'\u001b[0m\u001b[0;34m%\u001b[0m\u001b[0;34m(\u001b[0m\u001b[0msys\u001b[0m\u001b[0;34m.\u001b[0m\u001b[0margv\u001b[0m\u001b[0;34m[\u001b[0m\u001b[0;36m1\u001b[0m\u001b[0;34m]\u001b[0m\u001b[0;34m)\u001b[0m\u001b[0;34m\u001b[0m\u001b[0;34m\u001b[0m\u001b[0m\n\u001b[1;32m      3\u001b[0m \u001b[0mos\u001b[0m\u001b[0;34m.\u001b[0m\u001b[0msystem\u001b[0m\u001b[0;34m(\u001b[0m\u001b[0;34m'mkdir %s'\u001b[0m\u001b[0;34m%\u001b[0m\u001b[0mloc\u001b[0m\u001b[0;34m)\u001b[0m\u001b[0;34m\u001b[0m\u001b[0;34m\u001b[0m\u001b[0m\n\u001b[0;32m----> 4\u001b[0;31m \u001b[0mf\u001b[0m \u001b[0;34m=\u001b[0m \u001b[0mh5py\u001b[0m\u001b[0;34m.\u001b[0m\u001b[0mFile\u001b[0m\u001b[0;34m(\u001b[0m\u001b[0;34m\"whydoirenamethis1.h5\"\u001b[0m\u001b[0;34m,\u001b[0m \u001b[0;34m\"w\"\u001b[0m\u001b[0;34m)\u001b[0m\u001b[0;34m\u001b[0m\u001b[0;34m\u001b[0m\u001b[0m\n\u001b[0m\u001b[1;32m      5\u001b[0m \u001b[0mf\u001b[0m\u001b[0;34m.\u001b[0m\u001b[0mcreate_dataset\u001b[0m\u001b[0;34m(\u001b[0m\u001b[0;34m'train_loss'\u001b[0m\u001b[0;34m,\u001b[0m \u001b[0mdata\u001b[0m\u001b[0;34m=\u001b[0m \u001b[0mnp\u001b[0m\u001b[0;34m.\u001b[0m\u001b[0masarray\u001b[0m\u001b[0;34m(\u001b[0m\u001b[0mloss_train\u001b[0m\u001b[0;34m)\u001b[0m\u001b[0;34m,\u001b[0m \u001b[0mcompression\u001b[0m\u001b[0;34m=\u001b[0m\u001b[0;34m'gzip'\u001b[0m\u001b[0;34m)\u001b[0m\u001b[0;34m\u001b[0m\u001b[0;34m\u001b[0m\u001b[0m\n\u001b[1;32m      6\u001b[0m \u001b[0mf\u001b[0m\u001b[0;34m.\u001b[0m\u001b[0mcreate_dataset\u001b[0m\u001b[0;34m(\u001b[0m\u001b[0;34m'val_loss'\u001b[0m\u001b[0;34m,\u001b[0m \u001b[0mdata\u001b[0m\u001b[0;34m=\u001b[0m \u001b[0mnp\u001b[0m\u001b[0;34m.\u001b[0m\u001b[0masarray\u001b[0m\u001b[0;34m(\u001b[0m\u001b[0mloss_val\u001b[0m\u001b[0;34m)\u001b[0m\u001b[0;34m,\u001b[0m \u001b[0mcompression\u001b[0m\u001b[0;34m=\u001b[0m\u001b[0;34m'gzip'\u001b[0m\u001b[0;34m)\u001b[0m\u001b[0;34m\u001b[0m\u001b[0;34m\u001b[0m\u001b[0m\n",
      "\u001b[0;32m~/anaconda3/envs/tensorflow/lib/python3.6/site-packages/h5py/_hl/files.py\u001b[0m in \u001b[0;36m__init__\u001b[0;34m(self, name, mode, driver, libver, userblock_size, swmr, rdcc_nslots, rdcc_nbytes, rdcc_w0, track_order, **kwds)\u001b[0m\n\u001b[1;32m    406\u001b[0m                 fid = make_fid(name, mode, userblock_size,\n\u001b[1;32m    407\u001b[0m                                \u001b[0mfapl\u001b[0m\u001b[0;34m,\u001b[0m \u001b[0mfcpl\u001b[0m\u001b[0;34m=\u001b[0m\u001b[0mmake_fcpl\u001b[0m\u001b[0;34m(\u001b[0m\u001b[0mtrack_order\u001b[0m\u001b[0;34m=\u001b[0m\u001b[0mtrack_order\u001b[0m\u001b[0;34m)\u001b[0m\u001b[0;34m,\u001b[0m\u001b[0;34m\u001b[0m\u001b[0;34m\u001b[0m\u001b[0m\n\u001b[0;32m--> 408\u001b[0;31m                                swmr=swmr)\n\u001b[0m\u001b[1;32m    409\u001b[0m \u001b[0;34m\u001b[0m\u001b[0m\n\u001b[1;32m    410\u001b[0m             \u001b[0;32mif\u001b[0m \u001b[0misinstance\u001b[0m\u001b[0;34m(\u001b[0m\u001b[0mlibver\u001b[0m\u001b[0;34m,\u001b[0m \u001b[0mtuple\u001b[0m\u001b[0;34m)\u001b[0m\u001b[0;34m:\u001b[0m\u001b[0;34m\u001b[0m\u001b[0;34m\u001b[0m\u001b[0m\n",
      "\u001b[0;32m~/anaconda3/envs/tensorflow/lib/python3.6/site-packages/h5py/_hl/files.py\u001b[0m in \u001b[0;36mmake_fid\u001b[0;34m(name, mode, userblock_size, fapl, fcpl, swmr)\u001b[0m\n\u001b[1;32m    177\u001b[0m         \u001b[0mfid\u001b[0m \u001b[0;34m=\u001b[0m \u001b[0mh5f\u001b[0m\u001b[0;34m.\u001b[0m\u001b[0mcreate\u001b[0m\u001b[0;34m(\u001b[0m\u001b[0mname\u001b[0m\u001b[0;34m,\u001b[0m \u001b[0mh5f\u001b[0m\u001b[0;34m.\u001b[0m\u001b[0mACC_EXCL\u001b[0m\u001b[0;34m,\u001b[0m \u001b[0mfapl\u001b[0m\u001b[0;34m=\u001b[0m\u001b[0mfapl\u001b[0m\u001b[0;34m,\u001b[0m \u001b[0mfcpl\u001b[0m\u001b[0;34m=\u001b[0m\u001b[0mfcpl\u001b[0m\u001b[0;34m)\u001b[0m\u001b[0;34m\u001b[0m\u001b[0;34m\u001b[0m\u001b[0m\n\u001b[1;32m    178\u001b[0m     \u001b[0;32melif\u001b[0m \u001b[0mmode\u001b[0m \u001b[0;34m==\u001b[0m \u001b[0;34m'w'\u001b[0m\u001b[0;34m:\u001b[0m\u001b[0;34m\u001b[0m\u001b[0;34m\u001b[0m\u001b[0m\n\u001b[0;32m--> 179\u001b[0;31m         \u001b[0mfid\u001b[0m \u001b[0;34m=\u001b[0m \u001b[0mh5f\u001b[0m\u001b[0;34m.\u001b[0m\u001b[0mcreate\u001b[0m\u001b[0;34m(\u001b[0m\u001b[0mname\u001b[0m\u001b[0;34m,\u001b[0m \u001b[0mh5f\u001b[0m\u001b[0;34m.\u001b[0m\u001b[0mACC_TRUNC\u001b[0m\u001b[0;34m,\u001b[0m \u001b[0mfapl\u001b[0m\u001b[0;34m=\u001b[0m\u001b[0mfapl\u001b[0m\u001b[0;34m,\u001b[0m \u001b[0mfcpl\u001b[0m\u001b[0;34m=\u001b[0m\u001b[0mfcpl\u001b[0m\u001b[0;34m)\u001b[0m\u001b[0;34m\u001b[0m\u001b[0;34m\u001b[0m\u001b[0m\n\u001b[0m\u001b[1;32m    180\u001b[0m     \u001b[0;32melif\u001b[0m \u001b[0mmode\u001b[0m \u001b[0;34m==\u001b[0m \u001b[0;34m'a'\u001b[0m\u001b[0;34m:\u001b[0m\u001b[0;34m\u001b[0m\u001b[0;34m\u001b[0m\u001b[0m\n\u001b[1;32m    181\u001b[0m         \u001b[0;31m# Open in append mode (read/write).\u001b[0m\u001b[0;34m\u001b[0m\u001b[0;34m\u001b[0m\u001b[0;34m\u001b[0m\u001b[0m\n",
      "\u001b[0;32mh5py/_objects.pyx\u001b[0m in \u001b[0;36mh5py._objects.with_phil.wrapper\u001b[0;34m()\u001b[0m\n",
      "\u001b[0;32mh5py/_objects.pyx\u001b[0m in \u001b[0;36mh5py._objects.with_phil.wrapper\u001b[0;34m()\u001b[0m\n",
      "\u001b[0;32mh5py/h5f.pyx\u001b[0m in \u001b[0;36mh5py.h5f.create\u001b[0;34m()\u001b[0m\n",
      "\u001b[0;31mOSError\u001b[0m: Unable to create file (unable to truncate a file which is already open)"
     ]
    }
   ],
   "source": [
    "import h5py,os\n",
    "loc='IN_kFold_%s'%(sys.argv[1])\n",
    "os.system('mkdir %s'%loc)\n",
    "f = h5py.File(\"whydoirenamethis1.h5\", \"w\")\n",
    "f.create_dataset('train_loss', data= np.asarray(loss_train), compression='gzip')\n",
    "f.create_dataset('val_loss', data= np.asarray(loss_val), compression='gzip')\n",
    "\n",
    "# the best model\n",
    "torch.save(mymodel.state_dict(), 'C:/Users/anrun/JEDInet-code/models/TrainedModel.params' )"
   ]
  },
  {
   "cell_type": "code",
   "execution_count": 9,
   "metadata": {},
   "outputs": [
    {
     "data": {
      "text/plain": [
       "GraphNet(\n",
       "  (fr1): Linear(in_features=32, out_features=50, bias=True)\n",
       "  (fr2): Linear(in_features=50, out_features=25, bias=True)\n",
       "  (fr3): Linear(in_features=25, out_features=12, bias=True)\n",
       "  (fo1): Linear(in_features=28, out_features=50, bias=True)\n",
       "  (fo2): Linear(in_features=50, out_features=25, bias=True)\n",
       "  (fo3): Linear(in_features=25, out_features=6, bias=True)\n",
       "  (fc1): Linear(in_features=180, out_features=50, bias=True)\n",
       "  (fc2): Linear(in_features=50, out_features=25, bias=True)\n",
       "  (fc3): Linear(in_features=25, out_features=5, bias=True)\n",
       ")"
      ]
     },
     "execution_count": 9,
     "metadata": {},
     "output_type": "execute_result"
    }
   ],
   "source": [
    "mymodel.load_state_dict(torch.load(\"../models/TrainedModel.params\", map_location='cpu'))\n",
    "mymodel.eval()"
   ]
  },
  {
   "cell_type": "code",
   "execution_count": null,
   "metadata": {},
   "outputs": [],
   "source": [
    "inputTestFiles = glob.glob(\"../data/test/5tag/jetImage*_%sp*.h5\" %nParticles)\n"
   ]
  },
  {
   "cell_type": "code",
   "execution_count": 10,
   "metadata": {},
   "outputs": [
    {
     "name": "stdout",
     "output_type": "stream",
     "text": [
      "(10000, 30, 16) (10000, 5) (10000, 59)\n",
      "(20000, 30, 16) (20000, 5) (20000, 59)\n"
     ]
    }
   ],
   "source": [
    "#read datasets\n",
    "X = np.array([])                                                                                                                                      \n",
    "Y = np.array([]) \n",
    "Y_hlf = np.array([]) \n",
    "for fileIN in inputTestFiles:\n",
    "    if X.shape[0] >10000: continue\n",
    "    f = h5py.File(fileIN, 'r')                                                                                                                        \n",
    "    myFeatures = np.array(f.get('jetConstituentList'))                                                                                                \n",
    "    myTarget = np.array(f.get('jets')[0:,-6:-1])\n",
    "    myHLF = np.array(f.get('jets'))\n",
    "    X = np.concatenate([X,myFeatures], axis = 0) if X.size else myFeatures                                                                            \n",
    "    Y = np.concatenate([Y,myTarget], axis = 0) if Y.size else myTarget                                                                                \n",
    "    Y_hlf = np.concatenate([Y_hlf,myHLF], axis = 0) if Y_hlf.size else myHLF                                                                                \n",
    "    print(X.shape, Y.shape, Y_hlf.shape)"
   ]
  },
  {
   "cell_type": "code",
   "execution_count": 14,
   "metadata": {},
   "outputs": [],
   "source": [
    "# pre-processing                                                                                                                                \n",
    "X, Y, Y_hlf = shuffle(X, Y, Y_hlf, random_state=1)\n",
    "X = np.swapaxes(X, 1, 2)\n",
    "#Y = np.argmax(Y, axis=1)\n",
    "X = torch.FloatTensor(X)\n",
    "Y = torch.FloatTensor(Y)\n",
    "Y_hlf = torch.FloatTensor(Y_hlf)"
   ]
  },
  {
   "cell_type": "code",
   "execution_count": 16,
   "metadata": {},
   "outputs": [
    {
     "ename": "RuntimeError",
     "evalue": "size mismatch, m1: [3000 x 16], m2: [30 x 870] at C:\\cb\\pytorch_1000000000000\\work\\aten\\src\\TH/generic/THTensorMath.cpp:41",
     "output_type": "error",
     "traceback": [
      "\u001b[1;31m---------------------------------------------------------------------------\u001b[0m",
      "\u001b[1;31mRuntimeError\u001b[0m                              Traceback (most recent call last)",
      "\u001b[1;32m<ipython-input-16-3ff4636a2f65>\u001b[0m in \u001b[0;36m<module>\u001b[1;34m\u001b[0m\n\u001b[0;32m      4\u001b[0m \u001b[0mOtot\u001b[0m \u001b[1;33m=\u001b[0m \u001b[1;33m[\u001b[0m\u001b[1;33m]\u001b[0m\u001b[1;33m\u001b[0m\u001b[1;33m\u001b[0m\u001b[0m\n\u001b[0;32m      5\u001b[0m \u001b[1;32mfor\u001b[0m \u001b[0mj\u001b[0m \u001b[1;32min\u001b[0m \u001b[0mtorch\u001b[0m\u001b[1;33m.\u001b[0m\u001b[0msplit\u001b[0m\u001b[1;33m(\u001b[0m\u001b[0mX\u001b[0m\u001b[1;33m,\u001b[0m \u001b[0mbatch_size\u001b[0m\u001b[1;33m)\u001b[0m\u001b[1;33m:\u001b[0m\u001b[1;33m\u001b[0m\u001b[1;33m\u001b[0m\u001b[0m\n\u001b[1;32m----> 6\u001b[1;33m     \u001b[0ma\u001b[0m\u001b[1;33m,\u001b[0m \u001b[0mmyO\u001b[0m \u001b[1;33m=\u001b[0m \u001b[0mmymodel\u001b[0m\u001b[1;33m(\u001b[0m\u001b[0mj\u001b[0m\u001b[1;33m)\u001b[0m\u001b[1;33m\u001b[0m\u001b[1;33m\u001b[0m\u001b[0m\n\u001b[0m\u001b[0;32m      7\u001b[0m     \u001b[0ma\u001b[0m \u001b[1;33m=\u001b[0m \u001b[0ma\u001b[0m\u001b[1;33m.\u001b[0m\u001b[0mcpu\u001b[0m\u001b[1;33m(\u001b[0m\u001b[1;33m)\u001b[0m\u001b[1;33m.\u001b[0m\u001b[0mdata\u001b[0m\u001b[1;33m.\u001b[0m\u001b[0mnumpy\u001b[0m\u001b[1;33m(\u001b[0m\u001b[1;33m)\u001b[0m\u001b[1;33m\u001b[0m\u001b[1;33m\u001b[0m\u001b[0m\n\u001b[0;32m      8\u001b[0m     \u001b[0mmyO\u001b[0m \u001b[1;33m=\u001b[0m \u001b[0mmyO\u001b[0m\u001b[1;33m.\u001b[0m\u001b[0mcpu\u001b[0m\u001b[1;33m(\u001b[0m\u001b[1;33m)\u001b[0m\u001b[1;33m.\u001b[0m\u001b[0mdata\u001b[0m\u001b[1;33m.\u001b[0m\u001b[0mnumpy\u001b[0m\u001b[1;33m(\u001b[0m\u001b[1;33m)\u001b[0m\u001b[1;33m\u001b[0m\u001b[1;33m\u001b[0m\u001b[0m\n",
      "\u001b[1;32m~\\anaconda3\\envs\\EPE_ML\\lib\\site-packages\\torch\\nn\\modules\\module.py\u001b[0m in \u001b[0;36m__call__\u001b[1;34m(self, *input, **kwargs)\u001b[0m\n\u001b[0;32m    548\u001b[0m             \u001b[0mresult\u001b[0m \u001b[1;33m=\u001b[0m \u001b[0mself\u001b[0m\u001b[1;33m.\u001b[0m\u001b[0m_slow_forward\u001b[0m\u001b[1;33m(\u001b[0m\u001b[1;33m*\u001b[0m\u001b[0minput\u001b[0m\u001b[1;33m,\u001b[0m \u001b[1;33m**\u001b[0m\u001b[0mkwargs\u001b[0m\u001b[1;33m)\u001b[0m\u001b[1;33m\u001b[0m\u001b[1;33m\u001b[0m\u001b[0m\n\u001b[0;32m    549\u001b[0m         \u001b[1;32melse\u001b[0m\u001b[1;33m:\u001b[0m\u001b[1;33m\u001b[0m\u001b[1;33m\u001b[0m\u001b[0m\n\u001b[1;32m--> 550\u001b[1;33m             \u001b[0mresult\u001b[0m \u001b[1;33m=\u001b[0m \u001b[0mself\u001b[0m\u001b[1;33m.\u001b[0m\u001b[0mforward\u001b[0m\u001b[1;33m(\u001b[0m\u001b[1;33m*\u001b[0m\u001b[0minput\u001b[0m\u001b[1;33m,\u001b[0m \u001b[1;33m**\u001b[0m\u001b[0mkwargs\u001b[0m\u001b[1;33m)\u001b[0m\u001b[1;33m\u001b[0m\u001b[1;33m\u001b[0m\u001b[0m\n\u001b[0m\u001b[0;32m    551\u001b[0m         \u001b[1;32mfor\u001b[0m \u001b[0mhook\u001b[0m \u001b[1;32min\u001b[0m \u001b[0mself\u001b[0m\u001b[1;33m.\u001b[0m\u001b[0m_forward_hooks\u001b[0m\u001b[1;33m.\u001b[0m\u001b[0mvalues\u001b[0m\u001b[1;33m(\u001b[0m\u001b[1;33m)\u001b[0m\u001b[1;33m:\u001b[0m\u001b[1;33m\u001b[0m\u001b[1;33m\u001b[0m\u001b[0m\n\u001b[0;32m    552\u001b[0m             \u001b[0mhook_result\u001b[0m \u001b[1;33m=\u001b[0m \u001b[0mhook\u001b[0m\u001b[1;33m(\u001b[0m\u001b[0mself\u001b[0m\u001b[1;33m,\u001b[0m \u001b[0minput\u001b[0m\u001b[1;33m,\u001b[0m \u001b[0mresult\u001b[0m\u001b[1;33m)\u001b[0m\u001b[1;33m\u001b[0m\u001b[1;33m\u001b[0m\u001b[0m\n",
      "\u001b[1;32m<ipython-input-2-0c246ad771d5>\u001b[0m in \u001b[0;36mforward\u001b[1;34m(self, x)\u001b[0m\n\u001b[0;32m     47\u001b[0m \u001b[1;33m\u001b[0m\u001b[0m\n\u001b[0;32m     48\u001b[0m     \u001b[1;32mdef\u001b[0m \u001b[0mforward\u001b[0m\u001b[1;33m(\u001b[0m\u001b[0mself\u001b[0m\u001b[1;33m,\u001b[0m \u001b[0mx\u001b[0m\u001b[1;33m)\u001b[0m\u001b[1;33m:\u001b[0m\u001b[1;33m\u001b[0m\u001b[1;33m\u001b[0m\u001b[0m\n\u001b[1;32m---> 49\u001b[1;33m         \u001b[0mOrr\u001b[0m \u001b[1;33m=\u001b[0m \u001b[0mself\u001b[0m\u001b[1;33m.\u001b[0m\u001b[0mtmul\u001b[0m\u001b[1;33m(\u001b[0m\u001b[0mx\u001b[0m\u001b[1;33m,\u001b[0m \u001b[0mself\u001b[0m\u001b[1;33m.\u001b[0m\u001b[0mRr\u001b[0m\u001b[1;33m)\u001b[0m\u001b[1;33m\u001b[0m\u001b[1;33m\u001b[0m\u001b[0m\n\u001b[0m\u001b[0;32m     50\u001b[0m         \u001b[0mOrs\u001b[0m \u001b[1;33m=\u001b[0m \u001b[0mself\u001b[0m\u001b[1;33m.\u001b[0m\u001b[0mtmul\u001b[0m\u001b[1;33m(\u001b[0m\u001b[0mx\u001b[0m\u001b[1;33m,\u001b[0m \u001b[0mself\u001b[0m\u001b[1;33m.\u001b[0m\u001b[0mRs\u001b[0m\u001b[1;33m)\u001b[0m\u001b[1;33m\u001b[0m\u001b[1;33m\u001b[0m\u001b[0m\n\u001b[0;32m     51\u001b[0m         \u001b[0mB\u001b[0m \u001b[1;33m=\u001b[0m \u001b[0mtorch\u001b[0m\u001b[1;33m.\u001b[0m\u001b[0mcat\u001b[0m\u001b[1;33m(\u001b[0m\u001b[1;33m[\u001b[0m\u001b[0mOrr\u001b[0m\u001b[1;33m,\u001b[0m \u001b[0mOrs\u001b[0m\u001b[1;33m]\u001b[0m\u001b[1;33m,\u001b[0m \u001b[1;36m1\u001b[0m\u001b[1;33m)\u001b[0m\u001b[1;33m\u001b[0m\u001b[1;33m\u001b[0m\u001b[0m\n",
      "\u001b[1;32m<ipython-input-2-0c246ad771d5>\u001b[0m in \u001b[0;36mtmul\u001b[1;34m(self, x, y)\u001b[0m\n\u001b[0;32m    115\u001b[0m         \u001b[0mx_shape\u001b[0m \u001b[1;33m=\u001b[0m \u001b[0mx\u001b[0m\u001b[1;33m.\u001b[0m\u001b[0msize\u001b[0m\u001b[1;33m(\u001b[0m\u001b[1;33m)\u001b[0m\u001b[1;33m\u001b[0m\u001b[1;33m\u001b[0m\u001b[0m\n\u001b[0;32m    116\u001b[0m         \u001b[0my_shape\u001b[0m \u001b[1;33m=\u001b[0m \u001b[0my\u001b[0m\u001b[1;33m.\u001b[0m\u001b[0msize\u001b[0m\u001b[1;33m(\u001b[0m\u001b[1;33m)\u001b[0m\u001b[1;33m\u001b[0m\u001b[1;33m\u001b[0m\u001b[0m\n\u001b[1;32m--> 117\u001b[1;33m         \u001b[1;32mreturn\u001b[0m \u001b[0mtorch\u001b[0m\u001b[1;33m.\u001b[0m\u001b[0mmm\u001b[0m\u001b[1;33m(\u001b[0m\u001b[0mx\u001b[0m\u001b[1;33m.\u001b[0m\u001b[0mreshape\u001b[0m\u001b[1;33m(\u001b[0m\u001b[1;33m-\u001b[0m\u001b[1;36m1\u001b[0m\u001b[1;33m,\u001b[0m \u001b[0mx_shape\u001b[0m\u001b[1;33m[\u001b[0m\u001b[1;36m2\u001b[0m\u001b[1;33m]\u001b[0m\u001b[1;33m)\u001b[0m\u001b[1;33m,\u001b[0m \u001b[0my\u001b[0m\u001b[1;33m)\u001b[0m\u001b[1;33m.\u001b[0m\u001b[0mreshape\u001b[0m\u001b[1;33m(\u001b[0m\u001b[1;33m-\u001b[0m\u001b[1;36m1\u001b[0m\u001b[1;33m,\u001b[0m \u001b[0mx_shape\u001b[0m\u001b[1;33m[\u001b[0m\u001b[1;36m1\u001b[0m\u001b[1;33m]\u001b[0m\u001b[1;33m,\u001b[0m \u001b[0my_shape\u001b[0m\u001b[1;33m[\u001b[0m\u001b[1;36m1\u001b[0m\u001b[1;33m]\u001b[0m\u001b[1;33m)\u001b[0m\u001b[1;33m\u001b[0m\u001b[1;33m\u001b[0m\u001b[0m\n\u001b[0m\u001b[0;32m    118\u001b[0m \u001b[1;33m\u001b[0m\u001b[0m\n\u001b[0;32m    119\u001b[0m \u001b[1;31m####################\u001b[0m\u001b[1;33m\u001b[0m\u001b[1;33m\u001b[0m\u001b[1;33m\u001b[0m\u001b[0m\n",
      "\u001b[1;31mRuntimeError\u001b[0m: size mismatch, m1: [3000 x 16], m2: [30 x 870] at C:\\cb\\pytorch_1000000000000\\work\\aten\\src\\TH/generic/THTensorMath.cpp:41"
     ]
    }
   ],
   "source": [
    "# extract the O matrix and the category output [TBF]\n",
    "predict_test = []\n",
    "lst = []\n",
    "Otot = []\n",
    "for j in torch.split(X, batch_size):\n",
    "    a, myO = mymodel(j)\n",
    "    a = a.cpu().data.numpy()\n",
    "    myO = myO.cpu().data.numpy()\n",
    "    # sum over particles\n",
    "    lst.append(a)\n",
    "    Otot.append(myO)\n",
    "    \n",
    "predicted = Variable(torch.FloatTensor(np.concatenate(lst)))\n",
    "predicted = torch.nn.functional.softmax(predicted, dim=1)\n",
    "predict_test = predicted.data.numpy()\n",
    "\n",
    "O_predicted = Variable(torch.FloatTensor(np.concatenate(Otot)))\n",
    "O_predicted_test = O_predicted.data.numpy()"
   ]
  },
  {
   "cell_type": "code",
   "execution_count": null,
   "metadata": {},
   "outputs": [],
   "source": [
    "# ROC CURVE\n",
    "import pandas as pd\n",
    "from sklearn.metrics import roc_curve, auc\n",
    "df = pd.DataFrame()\n",
    "fpr = {}\n",
    "tpr = {}\n",
    "auc1 = {}\n",
    "plt.figure()\n",
    "for i, label in enumerate(labels):\n",
    "        df[label] = Y[:,i]\n",
    "        df[label + '_pred'] = predict_test[:,i]\n",
    "\n",
    "        fpr[label], tpr[label], threshold = roc_curve(df[label],df[label+'_pred'])\n",
    "\n",
    "        auc1[label] = auc(fpr[label], tpr[label])\n",
    "        print('%s tagger, auc = %.1f%%' %(label,auc1[label]*100.))\n",
    "        plt.plot(tpr[label],fpr[label],label='%s tagger, auc = %.1f%%' %(label,auc1[label]*100.))\n",
    "        plt.plot(tpr[label],fpr[label])\n",
    "plt.semilogy()\n",
    "plt.xlabel(\"sig. efficiency\")\n",
    "plt.ylabel(\"bkg. mistag rate\")\n",
    "plt.ylim(0.000001,1)\n",
    "plt.grid(True)\n",
    "plt.legend(loc='upper left')\n",
    "#plt.savefig('%s/ROC.pdf'%(options.outputDir))\n",
    "plt.show()"
   ]
  },
  {
   "cell_type": "code",
   "execution_count": 17,
   "metadata": {},
   "outputs": [],
   "source": [
    "\n",
    "%matplotlib inline\n",
    "import matplotlib.pyplot as plt\n",
    "plt.style.use('../python/sonic.mplstyle')"
   ]
  },
  {
   "cell_type": "code",
   "execution_count": 38,
   "metadata": {},
   "outputs": [
    {
     "data": {
      "image/png": "[encoded data removed]",
      "text/plain": [
       "<Figure size 720x576 with 1 Axes>"
      ]
     },
     "metadata": {
      "needs_background": "light"
     },
     "output_type": "display_data"
    }
   ],
   "source": [
    "plt.figure(figsize=(10,8))\n",
    "plt.plot(treeArray, linewidth=1)\n",
    "plt.plot(treeArray2, linewidth=1)\n",
    "plt.title('Model Loss over Epochs')\n",
    "plt.ylabel('Loss')\n",
    "plt.xlabel('Epoch')\n",
    "plt.legend(['training sample loss','validation sample loss'])\n",
    "#plt.savefig('Learning_curve.pdf')\n",
    "plt.show()\n",
    "plt.close()"
   ]
  },
  {
   "cell_type": "code",
   "execution_count": null,
   "metadata": {},
   "outputs": [],
   "source": []
  }
 ],
 "metadata": {
  "kernelspec": {
   "display_name": "Python 3",
   "language": "python",
   "name": "python3"
  },
  "language_info": {
   "codemirror_mode": {
    "name": "ipython",
    "version": 3
   },
   "file_extension": ".py",
   "mimetype": "text/x-python",
   "name": "python",
   "nbconvert_exporter": "python",
   "pygments_lexer": "ipython3",
   "version": "3.6.10"
  }
 },
 "nbformat": 4,
 "nbformat_minor": 4
}
