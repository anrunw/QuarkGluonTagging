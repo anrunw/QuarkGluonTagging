{
 "cells": [
  {
   "cell_type": "code",
   "execution_count": 1,
   "metadata": {},
   "outputs": [],
   "source": [
    "import os\n",
    "import numpy as np\n",
    "import h5py\n",
    "import glob\n",
    "import itertools\n",
    "import sys\n",
    "from sklearn.utils import shuffle\n",
    "\n",
    "import torch\n",
    "import torch.nn as nn\n",
    "from torch.autograd.variable import *\n",
    "import torch.optim as optim\n",
    "\n",
    "import random\n",
    "import generatorIN\n",
    "from generatorIN import InEventLoader\n",
    "import time\n",
    "args_cuda = bool(sys.argv[2])\n"
   ]
  },
  {
   "cell_type": "code",
   "execution_count": 2,
   "metadata": {},
   "outputs": [],
   "source": [
    "%matplotlib inline\n",
    "import matplotlib.pyplot as plt\n",
    "plt.style.use('../python/sonic.mplstyle')"
   ]
  },
  {
   "cell_type": "code",
   "execution_count": 3,
   "metadata": {},
   "outputs": [],
   "source": [
    "# define the pytorch model\n",
    "class GraphNet(nn.Module):\n",
    "    def __init__(self, n_constituents, n_targets, params, hidden, De, Do,\n",
    "                 fr_activation=0, fo_activation=0, fc_activation=0, optimizer = 0, verbose = False):\n",
    "        super(GraphNet, self).__init__()\n",
    "        self.hidden = hidden\n",
    "        self.P = len(params)\n",
    "        self.N = n_constituents\n",
    "        self.Nr = self.N * (self.N - 1)\n",
    "        self.Dr = 0\n",
    "        self.De = De\n",
    "        self.Dx = 0\n",
    "        self.Do = Do\n",
    "        self.n_targets = n_targets\n",
    "        self.fr_activation = fr_activation\n",
    "        self.fo_activation = fo_activation\n",
    "        self.fc_activation = fc_activation\n",
    "        self.optimizer = optimizer\n",
    "        self.verbose = verbose\n",
    "        self.assign_matrices()\n",
    "\n",
    "        self.Ra = torch.ones(self.Dr, self.Nr)\n",
    "\n",
    "        self.fr1 = nn.Linear(2 * self.P + self.Dr, hidden)\n",
    "        self.fr2 = nn.Linear(hidden, int(hidden/2))\n",
    "        self.fr3 = nn.Linear(int(hidden/2), self.De)\n",
    "        self.fo1 = nn.Linear(self.P + self.Dx + self.De, hidden)\n",
    "        self.fo2 = nn.Linear(hidden, int(hidden/2))\n",
    "        self.fo3 = nn.Linear(int(hidden/2), self.Do)\n",
    "        self.fc1 = nn.Linear(self.Do * self.N, hidden)\n",
    "        self.fc2 = nn.Linear(hidden, int(hidden/2))\n",
    "        self.fc3 = nn.Linear(int(hidden/2), self.n_targets)\n",
    "\n",
    "    def assign_matrices(self):\n",
    "        self.Rr = torch.zeros(self.N, self.Nr)\n",
    "        self.Rs = torch.zeros(self.N, self.Nr)\n",
    "        receiver_sender_list = [i for i in itertools.product(range(self.N), range(self.N)) if i[0]!=i[1]]\n",
    "        for i, (r, s) in enumerate(receiver_sender_list):\n",
    "            self.Rr[r, i] = 1\n",
    "            self.Rs[s, i] = 1\n",
    "            self.Rr = Variable(self.Rr)\n",
    "            self.Rs = Variable(self.Rs)            \n",
    "            \n",
    "    def forward(self, x):\n",
    "        Orr = self.tmul(x, self.Rr)\n",
    "        Ors = self.tmul(x, self.Rs)\n",
    "        B = torch.cat([Orr, Ors], 1)\n",
    "        ### First MLP ###                                                                                               \n",
    "        B = torch.transpose(B, 1, 2).contiguous()\n",
    "        if self.fr_activation ==2:\n",
    "            B = nn.functional.selu(self.fr1(B.view(-1, 2 * self.P + self.Dr)))\n",
    "            B = nn.functional.selu(self.fr2(B))\n",
    "            E = nn.functional.selu(self.fr3(B).view(-1, self.Nr, self.De))\n",
    "        elif self.fr_activation ==1:\n",
    "            B = nn.functional.elu(self.fr1(B.view(-1, 2 * self.P + self.Dr)))\n",
    "            B = nn.functional.elu(self.fr2(B))\n",
    "            E = nn.functional.elu(self.fr3(B).view(-1, self.Nr, self.De))\n",
    "        else:\n",
    "            B = nn.functional.relu(self.fr1(B.view(-1, 2 * self.P + self.Dr)))\n",
    "            B = nn.functional.relu(self.fr2(B))\n",
    "            E = nn.functional.relu(self.fr3(B).view(-1, self.Nr, self.De))\n",
    "        del B\n",
    "        E = torch.transpose(E, 1, 2).contiguous()\n",
    "        Ebar = self.tmul(E, torch.transpose(self.Rr, 0, 1).contiguous())\n",
    "        del E\n",
    "        C = torch.cat([x, Ebar], 1)\n",
    "        del Ebar\n",
    "        C = torch.transpose(C, 1, 2).contiguous()\n",
    "        ### Second MLP ###                                                                                              \n",
    "        if self.fo_activation ==2:\n",
    "            C = nn.functional.selu(self.fo1(C.view(-1, self.P + self.Dx + self.De)))\n",
    "            C = nn.functional.selu(self.fo2(C))\n",
    "            O = nn.functional.selu(self.fo3(C).view(-1, self.N, self.Do))\n",
    "        elif self.fo_activation ==1:\n",
    "            C = nn.functional.elu(self.fo1(C.view(-1, self.P + self.Dx + self.De)))\n",
    "            C = nn.functional.elu(self.fo2(C))\n",
    "            O = nn.functional.elu(self.fo3(C).view(-1, self.N, self.Do))\n",
    "        else:\n",
    "            C = nn.functional.relu(self.fo1(C.view(-1, self.P + self.Dx + self.De)))\n",
    "            C = nn.functional.relu(self.fo2(C))\n",
    "            O = nn.functional.relu(self.fo3(C).view(-1, self.N, self.Do))\n",
    "        del C\n",
    "        ### Classification MLP ###                                                                                      \n",
    "        if self.fc_activation ==2:\n",
    "            N = nn.functional.selu(self.fc1(O.view(-1, self.Do * self.N)))\n",
    "            N = nn.functional.selu(self.fc2(N))\n",
    "        elif self.fc_activation ==1:\n",
    "            N = nn.functional.elu(self.fc1(O.view(-1, self.Do * self.N)))\n",
    "            N = nn.functional.elu(self.fc2(N))\n",
    "        else:\n",
    "            N = nn.functional.relu(self.fc1(O.view(-1, self.Do * self.N)))\n",
    "            N = nn.functional.relu(self.fc2(N))\n",
    "        #del O\n",
    "        #N = nn.functional.relu(self.fc3(N))                                                                            \n",
    "        N = self.fc3(N)\n",
    "        return N, O\n",
    "\n",
    "    def tmul(self, x, y):  #Takes (I * J * K)(K * L) -> I * J * L                                                       \n",
    "        x_shape = x.size()\n",
    "        y_shape = y.size()\n",
    "        return torch.mm(x.reshape(-1, x_shape[2]), y).reshape(-1, x_shape[1], y_shape[1])"
   ]
  },
  {
   "cell_type": "code",
   "execution_count": 4,
   "metadata": {},
   "outputs": [],
   "source": [
    "def get_sample(training, target, choice):\n",
    "    target_vals = np.argmax(target, axis = 1)\n",
    "    ind, = np.where(target_vals == choice)\n",
    "    chosen_ind = np.random.choice(ind, 50000)\n",
    "    return training[chosen_ind], target[chosen_ind]\n"
   ]
  },
  {
   "cell_type": "code",
   "execution_count": 5,
   "metadata": {},
   "outputs": [],
   "source": [
    "def accuracy(predict, target):\n",
    "    _, p_vals = torch.max(predict, 1)\n",
    "    r = torch.sum(target == p_vals.squeeze(1)).data.numpy()[0]\n",
    "    t = target.size()[0]\n",
    "    return r * 1.0 / t"
   ]
  },
  {
   "cell_type": "code",
   "execution_count": 6,
   "metadata": {},
   "outputs": [],
   "source": [
    "def stats(predict, target):\n",
    "    print(predict)\n",
    "    _, p_vals = torch.max(predict, 1)\n",
    "    t = target.cpu().data.numpy()\n",
    "    p_vals = p_vals.squeeze(1).data.numpy()\n",
    "    vals = np.unique(t)\n",
    "    for i in vals:\n",
    "        ind = np.where(t == i)\n",
    "        pv = p_vals[ind]\n",
    "        correct = sum(pv == t[ind])\n",
    "        print(\"  Target %s: %s/%s = %s%%\" % (i, correct, len(pv), correct * 100.0/len(pv)))\n",
    "    print(\"Overall: %s/%s = %s%%\" % (sum(p_vals == t), len(t), sum(p_vals == t) * 100.0/len(t)))\n",
    "    return sum(p_vals == t) * 100.0/len(t)"
   ]
  },
  {
   "cell_type": "code",
   "execution_count": null,
   "metadata": {},
   "outputs": [],
   "source": []
  },
  {
   "cell_type": "code",
   "execution_count": 7,
   "metadata": {},
   "outputs": [],
   "source": [
    "nGraphVtx = 30\n",
    "hidden_nodes = 20\n",
    "De = 3\n",
    "Do = 5"
   ]
  },
  {
   "cell_type": "code",
   "execution_count": 8,
   "metadata": {},
   "outputs": [],
   "source": [
    "#####\n",
    "labels = ['j_g', 'j_q', 'j_w', 'j_z', 'j_t']  # this is a classifier\n",
    "params = ['j1_px', 'j1_py' , 'j1_pz' , 'j1_e' , 'j1_erel' , 'j1_pt' , 'j1_ptrel', 'j1_eta' , 'j1_etarel' , \n",
    "          'j1_etarot' , 'j1_phi' , 'j1_phirel' , 'j1_phirot', 'j1_deltaR' , 'j1_costheta' , 'j1_costhetarel'] # these are the features in the graph\n",
    "\n",
    "val_split = 0.3\n",
    "batch_size = 100\n",
    "n_epochs = 100\n",
    "patience = 10"
   ]
  },
  {
   "cell_type": "code",
   "execution_count": 9,
   "metadata": {},
   "outputs": [],
   "source": [
    "nParticles = 30"
   ]
  },
  {
   "cell_type": "code",
   "execution_count": 15,
   "metadata": {},
   "outputs": [],
   "source": [
    "import glob\n",
    "#### LIST OF TRAINING FILES\n",
    "inputTrainFiles = glob.glob(\"../data2/Training/jetImage*_%sp*.h5\" %nParticles)\n",
    "#### LIST OF VALIDATION FILES\n",
    "inputValFiles = glob.glob(\"../data2/Validation/jetImage*_%sp*.h5\" %nParticles)\n",
    "\n",
    "mymodel = GraphNet(nGraphVtx, len(labels), params, hidden_nodes, De, Do, 0)"
   ]
  },
  {
   "cell_type": "code",
   "execution_count": 16,
   "metadata": {},
   "outputs": [
    {
     "data": {
      "text/plain": [
       "['../data2/Validation\\\\jetImage_7_30p_0_10000.h5',\n",
       " '../data2/Validation\\\\jetImage_7_30p_10000_20000.h5',\n",
       " '../data2/Validation\\\\jetImage_7_30p_20000_30000.h5',\n",
       " '../data2/Validation\\\\jetImage_7_30p_30000_40000.h5',\n",
       " '../data2/Validation\\\\jetImage_7_30p_40000_50000.h5',\n",
       " '../data2/Validation\\\\jetImage_7_30p_50000_60000.h5',\n",
       " '../data2/Validation\\\\jetImage_7_30p_60000_70000.h5',\n",
       " '../data2/Validation\\\\jetImage_7_30p_70000_80000.h5',\n",
       " '../data2/Validation\\\\jetImage_7_30p_80000_90000.h5',\n",
       " '../data2/Validation\\\\jetImage_8_30p_0_10000.h5',\n",
       " '../data2/Validation\\\\jetImage_8_30p_10000_20000.h5',\n",
       " '../data2/Validation\\\\jetImage_8_30p_20000_30000.h5',\n",
       " '../data2/Validation\\\\jetImage_8_30p_30000_40000.h5',\n",
       " '../data2/Validation\\\\jetImage_8_30p_40000_50000.h5',\n",
       " '../data2/Validation\\\\jetImage_8_30p_50000_60000.h5',\n",
       " '../data2/Validation\\\\jetImage_8_30p_60000_70000.h5',\n",
       " '../data2/Validation\\\\jetImage_8_30p_70000_80000.h5',\n",
       " '../data2/Validation\\\\jetImage_8_30p_80000_90000.h5',\n",
       " '../data2/Validation\\\\jetImage_9_30p_0_10000.h5',\n",
       " '../data2/Validation\\\\jetImage_9_30p_10000_20000.h5',\n",
       " '../data2/Validation\\\\jetImage_9_30p_20000_30000.h5',\n",
       " '../data2/Validation\\\\jetImage_9_30p_30000_40000.h5',\n",
       " '../data2/Validation\\\\jetImage_9_30p_40000_50000.h5',\n",
       " '../data2/Validation\\\\jetImage_9_30p_50000_60000.h5',\n",
       " '../data2/Validation\\\\jetImage_9_30p_60000_70000.h5',\n",
       " '../data2/Validation\\\\jetImage_9_30p_70000_80000.h5',\n",
       " '../data2/Validation\\\\jetImage_9_30p_80000_90000.h5']"
      ]
     },
     "execution_count": 16,
     "metadata": {},
     "output_type": "execute_result"
    }
   ],
   "source": [
    "inputValFiles"
   ]
  },
  {
   "cell_type": "code",
   "execution_count": 17,
   "metadata": {},
   "outputs": [],
   "source": [
    "loss = nn.CrossEntropyLoss(reduction='mean')\n",
    "if mymodel.optimizer == 1:        \n",
    "    optimizer = optim.Adadelta(mymodel.parameters(), lr = 0.0001)\n",
    "else:\n",
    "    optimizer = optim.Adam(mymodel.parameters(), lr = 0.0001)"
   ]
  },
  {
   "cell_type": "code",
   "execution_count": 18,
   "metadata": {},
   "outputs": [
    {
     "name": "stdout",
     "output_type": "stream",
     "text": [
      "nBatches_per_training_epoch: 6100\n",
      "nBatches_per_validation_epoch: 2700\n"
     ]
    }
   ],
   "source": [
    "loss_train = np.zeros(n_epochs)\n",
    "loss_val = np.zeros(n_epochs)\n",
    "nBatches_per_training_epoch = len(inputTrainFiles)*10000/batch_size\n",
    "nBatches_per_validation_epoch = len(inputValFiles)*10000/batch_size\n",
    "print(\"nBatches_per_training_epoch: %i\" %nBatches_per_training_epoch)\n",
    "print(\"nBatches_per_validation_epoch: %i\" %nBatches_per_validation_epoch)"
   ]
  },
  {
   "cell_type": "code",
   "execution_count": 19,
   "metadata": {
    "scrolled": false
   },
   "outputs": [
    {
     "name": "stdout",
     "output_type": "stream",
     "text": [
      "0\n"
     ]
    },
    {
     "name": "stderr",
     "output_type": "stream",
     "text": [
      "C:\\Users\\anrun\\anaconda3\\envs\\EPE_ML\\lib\\site-packages\\ipykernel_launcher.py:30: UserWarning: volatile was removed and now has no effect. Use `with torch.no_grad():` instead.\n"
     ]
    },
    {
     "name": "stdout",
     "output_type": "stream",
     "text": [
      "-591.9415464401245\n",
      "1\n",
      "-589.1462750434875\n",
      "2\n",
      "-593.0559253692627\n",
      "3\n",
      "-587.2313628196716\n",
      "4\n",
      "-588.4183833599091\n",
      "5\n",
      "-588.6655759811401\n",
      "6\n",
      "-587.3694446086884\n",
      "7\n",
      "-586.3083295822144\n",
      "8\n",
      "-588.6184778213501\n",
      "9\n",
      "-584.8485524654388\n",
      "10\n",
      "-588.652428150177\n",
      "11\n",
      "-590.1374554634094\n",
      "12\n",
      "-589.5153353214264\n",
      "13\n",
      "-588.4204804897308\n",
      "14\n",
      "-590.5114240646362\n",
      "15\n",
      "-588.3120765686035\n",
      "16\n",
      "-588.4297132492065\n",
      "17\n",
      "-588.9287419319153\n",
      "18\n",
      "-590.6223244667053\n",
      "19\n",
      "-590.6311829090118\n",
      "20\n",
      "-589.5224757194519\n",
      "21\n",
      "-588.9024739265442\n",
      "22\n",
      "-591.7463717460632\n",
      "23\n",
      "-584.9712269306183\n",
      "24\n",
      "-587.233490228653\n",
      "25\n",
      "-587.4393131732941\n",
      "26\n",
      "-586.914617061615\n",
      "27\n",
      "-587.1164996623993\n",
      "28\n",
      "-585.9521725177765\n",
      "29\n",
      "-585.7792725563049\n",
      "30\n",
      "-588.2008759975433\n",
      "31\n",
      "-587.6262068748474\n",
      "32\n",
      "-587.7040827274323\n",
      "33\n",
      "-586.7208042144775\n",
      "34\n",
      "-589.1484620571136\n",
      "35\n",
      "-587.5872294902802\n",
      "36\n",
      "-583.9473302364349\n",
      "37\n",
      "-584.9567441940308\n",
      "38\n",
      "-584.7933151721954\n",
      "39\n",
      "-587.6424572467804\n",
      "40\n",
      "-586.7058408260345\n",
      "41\n",
      "-584.7669105529785\n",
      "42\n",
      "-587.5474212169647\n",
      "43\n",
      "-589.5691204071045\n",
      "44\n",
      "-587.7401401996613\n",
      "45\n",
      "-587.261415719986\n",
      "46\n",
      "-586.1080827713013\n",
      "47\n",
      "-585.3971729278564\n",
      "48\n",
      "-589.8689665794373\n",
      "49\n",
      "-588.0479652881622\n",
      "50\n",
      "-585.3075430393219\n",
      "51\n",
      "-588.7115817070007\n",
      "52\n",
      "-584.5431070327759\n",
      "53\n",
      "-584.214173078537\n",
      "54\n",
      "-599.92063164711\n",
      "55\n",
      "-600.5652403831482\n",
      "56\n",
      "-624.4014596939087\n",
      "57\n",
      "-746.8730864524841\n",
      "58\n",
      "-768.8622605800629\n",
      "59\n",
      "-777.286331653595\n",
      "60\n",
      "-710.3516466617584\n",
      "61\n",
      "-616.4815468788147\n",
      "62\n",
      "-604.1072623729706\n",
      "63\n",
      "-596.1112656593323\n",
      "64\n",
      "-593.48521900177\n",
      "65\n",
      "-592.0726103782654\n",
      "66\n",
      "-594.5991561412811\n",
      "67\n",
      "-592.5768704414368\n",
      "68\n",
      "-593.4772746562958\n",
      "69\n",
      "-593.6586165428162\n",
      "70\n",
      "-593.530823469162\n",
      "71\n",
      "-593.3635504245758\n",
      "72\n",
      "-593.5124373435974\n",
      "73\n",
      "-594.7555713653564\n",
      "74\n",
      "-594.8451824188232\n",
      "75\n",
      "-596.1236622333527\n",
      "76\n",
      "-593.4302864074707\n",
      "77\n",
      "-594.597297668457\n",
      "78\n",
      "-594.2645025253296\n",
      "79\n",
      "-593.4884531497955\n",
      "80\n",
      "-593.2546062469482\n",
      "81\n",
      "-594.4032661914825\n",
      "82\n",
      "-594.6452143192291\n",
      "83\n",
      "-595.772483587265\n",
      "84\n",
      "-593.64240026474\n",
      "85\n",
      "-596.1430706977844\n",
      "86\n",
      "-595.1189737319946\n",
      "87\n",
      "-591.8575620651245\n",
      "88\n",
      "-592.8931758403778\n",
      "89\n",
      "-593.7203161716461\n",
      "90\n",
      "-594.3043420314789\n",
      "91\n",
      "-592.8594698905945\n",
      "92\n",
      "-592.6065232753754\n",
      "93\n",
      "-593.7093241214752\n",
      "94\n",
      "-593.3814494609833\n",
      "95\n",
      "-593.494467496872\n",
      "96\n",
      "-592.5803592205048\n",
      "97\n",
      "-594.2863981723785\n",
      "98\n",
      "-593.8880653381348\n",
      "99\n",
      "-592.8257012367249\n"
     ]
    }
   ],
   "source": [
    "for i in range(n_epochs):\n",
    "    print(i)\n",
    "    start = time.time()\n",
    "    if mymodel.verbose: print(\"Epoch %s\" % i)\n",
    "    # Define the data generators from the training set and validation set.\n",
    "    random.shuffle(inputTrainFiles)\n",
    "    random.shuffle(inputValFiles)\n",
    "    train_set = InEventLoader(file_names=inputTrainFiles, nP=nParticles,\n",
    "                              feature_name ='jetConstituentList',label_name = 'jets', verbose=False)\n",
    "    train_loader = torch.utils.data.DataLoader(train_set, batch_size=batch_size, shuffle=False)\n",
    "    val_set = InEventLoader(file_names=inputValFiles, nP=nParticles,\n",
    "                            feature_name ='jetConstituentList',label_name = 'jets', verbose=False)\n",
    "    val_loader = torch.utils.data.DataLoader(val_set, batch_size=batch_size, shuffle=False)\n",
    "    ####\n",
    "    # train\n",
    "    for batch_idx, mydict in enumerate(train_loader):\n",
    "        data = mydict['jetConstituentList']\n",
    "        target = mydict['jets']\n",
    "        data, target = Variable(data), Variable(target)\n",
    "        optimizer.zero_grad()\n",
    "        out, hidden = mymodel(data)\n",
    "        l = loss(out, target)\n",
    "        l.backward()\n",
    "        optimizer.step()\n",
    "        loss_train[i] += l.cpu().data.numpy()/nBatches_per_training_epoch\n",
    "    # validation\n",
    "    for batch_idx, mydict in enumerate(val_loader):\n",
    "        data = mydict['jetConstituentList']\n",
    "        target = mydict['jets']\n",
    "        data, target = Variable(data, volatile=True), Variable(target)\n",
    "        out_val, hidden = mymodel(data)\n",
    "        l_val = loss(out_val, target)\n",
    "        loss_val[i] += l_val.cpu().data.numpy()/nBatches_per_validation_epoch\n",
    "    if mymodel.verbose: print(\"Training   Loss: %f\" %loss_train[i])\n",
    "    if mymodel.verbose: print(\"Validation Loss: %f\" %loss_val[i])\n",
    "    if all(loss_val[max(0, i - patience):i] > min(np.append(loss_val[0:max(0, i - patience)], 200))) and i > patience:\n",
    "        print(\"Early Stopping\")\n",
    "        break\n",
    "    stop = time.time()\n",
    "    duration = start - stop\n",
    "    print(duration)\n",
    "    "
   ]
  },
  {
   "cell_type": "code",
   "execution_count": 20,
   "metadata": {},
   "outputs": [],
   "source": [
    "import h5py\n",
    "f = h5py.File(\"secondtryhistory.h5\", \"w\")\n",
    "f.create_dataset('train_loss', data= np.asarray(loss_train), compression='gzip')\n",
    "f.create_dataset('val_loss', data= np.asarray(loss_val), compression='gzip')\n",
    "\n",
    "# the best model\n",
    "torch.save(mymodel.state_dict(), 'C:/Users/anrun/JEDInet-code/models/newLONGbest_model.params')\n"
   ]
  },
  {
   "cell_type": "code",
   "execution_count": 21,
   "metadata": {},
   "outputs": [],
   "source": [
    "finalloss=[]\n",
    "models=[]\n",
    "models.append(mymodel)\n",
    "loss_val = loss_val[loss_val>0]\n",
    "finalloss.append(loss_val[-1])"
   ]
  },
  {
   "cell_type": "code",
   "execution_count": 33,
   "metadata": {
    "scrolled": true
   },
   "outputs": [
    {
     "data": {
      "text/plain": [
       "GraphNet(\n",
       "  (fr1): Linear(in_features=32, out_features=20, bias=True)\n",
       "  (fr2): Linear(in_features=20, out_features=10, bias=True)\n",
       "  (fr3): Linear(in_features=10, out_features=3, bias=True)\n",
       "  (fo1): Linear(in_features=19, out_features=20, bias=True)\n",
       "  (fo2): Linear(in_features=20, out_features=10, bias=True)\n",
       "  (fo3): Linear(in_features=10, out_features=5, bias=True)\n",
       "  (fc1): Linear(in_features=150, out_features=20, bias=True)\n",
       "  (fc2): Linear(in_features=20, out_features=10, bias=True)\n",
       "  (fc3): Linear(in_features=10, out_features=5, bias=True)\n",
       ")"
      ]
     },
     "execution_count": 33,
     "metadata": {},
     "output_type": "execute_result"
    }
   ],
   "source": [
    "mymodel.load_state_dict(torch.load(\"../models/newLONGbest_model.params\", map_location='cpu'))\n",
    "mymodel.eval()"
   ]
  },
  {
   "cell_type": "code",
   "execution_count": 34,
   "metadata": {},
   "outputs": [
    {
     "name": "stdout",
     "output_type": "stream",
     "text": [
      "(10000, 30, 16) (10000, 5) (10000, 59)\n",
      "(20000, 30, 16) (20000, 5) (20000, 59)\n"
     ]
    }
   ],
   "source": [
    "#read datasets\n",
    "X = np.array([])                                                                                                                                      \n",
    "Y = np.array([]) \n",
    "Y_hlf = np.array([]) \n",
    "for fileIN in inputValFiles:\n",
    "    if X.shape[0] >10000: continue\n",
    "    f = h5py.File(fileIN, 'r')                                                                                                                        \n",
    "    myFeatures = np.array(f.get('jetConstituentList'))                                                                                                \n",
    "    myTarget = np.array(f.get('jets')[0:,-6:-1])\n",
    "    myHLF = np.array(f.get('jets'))\n",
    "    X = np.concatenate([X,myFeatures], axis = 0) if X.size else myFeatures                                                                            \n",
    "    Y = np.concatenate([Y,myTarget], axis = 0) if Y.size else myTarget                                                                                \n",
    "    Y_hlf = np.concatenate([Y_hlf,myHLF], axis = 0) if Y_hlf.size else myHLF                                                                                \n",
    "    print(X.shape, Y.shape, Y_hlf.shape)"
   ]
  },
  {
   "cell_type": "code",
   "execution_count": 35,
   "metadata": {},
   "outputs": [],
   "source": [
    "# pre-processing                                                                                                                                \n",
    "X, Y, Y_hlf = shuffle(X, Y, Y_hlf, random_state=1)\n",
    "X = np.swapaxes(X, 1, 2)\n",
    "#Y = np.argmax(Y, axis=1)\n",
    "X = torch.FloatTensor(X)\n",
    "Y = torch.FloatTensor(Y)\n",
    "Y_hlf = torch.FloatTensor(Y_hlf)"
   ]
  },
  {
   "cell_type": "code",
   "execution_count": 36,
   "metadata": {},
   "outputs": [],
   "source": [
    "# extract the O matrix and the category output [TBF]\n",
    "predict_test = []\n",
    "lst = []\n",
    "Otot = []\n",
    "for j in torch.split(X, batch_size):\n",
    "    a, myO = mymodel(j)\n",
    "    a = a.cpu().data.numpy()\n",
    "    myO = myO.cpu().data.numpy()\n",
    "    # sum over particles\n",
    "    lst.append(a)\n",
    "    Otot.append(myO)\n",
    "    \n",
    "predicted = Variable(torch.FloatTensor(np.concatenate(lst)))\n",
    "predicted = torch.nn.functional.softmax(predicted, dim=1)\n",
    "predict_test = predicted.data.numpy()\n",
    "\n",
    "O_predicted = Variable(torch.FloatTensor(np.concatenate(Otot)))\n",
    "O_predicted_test = O_predicted.data.numpy()"
   ]
  },
  {
   "cell_type": "code",
   "execution_count": 37,
   "metadata": {},
   "outputs": [
    {
     "name": "stdout",
     "output_type": "stream",
     "text": [
      "j_g tagger, auc = 91.9%\n",
      "j_q tagger, auc = 91.5%\n",
      "j_w tagger, auc = 95.6%\n",
      "j_z tagger, auc = 94.8%\n",
      "j_t tagger, auc = 95.8%\n"
     ]
    },
    {
     "data": {
      "image/png": "[encoded data removed]",
      "text/plain": [
       "<Figure size 432x288 with 1 Axes>"
      ]
     },
     "metadata": {
      "needs_background": "light"
     },
     "output_type": "display_data"
    }
   ],
   "source": [
    "# ROC CURVE\n",
    "import pandas as pd\n",
    "from sklearn.metrics import roc_curve, auc\n",
    "df = pd.DataFrame()\n",
    "fpr = {}\n",
    "tpr = {}\n",
    "auc1 = {}\n",
    "plt.figure()\n",
    "for i, label in enumerate(labels):\n",
    "        df[label] = Y[:,i]\n",
    "        df[label + '_pred'] = predict_test[:,i]\n",
    "\n",
    "        fpr[label], tpr[label], threshold = roc_curve(df[label],df[label+'_pred'])\n",
    "\n",
    "        auc1[label] = auc(fpr[label], tpr[label])\n",
    "        print('%s tagger, auc = %.1f%%' %(label,auc1[label]*100.))\n",
    "        plt.plot(tpr[label],fpr[label],label='%s tagger, auc = %.1f%%' %(label,auc1[label]*100.))\n",
    "        plt.plot(tpr[label],fpr[label])\n",
    "plt.semilogy()\n",
    "plt.xlabel(\"sig. efficiency\")\n",
    "plt.ylabel(\"bkg. mistag rate\")\n",
    "plt.ylim(0.000001,1)\n",
    "plt.grid(True)\n",
    "plt.legend(loc='upper left')\n",
    "#plt.savefig('%s/ROC.pdf'%(options.outputDir))\n",
    "plt.show()"
   ]
  },
  {
   "cell_type": "code",
   "execution_count": 38,
   "metadata": {},
   "outputs": [],
   "source": [
    "# HLF  in classifier\n",
    "myHLFlist = [12, 34, 35, 36, 37, 38, 39, 40, 42, 43, 44, 45, 46, 48, 52]\n",
    "namesY = ['zlogz', 'c1_b0_mmdt', 'c1_b1_mmdt', 'c1_b2_mmdt', 'c2_b1_mmdt', 'c2_b2_mmdt', \n",
    "          'd2_b1_mmdt', 'd2_b2_mmdt','d2_a1_b2_mmdt', 'm2_b1_mmdt', \n",
    "          'm2_b2_mmdt', 'n2_b1_mmdt', 'n2_b2_mmdt', 'mass_mmdt', 'multiplicity']\n",
    "labelsY = ['$\\Sigma zlog(z)$', '$C_{1}^{0}$', '$C_{1}^{1}$', '$C_{1}^{2}$',\n",
    "          '$C_{2}^{1}$', '$C_{2}^{2}$',\n",
    "         '$D_{2}^{1}$','$D_{2}^{2}$',\n",
    "          '$D_{2}^{(1,2)}$', \n",
    "         '$M_{2}^{1}$', '$M_{2}^{2}$',\n",
    "         '$N_{2}^{1}$', '$N_{2}^{2}$', 'jet $m_{mMDT}$', 'Multiplicity']\n"
   ]
  },
  {
   "cell_type": "code",
   "execution_count": 39,
   "metadata": {},
   "outputs": [],
   "source": [
    "# other HLF: all\n",
    "myHLFlist = [4,26,7,29,\n",
    "             5,27,8,30,\n",
    "             6,28,9,31]\n",
    "namesY = ['j_tau1_b1', 'j_tau1_b1_mmdt','j_tau1_b2',  'j_tau1_b2_mmdt', \n",
    "          'j_tau2_b1', 'j_tau2_b1_mmdt','j_tau2_b2',  'j_tau2_b2_mmdt', \n",
    "          'j_tau3_b1', 'j_tau3_b1_mmdt','j_tau3_b2',  'j_tau3_b2_mmdt']\n",
    "labelsY = ['$\\\\tau_1^1$','$\\\\tau_1^{1,mmdt}$','$\\\\tau_1^2$','$\\\\tau_1^{2,mmdt}$',\n",
    "           '$\\\\tau_2^1$','$\\\\tau_2^{1,mmdt}$','$\\\\tau_2^2$','$\\\\tau_2^{2,mmdt}$',\n",
    "           '$\\\\tau_3^1$','$\\\\tau_3^{1,mmdt}$','$\\\\tau_3^2$','$\\\\tau_3^{2,mmdt}$']"
   ]
  },
  {
   "cell_type": "code",
   "execution_count": 40,
   "metadata": {},
   "outputs": [],
   "source": [
    "# other HLF: w/o mmdt \n",
    "myHLFlist = [4,7,\n",
    "             5,8,\n",
    "             6,9]\n",
    "namesY = ['j_tau1_b1', 'j_tau1_b2',  \n",
    "          'j_tau2_b1', 'j_tau2_b2', \n",
    "          'j_tau3_b1', 'j_tau3_b2']\n",
    "labelsY = ['$\\\\tau_1^1$','$\\\\tau_1^2$',\n",
    "           '$\\\\tau_2^1$','$\\\\tau_2^2$',\n",
    "           '$\\\\tau_3^1$','$\\\\tau_3^2$']"
   ]
  },
  {
   "cell_type": "code",
   "execution_count": 41,
   "metadata": {},
   "outputs": [],
   "source": [
    "# other HLF: with mmdt \n",
    "myHLFlist = [26,29,\n",
    "             27,30,\n",
    "             28,31]\n",
    "namesY = ['j_tau1_b1_mmdt', 'j_tau1_b2_mmdt',  \n",
    "          'j_tau2_b1_mmdt', 'j_tau2_b2_mmdt', \n",
    "          'j_tau3_b1_mmdt', 'j_tau3_b2_mmdt']\n",
    "labelsY = ['$\\\\tau_1^{1,mmdt}$','$\\\\tau_1^{2,mmdt}$',\n",
    "           '$\\\\tau_2^{1,mmdt}$','$\\\\tau_2^{2,mmdt}$',\n",
    "           '$\\\\tau_3^{1,mmdt}$','$\\\\tau_3^{2,mmdt}$']"
   ]
  },
  {
   "cell_type": "code",
   "execution_count": 42,
   "metadata": {},
   "outputs": [],
   "source": [
    "k = 0"
   ]
  },
  {
   "cell_type": "code",
   "execution_count": 51,
   "metadata": {},
   "outputs": [],
   "source": [
    "f = h5py.File(\"secondtryhistory.h5\", \"r\")"
   ]
  },
  {
   "cell_type": "code",
   "execution_count": 52,
   "metadata": {},
   "outputs": [
    {
     "data": {
      "text/plain": [
       "<KeysViewHDF5 ['train_loss', 'val_loss']>"
      ]
     },
     "execution_count": 52,
     "metadata": {},
     "output_type": "execute_result"
    }
   ],
   "source": [
    "f.keys()"
   ]
  },
  {
   "cell_type": "code",
   "execution_count": 53,
   "metadata": {},
   "outputs": [
    {
     "name": "stdout",
     "output_type": "stream",
     "text": [
      "None\n"
     ]
    }
   ],
   "source": [
    "treeArray = f['train_loss'][()] #Empty tuple indexing retrieves all values\n",
    "print(treeArray.dtype.names)"
   ]
  },
  {
   "cell_type": "code",
   "execution_count": 54,
   "metadata": {},
   "outputs": [],
   "source": [
    "treeArray2 = f['val_loss'][()]"
   ]
  },
  {
   "cell_type": "code",
   "execution_count": 55,
   "metadata": {},
   "outputs": [],
   "source": [
    "y = []\n",
    "for x in range (0,100):\n",
    "    y.append(x)\n"
   ]
  },
  {
   "cell_type": "code",
   "execution_count": 56,
   "metadata": {},
   "outputs": [
    {
     "data": {
      "text/plain": [
       "(100,)"
      ]
     },
     "execution_count": 56,
     "metadata": {},
     "output_type": "execute_result"
    }
   ],
   "source": [
    "np.shape(y)"
   ]
  },
  {
   "cell_type": "code",
   "execution_count": 57,
   "metadata": {},
   "outputs": [
    {
     "data": {
      "image/png": "[encoded data removed]",
      "text/plain": [
       "<Figure size 720x576 with 1 Axes>"
      ]
     },
     "metadata": {
      "needs_background": "light"
     },
     "output_type": "display_data"
    }
   ],
   "source": [
    "\n",
    "plt.figure(figsize=(10,8))\n",
    "plt.plot(treeArray, linewidth=1)\n",
    "plt.plot(treeArray2, linewidth=1)\n",
    "plt.title('Model Loss over Epochs')\n",
    "plt.ylabel('Loss')\n",
    "plt.xlabel('Epoch')\n",
    "plt.legend(['training sample loss','validation sample loss'])\n",
    "#plt.savefig('Learning_curve.pdf')\n",
    "plt.show()\n",
    "plt.close()"
   ]
  },
  {
   "cell_type": "code",
   "execution_count": null,
   "metadata": {},
   "outputs": [],
   "source": []
  }
 ],
 "metadata": {
  "kernelspec": {
   "display_name": "Python 3",
   "language": "python",
   "name": "python3"
  },
  "language_info": {
   "codemirror_mode": {
    "name": "ipython",
    "version": 3
   },
   "file_extension": ".py",
   "mimetype": "text/x-python",
   "name": "python",
   "nbconvert_exporter": "python",
   "pygments_lexer": "ipython3",
   "version": "3.6.10"
  }
 },
 "nbformat": 4,
 "nbformat_minor": 4
}
