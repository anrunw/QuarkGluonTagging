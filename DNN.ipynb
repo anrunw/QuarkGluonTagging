{
 "cells": [
  {
   "cell_type": "code",
   "execution_count": 1,
   "metadata": {},
   "outputs": [
    {
     "name": "stderr",
     "output_type": "stream",
     "text": [
      "/home/anrunw/anaconda3/envs/tensorflow/lib/python3.6/site-packages/tensorflow/python/framework/dtypes.py:469: FutureWarning: Passing (type, 1) or '1type' as a synonym of type is deprecated; in a future version of numpy, it will be understood as (type, (1,)) / '(1,)type'.\n",
      "  _np_qint8 = np.dtype([(\"qint8\", np.int8, 1)])\n",
      "/home/anrunw/anaconda3/envs/tensorflow/lib/python3.6/site-packages/tensorflow/python/framework/dtypes.py:470: FutureWarning: Passing (type, 1) or '1type' as a synonym of type is deprecated; in a future version of numpy, it will be understood as (type, (1,)) / '(1,)type'.\n",
      "  _np_quint8 = np.dtype([(\"quint8\", np.uint8, 1)])\n",
      "/home/anrunw/anaconda3/envs/tensorflow/lib/python3.6/site-packages/tensorflow/python/framework/dtypes.py:471: FutureWarning: Passing (type, 1) or '1type' as a synonym of type is deprecated; in a future version of numpy, it will be understood as (type, (1,)) / '(1,)type'.\n",
      "  _np_qint16 = np.dtype([(\"qint16\", np.int16, 1)])\n",
      "/home/anrunw/anaconda3/envs/tensorflow/lib/python3.6/site-packages/tensorflow/python/framework/dtypes.py:472: FutureWarning: Passing (type, 1) or '1type' as a synonym of type is deprecated; in a future version of numpy, it will be understood as (type, (1,)) / '(1,)type'.\n",
      "  _np_quint16 = np.dtype([(\"quint16\", np.uint16, 1)])\n",
      "/home/anrunw/anaconda3/envs/tensorflow/lib/python3.6/site-packages/tensorflow/python/framework/dtypes.py:473: FutureWarning: Passing (type, 1) or '1type' as a synonym of type is deprecated; in a future version of numpy, it will be understood as (type, (1,)) / '(1,)type'.\n",
      "  _np_qint32 = np.dtype([(\"qint32\", np.int32, 1)])\n",
      "/home/anrunw/anaconda3/envs/tensorflow/lib/python3.6/site-packages/tensorflow/python/framework/dtypes.py:476: FutureWarning: Passing (type, 1) or '1type' as a synonym of type is deprecated; in a future version of numpy, it will be understood as (type, (1,)) / '(1,)type'.\n",
      "  np_resource = np.dtype([(\"resource\", np.ubyte, 1)])\n",
      "/home/anrunw/anaconda3/envs/tensorflow/lib/python3.6/importlib/_bootstrap.py:219: RuntimeWarning: compiletime version 3.5 of module 'tensorflow.python.framework.fast_tensor_util' does not match runtime version 3.6\n",
      "  return f(*args, **kwds)\n"
     ]
    },
    {
     "ename": "ImportError",
     "evalue": "Keras requires TensorFlow 2.2 or higher. Install TensorFlow via `pip install tensorflow`",
     "output_type": "error",
     "traceback": [
      "\u001b[0;31m---------------------------------------------------------------------------\u001b[0m",
      "\u001b[0;31mModuleNotFoundError\u001b[0m                       Traceback (most recent call last)",
      "\u001b[0;32m~/anaconda3/envs/tensorflow/lib/python3.6/site-packages/keras/__init__.py\u001b[0m in \u001b[0;36m<module>\u001b[0;34m\u001b[0m\n\u001b[1;32m      2\u001b[0m \u001b[0;32mtry\u001b[0m\u001b[0;34m:\u001b[0m\u001b[0;34m\u001b[0m\u001b[0;34m\u001b[0m\u001b[0m\n\u001b[0;32m----> 3\u001b[0;31m     \u001b[0;32mfrom\u001b[0m \u001b[0mtensorflow\u001b[0m\u001b[0;34m.\u001b[0m\u001b[0mkeras\u001b[0m\u001b[0;34m.\u001b[0m\u001b[0mlayers\u001b[0m\u001b[0;34m.\u001b[0m\u001b[0mexperimental\u001b[0m\u001b[0;34m.\u001b[0m\u001b[0mpreprocessing\u001b[0m \u001b[0;32mimport\u001b[0m \u001b[0mRandomRotation\u001b[0m\u001b[0;34m\u001b[0m\u001b[0;34m\u001b[0m\u001b[0m\n\u001b[0m\u001b[1;32m      4\u001b[0m \u001b[0;32mexcept\u001b[0m \u001b[0mImportError\u001b[0m\u001b[0;34m:\u001b[0m\u001b[0;34m\u001b[0m\u001b[0;34m\u001b[0m\u001b[0m\n",
      "\u001b[0;31mModuleNotFoundError\u001b[0m: No module named 'tensorflow.keras'",
      "\nDuring handling of the above exception, another exception occurred:\n",
      "\u001b[0;31mImportError\u001b[0m                               Traceback (most recent call last)",
      "\u001b[0;32m<ipython-input-1-0d1135a6788e>\u001b[0m in \u001b[0;36m<module>\u001b[0;34m\u001b[0m\n\u001b[1;32m      1\u001b[0m \u001b[0;32mimport\u001b[0m \u001b[0mtensorflow\u001b[0m \u001b[0;32mas\u001b[0m \u001b[0mtf\u001b[0m\u001b[0;34m\u001b[0m\u001b[0;34m\u001b[0m\u001b[0m\n\u001b[0;32m----> 2\u001b[0;31m \u001b[0;32mimport\u001b[0m \u001b[0mkeras\u001b[0m\u001b[0;34m\u001b[0m\u001b[0;34m\u001b[0m\u001b[0m\n\u001b[0m\u001b[1;32m      3\u001b[0m \u001b[0;32mfrom\u001b[0m \u001b[0mkeras\u001b[0m\u001b[0;34m.\u001b[0m\u001b[0mlayers\u001b[0m \u001b[0;32mimport\u001b[0m \u001b[0mInput\u001b[0m\u001b[0;34m,\u001b[0m \u001b[0mDense\u001b[0m\u001b[0;34m\u001b[0m\u001b[0;34m\u001b[0m\u001b[0m\n\u001b[1;32m      4\u001b[0m \u001b[0;32mfrom\u001b[0m \u001b[0mkeras\u001b[0m\u001b[0;34m.\u001b[0m\u001b[0mmodels\u001b[0m \u001b[0;32mimport\u001b[0m \u001b[0mModel\u001b[0m\u001b[0;34m\u001b[0m\u001b[0;34m\u001b[0m\u001b[0m\n\u001b[1;32m      5\u001b[0m \u001b[0;32mfrom\u001b[0m \u001b[0mkeras\u001b[0m\u001b[0;34m.\u001b[0m\u001b[0moptimizers\u001b[0m \u001b[0;32mimport\u001b[0m \u001b[0mAdam\u001b[0m\u001b[0;34m\u001b[0m\u001b[0;34m\u001b[0m\u001b[0m\n",
      "\u001b[0;32m~/anaconda3/envs/tensorflow/lib/python3.6/site-packages/keras/__init__.py\u001b[0m in \u001b[0;36m<module>\u001b[0;34m\u001b[0m\n\u001b[1;32m      4\u001b[0m \u001b[0;32mexcept\u001b[0m \u001b[0mImportError\u001b[0m\u001b[0;34m:\u001b[0m\u001b[0;34m\u001b[0m\u001b[0;34m\u001b[0m\u001b[0m\n\u001b[1;32m      5\u001b[0m     raise ImportError(\n\u001b[0;32m----> 6\u001b[0;31m         \u001b[0;34m'Keras requires TensorFlow 2.2 or higher. '\u001b[0m\u001b[0;34m\u001b[0m\u001b[0;34m\u001b[0m\u001b[0m\n\u001b[0m\u001b[1;32m      7\u001b[0m         'Install TensorFlow via `pip install tensorflow`')\n\u001b[1;32m      8\u001b[0m \u001b[0;34m\u001b[0m\u001b[0m\n",
      "\u001b[0;31mImportError\u001b[0m: Keras requires TensorFlow 2.2 or higher. Install TensorFlow via `pip install tensorflow`"
     ]
    }
   ],
   "source": [
    "import tensorflow as tf\n",
    "import keras\n",
    "from keras.layers import Input, Dense\n",
    "from keras.models import Model\n",
    "from keras.optimizers import Adam\n",
    "from sklearn.model_selection import train_test_split\n",
    "import os\n",
    "import h5py\n",
    "import pandas as pd\n",
    "import numpy as np"
   ]
  },
  {
   "cell_type": "code",
   "execution_count": 5,
   "metadata": {},
   "outputs": [
    {
     "ename": "NameError",
     "evalue": "name 'pd' is not defined",
     "output_type": "error",
     "traceback": [
      "\u001b[0;31m---------------------------------------------------------------------------\u001b[0m",
      "\u001b[0;31mNameError\u001b[0m                                 Traceback (most recent call last)",
      "\u001b[0;32m<ipython-input-5-e70138d57952>\u001b[0m in \u001b[0;36m<module>\u001b[0;34m\u001b[0m\n\u001b[0;32m----> 1\u001b[0;31m \u001b[0mdg\u001b[0m \u001b[0;34m=\u001b[0m \u001b[0mpd\u001b[0m\u001b[0;34m.\u001b[0m\u001b[0mread_hdf\u001b[0m\u001b[0;34m(\u001b[0m\u001b[0;34m'train.h5'\u001b[0m\u001b[0;34m,\u001b[0m \u001b[0;34m'table'\u001b[0m\u001b[0;34m)\u001b[0m\u001b[0;34m\u001b[0m\u001b[0;34m\u001b[0m\u001b[0m\n\u001b[0m",
      "\u001b[0;31mNameError\u001b[0m: name 'pd' is not defined"
     ]
    }
   ],
   "source": [
    "dg = pd.read_hdf('train.h5', 'table')"
   ]
  },
  {
   "cell_type": "code",
   "execution_count": 6,
   "metadata": {},
   "outputs": [
    {
     "ename": "NameError",
     "evalue": "name 'dg' is not defined",
     "output_type": "error",
     "traceback": [
      "\u001b[0;31m---------------------------------------------------------------------------\u001b[0m",
      "\u001b[0;31mNameError\u001b[0m                                 Traceback (most recent call last)",
      "\u001b[0;32m<ipython-input-6-41d808eb4aa0>\u001b[0m in \u001b[0;36m<module>\u001b[0;34m\u001b[0m\n\u001b[0;32m----> 1\u001b[0;31m \u001b[0my_train\u001b[0m \u001b[0;34m=\u001b[0m \u001b[0mdg\u001b[0m\u001b[0;34m[\u001b[0m\u001b[0;34m'is_signal_new'\u001b[0m\u001b[0;34m]\u001b[0m\u001b[0;34m.\u001b[0m\u001b[0mto_numpy\u001b[0m\u001b[0;34m(\u001b[0m\u001b[0;34m)\u001b[0m\u001b[0;34m\u001b[0m\u001b[0;34m\u001b[0m\u001b[0m\n\u001b[0m",
      "\u001b[0;31mNameError\u001b[0m: name 'dg' is not defined"
     ]
    }
   ],
   "source": [
    "y_train = dg['is_signal_new'].to_numpy()"
   ]
  },
  {
   "cell_type": "code",
   "execution_count": 2,
   "metadata": {},
   "outputs": [
    {
     "ename": "NameError",
     "evalue": "name 'dg' is not defined",
     "output_type": "error",
     "traceback": [
      "\u001b[0;31m---------------------------------------------------------------------------\u001b[0m",
      "\u001b[0;31mNameError\u001b[0m                                 Traceback (most recent call last)",
      "\u001b[0;32m<ipython-input-2-f37d1f089ca9>\u001b[0m in \u001b[0;36m<module>\u001b[0;34m\u001b[0m\n\u001b[0;32m----> 1\u001b[0;31m \u001b[0mdg\u001b[0m \u001b[0;34m=\u001b[0m \u001b[0mdg\u001b[0m\u001b[0;34m.\u001b[0m\u001b[0mdrop\u001b[0m\u001b[0;34m(\u001b[0m\u001b[0;34m[\u001b[0m\u001b[0;34m'ttv'\u001b[0m\u001b[0;34m,\u001b[0m \u001b[0;34m'truthE'\u001b[0m\u001b[0;34m,\u001b[0m \u001b[0;34m'truthPX'\u001b[0m\u001b[0;34m,\u001b[0m \u001b[0;34m'truthPY'\u001b[0m\u001b[0;34m,\u001b[0m \u001b[0;34m'truthPZ'\u001b[0m\u001b[0;34m]\u001b[0m\u001b[0;34m,\u001b[0m \u001b[0maxis\u001b[0m \u001b[0;34m=\u001b[0m \u001b[0;36m1\u001b[0m\u001b[0;34m)\u001b[0m\u001b[0;34m\u001b[0m\u001b[0;34m\u001b[0m\u001b[0m\n\u001b[0m",
      "\u001b[0;31mNameError\u001b[0m: name 'dg' is not defined"
     ]
    }
   ],
   "source": [
    "dg = dg.drop(['ttv', 'truthE', 'truthPX', 'truthPY', 'truthPZ'], axis = 1)"
   ]
  },
  {
   "cell_type": "code",
   "execution_count": 3,
   "metadata": {},
   "outputs": [
    {
     "ename": "NameError",
     "evalue": "name 'dg' is not defined",
     "output_type": "error",
     "traceback": [
      "\u001b[0;31m---------------------------------------------------------------------------\u001b[0m",
      "\u001b[0;31mNameError\u001b[0m                                 Traceback (most recent call last)",
      "\u001b[0;32m<ipython-input-3-65cd73e0d787>\u001b[0m in \u001b[0;36m<module>\u001b[0;34m\u001b[0m\n\u001b[0;32m----> 1\u001b[0;31m \u001b[0mdg\u001b[0m \u001b[0;34m=\u001b[0m \u001b[0mdg\u001b[0m\u001b[0;34m.\u001b[0m\u001b[0mdrop\u001b[0m\u001b[0;34m(\u001b[0m\u001b[0;34m[\u001b[0m\u001b[0;34m'is_signal_new'\u001b[0m\u001b[0;34m]\u001b[0m\u001b[0;34m,\u001b[0m \u001b[0maxis\u001b[0m \u001b[0;34m=\u001b[0m \u001b[0;36m1\u001b[0m\u001b[0;34m)\u001b[0m\u001b[0;34m\u001b[0m\u001b[0;34m\u001b[0m\u001b[0m\n\u001b[0m",
      "\u001b[0;31mNameError\u001b[0m: name 'dg' is not defined"
     ]
    }
   ],
   "source": [
    "dg = dg.drop(['is_signal_new'], axis = 1)"
   ]
  },
  {
   "cell_type": "code",
   "execution_count": 4,
   "metadata": {},
   "outputs": [
    {
     "ename": "NameError",
     "evalue": "name 'dg' is not defined",
     "output_type": "error",
     "traceback": [
      "\u001b[0;31m---------------------------------------------------------------------------\u001b[0m",
      "\u001b[0;31mNameError\u001b[0m                                 Traceback (most recent call last)",
      "\u001b[0;32m<ipython-input-4-bbd351b232b3>\u001b[0m in \u001b[0;36m<module>\u001b[0;34m\u001b[0m\n\u001b[0;32m----> 1\u001b[0;31m \u001b[0mX_train\u001b[0m \u001b[0;34m=\u001b[0m \u001b[0mdg\u001b[0m\u001b[0;34m.\u001b[0m\u001b[0mto_numpy\u001b[0m\u001b[0;34m(\u001b[0m\u001b[0;34m)\u001b[0m\u001b[0;34m\u001b[0m\u001b[0;34m\u001b[0m\u001b[0m\n\u001b[0m",
      "\u001b[0;31mNameError\u001b[0m: name 'dg' is not defined"
     ]
    }
   ],
   "source": [
    "X_train = dg.to_numpy()"
   ]
  },
  {
   "cell_type": "code",
   "execution_count": 48,
   "metadata": {},
   "outputs": [
    {
     "name": "stdout",
     "output_type": "stream",
     "text": [
      "Model: \"model_5\"\n",
      "_________________________________________________________________\n",
      "Layer (type)                 Output Shape              Param #   \n",
      "=================================================================\n",
      "input_6 (InputLayer)         [(None, 800)]             0         \n",
      "_________________________________________________________________\n",
      "fc1_relu (Dense)             (None, 64)                51264     \n",
      "_________________________________________________________________\n",
      "fc2 (Dense)                  (None, 32)                2080      \n",
      "_________________________________________________________________\n",
      "fc3 (Dense)                  (None, 32)                1056      \n",
      "_________________________________________________________________\n",
      "fc4 (Dense)                  (None, 32)                1056      \n",
      "_________________________________________________________________\n",
      "output_sigmoid (Dense)       (None, 1)                 33        \n",
      "=================================================================\n",
      "Total params: 55,489\n",
      "Trainable params: 55,489\n",
      "Non-trainable params: 0\n",
      "_________________________________________________________________\n"
     ]
    }
   ],
   "source": [
    "Inputs = Input(shape=(800))\n",
    "x = Dense(64, activation='relu', kernel_initializer='lecun_uniform', name='fc1_relu')(Inputs)\n",
    "y = Dense(32, activation='relu', kernel_initializer='lecun_uniform', name = 'fc2')(x)\n",
    "z = Dense(32, activation='relu', kernel_initializer='lecun_uniform', name = 'fc3')(y)\n",
    "a = Dense(32, activation='relu', kernel_initializer='lecun_uniform', name='fc4')(z)\n",
    "predictions = Dense(1, activation='sigmoid', kernel_initializer='lecun_uniform', name = 'output_sigmoid')(a)\n",
    "model = Model(inputs=Inputs, outputs=predictions)\n",
    "model.summary()"
   ]
  },
  {
   "cell_type": "code",
   "execution_count": 49,
   "metadata": {},
   "outputs": [],
   "source": [
    "adam = Adam(lr=0.0001)\n",
    "model.compile(optimizer=adam, loss='binary_crossentropy', metrics=['accuracy'])"
   ]
  },
  {
   "cell_type": "code",
   "execution_count": 50,
   "metadata": {},
   "outputs": [
    {
     "data": {
      "text/plain": [
       "array([[ 474.07114 , -250.34703 , -223.65196 , ...,    0.      ,\n",
       "           0.      ,    0.      ],\n",
       "       [ 150.50453 ,  120.06239 ,   76.852005, ...,    0.      ,\n",
       "           0.      ,    0.      ],\n",
       "       [ 251.64539 ,   10.427651, -147.57375 , ...,    0.      ,\n",
       "           0.      ,    0.      ],\n",
       "       ...,\n",
       "       [  61.417538,   42.90129 ,   43.947723, ...,    0.      ,\n",
       "           0.      ,    0.      ],\n",
       "       [ 261.2153  ,   12.780115, -132.6992  , ...,    0.      ,\n",
       "           0.      ,    0.      ],\n",
       "       [ 221.00002 ,  -32.45829 , -127.960335, ...,    0.      ,\n",
       "           0.      ,    0.      ]], dtype=float32)"
      ]
     },
     "execution_count": 50,
     "metadata": {},
     "output_type": "execute_result"
    }
   ],
   "source": [
    "X_train"
   ]
  },
  {
   "cell_type": "code",
   "execution_count": 51,
   "metadata": {},
   "outputs": [
    {
     "name": "stdout",
     "output_type": "stream",
     "text": [
      "Epoch 1/100\n",
      "887/887 [==============================] - 9s 10ms/step - loss: 0.5731 - accuracy: 0.6943 - val_loss: 0.5410 - val_accuracy: 0.7147\n",
      "Epoch 2/100\n",
      "887/887 [==============================] - 8s 9ms/step - loss: 0.5309 - accuracy: 0.7199 - val_loss: 0.5252 - val_accuracy: 0.7244\n",
      "Epoch 3/100\n",
      "887/887 [==============================] - 7s 8ms/step - loss: 0.5139 - accuracy: 0.7320 - val_loss: 0.5060 - val_accuracy: 0.7386\n",
      "Epoch 4/100\n",
      "887/887 [==============================] - 7s 8ms/step - loss: 0.4952 - accuracy: 0.7473 - val_loss: 0.4897 - val_accuracy: 0.7523\n",
      "Epoch 5/100\n",
      "887/887 [==============================] - 7s 7ms/step - loss: 0.4778 - accuracy: 0.7636 - val_loss: 0.4740 - val_accuracy: 0.7698\n",
      "Epoch 6/100\n",
      "887/887 [==============================] - 6s 7ms/step - loss: 0.4626 - accuracy: 0.7780 - val_loss: 0.4630 - val_accuracy: 0.7790\n",
      "Epoch 7/100\n",
      "887/887 [==============================] - 7s 8ms/step - loss: 0.4498 - accuracy: 0.7899 - val_loss: 0.4465 - val_accuracy: 0.7951\n",
      "Epoch 8/100\n",
      "887/887 [==============================] - 7s 8ms/step - loss: 0.4387 - accuracy: 0.7994 - val_loss: 0.4396 - val_accuracy: 0.8002\n",
      "Epoch 9/100\n",
      "887/887 [==============================] - 7s 8ms/step - loss: 0.4293 - accuracy: 0.8064 - val_loss: 0.4322 - val_accuracy: 0.8044\n",
      "Epoch 10/100\n",
      "887/887 [==============================] - 7s 8ms/step - loss: 0.4210 - accuracy: 0.8122 - val_loss: 0.4223 - val_accuracy: 0.8135\n",
      "Epoch 11/100\n",
      "887/887 [==============================] - 7s 7ms/step - loss: 0.4132 - accuracy: 0.8183 - val_loss: 0.4237 - val_accuracy: 0.8097\n",
      "Epoch 12/100\n",
      "887/887 [==============================] - 7s 8ms/step - loss: 0.4068 - accuracy: 0.8221 - val_loss: 0.4101 - val_accuracy: 0.8200\n",
      "Epoch 13/100\n",
      "887/887 [==============================] - 7s 8ms/step - loss: 0.4002 - accuracy: 0.8262 - val_loss: 0.4044 - val_accuracy: 0.8229\n",
      "Epoch 14/100\n",
      "887/887 [==============================] - 7s 7ms/step - loss: 0.3933 - accuracy: 0.8301 - val_loss: 0.3954 - val_accuracy: 0.8286\n",
      "Epoch 15/100\n",
      "887/887 [==============================] - 7s 8ms/step - loss: 0.3874 - accuracy: 0.8330 - val_loss: 0.3890 - val_accuracy: 0.8324\n",
      "Epoch 16/100\n",
      "887/887 [==============================] - 7s 8ms/step - loss: 0.3817 - accuracy: 0.8365 - val_loss: 0.3863 - val_accuracy: 0.8329\n",
      "Epoch 17/100\n",
      "887/887 [==============================] - 7s 8ms/step - loss: 0.3763 - accuracy: 0.8394 - val_loss: 0.3792 - val_accuracy: 0.8384\n",
      "Epoch 18/100\n",
      "887/887 [==============================] - 8s 9ms/step - loss: 0.3711 - accuracy: 0.8423 - val_loss: 0.3761 - val_accuracy: 0.8389\n",
      "Epoch 19/100\n",
      "887/887 [==============================] - 7s 8ms/step - loss: 0.3668 - accuracy: 0.8443 - val_loss: 0.3706 - val_accuracy: 0.8423\n",
      "Epoch 20/100\n",
      "887/887 [==============================] - 7s 8ms/step - loss: 0.3621 - accuracy: 0.8467 - val_loss: 0.3659 - val_accuracy: 0.8450\n",
      "Epoch 21/100\n",
      "887/887 [==============================] - 7s 8ms/step - loss: 0.3587 - accuracy: 0.8484 - val_loss: 0.3649 - val_accuracy: 0.8451\n",
      "Epoch 22/100\n",
      "887/887 [==============================] - 7s 8ms/step - loss: 0.3549 - accuracy: 0.8504 - val_loss: 0.3796 - val_accuracy: 0.8355\n",
      "Epoch 23/100\n",
      "887/887 [==============================] - 7s 8ms/step - loss: 0.3509 - accuracy: 0.8521 - val_loss: 0.3619 - val_accuracy: 0.8457\n",
      "Epoch 24/100\n",
      "887/887 [==============================] - 7s 8ms/step - loss: 0.3475 - accuracy: 0.8539 - val_loss: 0.3521 - val_accuracy: 0.8518\n",
      "Epoch 25/100\n",
      "887/887 [==============================] - 7s 8ms/step - loss: 0.3441 - accuracy: 0.8557 - val_loss: 0.3607 - val_accuracy: 0.8455\n",
      "Epoch 26/100\n",
      "887/887 [==============================] - 7s 8ms/step - loss: 0.3410 - accuracy: 0.8576 - val_loss: 0.3477 - val_accuracy: 0.8533\n",
      "Epoch 27/100\n",
      "887/887 [==============================] - 7s 8ms/step - loss: 0.3384 - accuracy: 0.8587 - val_loss: 0.3421 - val_accuracy: 0.8566\n",
      "Epoch 28/100\n",
      "887/887 [==============================] - 7s 8ms/step - loss: 0.3357 - accuracy: 0.8599 - val_loss: 0.3410 - val_accuracy: 0.8571\n",
      "Epoch 29/100\n",
      "887/887 [==============================] - 7s 8ms/step - loss: 0.3326 - accuracy: 0.8617 - val_loss: 0.3419 - val_accuracy: 0.8565\n",
      "Epoch 30/100\n",
      "887/887 [==============================] - 7s 8ms/step - loss: 0.3304 - accuracy: 0.8626 - val_loss: 0.3395 - val_accuracy: 0.8567\n",
      "Epoch 31/100\n",
      "887/887 [==============================] - 7s 8ms/step - loss: 0.3286 - accuracy: 0.8635 - val_loss: 0.3365 - val_accuracy: 0.8584\n",
      "Epoch 32/100\n",
      "887/887 [==============================] - 7s 8ms/step - loss: 0.3262 - accuracy: 0.8647 - val_loss: 0.3322 - val_accuracy: 0.8610\n",
      "Epoch 33/100\n",
      "887/887 [==============================] - 7s 8ms/step - loss: 0.3246 - accuracy: 0.8651 - val_loss: 0.3322 - val_accuracy: 0.8615\n",
      "Epoch 34/100\n",
      "887/887 [==============================] - 7s 8ms/step - loss: 0.3225 - accuracy: 0.8664 - val_loss: 0.3302 - val_accuracy: 0.8622\n",
      "Epoch 35/100\n",
      "887/887 [==============================] - 7s 8ms/step - loss: 0.3211 - accuracy: 0.8668 - val_loss: 0.3271 - val_accuracy: 0.8637\n",
      "Epoch 36/100\n",
      "887/887 [==============================] - 7s 8ms/step - loss: 0.3187 - accuracy: 0.8682 - val_loss: 0.3330 - val_accuracy: 0.8593\n",
      "Epoch 37/100\n",
      "887/887 [==============================] - 7s 8ms/step - loss: 0.3176 - accuracy: 0.8689 - val_loss: 0.3395 - val_accuracy: 0.8571\n",
      "Epoch 38/100\n",
      "887/887 [==============================] - 8s 9ms/step - loss: 0.3160 - accuracy: 0.8696 - val_loss: 0.3201 - val_accuracy: 0.8674\n",
      "Epoch 39/100\n",
      "887/887 [==============================] - 7s 8ms/step - loss: 0.3150 - accuracy: 0.8702 - val_loss: 0.3253 - val_accuracy: 0.8640\n",
      "Epoch 40/100\n",
      "887/887 [==============================] - 7s 8ms/step - loss: 0.3137 - accuracy: 0.8708 - val_loss: 0.3217 - val_accuracy: 0.8667\n",
      "Epoch 41/100\n",
      "887/887 [==============================] - 8s 9ms/step - loss: 0.3115 - accuracy: 0.8721 - val_loss: 0.3187 - val_accuracy: 0.8684\n",
      "Epoch 42/100\n",
      "887/887 [==============================] - 8s 9ms/step - loss: 0.3107 - accuracy: 0.8722 - val_loss: 0.3228 - val_accuracy: 0.8662\n",
      "Epoch 43/100\n",
      "887/887 [==============================] - 8s 9ms/step - loss: 0.3096 - accuracy: 0.8726 - val_loss: 0.3220 - val_accuracy: 0.8656\n",
      "Epoch 44/100\n",
      "887/887 [==============================] - 7s 8ms/step - loss: 0.3089 - accuracy: 0.8732 - val_loss: 0.3296 - val_accuracy: 0.8628\n",
      "Epoch 45/100\n",
      "887/887 [==============================] - 8s 9ms/step - loss: 0.3076 - accuracy: 0.8739 - val_loss: 0.3205 - val_accuracy: 0.8664\n",
      "Epoch 46/100\n",
      "887/887 [==============================] - 7s 8ms/step - loss: 0.3069 - accuracy: 0.8740 - val_loss: 0.3131 - val_accuracy: 0.8719\n",
      "Epoch 47/100\n",
      "887/887 [==============================] - 7s 8ms/step - loss: 0.3058 - accuracy: 0.8748 - val_loss: 0.3112 - val_accuracy: 0.8723\n",
      "Epoch 48/100\n",
      "887/887 [==============================] - 8s 9ms/step - loss: 0.3045 - accuracy: 0.8755 - val_loss: 0.3173 - val_accuracy: 0.8685\n",
      "Epoch 49/100\n",
      "887/887 [==============================] - 7s 8ms/step - loss: 0.3044 - accuracy: 0.8756 - val_loss: 0.3131 - val_accuracy: 0.8712\n",
      "Epoch 50/100\n",
      "887/887 [==============================] - 7s 8ms/step - loss: 0.3033 - accuracy: 0.8760 - val_loss: 0.3089 - val_accuracy: 0.8732\n",
      "Epoch 51/100\n",
      "887/887 [==============================] - 7s 8ms/step - loss: 0.3021 - accuracy: 0.8765 - val_loss: 0.3098 - val_accuracy: 0.8727\n",
      "Epoch 52/100\n",
      "887/887 [==============================] - 7s 8ms/step - loss: 0.3010 - accuracy: 0.8771 - val_loss: 0.3215 - val_accuracy: 0.8662\n",
      "Epoch 53/100\n",
      "887/887 [==============================] - 7s 8ms/step - loss: 0.2999 - accuracy: 0.8775 - val_loss: 0.3058 - val_accuracy: 0.8748\n",
      "Epoch 54/100\n",
      "887/887 [==============================] - 7s 8ms/step - loss: 0.2996 - accuracy: 0.8777 - val_loss: 0.3067 - val_accuracy: 0.8753\n",
      "Epoch 55/100\n",
      "887/887 [==============================] - 7s 8ms/step - loss: 0.2980 - accuracy: 0.8787 - val_loss: 0.3135 - val_accuracy: 0.8707\n",
      "Epoch 56/100\n",
      "887/887 [==============================] - 7s 8ms/step - loss: 0.2983 - accuracy: 0.8783 - val_loss: 0.3072 - val_accuracy: 0.8743\n",
      "Epoch 57/100\n",
      "887/887 [==============================] - 7s 8ms/step - loss: 0.2969 - accuracy: 0.8791 - val_loss: 0.3039 - val_accuracy: 0.8761\n",
      "Epoch 58/100\n",
      "887/887 [==============================] - 7s 8ms/step - loss: 0.2963 - accuracy: 0.8793 - val_loss: 0.3106 - val_accuracy: 0.8737\n",
      "Epoch 59/100\n",
      "887/887 [==============================] - 7s 8ms/step - loss: 0.2970 - accuracy: 0.8787 - val_loss: 0.3097 - val_accuracy: 0.8728\n",
      "Epoch 60/100\n",
      "887/887 [==============================] - 7s 8ms/step - loss: 0.2952 - accuracy: 0.8798 - val_loss: 0.3015 - val_accuracy: 0.8772\n",
      "Epoch 61/100\n",
      "887/887 [==============================] - 7s 8ms/step - loss: 0.2946 - accuracy: 0.8803 - val_loss: 0.3023 - val_accuracy: 0.8771\n",
      "Epoch 62/100\n",
      "887/887 [==============================] - 7s 8ms/step - loss: 0.2938 - accuracy: 0.8804 - val_loss: 0.3047 - val_accuracy: 0.8749\n",
      "Epoch 63/100\n",
      "887/887 [==============================] - 7s 8ms/step - loss: 0.2939 - accuracy: 0.8802 - val_loss: 0.3068 - val_accuracy: 0.8741\n",
      "Epoch 64/100\n",
      "887/887 [==============================] - 7s 8ms/step - loss: 0.2928 - accuracy: 0.8811 - val_loss: 0.2980 - val_accuracy: 0.8791\n",
      "Epoch 65/100\n",
      "887/887 [==============================] - 7s 8ms/step - loss: 0.2923 - accuracy: 0.8812 - val_loss: 0.3034 - val_accuracy: 0.8755\n",
      "Epoch 66/100\n",
      "887/887 [==============================] - 7s 8ms/step - loss: 0.2915 - accuracy: 0.8816 - val_loss: 0.3007 - val_accuracy: 0.8781\n",
      "Epoch 67/100\n",
      "887/887 [==============================] - 7s 8ms/step - loss: 0.2924 - accuracy: 0.8810 - val_loss: 0.3012 - val_accuracy: 0.8775\n",
      "Epoch 68/100\n",
      "887/887 [==============================] - 7s 8ms/step - loss: 0.2908 - accuracy: 0.8819 - val_loss: 0.2994 - val_accuracy: 0.8786\n",
      "Epoch 69/100\n",
      "887/887 [==============================] - 7s 8ms/step - loss: 0.2895 - accuracy: 0.8827 - val_loss: 0.2963 - val_accuracy: 0.8798\n",
      "Epoch 70/100\n",
      "887/887 [==============================] - 7s 8ms/step - loss: 0.2904 - accuracy: 0.8821 - val_loss: 0.3008 - val_accuracy: 0.8774\n",
      "Epoch 71/100\n",
      "887/887 [==============================] - 7s 8ms/step - loss: 0.2893 - accuracy: 0.8829 - val_loss: 0.2995 - val_accuracy: 0.8770\n",
      "Epoch 72/100\n",
      "887/887 [==============================] - 7s 8ms/step - loss: 0.2888 - accuracy: 0.8827 - val_loss: 0.2982 - val_accuracy: 0.8782\n",
      "Epoch 73/100\n",
      "887/887 [==============================] - 7s 8ms/step - loss: 0.2883 - accuracy: 0.8832 - val_loss: 0.2965 - val_accuracy: 0.8800\n",
      "Epoch 74/100\n",
      "887/887 [==============================] - 7s 8ms/step - loss: 0.2876 - accuracy: 0.8836 - val_loss: 0.3000 - val_accuracy: 0.8780\n",
      "Epoch 75/100\n",
      "887/887 [==============================] - 7s 8ms/step - loss: 0.2884 - accuracy: 0.8829 - val_loss: 0.3126 - val_accuracy: 0.8707\n",
      "Epoch 76/100\n",
      "887/887 [==============================] - 7s 8ms/step - loss: 0.2867 - accuracy: 0.8839 - val_loss: 0.2939 - val_accuracy: 0.8804\n",
      "Epoch 77/100\n",
      "887/887 [==============================] - 7s 8ms/step - loss: 0.2864 - accuracy: 0.8840 - val_loss: 0.3029 - val_accuracy: 0.8761\n",
      "Epoch 78/100\n",
      "887/887 [==============================] - 7s 8ms/step - loss: 0.2870 - accuracy: 0.8837 - val_loss: 0.3016 - val_accuracy: 0.8767\n",
      "Epoch 79/100\n",
      "887/887 [==============================] - 8s 8ms/step - loss: 0.2862 - accuracy: 0.8841 - val_loss: 0.2962 - val_accuracy: 0.8796\n",
      "Epoch 80/100\n",
      "887/887 [==============================] - 7s 8ms/step - loss: 0.2855 - accuracy: 0.8844 - val_loss: 0.2956 - val_accuracy: 0.8794\n",
      "Epoch 81/100\n",
      "887/887 [==============================] - 7s 8ms/step - loss: 0.2855 - accuracy: 0.8846 - val_loss: 0.2942 - val_accuracy: 0.8804\n",
      "Epoch 82/100\n",
      "887/887 [==============================] - 7s 8ms/step - loss: 0.2857 - accuracy: 0.8841 - val_loss: 0.2927 - val_accuracy: 0.8822\n",
      "Epoch 83/100\n",
      "887/887 [==============================] - 7s 8ms/step - loss: 0.2847 - accuracy: 0.8848 - val_loss: 0.2944 - val_accuracy: 0.8813\n",
      "Epoch 84/100\n",
      "887/887 [==============================] - 8s 9ms/step - loss: 0.2839 - accuracy: 0.8852 - val_loss: 0.2934 - val_accuracy: 0.8812\n",
      "Epoch 85/100\n",
      "887/887 [==============================] - 7s 8ms/step - loss: 0.2851 - accuracy: 0.8845 - val_loss: 0.3014 - val_accuracy: 0.8765\n",
      "Epoch 86/100\n",
      "887/887 [==============================] - 7s 8ms/step - loss: 0.2830 - accuracy: 0.8857 - val_loss: 0.2942 - val_accuracy: 0.8804\n",
      "Epoch 87/100\n",
      "887/887 [==============================] - 8s 9ms/step - loss: 0.2833 - accuracy: 0.8855 - val_loss: 0.2952 - val_accuracy: 0.8799\n",
      "Epoch 88/100\n",
      "887/887 [==============================] - 8s 9ms/step - loss: 0.2842 - accuracy: 0.8848 - val_loss: 0.2956 - val_accuracy: 0.8806\n",
      "Epoch 89/100\n",
      "887/887 [==============================] - 8s 9ms/step - loss: 0.2835 - accuracy: 0.8852 - val_loss: 0.2905 - val_accuracy: 0.8827\n",
      "Epoch 90/100\n",
      "887/887 [==============================] - 7s 8ms/step - loss: 0.2820 - accuracy: 0.8859 - val_loss: 0.2923 - val_accuracy: 0.8820\n",
      "Epoch 91/100\n",
      "887/887 [==============================] - 7s 8ms/step - loss: 0.2824 - accuracy: 0.8857 - val_loss: 0.2911 - val_accuracy: 0.8817\n",
      "Epoch 92/100\n",
      "887/887 [==============================] - 7s 8ms/step - loss: 0.2818 - accuracy: 0.8859 - val_loss: 0.2949 - val_accuracy: 0.8802\n",
      "Epoch 93/100\n",
      "887/887 [==============================] - 7s 8ms/step - loss: 0.2828 - accuracy: 0.8855 - val_loss: 0.2978 - val_accuracy: 0.8784\n",
      "Epoch 94/100\n",
      "887/887 [==============================] - 7s 8ms/step - loss: 0.2811 - accuracy: 0.8866 - val_loss: 0.2917 - val_accuracy: 0.8817\n",
      "Epoch 95/100\n",
      "887/887 [==============================] - 8s 9ms/step - loss: 0.2814 - accuracy: 0.8864 - val_loss: 0.2952 - val_accuracy: 0.8803\n",
      "Epoch 96/100\n",
      "887/887 [==============================] - 8s 9ms/step - loss: 0.2813 - accuracy: 0.8866 - val_loss: 0.2918 - val_accuracy: 0.8821\n",
      "Epoch 97/100\n",
      "887/887 [==============================] - 7s 8ms/step - loss: 0.2806 - accuracy: 0.8866 - val_loss: 0.2933 - val_accuracy: 0.8809\n",
      "Epoch 98/100\n",
      "887/887 [==============================] - 7s 8ms/step - loss: 0.2805 - accuracy: 0.8868 - val_loss: 0.2985 - val_accuracy: 0.8781\n",
      "Epoch 99/100\n",
      "887/887 [==============================] - 7s 8ms/step - loss: 0.2802 - accuracy: 0.8868 - val_loss: 0.2970 - val_accuracy: 0.8786\n",
      "Epoch 100/100\n",
      "887/887 [==============================] - 7s 8ms/step - loss: 0.2796 - accuracy: 0.8869 - val_loss: 0.2928 - val_accuracy: 0.8814\n"
     ]
    }
   ],
   "source": [
    "history = model.fit(X_train, y_train, batch_size = 1024, epochs = 100, \n",
    "                    validation_split = 0.25, shuffle = True, callbacks = None,\n",
    "                    use_multiprocessing=True, workers=4)"
   ]
  },
  {
   "cell_type": "code",
   "execution_count": 52,
   "metadata": {},
   "outputs": [],
   "source": [
    "import matplotlib.pyplot as plt"
   ]
  },
  {
   "cell_type": "code",
   "execution_count": 53,
   "metadata": {},
   "outputs": [],
   "source": [
    "def learningCurve(history):\n",
    "    plt.figure(figsize=(10,8))\n",
    "    plt.plot(history.history['loss'], linewidth=1)\n",
    "    plt.plot(history.history['val_loss'], linewidth=1)\n",
    "    plt.title('Model Loss over Epochs')\n",
    "    plt.ylabel('Loss')\n",
    "    plt.xlabel('Epoch')\n",
    "    plt.legend(['training sample loss','validation sample loss'])\n",
    "    #plt.savefig('Learning_curve.pdf')\n",
    "    plt.show()\n",
    "    plt.close()"
   ]
  },
  {
   "cell_type": "code",
   "execution_count": 54,
   "metadata": {},
   "outputs": [
    {
     "data": {
      "image/png": "[encoded data removed]",
      "text/plain": [
       "<Figure size 720x576 with 1 Axes>"
      ]
     },
     "metadata": {
      "needs_background": "light"
     },
     "output_type": "display_data"
    }
   ],
   "source": [
    "learningCurve(history)"
   ]
  },
  {
   "cell_type": "code",
   "execution_count": 55,
   "metadata": {},
   "outputs": [],
   "source": [
    "labels = ['top']"
   ]
  },
  {
   "cell_type": "code",
   "execution_count": 58,
   "metadata": {},
   "outputs": [
    {
     "ename": "TypeError",
     "evalue": "cannot create a storer if the object is not existing nor a value are passed",
     "output_type": "error",
     "traceback": [
      "\u001b[0;31m---------------------------------------------------------------------------\u001b[0m",
      "\u001b[0;31mTypeError\u001b[0m                                 Traceback (most recent call last)",
      "\u001b[0;32m<ipython-input-58-620b54701e14>\u001b[0m in \u001b[0;36m<module>\u001b[0;34m\u001b[0m\n\u001b[0;32m----> 1\u001b[0;31m \u001b[0mdg\u001b[0m \u001b[0;34m=\u001b[0m \u001b[0mpd\u001b[0m\u001b[0;34m.\u001b[0m\u001b[0mread_hdf\u001b[0m\u001b[0;34m(\u001b[0m\u001b[0;34m'test.h5'\u001b[0m\u001b[0;34m,\u001b[0m \u001b[0;34m'table'\u001b[0m\u001b[0;34m)\u001b[0m\u001b[0;34m\u001b[0m\u001b[0;34m\u001b[0m\u001b[0m\n\u001b[0m\u001b[1;32m      2\u001b[0m \u001b[0;34m\u001b[0m\u001b[0m\n\u001b[1;32m      3\u001b[0m \u001b[0my_test\u001b[0m \u001b[0;34m=\u001b[0m \u001b[0mdg\u001b[0m\u001b[0;34m[\u001b[0m\u001b[0;34m'is_signal_new'\u001b[0m\u001b[0;34m]\u001b[0m\u001b[0;34m.\u001b[0m\u001b[0mto_numpy\u001b[0m\u001b[0;34m(\u001b[0m\u001b[0;34m)\u001b[0m\u001b[0;34m\u001b[0m\u001b[0;34m\u001b[0m\u001b[0m\n\u001b[1;32m      4\u001b[0m \u001b[0;34m\u001b[0m\u001b[0m\n\u001b[1;32m      5\u001b[0m \u001b[0mdg\u001b[0m \u001b[0;34m=\u001b[0m \u001b[0mdg\u001b[0m\u001b[0;34m.\u001b[0m\u001b[0mdrop\u001b[0m\u001b[0;34m(\u001b[0m\u001b[0;34m[\u001b[0m\u001b[0;34m'ttv'\u001b[0m\u001b[0;34m,\u001b[0m \u001b[0;34m'truthE'\u001b[0m\u001b[0;34m,\u001b[0m \u001b[0;34m'truthPX'\u001b[0m\u001b[0;34m,\u001b[0m \u001b[0;34m'truthPY'\u001b[0m\u001b[0;34m,\u001b[0m \u001b[0;34m'truthPZ'\u001b[0m\u001b[0;34m]\u001b[0m\u001b[0;34m,\u001b[0m \u001b[0maxis\u001b[0m \u001b[0;34m=\u001b[0m \u001b[0;36m1\u001b[0m\u001b[0;34m)\u001b[0m\u001b[0;34m\u001b[0m\u001b[0;34m\u001b[0m\u001b[0m\n",
      "\u001b[0;32m~/anaconda3/envs/tfgpu/lib/python3.6/site-packages/pandas/io/pytables.py\u001b[0m in \u001b[0;36mread_hdf\u001b[0;34m(path_or_buf, key, mode, errors, where, start, stop, columns, iterator, chunksize, **kwargs)\u001b[0m\n\u001b[1;32m    413\u001b[0m             \u001b[0miterator\u001b[0m\u001b[0;34m=\u001b[0m\u001b[0miterator\u001b[0m\u001b[0;34m,\u001b[0m\u001b[0;34m\u001b[0m\u001b[0;34m\u001b[0m\u001b[0m\n\u001b[1;32m    414\u001b[0m             \u001b[0mchunksize\u001b[0m\u001b[0;34m=\u001b[0m\u001b[0mchunksize\u001b[0m\u001b[0;34m,\u001b[0m\u001b[0;34m\u001b[0m\u001b[0;34m\u001b[0m\u001b[0m\n\u001b[0;32m--> 415\u001b[0;31m             \u001b[0mauto_close\u001b[0m\u001b[0;34m=\u001b[0m\u001b[0mauto_close\u001b[0m\u001b[0;34m,\u001b[0m\u001b[0;34m\u001b[0m\u001b[0;34m\u001b[0m\u001b[0m\n\u001b[0m\u001b[1;32m    416\u001b[0m         )\n\u001b[1;32m    417\u001b[0m     \u001b[0;32mexcept\u001b[0m \u001b[0;34m(\u001b[0m\u001b[0mValueError\u001b[0m\u001b[0;34m,\u001b[0m \u001b[0mTypeError\u001b[0m\u001b[0;34m,\u001b[0m \u001b[0mKeyError\u001b[0m\u001b[0;34m)\u001b[0m\u001b[0;34m:\u001b[0m\u001b[0;34m\u001b[0m\u001b[0;34m\u001b[0m\u001b[0m\n",
      "\u001b[0;32m~/anaconda3/envs/tfgpu/lib/python3.6/site-packages/pandas/io/pytables.py\u001b[0m in \u001b[0;36mselect\u001b[0;34m(self, key, where, start, stop, columns, iterator, chunksize, auto_close)\u001b[0m\n\u001b[1;32m    820\u001b[0m         \u001b[0;31m# create the storer and axes\u001b[0m\u001b[0;34m\u001b[0m\u001b[0;34m\u001b[0m\u001b[0;34m\u001b[0m\u001b[0m\n\u001b[1;32m    821\u001b[0m         \u001b[0mwhere\u001b[0m \u001b[0;34m=\u001b[0m \u001b[0m_ensure_term\u001b[0m\u001b[0;34m(\u001b[0m\u001b[0mwhere\u001b[0m\u001b[0;34m,\u001b[0m \u001b[0mscope_level\u001b[0m\u001b[0;34m=\u001b[0m\u001b[0;36m1\u001b[0m\u001b[0;34m)\u001b[0m\u001b[0;34m\u001b[0m\u001b[0;34m\u001b[0m\u001b[0m\n\u001b[0;32m--> 822\u001b[0;31m         \u001b[0ms\u001b[0m \u001b[0;34m=\u001b[0m \u001b[0mself\u001b[0m\u001b[0;34m.\u001b[0m\u001b[0m_create_storer\u001b[0m\u001b[0;34m(\u001b[0m\u001b[0mgroup\u001b[0m\u001b[0;34m)\u001b[0m\u001b[0;34m\u001b[0m\u001b[0;34m\u001b[0m\u001b[0m\n\u001b[0m\u001b[1;32m    823\u001b[0m         \u001b[0ms\u001b[0m\u001b[0;34m.\u001b[0m\u001b[0minfer_axes\u001b[0m\u001b[0;34m(\u001b[0m\u001b[0;34m)\u001b[0m\u001b[0;34m\u001b[0m\u001b[0;34m\u001b[0m\u001b[0m\n\u001b[1;32m    824\u001b[0m \u001b[0;34m\u001b[0m\u001b[0m\n",
      "\u001b[0;32m~/anaconda3/envs/tfgpu/lib/python3.6/site-packages/pandas/io/pytables.py\u001b[0m in \u001b[0;36m_create_storer\u001b[0;34m(self, group, format, value, encoding, errors)\u001b[0m\n\u001b[1;32m   1612\u001b[0m                 \u001b[0;32melse\u001b[0m\u001b[0;34m:\u001b[0m\u001b[0;34m\u001b[0m\u001b[0;34m\u001b[0m\u001b[0m\n\u001b[1;32m   1613\u001b[0m                     raise TypeError(\n\u001b[0;32m-> 1614\u001b[0;31m                         \u001b[0;34m\"cannot create a storer if the object is not existing \"\u001b[0m\u001b[0;34m\u001b[0m\u001b[0;34m\u001b[0m\u001b[0m\n\u001b[0m\u001b[1;32m   1615\u001b[0m                         \u001b[0;34m\"nor a value are passed\"\u001b[0m\u001b[0;34m\u001b[0m\u001b[0;34m\u001b[0m\u001b[0m\n\u001b[1;32m   1616\u001b[0m                     )\n",
      "\u001b[0;31mTypeError\u001b[0m: cannot create a storer if the object is not existing nor a value are passed"
     ]
    }
   ],
   "source": [
    "dg = pd.read_hdf('test.h5', 'table')\n",
    "\n",
    "y_test = dg['is_signal_new'].to_numpy()\n",
    "\n",
    "dg = dg.drop(['ttv', 'truthE', 'truthPX', 'truthPY', 'truthPZ'], axis = 1)\n",
    "\n",
    "dg = dg.drop(['is_signal_new'], axis = 1)\n",
    "\n",
    "X_test = dg.to_numpy()"
   ]
  },
  {
   "cell_type": "code",
   "execution_count": 38,
   "metadata": {},
   "outputs": [],
   "source": [
    "def makeRoc(features_val, labels, labels_val, model):\n",
    "    print('in makeRoc()')\n",
    "    if 'j_index' in labels: labels.remove('j_index')\n",
    "\n",
    "    predict_test = model.predict(features_val)\n",
    "\n",
    "    df = pd.DataFrame()\n",
    "    \n",
    "    fpr = {}\n",
    "    tpr = {}\n",
    "    auc1 = {}\n",
    "    \n",
    "    plt.figure()       \n",
    "    for i, label in enumerate(labels):\n",
    "        df[label] = labels_val[:,i]\n",
    "        df[label + '_pred'] = predict_test[:,i]\n",
    "        \n",
    "        fpr[label], tpr[label], threshold = roc_curve(df[label],df[label+'_pred'])\n",
    "\n",
    "        auc1[label] = auc(fpr[label], tpr[label])\n",
    "            \n",
    "        plt.plot(tpr[label],fpr[label],label='%s tagger, AUC = %.1f%%'%(label.replace('j_',''),auc1[label]*100.))\n",
    "    plt.semilogy()\n",
    "    plt.xlabel(\"Signal Efficiency\")\n",
    "    plt.ylabel(\"Background Efficiency\")\n",
    "    plt.ylim(0.001,1)\n",
    "    plt.grid(True)\n",
    "    plt.legend(loc='upper left')\n",
    "    plt.figtext(0.25, 0.90,'hls4ml',fontweight='bold', wrap=True, horizontalalignment='right', fontsize=14)\n",
    "    #plt.figtext(0.35, 0.90,'preliminary', style='italic', wrap=True, horizontalalignment='center', fontsize=14) \n",
    "    plt.savefig(\"mygraph.png\")\n",
    "#     plt.savefig('%s/ROC.pdf'%(options.outputDir))\n",
    "#     plt.savefig('%s/ROC.pdf' %(outputDir))\n",
    "    return predict_test"
   ]
  },
  {
   "cell_type": "code",
   "execution_count": 40,
   "metadata": {},
   "outputs": [
    {
     "ename": "IndexError",
     "evalue": "too many indices for array: array is 1-dimensional, but 2 were indexed",
     "output_type": "error",
     "traceback": [
      "\u001b[0;31m---------------------------------------------------------------------------\u001b[0m",
      "\u001b[0;31mIndexError\u001b[0m                                Traceback (most recent call last)",
      "\u001b[0;32m<ipython-input-40-84baff8a63b6>\u001b[0m in \u001b[0;36m<module>\u001b[0;34m\u001b[0m\n\u001b[0;32m----> 1\u001b[0;31m \u001b[0my_pred\u001b[0m \u001b[0;34m=\u001b[0m \u001b[0mmakeRoc\u001b[0m\u001b[0;34m(\u001b[0m\u001b[0mx_test\u001b[0m\u001b[0;34m,\u001b[0m \u001b[0my_test\u001b[0m\u001b[0;34m,\u001b[0m \u001b[0mlabels\u001b[0m\u001b[0;34m,\u001b[0m \u001b[0mmodel\u001b[0m\u001b[0;34m)\u001b[0m\u001b[0;34m\u001b[0m\u001b[0;34m\u001b[0m\u001b[0m\n\u001b[0m",
      "\u001b[0;32m<ipython-input-38-ee94d122bac8>\u001b[0m in \u001b[0;36mmakeRoc\u001b[0;34m(features_val, labels_val, labels, model, outputDir, outputSuffix)\u001b[0m\n\u001b[1;32m      8\u001b[0m     \u001b[0mplt\u001b[0m\u001b[0;34m.\u001b[0m\u001b[0mfigure\u001b[0m\u001b[0;34m(\u001b[0m\u001b[0mfigsize\u001b[0m\u001b[0;34m=\u001b[0m\u001b[0;34m(\u001b[0m\u001b[0;36m10\u001b[0m\u001b[0;34m,\u001b[0m\u001b[0;36m8\u001b[0m\u001b[0;34m)\u001b[0m\u001b[0;34m)\u001b[0m\u001b[0;34m\u001b[0m\u001b[0;34m\u001b[0m\u001b[0m\n\u001b[1;32m      9\u001b[0m     \u001b[0;32mfor\u001b[0m \u001b[0mi\u001b[0m\u001b[0;34m,\u001b[0m \u001b[0mlabel\u001b[0m \u001b[0;32min\u001b[0m \u001b[0menumerate\u001b[0m\u001b[0;34m(\u001b[0m\u001b[0mlabels\u001b[0m\u001b[0;34m)\u001b[0m\u001b[0;34m:\u001b[0m\u001b[0;34m\u001b[0m\u001b[0;34m\u001b[0m\u001b[0m\n\u001b[0;32m---> 10\u001b[0;31m         \u001b[0mdf\u001b[0m\u001b[0;34m[\u001b[0m\u001b[0mlabel\u001b[0m\u001b[0;34m]\u001b[0m \u001b[0;34m=\u001b[0m \u001b[0mlabels_val\u001b[0m\u001b[0;34m[\u001b[0m\u001b[0;34m:\u001b[0m\u001b[0;34m,\u001b[0m\u001b[0mi\u001b[0m\u001b[0;34m]\u001b[0m\u001b[0;34m\u001b[0m\u001b[0;34m\u001b[0m\u001b[0m\n\u001b[0m\u001b[1;32m     11\u001b[0m         \u001b[0mdf\u001b[0m\u001b[0;34m[\u001b[0m\u001b[0mlabel\u001b[0m \u001b[0;34m+\u001b[0m \u001b[0;34m'_pred'\u001b[0m\u001b[0;34m]\u001b[0m \u001b[0;34m=\u001b[0m \u001b[0mlabels_pred\u001b[0m\u001b[0;34m[\u001b[0m\u001b[0;34m:\u001b[0m\u001b[0;34m,\u001b[0m\u001b[0mi\u001b[0m\u001b[0;34m]\u001b[0m\u001b[0;34m\u001b[0m\u001b[0;34m\u001b[0m\u001b[0m\n\u001b[1;32m     12\u001b[0m         \u001b[0mfpr\u001b[0m\u001b[0;34m[\u001b[0m\u001b[0mlabel\u001b[0m\u001b[0;34m]\u001b[0m\u001b[0;34m,\u001b[0m \u001b[0mtpr\u001b[0m\u001b[0;34m[\u001b[0m\u001b[0mlabel\u001b[0m\u001b[0;34m]\u001b[0m\u001b[0;34m,\u001b[0m \u001b[0mthreshold\u001b[0m \u001b[0;34m=\u001b[0m \u001b[0mroc_curve\u001b[0m\u001b[0;34m(\u001b[0m\u001b[0mdf\u001b[0m\u001b[0;34m[\u001b[0m\u001b[0mlabel\u001b[0m\u001b[0;34m]\u001b[0m\u001b[0;34m,\u001b[0m\u001b[0mdf\u001b[0m\u001b[0;34m[\u001b[0m\u001b[0mlabel\u001b[0m\u001b[0;34m+\u001b[0m\u001b[0;34m'_pred'\u001b[0m\u001b[0;34m]\u001b[0m\u001b[0;34m)\u001b[0m\u001b[0;34m\u001b[0m\u001b[0;34m\u001b[0m\u001b[0m\n",
      "\u001b[0;31mIndexError\u001b[0m: too many indices for array: array is 1-dimensional, but 2 were indexed"
     ]
    },
    {
     "data": {
      "text/plain": [
       "<Figure size 720x576 with 0 Axes>"
      ]
     },
     "metadata": {},
     "output_type": "display_data"
    }
   ],
   "source": [
    "y_pred = makeRoc(x_test, labels, y_test, model)"
   ]
  },
  {
   "cell_type": "code",
   "execution_count": null,
   "metadata": {},
   "outputs": [],
   "source": []
  }
 ],
 "metadata": {
  "kernelspec": {
   "display_name": "Python 3",
   "language": "python",
   "name": "python3"
  },
  "language_info": {
   "codemirror_mode": {
    "name": "ipython",
    "version": 3
   },
   "file_extension": ".py",
   "mimetype": "text/x-python",
   "name": "python",
   "nbconvert_exporter": "python",
   "pygments_lexer": "ipython3",
   "version": "3.6.10"
  }
 },
 "nbformat": 4,
 "nbformat_minor": 4
}
