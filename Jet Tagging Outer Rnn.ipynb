{
 "cells": [
  {
   "cell_type": "code",
   "execution_count": 37,
   "metadata": {},
   "outputs": [],
   "source": [
    "import tensorflow as tf\n",
    "import keras\n",
    "from keras.layers import Input, Dense, TimeDistributed, Dropout, Flatten\n",
    "from keras.models import Model\n",
    "from keras.optimizers import Adam\n",
    "from sklearn.model_selection import train_test_split\n",
    "import os\n",
    "import h5py\n",
    "import pandas as pd\n",
    "import numpy as np\n",
    "import matplotlib.pyplot as plt"
   ]
  },
  {
   "cell_type": "code",
   "execution_count": 85,
   "metadata": {},
   "outputs": [],
   "source": [
    "f = h5py.File('processed-pythia82-lhc13-all-pt1-50k-r1_h022_e0175_t220_nonu_withPars_truth_0.z','r')\n",
    "g = h5py.File('processed-pythia82-lhc13-all-pt1-50k-r1_h022_e0175_t220_nonu_withPars_truth_1.z','r')\n",
    "h = h5py.File('processed-pythia82-lhc13-all-pt1-50k-r1_h022_e0175_t220_nonu_withPars_truth_2.z','r')\n",
    "treeArray = f['t_allpar_new'][()]\n",
    "treeArray2 = g['t_allpar_new'][()]\n",
    "treeArray3 = g['t_allpar_new'][()]\n",
    "features = ['j1_ptrel', 'j1_etarot', 'j1_phirot', 'j1_erel', 'j1_deltaR','j_index']\n",
    "labels = ['j_g', 'j_q', 'j_w', 'j_z', 'j_t', 'j_index']\n"
   ]
  },
  {
   "cell_type": "code",
   "execution_count": 87,
   "metadata": {},
   "outputs": [
    {
     "data": {
      "text/plain": [
       "(5131613,)"
      ]
     },
     "execution_count": 87,
     "metadata": {},
     "output_type": "execute_result"
    }
   ],
   "source": [
    "treeArray.shape"
   ]
  },
  {
   "cell_type": "code",
   "execution_count": 107,
   "metadata": {},
   "outputs": [],
   "source": [
    "features_df1 = pd.DataFrame(treeArray,columns=features)"
   ]
  },
  {
   "cell_type": "code",
   "execution_count": 108,
   "metadata": {},
   "outputs": [],
   "source": [
    "features_df2 = pd.DataFrame(treeArray2,columns=features)"
   ]
  },
  {
   "cell_type": "code",
   "execution_count": 109,
   "metadata": {},
   "outputs": [],
   "source": [
    "features_df3 = pd.DataFrame(treeArray3,columns=features)"
   ]
  },
  {
   "cell_type": "code",
   "execution_count": 110,
   "metadata": {},
   "outputs": [],
   "source": [
    "features_df = pd.concat((features_df, features_df2,features_df3))"
   ]
  },
  {
   "cell_type": "code",
   "execution_count": 111,
   "metadata": {},
   "outputs": [],
   "source": [
    "features_df = treearray4"
   ]
  },
  {
   "cell_type": "code",
   "execution_count": 112,
   "metadata": {},
   "outputs": [],
   "source": [
    "index_df = features_df.groupby(['j_index'])"
   ]
  },
  {
   "cell_type": "code",
   "execution_count": 113,
   "metadata": {},
   "outputs": [
    {
     "data": {
      "text/html": [
       "<div>\n",
       "<style scoped>\n",
       "    .dataframe tbody tr th:only-of-type {\n",
       "        vertical-align: middle;\n",
       "    }\n",
       "\n",
       "    .dataframe tbody tr th {\n",
       "        vertical-align: top;\n",
       "    }\n",
       "\n",
       "    .dataframe thead th {\n",
       "        text-align: right;\n",
       "    }\n",
       "</style>\n",
       "<table border=\"1\" class=\"dataframe\">\n",
       "  <thead>\n",
       "    <tr style=\"text-align: right;\">\n",
       "      <th></th>\n",
       "      <th>j1_ptrel</th>\n",
       "      <th>j1_etarot</th>\n",
       "      <th>j1_phirot</th>\n",
       "      <th>j1_erel</th>\n",
       "      <th>j1_deltaR</th>\n",
       "    </tr>\n",
       "    <tr>\n",
       "      <th>j_index</th>\n",
       "      <th></th>\n",
       "      <th></th>\n",
       "      <th></th>\n",
       "      <th></th>\n",
       "      <th></th>\n",
       "    </tr>\n",
       "  </thead>\n",
       "  <tbody>\n",
       "    <tr>\n",
       "      <th>1</th>\n",
       "      <td>0.526719</td>\n",
       "      <td>0.0</td>\n",
       "      <td>0.0</td>\n",
       "      <td>0.525633</td>\n",
       "      <td>0.024813</td>\n",
       "    </tr>\n",
       "    <tr>\n",
       "      <th>3</th>\n",
       "      <td>0.689462</td>\n",
       "      <td>0.0</td>\n",
       "      <td>0.0</td>\n",
       "      <td>0.699932</td>\n",
       "      <td>0.057165</td>\n",
       "    </tr>\n",
       "    <tr>\n",
       "      <th>7</th>\n",
       "      <td>0.390835</td>\n",
       "      <td>0.0</td>\n",
       "      <td>0.0</td>\n",
       "      <td>0.388123</td>\n",
       "      <td>0.079966</td>\n",
       "    </tr>\n",
       "    <tr>\n",
       "      <th>15</th>\n",
       "      <td>0.411910</td>\n",
       "      <td>0.0</td>\n",
       "      <td>0.0</td>\n",
       "      <td>0.410744</td>\n",
       "      <td>0.012951</td>\n",
       "    </tr>\n",
       "    <tr>\n",
       "      <th>19</th>\n",
       "      <td>0.086828</td>\n",
       "      <td>0.0</td>\n",
       "      <td>0.0</td>\n",
       "      <td>0.087459</td>\n",
       "      <td>0.009368</td>\n",
       "    </tr>\n",
       "    <tr>\n",
       "      <th>...</th>\n",
       "      <td>...</td>\n",
       "      <td>...</td>\n",
       "      <td>...</td>\n",
       "      <td>...</td>\n",
       "      <td>...</td>\n",
       "    </tr>\n",
       "    <tr>\n",
       "      <th>400199971</th>\n",
       "      <td>0.237410</td>\n",
       "      <td>0.0</td>\n",
       "      <td>0.0</td>\n",
       "      <td>0.224937</td>\n",
       "      <td>0.060514</td>\n",
       "    </tr>\n",
       "    <tr>\n",
       "      <th>400199975</th>\n",
       "      <td>0.149555</td>\n",
       "      <td>-0.0</td>\n",
       "      <td>0.0</td>\n",
       "      <td>0.146371</td>\n",
       "      <td>0.050620</td>\n",
       "    </tr>\n",
       "    <tr>\n",
       "      <th>400199976</th>\n",
       "      <td>0.199151</td>\n",
       "      <td>0.0</td>\n",
       "      <td>0.0</td>\n",
       "      <td>0.198536</td>\n",
       "      <td>0.064809</td>\n",
       "    </tr>\n",
       "    <tr>\n",
       "      <th>400199988</th>\n",
       "      <td>0.065752</td>\n",
       "      <td>0.0</td>\n",
       "      <td>0.0</td>\n",
       "      <td>0.064578</td>\n",
       "      <td>0.093492</td>\n",
       "    </tr>\n",
       "    <tr>\n",
       "      <th>400199993</th>\n",
       "      <td>0.283785</td>\n",
       "      <td>-0.0</td>\n",
       "      <td>0.0</td>\n",
       "      <td>0.272833</td>\n",
       "      <td>0.065265</td>\n",
       "    </tr>\n",
       "  </tbody>\n",
       "</table>\n",
       "<p>197538 rows × 5 columns</p>\n",
       "</div>"
      ],
      "text/plain": [
       "           j1_ptrel  j1_etarot  j1_phirot   j1_erel  j1_deltaR\n",
       "j_index                                                       \n",
       "1          0.526719        0.0        0.0  0.525633   0.024813\n",
       "3          0.689462        0.0        0.0  0.699932   0.057165\n",
       "7          0.390835        0.0        0.0  0.388123   0.079966\n",
       "15         0.411910        0.0        0.0  0.410744   0.012951\n",
       "19         0.086828        0.0        0.0  0.087459   0.009368\n",
       "...             ...        ...        ...       ...        ...\n",
       "400199971  0.237410        0.0        0.0  0.224937   0.060514\n",
       "400199975  0.149555       -0.0        0.0  0.146371   0.050620\n",
       "400199976  0.199151        0.0        0.0  0.198536   0.064809\n",
       "400199988  0.065752        0.0        0.0  0.064578   0.093492\n",
       "400199993  0.283785       -0.0        0.0  0.272833   0.065265\n",
       "\n",
       "[197538 rows x 5 columns]"
      ]
     },
     "execution_count": 113,
     "metadata": {},
     "output_type": "execute_result"
    }
   ],
   "source": [
    "index_df.first()"
   ]
  },
  {
   "cell_type": "code",
   "execution_count": 114,
   "metadata": {},
   "outputs": [],
   "source": [
    "max_particles = 15"
   ]
  },
  {
   "cell_type": "code",
   "execution_count": 115,
   "metadata": {},
   "outputs": [],
   "source": [
    "num_features = 5"
   ]
  },
  {
   "cell_type": "code",
   "execution_count": 116,
   "metadata": {
    "scrolled": true
   },
   "outputs": [],
   "source": [
    "data = np.zeros([197538,max_particles,num_features])\n",
    "p = 0\n",
    "for name, group in index_df:\n",
    "    x = group.to_numpy()\n",
    "    x = np.delete(x,5,1)\n",
    "\n",
    "    g = 0\n",
    "    for l in x:\n",
    "        if g == max_particles or g == len(x): \n",
    "            break\n",
    "        for n in range(num_features):\n",
    "            data[p,g,n] = l[n]\n",
    "        g = g+1\n",
    "\n",
    "    p = p+1\n",
    "    "
   ]
  },
  {
   "cell_type": "code",
   "execution_count": null,
   "metadata": {},
   "outputs": [],
   "source": []
  },
  {
   "cell_type": "code",
   "execution_count": 118,
   "metadata": {},
   "outputs": [],
   "source": [
    "labels_df1 = pd.DataFrame(treeArray,columns=labels)\n",
    "labels_df2 = pd.DataFrame(treeArray2,columns=labels)\n",
    "labels_df3 = pd.DataFrame(treeArray3,columns=labels)"
   ]
  },
  {
   "cell_type": "code",
   "execution_count": null,
   "metadata": {},
   "outputs": [],
   "source": [
    "labels_df"
   ]
  },
  {
   "cell_type": "code",
   "execution_count": 119,
   "metadata": {},
   "outputs": [],
   "source": [
    "labels_df = pd.concat((labels_df1, labels_df2,labels_df3))"
   ]
  },
  {
   "cell_type": "code",
   "execution_count": 120,
   "metadata": {},
   "outputs": [],
   "source": [
    "labels_df = labels_df.groupby('j_index')"
   ]
  },
  {
   "cell_type": "code",
   "execution_count": 121,
   "metadata": {},
   "outputs": [
    {
     "data": {
      "text/plain": [
       "array([[[ 5.26718855e-01,  0.00000000e+00,  0.00000000e+00,\n",
       "          5.25633097e-01,  2.48127822e-02],\n",
       "        [ 8.16964805e-02, -1.00144953e-03,  4.55306284e-03,\n",
       "          8.15227404e-02,  2.94277072e-02],\n",
       "        [ 7.24203736e-02,  6.44924934e-04, -4.35186643e-03,\n",
       "          7.22680390e-02,  2.04328783e-02],\n",
       "        ...,\n",
       "        [ 8.83336738e-03,  1.99425109e-02, -5.11611849e-02,\n",
       "          8.85319710e-03,  3.21815610e-02],\n",
       "        [ 8.69703293e-03, -5.29845506e-02, -2.65246987e-01,\n",
       "          8.39474518e-03,  2.46873289e-01],\n",
       "        [ 7.83436000e-03, -7.59458318e-02, -3.15579653e-01,\n",
       "          7.49645615e-03,  3.01522911e-01]],\n",
       "\n",
       "       [[ 6.89462423e-01,  0.00000000e+00,  0.00000000e+00,\n",
       "          6.99931800e-01,  5.71646057e-02],\n",
       "        [ 1.68542340e-01,  8.34689102e-14, -2.49775752e-01,\n",
       "          1.59876242e-01,  1.94951132e-01],\n",
       "        [ 2.03662720e-02, -1.29407674e-01, -6.19659433e-03,\n",
       "          1.98702645e-02,  1.30197898e-01],\n",
       "        ...,\n",
       "        [ 5.46889193e-03, -2.00687811e-01, -2.76199244e-02,\n",
       "          5.21720340e-03,  1.93396643e-01],\n",
       "        [ 5.14200190e-03, -4.55245785e-02, -2.02820003e-01,\n",
       "          4.87953704e-03,  1.51839241e-01],\n",
       "        [ 4.64659976e-03, -2.07050871e-02, -2.25226834e-01,\n",
       "          4.41105571e-03,  1.70355901e-01]],\n",
       "\n",
       "       [[ 3.90835166e-01,  0.00000000e+00,  0.00000000e+00,\n",
       "          3.88123155e-01,  7.99662694e-02],\n",
       "        [ 9.86498296e-02, -1.91240851e-02, -2.00170279e-02,\n",
       "          9.79162604e-02,  5.78885674e-02],\n",
       "        [ 5.69535010e-02, -1.45012401e-02, -1.81325953e-02,\n",
       "          5.65236770e-02,  5.98699562e-02],\n",
       "        ...,\n",
       "        [ 1.46866990e-02, -1.74274005e-03, -5.88307809e-03,\n",
       "          1.45793557e-02,  7.38423690e-02],\n",
       "        [ 1.43804653e-02, -1.95141863e-02, -3.85537520e-02,\n",
       "          1.42580019e-02,  3.93707789e-02],\n",
       "        [ 1.36565529e-02, -2.10858434e-02,  4.50137630e-03,\n",
       "          1.35856280e-02,  8.24480951e-02]],\n",
       "\n",
       "       ...,\n",
       "\n",
       "       [[ 1.99150786e-01,  0.00000000e+00,  0.00000000e+00,\n",
       "          1.98535636e-01,  6.48092628e-02],\n",
       "        [ 1.57399267e-01, -2.47687934e-15, -1.64732903e-01,\n",
       "          1.58038408e-01,  1.00414000e-01],\n",
       "        [ 1.53191641e-01,  4.93633386e-04, -5.56730153e-03,\n",
       "          1.52718887e-01,  5.92202805e-02],\n",
       "        ...,\n",
       "        [ 2.07346920e-02, -1.28463032e-02, -1.60012379e-01,\n",
       "          2.09434722e-02,  9.73886549e-02],\n",
       "        [ 1.68079250e-02,  1.22465203e-02,  3.05994786e-03,\n",
       "          1.66597478e-02,  6.78426102e-02],\n",
       "        [ 1.51925124e-02,  9.28781256e-02, -7.58497231e-03,\n",
       "          1.45611204e-02,  1.03693798e-01]],\n",
       "\n",
       "       [[ 6.57522455e-02,  0.00000000e+00,  0.00000000e+00,\n",
       "          6.45780563e-02,  9.34919938e-02],\n",
       "        [ 6.28092661e-02, -1.66090857e-02,  7.02753523e-03,\n",
       "          6.16891719e-02,  1.10050187e-01],\n",
       "        [ 5.22983558e-02,  1.72014502e-14, -2.37101331e-01,\n",
       "          5.28197140e-02,  1.80559978e-01],\n",
       "        ...,\n",
       "        [ 2.83000059e-02, -5.49234869e-03, -2.15769634e-01,\n",
       "          2.84431744e-02,  1.62426904e-01],\n",
       "        [ 2.60705333e-02, -1.47449942e-02, -2.79826927e-03,\n",
       "          2.56049708e-02,  1.02011204e-01],\n",
       "        [ 2.44120583e-02, -4.30085650e-03,  1.89531110e-02,\n",
       "          2.39798408e-02,  1.10914327e-01]],\n",
       "\n",
       "       [[ 2.83785194e-01, -0.00000000e+00,  0.00000000e+00,\n",
       "          2.72832662e-01,  6.52652681e-02],\n",
       "        [ 2.00598478e-01,  6.02180998e-14, -1.20269127e-01,\n",
       "          2.07131371e-01,  5.52849993e-02],\n",
       "        [ 9.90698636e-02,  2.69352947e-03, -1.16763763e-01,\n",
       "          1.02009654e-01,  5.18871136e-02],\n",
       "        ...,\n",
       "        [ 1.86633132e-02,  1.99742969e-02, -9.90741178e-02,\n",
       "          1.89349428e-02,  4.00192030e-02],\n",
       "        [ 1.44464644e-02, -2.84324903e-02,  2.25082133e-03,\n",
       "          1.39512559e-02,  7.28135258e-02],\n",
       "        [ 1.33548025e-02,  3.40678892e-03, -5.69949560e-02,\n",
       "          1.32581722e-02,  9.41400044e-03]]])"
      ]
     },
     "execution_count": 121,
     "metadata": {},
     "output_type": "execute_result"
    }
   ],
   "source": [
    "data"
   ]
  },
  {
   "cell_type": "code",
   "execution_count": 122,
   "metadata": {},
   "outputs": [
    {
     "data": {
      "text/html": [
       "<div>\n",
       "<style scoped>\n",
       "    .dataframe tbody tr th:only-of-type {\n",
       "        vertical-align: middle;\n",
       "    }\n",
       "\n",
       "    .dataframe tbody tr th {\n",
       "        vertical-align: top;\n",
       "    }\n",
       "\n",
       "    .dataframe thead th {\n",
       "        text-align: right;\n",
       "    }\n",
       "</style>\n",
       "<table border=\"1\" class=\"dataframe\">\n",
       "  <thead>\n",
       "    <tr style=\"text-align: right;\">\n",
       "      <th></th>\n",
       "      <th>j_g</th>\n",
       "      <th>j_q</th>\n",
       "      <th>j_w</th>\n",
       "      <th>j_z</th>\n",
       "      <th>j_t</th>\n",
       "    </tr>\n",
       "    <tr>\n",
       "      <th>j_index</th>\n",
       "      <th></th>\n",
       "      <th></th>\n",
       "      <th></th>\n",
       "      <th></th>\n",
       "      <th></th>\n",
       "    </tr>\n",
       "  </thead>\n",
       "  <tbody>\n",
       "    <tr>\n",
       "      <th>1</th>\n",
       "      <td>1</td>\n",
       "      <td>0</td>\n",
       "      <td>0</td>\n",
       "      <td>0</td>\n",
       "      <td>0</td>\n",
       "    </tr>\n",
       "    <tr>\n",
       "      <th>3</th>\n",
       "      <td>1</td>\n",
       "      <td>0</td>\n",
       "      <td>0</td>\n",
       "      <td>0</td>\n",
       "      <td>0</td>\n",
       "    </tr>\n",
       "    <tr>\n",
       "      <th>7</th>\n",
       "      <td>1</td>\n",
       "      <td>0</td>\n",
       "      <td>0</td>\n",
       "      <td>0</td>\n",
       "      <td>0</td>\n",
       "    </tr>\n",
       "    <tr>\n",
       "      <th>15</th>\n",
       "      <td>1</td>\n",
       "      <td>0</td>\n",
       "      <td>0</td>\n",
       "      <td>0</td>\n",
       "      <td>0</td>\n",
       "    </tr>\n",
       "    <tr>\n",
       "      <th>19</th>\n",
       "      <td>1</td>\n",
       "      <td>0</td>\n",
       "      <td>0</td>\n",
       "      <td>0</td>\n",
       "      <td>0</td>\n",
       "    </tr>\n",
       "    <tr>\n",
       "      <th>...</th>\n",
       "      <td>...</td>\n",
       "      <td>...</td>\n",
       "      <td>...</td>\n",
       "      <td>...</td>\n",
       "      <td>...</td>\n",
       "    </tr>\n",
       "    <tr>\n",
       "      <th>400199971</th>\n",
       "      <td>0</td>\n",
       "      <td>0</td>\n",
       "      <td>0</td>\n",
       "      <td>0</td>\n",
       "      <td>1</td>\n",
       "    </tr>\n",
       "    <tr>\n",
       "      <th>400199975</th>\n",
       "      <td>0</td>\n",
       "      <td>0</td>\n",
       "      <td>0</td>\n",
       "      <td>0</td>\n",
       "      <td>1</td>\n",
       "    </tr>\n",
       "    <tr>\n",
       "      <th>400199976</th>\n",
       "      <td>0</td>\n",
       "      <td>0</td>\n",
       "      <td>0</td>\n",
       "      <td>0</td>\n",
       "      <td>1</td>\n",
       "    </tr>\n",
       "    <tr>\n",
       "      <th>400199988</th>\n",
       "      <td>0</td>\n",
       "      <td>0</td>\n",
       "      <td>0</td>\n",
       "      <td>0</td>\n",
       "      <td>1</td>\n",
       "    </tr>\n",
       "    <tr>\n",
       "      <th>400199993</th>\n",
       "      <td>0</td>\n",
       "      <td>0</td>\n",
       "      <td>0</td>\n",
       "      <td>0</td>\n",
       "      <td>1</td>\n",
       "    </tr>\n",
       "  </tbody>\n",
       "</table>\n",
       "<p>197538 rows × 5 columns</p>\n",
       "</div>"
      ],
      "text/plain": [
       "           j_g  j_q  j_w  j_z  j_t\n",
       "j_index                           \n",
       "1            1    0    0    0    0\n",
       "3            1    0    0    0    0\n",
       "7            1    0    0    0    0\n",
       "15           1    0    0    0    0\n",
       "19           1    0    0    0    0\n",
       "...        ...  ...  ...  ...  ...\n",
       "400199971    0    0    0    0    1\n",
       "400199975    0    0    0    0    1\n",
       "400199976    0    0    0    0    1\n",
       "400199988    0    0    0    0    1\n",
       "400199993    0    0    0    0    1\n",
       "\n",
       "[197538 rows x 5 columns]"
      ]
     },
     "execution_count": 122,
     "metadata": {},
     "output_type": "execute_result"
    }
   ],
   "source": [
    "labels_df.first()"
   ]
  },
  {
   "cell_type": "code",
   "execution_count": 123,
   "metadata": {},
   "outputs": [],
   "source": [
    "labels = np.zeros([197538,5])\n",
    "o = 0\n",
    "for name,  group in labels_df:\n",
    "    x = group.to_numpy()\n",
    "    x = np.delete(x,5,1)\n",
    "    for z in range(5):\n",
    "        labels[o,z] = x[0][z]\n",
    "\n",
    "    o = o+1"
   ]
  },
  {
   "cell_type": "code",
   "execution_count": 124,
   "metadata": {},
   "outputs": [
    {
     "data": {
      "text/plain": [
       "array([[1., 0., 0., 0., 0.],\n",
       "       [1., 0., 0., 0., 0.],\n",
       "       [1., 0., 0., 0., 0.],\n",
       "       ...,\n",
       "       [0., 0., 0., 0., 1.],\n",
       "       [0., 0., 0., 0., 1.],\n",
       "       [0., 0., 0., 0., 1.]])"
      ]
     },
     "execution_count": 124,
     "metadata": {},
     "output_type": "execute_result"
    }
   ],
   "source": [
    "labels"
   ]
  },
  {
   "cell_type": "code",
   "execution_count": 125,
   "metadata": {},
   "outputs": [
    {
     "data": {
      "text/plain": [
       "array([[[ 5.26718855e-01,  0.00000000e+00,  0.00000000e+00,\n",
       "          5.25633097e-01,  2.48127822e-02],\n",
       "        [ 8.16964805e-02, -1.00144953e-03,  4.55306284e-03,\n",
       "          8.15227404e-02,  2.94277072e-02],\n",
       "        [ 7.24203736e-02,  6.44924934e-04, -4.35186643e-03,\n",
       "          7.22680390e-02,  2.04328783e-02],\n",
       "        ...,\n",
       "        [ 8.83336738e-03,  1.99425109e-02, -5.11611849e-02,\n",
       "          8.85319710e-03,  3.21815610e-02],\n",
       "        [ 8.69703293e-03, -5.29845506e-02, -2.65246987e-01,\n",
       "          8.39474518e-03,  2.46873289e-01],\n",
       "        [ 7.83436000e-03, -7.59458318e-02, -3.15579653e-01,\n",
       "          7.49645615e-03,  3.01522911e-01]],\n",
       "\n",
       "       [[ 6.89462423e-01,  0.00000000e+00,  0.00000000e+00,\n",
       "          6.99931800e-01,  5.71646057e-02],\n",
       "        [ 1.68542340e-01,  8.34689102e-14, -2.49775752e-01,\n",
       "          1.59876242e-01,  1.94951132e-01],\n",
       "        [ 2.03662720e-02, -1.29407674e-01, -6.19659433e-03,\n",
       "          1.98702645e-02,  1.30197898e-01],\n",
       "        ...,\n",
       "        [ 5.46889193e-03, -2.00687811e-01, -2.76199244e-02,\n",
       "          5.21720340e-03,  1.93396643e-01],\n",
       "        [ 5.14200190e-03, -4.55245785e-02, -2.02820003e-01,\n",
       "          4.87953704e-03,  1.51839241e-01],\n",
       "        [ 4.64659976e-03, -2.07050871e-02, -2.25226834e-01,\n",
       "          4.41105571e-03,  1.70355901e-01]],\n",
       "\n",
       "       [[ 3.90835166e-01,  0.00000000e+00,  0.00000000e+00,\n",
       "          3.88123155e-01,  7.99662694e-02],\n",
       "        [ 9.86498296e-02, -1.91240851e-02, -2.00170279e-02,\n",
       "          9.79162604e-02,  5.78885674e-02],\n",
       "        [ 5.69535010e-02, -1.45012401e-02, -1.81325953e-02,\n",
       "          5.65236770e-02,  5.98699562e-02],\n",
       "        ...,\n",
       "        [ 1.46866990e-02, -1.74274005e-03, -5.88307809e-03,\n",
       "          1.45793557e-02,  7.38423690e-02],\n",
       "        [ 1.43804653e-02, -1.95141863e-02, -3.85537520e-02,\n",
       "          1.42580019e-02,  3.93707789e-02],\n",
       "        [ 1.36565529e-02, -2.10858434e-02,  4.50137630e-03,\n",
       "          1.35856280e-02,  8.24480951e-02]],\n",
       "\n",
       "       ...,\n",
       "\n",
       "       [[ 1.99150786e-01,  0.00000000e+00,  0.00000000e+00,\n",
       "          1.98535636e-01,  6.48092628e-02],\n",
       "        [ 1.57399267e-01, -2.47687934e-15, -1.64732903e-01,\n",
       "          1.58038408e-01,  1.00414000e-01],\n",
       "        [ 1.53191641e-01,  4.93633386e-04, -5.56730153e-03,\n",
       "          1.52718887e-01,  5.92202805e-02],\n",
       "        ...,\n",
       "        [ 2.07346920e-02, -1.28463032e-02, -1.60012379e-01,\n",
       "          2.09434722e-02,  9.73886549e-02],\n",
       "        [ 1.68079250e-02,  1.22465203e-02,  3.05994786e-03,\n",
       "          1.66597478e-02,  6.78426102e-02],\n",
       "        [ 1.51925124e-02,  9.28781256e-02, -7.58497231e-03,\n",
       "          1.45611204e-02,  1.03693798e-01]],\n",
       "\n",
       "       [[ 6.57522455e-02,  0.00000000e+00,  0.00000000e+00,\n",
       "          6.45780563e-02,  9.34919938e-02],\n",
       "        [ 6.28092661e-02, -1.66090857e-02,  7.02753523e-03,\n",
       "          6.16891719e-02,  1.10050187e-01],\n",
       "        [ 5.22983558e-02,  1.72014502e-14, -2.37101331e-01,\n",
       "          5.28197140e-02,  1.80559978e-01],\n",
       "        ...,\n",
       "        [ 2.83000059e-02, -5.49234869e-03, -2.15769634e-01,\n",
       "          2.84431744e-02,  1.62426904e-01],\n",
       "        [ 2.60705333e-02, -1.47449942e-02, -2.79826927e-03,\n",
       "          2.56049708e-02,  1.02011204e-01],\n",
       "        [ 2.44120583e-02, -4.30085650e-03,  1.89531110e-02,\n",
       "          2.39798408e-02,  1.10914327e-01]],\n",
       "\n",
       "       [[ 2.83785194e-01, -0.00000000e+00,  0.00000000e+00,\n",
       "          2.72832662e-01,  6.52652681e-02],\n",
       "        [ 2.00598478e-01,  6.02180998e-14, -1.20269127e-01,\n",
       "          2.07131371e-01,  5.52849993e-02],\n",
       "        [ 9.90698636e-02,  2.69352947e-03, -1.16763763e-01,\n",
       "          1.02009654e-01,  5.18871136e-02],\n",
       "        ...,\n",
       "        [ 1.86633132e-02,  1.99742969e-02, -9.90741178e-02,\n",
       "          1.89349428e-02,  4.00192030e-02],\n",
       "        [ 1.44464644e-02, -2.84324903e-02,  2.25082133e-03,\n",
       "          1.39512559e-02,  7.28135258e-02],\n",
       "        [ 1.33548025e-02,  3.40678892e-03, -5.69949560e-02,\n",
       "          1.32581722e-02,  9.41400044e-03]]])"
      ]
     },
     "execution_count": 125,
     "metadata": {},
     "output_type": "execute_result"
    }
   ],
   "source": [
    "data"
   ]
  },
  {
   "cell_type": "code",
   "execution_count": 126,
   "metadata": {},
   "outputs": [],
   "source": [
    "def Pair_inputs(data, num_tracks_for_pairing = 15):\n",
    "    \"\"\"\n",
    "        assuming data shape is: (batch, num_tracks, 13)\n",
    "    \n",
    "        returns:\n",
    "        ---------\n",
    "        (batch , num_tracks_for_pairing**2, 26)\n",
    "    \"\"\"\n",
    "\n",
    "    # Example: input of shape (batch, 10 (const. #tracks), 13)\n",
    "    # --> 100 pairs including (a,b), (b,a)\n",
    "    # stacking the pairs' features together --> 2*13 features\n",
    "    # will be re-permuted & duplicated into (batch, 100, 26)\n",
    "    # [optional] transpose / reshape --> (batch * 100, 26)\n",
    "\n",
    "    sp = data.shape\n",
    "    \n",
    "    num_feat = sp[2]\n",
    "    assert data.ndim==3\n",
    "\n",
    "    result = np.zeros((sp[0], num_tracks_for_pairing**2, num_feat*2),'float32')\n",
    "\n",
    "    \n",
    "    for i in range(num_tracks_for_pairing):\n",
    "        result[:, i::num_tracks_for_pairing, :num_feat] = data\n",
    "        result[:, i*num_tracks_for_pairing:num_tracks_for_pairing + i*num_tracks_for_pairing, num_feat:] = data\n",
    "\n",
    "    return result\n"
   ]
  },
  {
   "cell_type": "code",
   "execution_count": 127,
   "metadata": {},
   "outputs": [
    {
     "data": {
      "text/plain": [
       "(197538, 15, 5)"
      ]
     },
     "execution_count": 127,
     "metadata": {},
     "output_type": "execute_result"
    }
   ],
   "source": [
    "data.shape"
   ]
  },
  {
   "cell_type": "code",
   "execution_count": 128,
   "metadata": {},
   "outputs": [],
   "source": [
    "paired_inputs = Pair_inputs(data,15)"
   ]
  },
  {
   "cell_type": "code",
   "execution_count": 129,
   "metadata": {},
   "outputs": [
    {
     "data": {
      "text/plain": [
       "(197538, 225, 10)"
      ]
     },
     "execution_count": 129,
     "metadata": {},
     "output_type": "execute_result"
    }
   ],
   "source": [
    "paired_inputs.shape"
   ]
  },
  {
   "cell_type": "code",
   "execution_count": 130,
   "metadata": {},
   "outputs": [
    {
     "data": {
      "text/plain": [
       "array([[ 0.52671885,  0.        ,  0.        , ...,  0.        ,\n",
       "         0.5256331 ,  0.02481278],\n",
       "       [ 0.52671885,  0.        ,  0.        , ...,  0.00455306,\n",
       "         0.08152274,  0.02942771],\n",
       "       [ 0.52671885,  0.        ,  0.        , ..., -0.00435187,\n",
       "         0.07226804,  0.02043288],\n",
       "       ...,\n",
       "       [ 0.00783436, -0.07594583, -0.31557965, ..., -0.05116118,\n",
       "         0.0088532 ,  0.03218156],\n",
       "       [ 0.00783436, -0.07594583, -0.31557965, ..., -0.265247  ,\n",
       "         0.00839475,  0.24687329],\n",
       "       [ 0.00783436, -0.07594583, -0.31557965, ..., -0.31557965,\n",
       "         0.00749646,  0.3015229 ]], dtype=float32)"
      ]
     },
     "execution_count": 130,
     "metadata": {},
     "output_type": "execute_result"
    }
   ],
   "source": [
    "paired_inputs[0]"
   ]
  },
  {
   "cell_type": "code",
   "execution_count": 131,
   "metadata": {},
   "outputs": [],
   "source": [
    "X_train, X_test, y_train, y_test = train_test_split(paired_inputs,labels,test_size = 0.2, random_state = 42)\n"
   ]
  },
  {
   "cell_type": "code",
   "execution_count": 132,
   "metadata": {},
   "outputs": [
    {
     "data": {
      "text/plain": [
       "1.0"
      ]
     },
     "execution_count": 132,
     "metadata": {},
     "output_type": "execute_result"
    }
   ],
   "source": [
    "np.max(y_train)"
   ]
  },
  {
   "cell_type": "code",
   "execution_count": 143,
   "metadata": {},
   "outputs": [
    {
     "name": "stdout",
     "output_type": "stream",
     "text": [
      "Model: \"model_7\"\n",
      "_________________________________________________________________\n",
      "Layer (type)                 Output Shape              Param #   \n",
      "=================================================================\n",
      "input_8 (InputLayer)         [(None, 225, 10)]         0         \n",
      "_________________________________________________________________\n",
      "time_distributed_7 (TimeDist (None, 225, 32)           352       \n",
      "_________________________________________________________________\n",
      "dropout_4 (Dropout)          (None, 225, 32)           0         \n",
      "_________________________________________________________________\n",
      "flatten_7 (Flatten)          (None, 7200)              0         \n",
      "_________________________________________________________________\n",
      "fc7 (Dense)                  (None, 16)                115216    \n",
      "_________________________________________________________________\n",
      "dropout_5 (Dropout)          (None, 16)                0         \n",
      "_________________________________________________________________\n",
      "fc6 (Dense)                  (None, 8)                 136       \n",
      "_________________________________________________________________\n",
      "output_softmax (Dense)       (None, 5)                 45        \n",
      "=================================================================\n",
      "Total params: 115,749\n",
      "Trainable params: 115,749\n",
      "Non-trainable params: 0\n",
      "_________________________________________________________________\n"
     ]
    }
   ],
   "source": [
    "Inputs = Input(shape=(225,10))\n",
    "x = TimeDistributed(Dense(32, activation='relu', kernel_initializer='lecun_uniform', name='fc1'))(Inputs)\n",
    "x= Dropout(rate = 0.3)(x)\n",
    "x=Flatten()(x)\n",
    "x = Dense(16, activation='relu', kernel_initializer='lecun_uniform', name='fc7')(x)\n",
    "x = Dropout(rate = 0.3)(x)\n",
    "x = Dense(8, activation='relu', kernel_initializer='lecun_uniform', name='fc6')(x)\n",
    "\n",
    "predictions = Dense(5, activation='softmax', kernel_initializer='lecun_uniform', name = 'output_softmax')(x)\n",
    "model = Model(inputs=Inputs, outputs=predictions)\n",
    "model.summary()"
   ]
  },
  {
   "cell_type": "code",
   "execution_count": 144,
   "metadata": {},
   "outputs": [],
   "source": [
    "adam = Adam(lr = 0.002)\n",
    "model.compile(optimizer='adam', loss='categorical_crossentropy', metrics=['accuracy'])"
   ]
  },
  {
   "cell_type": "code",
   "execution_count": 145,
   "metadata": {},
   "outputs": [
    {
     "name": "stdout",
     "output_type": "stream",
     "text": [
      "Epoch 1/50\n",
      "116/116 [==============================] - 14s 125ms/step - loss: 1.4267 - accuracy: 0.3884 - val_loss: 1.2947 - val_accuracy: 0.4886\n",
      "Epoch 2/50\n",
      "116/116 [==============================] - 14s 121ms/step - loss: 1.2583 - accuracy: 0.4938 - val_loss: 1.1480 - val_accuracy: 0.5900\n",
      "Epoch 3/50\n",
      "116/116 [==============================] - 14s 124ms/step - loss: 1.1444 - accuracy: 0.5647 - val_loss: 1.0478 - val_accuracy: 0.6341\n",
      "Epoch 4/50\n",
      "116/116 [==============================] - 14s 121ms/step - loss: 1.0770 - accuracy: 0.6005 - val_loss: 0.9890 - val_accuracy: 0.6612\n",
      "Epoch 5/50\n",
      "116/116 [==============================] - 14s 120ms/step - loss: 1.0390 - accuracy: 0.6191 - val_loss: 0.9779 - val_accuracy: 0.6644\n",
      "Epoch 6/50\n",
      "116/116 [==============================] - 14s 123ms/step - loss: 1.0201 - accuracy: 0.6276 - val_loss: 0.9515 - val_accuracy: 0.6722\n",
      "Epoch 7/50\n",
      "116/116 [==============================] - 14s 121ms/step - loss: 1.0085 - accuracy: 0.6297 - val_loss: 0.9430 - val_accuracy: 0.6711\n",
      "Epoch 8/50\n",
      "116/116 [==============================] - 14s 118ms/step - loss: 0.9980 - accuracy: 0.6339 - val_loss: 0.9294 - val_accuracy: 0.6720\n",
      "Epoch 9/50\n",
      "116/116 [==============================] - 14s 122ms/step - loss: 0.9885 - accuracy: 0.6396 - val_loss: 0.9339 - val_accuracy: 0.6796\n",
      "Epoch 10/50\n",
      "116/116 [==============================] - 14s 119ms/step - loss: 0.9855 - accuracy: 0.6393 - val_loss: 0.9166 - val_accuracy: 0.6841\n",
      "Epoch 11/50\n",
      "116/116 [==============================] - 14s 121ms/step - loss: 0.9776 - accuracy: 0.6438 - val_loss: 0.9150 - val_accuracy: 0.6832\n",
      "Epoch 12/50\n",
      "116/116 [==============================] - 14s 119ms/step - loss: 0.9751 - accuracy: 0.6440 - val_loss: 0.9133 - val_accuracy: 0.6831\n",
      "Epoch 13/50\n",
      "116/116 [==============================] - 14s 120ms/step - loss: 0.9697 - accuracy: 0.6455 - val_loss: 0.9088 - val_accuracy: 0.6867\n",
      "Epoch 14/50\n",
      "116/116 [==============================] - 14s 119ms/step - loss: 0.9694 - accuracy: 0.6458 - val_loss: 0.9222 - val_accuracy: 0.6757\n",
      "Epoch 15/50\n",
      "116/116 [==============================] - 14s 122ms/step - loss: 0.9644 - accuracy: 0.6471 - val_loss: 0.9137 - val_accuracy: 0.6867\n",
      "Epoch 16/50\n",
      "116/116 [==============================] - 14s 119ms/step - loss: 0.9598 - accuracy: 0.6495 - val_loss: 0.9085 - val_accuracy: 0.6863\n",
      "Epoch 17/50\n",
      "116/116 [==============================] - 14s 120ms/step - loss: 0.9563 - accuracy: 0.6508 - val_loss: 0.8989 - val_accuracy: 0.6884\n",
      "Epoch 18/50\n",
      "116/116 [==============================] - 14s 122ms/step - loss: 0.9550 - accuracy: 0.6499 - val_loss: 0.9066 - val_accuracy: 0.6868\n",
      "Epoch 19/50\n",
      "116/116 [==============================] - 15s 129ms/step - loss: 0.9508 - accuracy: 0.6525 - val_loss: 0.9046 - val_accuracy: 0.6838\n",
      "Epoch 20/50\n",
      "116/116 [==============================] - 14s 121ms/step - loss: 0.9494 - accuracy: 0.6523 - val_loss: 0.8999 - val_accuracy: 0.6839\n",
      "Epoch 21/50\n",
      "116/116 [==============================] - 14s 122ms/step - loss: 0.9471 - accuracy: 0.6536 - val_loss: 0.8906 - val_accuracy: 0.6902\n",
      "Epoch 22/50\n",
      "116/116 [==============================] - 14s 120ms/step - loss: 0.9473 - accuracy: 0.6530 - val_loss: 0.9011 - val_accuracy: 0.6856\n",
      "Epoch 23/50\n",
      "116/116 [==============================] - 14s 124ms/step - loss: 0.9429 - accuracy: 0.6548 - val_loss: 0.8866 - val_accuracy: 0.6891\n",
      "Epoch 24/50\n",
      "116/116 [==============================] - 14s 121ms/step - loss: 0.9404 - accuracy: 0.6563 - val_loss: 0.8936 - val_accuracy: 0.6884\n",
      "Epoch 25/50\n",
      "116/116 [==============================] - 14s 121ms/step - loss: 0.9385 - accuracy: 0.6586 - val_loss: 0.8868 - val_accuracy: 0.6907\n",
      "Epoch 26/50\n",
      "116/116 [==============================] - 14s 119ms/step - loss: 0.9349 - accuracy: 0.6602 - val_loss: 0.9002 - val_accuracy: 0.6874\n",
      "Epoch 27/50\n",
      "116/116 [==============================] - 14s 119ms/step - loss: 0.9321 - accuracy: 0.6601 - val_loss: 0.8925 - val_accuracy: 0.6870\n",
      "Epoch 28/50\n",
      "116/116 [==============================] - 14s 121ms/step - loss: 0.9291 - accuracy: 0.6618 - val_loss: 0.9032 - val_accuracy: 0.6834\n",
      "Epoch 29/50\n",
      "116/116 [==============================] - 14s 122ms/step - loss: 0.9290 - accuracy: 0.6626 - val_loss: 0.8901 - val_accuracy: 0.6883\n",
      "Epoch 30/50\n",
      "116/116 [==============================] - 14s 121ms/step - loss: 0.9264 - accuracy: 0.6621 - val_loss: 0.8916 - val_accuracy: 0.6887\n",
      "Epoch 31/50\n",
      "116/116 [==============================] - 14s 122ms/step - loss: 0.9261 - accuracy: 0.6637 - val_loss: 0.8940 - val_accuracy: 0.6869\n",
      "Epoch 32/50\n",
      "116/116 [==============================] - 14s 119ms/step - loss: 0.9238 - accuracy: 0.6635 - val_loss: 0.8937 - val_accuracy: 0.6858\n",
      "Epoch 33/50\n",
      "116/116 [==============================] - 14s 120ms/step - loss: 0.9240 - accuracy: 0.6633 - val_loss: 0.8836 - val_accuracy: 0.6905\n",
      "Epoch 34/50\n",
      "116/116 [==============================] - 14s 121ms/step - loss: 0.9235 - accuracy: 0.6634 - val_loss: 0.8968 - val_accuracy: 0.6860\n",
      "Epoch 35/50\n",
      "116/116 [==============================] - 15s 128ms/step - loss: 0.9215 - accuracy: 0.6660 - val_loss: 0.8830 - val_accuracy: 0.6916\n",
      "Epoch 36/50\n",
      "116/116 [==============================] - 14s 119ms/step - loss: 0.9202 - accuracy: 0.6651 - val_loss: 0.8892 - val_accuracy: 0.6895\n",
      "Epoch 37/50\n",
      "116/116 [==============================] - 15s 130ms/step - loss: 0.9167 - accuracy: 0.6670 - val_loss: 0.8817 - val_accuracy: 0.6889\n",
      "Epoch 38/50\n",
      "116/116 [==============================] - 14s 121ms/step - loss: 0.9177 - accuracy: 0.6679 - val_loss: 0.8779 - val_accuracy: 0.6904\n",
      "Epoch 39/50\n",
      "116/116 [==============================] - 14s 120ms/step - loss: 0.9180 - accuracy: 0.6673 - val_loss: 0.8972 - val_accuracy: 0.6844\n",
      "Epoch 40/50\n",
      "116/116 [==============================] - 15s 131ms/step - loss: 0.9125 - accuracy: 0.6685 - val_loss: 0.8959 - val_accuracy: 0.6862\n",
      "Epoch 41/50\n",
      "116/116 [==============================] - 15s 127ms/step - loss: 0.9130 - accuracy: 0.6689 - val_loss: 0.8927 - val_accuracy: 0.6844\n",
      "Epoch 42/50\n",
      "116/116 [==============================] - 14s 123ms/step - loss: 0.9109 - accuracy: 0.6729 - val_loss: 0.8861 - val_accuracy: 0.6900\n",
      "Epoch 43/50\n",
      "116/116 [==============================] - 14s 120ms/step - loss: 0.9107 - accuracy: 0.6724 - val_loss: 0.8777 - val_accuracy: 0.6911\n",
      "Epoch 44/50\n",
      "116/116 [==============================] - 14s 121ms/step - loss: 0.9097 - accuracy: 0.6731 - val_loss: 0.9044 - val_accuracy: 0.6790\n",
      "Epoch 45/50\n",
      "116/116 [==============================] - 14s 120ms/step - loss: 0.9101 - accuracy: 0.6736 - val_loss: 0.8984 - val_accuracy: 0.6820\n",
      "Epoch 46/50\n",
      "116/116 [==============================] - 15s 125ms/step - loss: 0.9063 - accuracy: 0.6757 - val_loss: 0.9044 - val_accuracy: 0.6801\n",
      "Epoch 47/50\n",
      "116/116 [==============================] - 14s 123ms/step - loss: 0.9062 - accuracy: 0.6759 - val_loss: 0.8892 - val_accuracy: 0.6871\n",
      "Epoch 48/50\n",
      "116/116 [==============================] - 14s 125ms/step - loss: 0.9053 - accuracy: 0.6752 - val_loss: 0.8869 - val_accuracy: 0.6857\n",
      "Epoch 49/50\n",
      "116/116 [==============================] - 14s 120ms/step - loss: 0.9042 - accuracy: 0.6760 - val_loss: 0.9087 - val_accuracy: 0.6806\n",
      "Epoch 50/50\n",
      "116/116 [==============================] - 14s 122ms/step - loss: 0.9032 - accuracy: 0.6775 - val_loss: 0.8839 - val_accuracy: 0.6900\n"
     ]
    }
   ],
   "source": [
    "history = model.fit(X_train, y_train, batch_size = 1024, epochs = 50, \n",
    "                    validation_split = 0.25, shuffle = True, callbacks = None,\n",
    "                    use_multiprocessing=True, workers=4)"
   ]
  },
  {
   "cell_type": "code",
   "execution_count": 146,
   "metadata": {},
   "outputs": [],
   "source": [
    "def learningCurve(history):\n",
    "    plt.figure(figsize=(10,8))\n",
    "    plt.plot(history.history['loss'], linewidth=1)\n",
    "    plt.plot(history.history['val_loss'], linewidth=1)\n",
    "    plt.title('Model Loss over Epochs')\n",
    "    plt.ylabel('Loss')\n",
    "    plt.xlabel('Epoch')\n",
    "    plt.legend(['training sample loss','validation sample loss'])\n",
    "    #plt.savefig('Learning_curve.pdf')\n",
    "    plt.show()\n",
    "    plt.close()"
   ]
  },
  {
   "cell_type": "code",
   "execution_count": 147,
   "metadata": {},
   "outputs": [
    {
     "data": {
      "image/png": "[encoded data removed]",
      "text/plain": [
       "<Figure size 720x576 with 1 Axes>"
      ]
     },
     "metadata": {
      "needs_background": "light"
     },
     "output_type": "display_data"
    }
   ],
   "source": [
    "learningCurve(history)"
   ]
  },
  {
   "cell_type": "code",
   "execution_count": 154,
   "metadata": {},
   "outputs": [],
   "source": [
    "def makeRoc(features_val, labels_val, labels, model, outputDir='', outputSuffix=''):\n",
    "    from sklearn.metrics import roc_curve, auc\n",
    "    labels_pred = model.predict(features_val)\n",
    "    df = pd.DataFrame()\n",
    "    fpr = {}\n",
    "    tpr = {}\n",
    "    auc1 = {}\n",
    "    plt.figure(figsize=(10,8))       \n",
    "    for i, label in enumerate(labels):\n",
    "        df[label] = labels_val[:,i]\n",
    "        df[label + '_pred'] = labels_pred[:,i]\n",
    "        fpr[label], tpr[label], threshold = roc_curve(df[label],df[label+'_pred'])\n",
    "        auc1[label] = auc(fpr[label], tpr[label])\n",
    "        plt.plot(fpr[label],tpr[label],label='%s tagger, AUC = %.1f%%'%(label.replace('j_',''),auc1[label]*100.))\n",
    "    plt.plot([0, 1], [0, 1], lw=1, color='black', linestyle='--')\n",
    "    #plt.semilogy()\n",
    "    plt.xlabel(\"Background Efficiency\")\n",
    "    plt.ylabel(\"Signal Efficiency\")\n",
    "    plt.xlim([-0.05, 1.05])\n",
    "    plt.ylim(0.001,1.05)\n",
    "    plt.grid(True)\n",
    "    plt.legend(loc='lower right')\n",
    "    plt.figtext(0.25, 0.90,'Outer RNN ROC Curve',fontweight='bold', wrap=True, horizontalalignment='right', fontsize=14)\n",
    "    #plt.figtext(0.35, 0.90,'preliminary', style='italic', wrap=True, horizontalalignment='center', fontsize=14) \n",
    "    #plt.savefig('%sROC_%s.pdf'%(outputDir, outputSuffix))\n",
    "    return labels_pred"
   ]
  },
  {
   "cell_type": "code",
   "execution_count": 155,
   "metadata": {},
   "outputs": [],
   "source": [
    "labels = ['j_g', 'j_q', 'j_w', 'j_z', 'j_t']\n"
   ]
  },
  {
   "cell_type": "code",
   "execution_count": 156,
   "metadata": {},
   "outputs": [
    {
     "data": {
      "image/png": "[encoded data removed]",
      "text/plain": [
       "<Figure size 720x576 with 1 Axes>"
      ]
     },
     "metadata": {
      "needs_background": "light"
     },
     "output_type": "display_data"
    }
   ],
   "source": [
    "y_pred = makeRoc(X_test, y_test, labels, model, outputSuffix='two-layer')"
   ]
  },
  {
   "cell_type": "code",
   "execution_count": null,
   "metadata": {},
   "outputs": [],
   "source": []
  }
 ],
 "metadata": {
  "kernelspec": {
   "display_name": "Python 3",
   "language": "python",
   "name": "python3"
  },
  "language_info": {
   "codemirror_mode": {
    "name": "ipython",
    "version": 3
   },
   "file_extension": ".py",
   "mimetype": "text/x-python",
   "name": "python",
   "nbconvert_exporter": "python",
   "pygments_lexer": "ipython3",
   "version": "3.7.9"
  }
 },
 "nbformat": 4,
 "nbformat_minor": 4
}
